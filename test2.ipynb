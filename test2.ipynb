{
 "cells": [
  {
   "cell_type": "code",
   "execution_count": 8,
   "id": "84345e0a",
   "metadata": {},
   "outputs": [],
   "source": [
    "import pandas as pd\n",
    "from pandas import Series, DataFrame\n",
    "import json\n",
    "import os"
   ]
  },
  {
   "cell_type": "code",
   "execution_count": 9,
   "id": "a5e47ce9",
   "metadata": {},
   "outputs": [],
   "source": [
    "path = './cleaned data/'\n",
    "clean_files = os.listdir(path)"
   ]
  },
  {
   "cell_type": "code",
   "execution_count": 10,
   "id": "0e1e8831",
   "metadata": {},
   "outputs": [],
   "source": [
    "db = {}\n",
    "for file in clean_files:\n",
    "    if '.csv' in file:\n",
    "        db[file.replace(\".csv\", \"\")] = {}"
   ]
  },
  {
   "cell_type": "code",
   "execution_count": 11,
   "id": "e16abd3c",
   "metadata": {},
   "outputs": [
    {
     "data": {
      "text/plain": [
       "{'coal_production': {},\n",
       " 'solar_capacity': {},\n",
       " 'hydro_generation': {},\n",
       " 'biofuels_production': {},\n",
       " 'wind_power_generation': {},\n",
       " 'oil_refining': {},\n",
       " 'cobalt_production': {},\n",
       " 'oil_production': {},\n",
       " 'wind_capacity': {},\n",
       " 'rare_earth_production': {},\n",
       " 'graphite_production': {},\n",
       " 'solar_power_generation': {},\n",
       " 'lithium_production': {},\n",
       " 'nuclear_generation': {},\n",
       " 'gas_production': {},\n",
       " 'electricity generation': {},\n",
       " 'renewable_energy_generation': {}}"
      ]
     },
     "execution_count": 11,
     "metadata": {},
     "output_type": "execute_result"
    }
   ],
   "source": [
    "db"
   ]
  },
  {
   "cell_type": "code",
   "execution_count": null,
   "id": "9507a042",
   "metadata": {},
   "outputs": [],
   "source": []
  }
 ],
 "metadata": {
  "kernelspec": {
   "display_name": "Python 3 (ipykernel)",
   "language": "python",
   "name": "python3"
  },
  "language_info": {
   "codemirror_mode": {
    "name": "ipython",
    "version": 3
   },
   "file_extension": ".py",
   "mimetype": "text/x-python",
   "name": "python",
   "nbconvert_exporter": "python",
   "pygments_lexer": "ipython3",
   "version": "3.9.13"
  }
 },
 "nbformat": 4,
 "nbformat_minor": 5
}
