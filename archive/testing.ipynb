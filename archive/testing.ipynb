{
 "cells": [
  {
   "cell_type": "code",
   "execution_count": 5,
   "id": "6b27db5a",
   "metadata": {},
   "outputs": [],
   "source": [
    "import pandas as pd\n",
    "from pandas import Series, DataFrame\n",
    "from openpyxl import load_workbook\n",
    "from bs4 import BeautifulSoup "
   ]
  },
  {
   "cell_type": "code",
   "execution_count": 7,
   "id": "ea9df1f8",
   "metadata": {},
   "outputs": [
    {
     "data": {
      "text/plain": [
       "['D5 Original', 'D5_Canada', 'D5_Cuba', 'D5_Mexico', 'D5_USA']"
      ]
     },
     "execution_count": 7,
     "metadata": {},
     "output_type": "execute_result"
    }
   ],
   "source": [
    "file = pd.ExcelFile('raw data/NorthAmerica_D5.xlsx')\n",
    "file.sheet_names"
   ]
  },
  {
   "cell_type": "code",
   "execution_count": null,
   "id": "32daf037",
   "metadata": {},
   "outputs": [],
   "source": []
  },
  {
   "cell_type": "code",
   "execution_count": null,
   "id": "6dbda345",
   "metadata": {},
   "outputs": [],
   "source": [
    "bp = load_workbook('raw data/bp-stats-review-2022-all-data.xlsx')"
   ]
  },
  {
   "cell_type": "code",
   "execution_count": null,
   "id": "00d483f8",
   "metadata": {},
   "outputs": [],
   "source": [
    "bp.properties"
   ]
  },
  {
   "cell_type": "code",
   "execution_count": null,
   "id": "994332a0",
   "metadata": {},
   "outputs": [],
   "source": [
    "date = bp.properties.modified\n",
    "date"
   ]
  },
  {
   "cell_type": "code",
   "execution_count": null,
   "id": "fda9ff6a",
   "metadata": {},
   "outputs": [],
   "source": [
    "bp.properties.creator"
   ]
  },
  {
   "cell_type": "code",
   "execution_count": null,
   "id": "db9dd871",
   "metadata": {},
   "outputs": [],
   "source": [
    "bp.properties.title"
   ]
  },
  {
   "cell_type": "code",
   "execution_count": null,
   "id": "5f5cedb4",
   "metadata": {},
   "outputs": [],
   "source": [
    "bp.properties.created"
   ]
  },
  {
   "cell_type": "code",
   "execution_count": null,
   "id": "6968d259",
   "metadata": {},
   "outputs": [],
   "source": [
    "fao_meta = load_workbook('raw data/FAOSTAT_data_2-20-2023 copy.xlsx')"
   ]
  },
  {
   "cell_type": "code",
   "execution_count": null,
   "id": "60d9039e",
   "metadata": {},
   "outputs": [],
   "source": [
    "fao_meta.properties"
   ]
  },
  {
   "cell_type": "code",
   "execution_count": null,
   "id": "048f55ac",
   "metadata": {},
   "outputs": [],
   "source": []
  },
  {
   "cell_type": "code",
   "execution_count": null,
   "id": "3e69d92f",
   "metadata": {},
   "outputs": [],
   "source": []
  }
 ],
 "metadata": {
  "kernelspec": {
   "display_name": "Python 3 (ipykernel)",
   "language": "python",
   "name": "python3"
  },
  "language_info": {
   "codemirror_mode": {
    "name": "ipython",
    "version": 3
   },
   "file_extension": ".py",
   "mimetype": "text/x-python",
   "name": "python",
   "nbconvert_exporter": "python",
   "pygments_lexer": "ipython3",
   "version": "3.9.13"
  }
 },
 "nbformat": 4,
 "nbformat_minor": 5
}
