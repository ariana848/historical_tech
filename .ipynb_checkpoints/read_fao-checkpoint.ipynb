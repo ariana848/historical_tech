{
 "cells": [
  {
   "cell_type": "code",
   "execution_count": 2,
   "id": "c032db1d",
   "metadata": {},
   "outputs": [],
   "source": [
    "import pandas as pd\n",
    "from pandas import Series, DataFrame\n",
    "import country_converter as coco"
   ]
  },
  {
   "cell_type": "code",
   "execution_count": 3,
   "id": "ace9e2ee",
   "metadata": {},
   "outputs": [],
   "source": [
    "# https://www.fao.org/faostat/en/#data/RFN"
   ]
  },
  {
   "cell_type": "code",
   "execution_count": null,
   "id": "0c8a709e",
   "metadata": {},
   "outputs": [],
   "source": [
    "fao = pd.read_csv('raw data/FAOSTAT_data_2-20-2023.csv')\n",
    "fao.drop(0, inplace=True)\n",
    "fao.drop(columns=['Unnamed: 1'], inplace=True)\n",
    "fao.dropna(how='all', inplace=True)\n",
    "iso2 = []\n",
    "for country in fao['Unnamed: 0']:\n",
    "    if country=='China, Taiwan Province of':\n",
    "        iso2.append('TW')\n",
    "    elif country=='Serbia and Montenegro':\n",
    "        iso2.append('CS')\n",
    "    elif country=='USSR':\n",
    "        iso2.append('SU')\n",
    "    elif country=='Yugoslav SFR':\n",
    "        iso2.append('YU')\n",
    "    elif country=='Belgium-Luxembourg':\n",
    "        iso2.append('BE-WLX')   \n",
    "    else:\n",
    "        iso2.append(coco.convert(names=country, to='iso2'))\n",
    "fao['Country Code'] = iso2\n",
    "fao.rename(columns={'Unnamed: 0': 'Country Name', 'Unnamed: 2': 'Technology Name'}, inplace=True)\n",
    "fao['Unit'] = 'Tonnes'\n",
    "fao['Data Source'] = 'UN FAO'\n",
    "fao['Spatial Scale'] = 'National'\n",
    "fao.replace('Nutrient nitrogen N (total)', 'Nitrogen fertilizer production', inplace=True)\n",
    "fao.replace('Nutrient phosphate P2O5 (total)', 'Phosphate fertilizer production', inplace=True)\n",
    "fao.replace('Nutrient potash K2O (total)', 'Potash fertilizer production', inplace=True)\n",
    "fao['ID'] = fao['Technology Name'] + ', '+ fao['Unit'] + ': ' + fao['Country Code']\n",
    "fao.set_index('ID', inplace=True)\n",
    "fao"
   ]
  },
  {
   "cell_type": "code",
   "execution_count": null,
   "id": "fe8b8c5f",
   "metadata": {},
   "outputs": [],
   "source": [
    "fao.to_csv('cleaned data/fao.csv')"
   ]
  },
  {
   "cell_type": "code",
   "execution_count": null,
   "id": "55e1b9cd",
   "metadata": {},
   "outputs": [],
   "source": []
  }
 ],
 "metadata": {
  "kernelspec": {
   "display_name": "Python 3 (ipykernel)",
   "language": "python",
   "name": "python3"
  },
  "language_info": {
   "codemirror_mode": {
    "name": "ipython",
    "version": 3
   },
   "file_extension": ".py",
   "mimetype": "text/x-python",
   "name": "python",
   "nbconvert_exporter": "python",
   "pygments_lexer": "ipython3",
   "version": "3.9.13"
  }
 },
 "nbformat": 4,
 "nbformat_minor": 5
}
