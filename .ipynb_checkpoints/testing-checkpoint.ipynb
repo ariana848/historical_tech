{
 "cells": [
  {
   "cell_type": "code",
   "execution_count": 1,
   "id": "6b27db5a",
   "metadata": {},
   "outputs": [],
   "source": [
    "import pandas as pd\n",
    "from pandas import Series, DataFrame\n",
    "from openpyxl import load_workbook"
   ]
  },
  {
   "cell_type": "code",
   "execution_count": 2,
   "id": "ea9df1f8",
   "metadata": {},
   "outputs": [
    {
     "data": {
      "text/plain": [
       "['Contents',\n",
       " 'Primary Energy Consumption',\n",
       " 'Primary Energy - Cons by fuel',\n",
       " 'Primary Energy - Cons capita',\n",
       " 'CO2 Emissions from Energy',\n",
       " 'CO2 from Flaring',\n",
       " 'Natural Gas Flaring',\n",
       " 'CO2e Methane, Process emissions',\n",
       " 'CO2e Emissions',\n",
       " 'Oil - Proved reserves',\n",
       " 'Oil - Proved reserves history',\n",
       " 'Oil Production - Barrels',\n",
       " 'Oil Production - Tonnes',\n",
       " 'Oil Production - Crude Conds',\n",
       " 'Oil Production - NGLs',\n",
       " 'Total Liquids - Consumption',\n",
       " 'Oil Consumption - Barrels',\n",
       " 'Oil Consumption - Tonnes',\n",
       " 'Oil Consumption - EJ',\n",
       " 'Oil - Regional Consumption',\n",
       " 'Oil - Spot crude prices',\n",
       " 'Oil crude prices since 1861',\n",
       " 'Oil - Refinery throughput',\n",
       " 'Oil - Refining capacity',\n",
       " 'Oil - Regional refining margins',\n",
       " 'Oil - Trade movements',\n",
       " 'Oil - Inter-area movements',\n",
       " 'Oil - Trade 2020- 2021',\n",
       " 'Gas - Proved reserves',\n",
       " 'Gas - Proved reserves history ',\n",
       " 'Gas Production - Bcm',\n",
       " 'Gas Production - Bcf',\n",
       " 'Gas Production - EJ',\n",
       " 'Gas Consumption - Bcm',\n",
       " 'Gas Consumption - Bcf',\n",
       " 'Gas Consumption - EJ',\n",
       " 'Gas Prices ',\n",
       " 'Gas - Inter-regional trade',\n",
       " 'Gas - LNG imports',\n",
       " 'Gas - LNG exports',\n",
       " 'Gas - Trade movts LNG',\n",
       " 'Gas - Trade movts - pipeline',\n",
       " 'Coal - Reserves',\n",
       " 'Coal Production - Tonnes',\n",
       " 'Coal Production - EJ',\n",
       " 'Coal Consumption - EJ',\n",
       " 'Coal Prices',\n",
       " 'Coal - Trade movements',\n",
       " 'Coal - Inter area movts',\n",
       " 'Nuclear Generation - TWh',\n",
       " 'Nuclear Consumption - EJ',\n",
       " 'Hydro Generation - TWh',\n",
       " 'Hydro Consumption - EJ',\n",
       " 'Renewables Consumption - EJ',\n",
       " 'Renewables power - EJ',\n",
       " 'Renewable power - TWh',\n",
       " 'Renewables Generation by Source',\n",
       " 'Solar Generation - TWh',\n",
       " 'Solar Consumption - EJ',\n",
       " 'Wind Generation - TWh',\n",
       " 'Wind Consumption - EJ',\n",
       " 'Geo Biomass Other - TWh',\n",
       " 'Geo Biomass Other - EJ',\n",
       " 'Biofuels production - Kboed',\n",
       " 'Biofuels production - PJ',\n",
       " 'Biofuels Consumption - Kboed',\n",
       " 'Biofuels consumption - PJ',\n",
       " 'Electricity Generation',\n",
       " 'Elec generation by fuel',\n",
       " 'Elec Gen from Oil',\n",
       " 'Elec Gen from Gas',\n",
       " 'Elec Gen from Coal',\n",
       " 'Elec Gen from Other',\n",
       " 'Cobalt Production-Reserves',\n",
       " 'Lithium Production-Reserves',\n",
       " 'Graphite Production-Reserves',\n",
       " 'Rare Earth Production-Reserves',\n",
       " 'Cobalt and Lithium - Prices',\n",
       " 'Wind Capacity',\n",
       " 'Solar Capacity',\n",
       " 'Approximate conversion factors',\n",
       " 'Definitions',\n",
       " 'Methodology']"
      ]
     },
     "execution_count": 2,
     "metadata": {},
     "output_type": "execute_result"
    }
   ],
   "source": [
    "file = pd.ExcelFile('raw data/bp-stats-review-2022-all-data.xlsx')\n",
    "file.sheet_names"
   ]
  },
  {
   "cell_type": "code",
   "execution_count": 3,
   "id": "6dbda345",
   "metadata": {},
   "outputs": [],
   "source": [
    "bp = load_workbook('raw data/bp-stats-review-2022-all-data.xlsx')"
   ]
  },
  {
   "cell_type": "code",
   "execution_count": 5,
   "id": "00d483f8",
   "metadata": {},
   "outputs": [
    {
     "data": {
      "text/plain": [
       "<openpyxl.packaging.core.DocumentProperties object>\n",
       "Parameters:\n",
       "creator='bp', title='Statistical Review of World Energy 2022 – all data, 1965-2021', description=None, subject='bp.com/statsreview', identifier=None, language=None, created=datetime.datetime(2021, 6, 10, 13, 26, 6), modified=datetime.datetime(2022, 6, 30, 14, 17, 37), lastModifiedBy='Henry, Alison', category=None, contentStatus=None, version=None, revision=None, keywords=None, lastPrinted=None"
      ]
     },
     "execution_count": 5,
     "metadata": {},
     "output_type": "execute_result"
    }
   ],
   "source": [
    "bp.properties"
   ]
  },
  {
   "cell_type": "code",
   "execution_count": 7,
   "id": "994332a0",
   "metadata": {},
   "outputs": [
    {
     "data": {
      "text/plain": [
       "datetime.datetime(2022, 6, 30, 14, 17, 37)"
      ]
     },
     "execution_count": 7,
     "metadata": {},
     "output_type": "execute_result"
    }
   ],
   "source": [
    "date = bp.properties.modified\n",
    "date"
   ]
  },
  {
   "cell_type": "code",
   "execution_count": 8,
   "id": "1e5af744",
   "metadata": {},
   "outputs": [
    {
     "data": {
      "text/plain": [
       "'bp'"
      ]
     },
     "execution_count": 8,
     "metadata": {},
     "output_type": "execute_result"
    }
   ],
   "source": [
    "bp.properties.creator"
   ]
  },
  {
   "cell_type": "code",
   "execution_count": 9,
   "id": "d6d01139",
   "metadata": {},
   "outputs": [
    {
     "data": {
      "text/plain": [
       "'Statistical Review of World Energy 2022 – all data, 1965-2021'"
      ]
     },
     "execution_count": 9,
     "metadata": {},
     "output_type": "execute_result"
    }
   ],
   "source": [
    "bp.properties.title"
   ]
  },
  {
   "cell_type": "code",
   "execution_count": 10,
   "id": "c1b42ec6",
   "metadata": {},
   "outputs": [
    {
     "data": {
      "text/plain": [
       "datetime.datetime(2021, 6, 10, 13, 26, 6)"
      ]
     },
     "execution_count": 10,
     "metadata": {},
     "output_type": "execute_result"
    }
   ],
   "source": [
    "bp.properties.created"
   ]
  },
  {
   "cell_type": "code",
   "execution_count": null,
   "id": "20035d03",
   "metadata": {},
   "outputs": [],
   "source": []
  }
 ],
 "metadata": {
  "kernelspec": {
   "display_name": "Python 3 (ipykernel)",
   "language": "python",
   "name": "python3"
  },
  "language_info": {
   "codemirror_mode": {
    "name": "ipython",
    "version": 3
   },
   "file_extension": ".py",
   "mimetype": "text/x-python",
   "name": "python",
   "nbconvert_exporter": "python",
   "pygments_lexer": "ipython3",
   "version": "3.9.13"
  }
 },
 "nbformat": 4,
 "nbformat_minor": 5
}
