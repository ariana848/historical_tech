{
 "cells": [
  {
   "cell_type": "code",
   "execution_count": 1,
   "id": "c3cc50e5",
   "metadata": {},
   "outputs": [],
   "source": [
    "import pandas as pd\n",
    "from pandas import Series, DataFrame"
   ]
  },
  {
   "cell_type": "code",
   "execution_count": null,
   "id": "5191ea35",
   "metadata": {},
   "outputs": [],
   "source": [
    "all_tech = pd.read_csv('all_tech_version 2.0.csv')\n",
    "all_tech"
   ]
  },
  {
   "cell_type": "code",
   "execution_count": null,
   "id": "fbe5cf05",
   "metadata": {},
   "outputs": [],
   "source": [
    "source_dict = {}\n",
    "for source in sorted(list(set(all_tech['Data Source']))):\n",
    "    tech_list = list(set(all_tech[all_tech['Data Source']==source]['Technology Name']))\n",
    "    source_dict[source] = tech_list\n",
    "for source in source_dict['USGS']:\n",
    "    print(source)"
   ]
  },
  {
   "cell_type": "code",
   "execution_count": null,
   "id": "5820cb74",
   "metadata": {},
   "outputs": [],
   "source": [
    "tech_list = sorted(list(set(all_tech['Technology Name'])))\n",
    "for x in tech_list:\n",
    "    print(x)"
   ]
  },
  {
   "cell_type": "code",
   "execution_count": null,
   "id": "4b7877db",
   "metadata": {},
   "outputs": [],
   "source": [
    "len(tech_list)"
   ]
  },
  {
   "cell_type": "code",
   "execution_count": null,
   "id": "3ee0ef39",
   "metadata": {},
   "outputs": [],
   "source": [
    "print(len(list(set(all_tech['Unit']))))\n",
    "sorted(list(set(all_tech['Unit'])))"
   ]
  },
  {
   "cell_type": "code",
   "execution_count": null,
   "id": "40f84b24",
   "metadata": {},
   "outputs": [],
   "source": [
    "tech_us_global = {}\n",
    "for tech in tech_list:\n",
    "    country_names = list(set(all_tech[all_tech['Technology Name'] == tech]['Country Name']))\n",
    "    country_codes = list(set(all_tech[all_tech['Technology Name'] == tech]['Country Code']))\n",
    "    if 'World' in country_names or 'US' in country_codes:\n",
    "        tech_us_global[tech] = 'x'\n",
    "    else:\n",
    "        tech_us_global[tech] = ''\n",
    "        \n",
    "for entry in tech_us_global:\n",
    "    if tech_us_global[entry] == '':\n",
    "        print(entry)"
   ]
  },
  {
   "cell_type": "code",
   "execution_count": null,
   "id": "f60f5935",
   "metadata": {},
   "outputs": [],
   "source": [
    "tech_country_dict = {}\n",
    "for tech in tech_list:\n",
    "    countries = list(set(all_tech[all_tech['Technology Name'] == tech]['Country Name']))\n",
    "    tech_country_dict[tech] = countries\n",
    "tech_country_dict"
   ]
  },
  {
   "cell_type": "code",
   "execution_count": null,
   "id": "62f6d2cc",
   "metadata": {},
   "outputs": [],
   "source": [
    "num_country_dict = {}\n",
    "for tech in tech_list:\n",
    "    countries = list(set(all_tech[all_tech['Technology Name'] == tech]['Country Name']))\n",
    "    num_country_dict[tech] = len(countries)\n",
    "num_country_dict = dict(sorted(num_country_dict.items(), key=lambda item: item[1])) \n",
    "num_country_dict"
   ]
  },
  {
   "cell_type": "code",
   "execution_count": null,
   "id": "69d42e20",
   "metadata": {},
   "outputs": [],
   "source": [
    "country_data = []\n",
    "for x in num_country_dict:\n",
    "    if num_country_dict[x] > 2:\n",
    "        print(x)"
   ]
  },
  {
   "cell_type": "code",
   "execution_count": null,
   "id": "fe2c6f08",
   "metadata": {},
   "outputs": [],
   "source": [
    "cost_data = all_tech[(all_tech['Metric']=='Price') | (all_tech['Metric']=='Total Installed Cost') | (all_tech['Metric']=='Levelized Cost of Energy')]\n",
    "cost_list = list(set(cost_data['Technology Name']))\n",
    "print(len(cost_list))\n",
    "for x in cost_list:\n",
    "    print(x)\n"
   ]
  },
  {
   "cell_type": "code",
   "execution_count": null,
   "id": "d4f38527",
   "metadata": {},
   "outputs": [],
   "source": [
    "for tech in cost_list:\n",
    "    tech_df = all_tech[all_tech['Technology Name']==tech]\n",
    "    cap_price_tech = []\n",
    "    tech_metrics = list(set(tech_df['Metric']))\n",
    "    sources = list(set(tech_df['Data Source']))\n",
    "    if len(tech_metrics) > 1 and len(sources) > 1:\n",
    "        print(tech, sources)"
   ]
  },
  {
   "cell_type": "code",
   "execution_count": null,
   "id": "1a0ca93d",
   "metadata": {},
   "outputs": [],
   "source": [
    "def time_span(tech_name):\n",
    "    tech_df = all_tech[all_tech['Technology Name']==tech_name]\n",
    "    tech_df.dropna(axis=1, how='all', inplace=True)\n",
    "    omit = []\n",
    "    for col in tech_df.columns:\n",
    "        if len(col) != 4 or col == 'Unit':\n",
    "            omit.append(col)\n",
    "    tech_df.drop(columns=omit, inplace=True)\n",
    "    time_span = tech_df.columns[0] + '-' + tech_df.columns[-1]\n",
    "    return time_span"
   ]
  },
  {
   "cell_type": "code",
   "execution_count": null,
   "id": "ed26d785",
   "metadata": {},
   "outputs": [],
   "source": [
    "time_span('Acrylic Fiber')"
   ]
  },
  {
   "cell_type": "code",
   "execution_count": null,
   "id": "882782f5",
   "metadata": {},
   "outputs": [],
   "source": [
    "time_span('Ammonia Synthesis')"
   ]
  },
  {
   "cell_type": "code",
   "execution_count": null,
   "id": "b1432e83",
   "metadata": {},
   "outputs": [],
   "source": [
    "time_span('Aquaculture Production')"
   ]
  },
  {
   "cell_type": "code",
   "execution_count": null,
   "id": "9bb32e0c",
   "metadata": {},
   "outputs": [],
   "source": [
    "timespan_dict = {}\n",
    "for tech in tech_list:\n",
    "    timespan_dict[tech] = time_span(tech)"
   ]
  },
  {
   "cell_type": "code",
   "execution_count": null,
   "id": "d7ce7584",
   "metadata": {},
   "outputs": [],
   "source": [
    "timespan_dict"
   ]
  },
  {
   "cell_type": "code",
   "execution_count": null,
   "id": "bc4f870d",
   "metadata": {},
   "outputs": [],
   "source": [
    "timespan_dict_lower = {}\n",
    "for item in timespan_dict:\n",
    "    timespan_dict_lower[item.lower()] = timespan_dict[item]\n",
    "timespan_dict_lower"
   ]
  },
  {
   "cell_type": "code",
   "execution_count": null,
   "id": "55e29c19",
   "metadata": {},
   "outputs": [],
   "source": [
    "timespan_dict_lower = dict(sorted(timespan_dict_lower.items(), key=lambda item: item[0])) \n",
    "timespan_dict_lower"
   ]
  },
  {
   "cell_type": "code",
   "execution_count": null,
   "id": "b28054d3",
   "metadata": {},
   "outputs": [],
   "source": [
    "for item in timespan_dict_lower:\n",
    "    print(timespan_dict_lower[item])"
   ]
  },
  {
   "cell_type": "code",
   "execution_count": null,
   "id": "3f9921b4",
   "metadata": {},
   "outputs": [],
   "source": [
    "def metric(tech_name):\n",
    "    tech_df = all_tech[all_tech['Technology Name']==tech_name]\n",
    "    metric = set(tech_df['Metric'])\n",
    "    return metric"
   ]
  },
  {
   "cell_type": "code",
   "execution_count": null,
   "id": "4ec81e1f",
   "metadata": {},
   "outputs": [],
   "source": [
    "metric_dict = {}\n",
    "for tech in tech_list:\n",
    "    metric_dict[tech] = metric(tech)\n",
    "metric_dict"
   ]
  },
  {
   "cell_type": "code",
   "execution_count": null,
   "id": "44d05985",
   "metadata": {},
   "outputs": [],
   "source": [
    "metric_dict_lower = {}\n",
    "for item in metric_dict:\n",
    "    metric_dict_lower[item.lower()] = metric_dict[item]\n",
    "metric_dict_lower"
   ]
  },
  {
   "cell_type": "code",
   "execution_count": null,
   "id": "91afb9d5",
   "metadata": {},
   "outputs": [],
   "source": [
    "metric_dict_lower = dict(sorted(metric_dict_lower.items(), key=lambda item: item[0])) \n",
    "metric_dict_lower"
   ]
  },
  {
   "cell_type": "code",
   "execution_count": null,
   "id": "3ff28924",
   "metadata": {},
   "outputs": [],
   "source": [
    "for item in metric_dict_lower:\n",
    "    print(item)"
   ]
  },
  {
   "cell_type": "code",
   "execution_count": null,
   "id": "80513145",
   "metadata": {},
   "outputs": [],
   "source": []
  },
  {
   "cell_type": "code",
   "execution_count": null,
   "id": "ee9584a6",
   "metadata": {},
   "outputs": [],
   "source": []
  }
 ],
 "metadata": {
  "kernelspec": {
   "display_name": "Python 3 (ipykernel)",
   "language": "python",
   "name": "python3"
  },
  "language_info": {
   "codemirror_mode": {
    "name": "ipython",
    "version": 3
   },
   "file_extension": ".py",
   "mimetype": "text/x-python",
   "name": "python",
   "nbconvert_exporter": "python",
   "pygments_lexer": "ipython3",
   "version": "3.9.13"
  }
 },
 "nbformat": 4,
 "nbformat_minor": 5
}
