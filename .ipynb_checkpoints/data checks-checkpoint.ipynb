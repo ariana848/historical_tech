{
 "cells": [
  {
   "cell_type": "code",
   "execution_count": 1,
   "id": "bdde3d5c",
   "metadata": {},
   "outputs": [],
   "source": [
    "import pandas as pd\n",
    "from pandas import Series, DataFrame"
   ]
  },
  {
   "cell_type": "code",
   "execution_count": 2,
   "id": "93552a88",
   "metadata": {},
   "outputs": [
    {
     "name": "stderr",
     "output_type": "stream",
     "text": [
      "/var/folders/4_/pdkx43_96v7dxssy4jtd5vyc0000gn/T/ipykernel_32666/1386745581.py:4: DtypeWarning: Columns (157,216,217,219,226,227,231,249,250,253,254,262,263,264,265,266,267,268,269,270,271,272,273,274,275,276,277,278,279,280,281,282,283,284,285,286,287,288,289,290,291,292,293,294,295,296,297,298,299,300,301,302,303,304,305,306,307,308,309,310,311,312,313,314,315,316,317,318,319,321,322,323,324,325,326,327,328,329,330,331) have mixed types. Specify dtype option on import or set low_memory=False.\n",
      "  all_tech = pd.read_csv('all_tech_version 2.0.csv', keep_default_na=False,\n"
     ]
    }
   ],
   "source": [
    "# don't use default na, this erroneously converts 'NA' (iso code for Namibia) to a missing value\n",
    "# I manually input all the default na vals except for 'NA' to prevent this\n",
    "# https://pandas.pydata.org/docs/reference/api/pandas.read_csv.html\n",
    "all_tech = pd.read_csv('all_tech_version 2.0.csv', keep_default_na=False, \n",
    "                       na_values=['-1.#IND', '1.#QNAN', '1.#IND', '-1.#QNAN', '#N/A N/A', '#N/A', 'N/A', 'n/a', \n",
    "                                  '<NA>', '#NA', 'NULL', 'null', 'NaN', '-NaN', 'nan', '-nan', 'None', ''])"
   ]
  },
  {
   "cell_type": "code",
   "execution_count": 3,
   "id": "74febb34",
   "metadata": {},
   "outputs": [],
   "source": [
    "# checking for all unique IDs (technology/metric/country)\n",
    "dup = []\n",
    "for x in all_tech['ID']:\n",
    "    if x not in dup:\n",
    "        dup.append(x)\n",
    "    else:\n",
    "        print(x)"
   ]
  },
  {
   "cell_type": "code",
   "execution_count": 4,
   "id": "209446f5",
   "metadata": {},
   "outputs": [
    {
     "name": "stdout",
     "output_type": "stream",
     "text": [
      "CSK\n",
      "VNM\n",
      "DEU\n",
      "KOR\n",
      "World\n"
     ]
    }
   ],
   "source": [
    "# DEU is for Western Germany\n",
    "# (to distinguish from Germany before 1945 and after 1990, current iso2 code DE refers to both)\n",
    "# KOR is for Korea (to distinguish from South Korea after 1950, current iso2 code KR refers to both)\n",
    "# CSK is for Czechoslovakia (to distinguish from Czech Republic after 1992, CZ, and Serbia and Montenegro, CS)\n",
    "# VNM is for South Vietnam (to distinguish from Vietnam from 1955-1975, now VN refers to both)\n",
    "country_codes = list(set(all_tech['Country Code']))\n",
    "for code in country_codes:\n",
    "    if len(code) != 2:\n",
    "        print(code)"
   ]
  },
  {
   "cell_type": "code",
   "execution_count": 5,
   "id": "2aa941e4",
   "metadata": {},
   "outputs": [
    {
     "data": {
      "text/plain": [
       "{'Global', 'National'}"
      ]
     },
     "execution_count": 5,
     "metadata": {},
     "output_type": "execute_result"
    }
   ],
   "source": [
    "# checking that spatial scale is either Global or National\n",
    "set(all_tech['Spatial Scale'])"
   ]
  },
  {
   "cell_type": "code",
   "execution_count": 6,
   "id": "23e5b2ba",
   "metadata": {},
   "outputs": [
    {
     "data": {
      "text/plain": [
       "{'World'}"
      ]
     },
     "execution_count": 6,
     "metadata": {},
     "output_type": "execute_result"
    }
   ],
   "source": [
    "# checking that all rows characterized as Global have Country Code that is World\n",
    "set(all_tech[all_tech['Spatial Scale']=='Global']['Country Code'])"
   ]
  },
  {
   "cell_type": "code",
   "execution_count": 7,
   "id": "83914563",
   "metadata": {},
   "outputs": [
    {
     "data": {
      "text/plain": [
       "{'World'}"
      ]
     },
     "execution_count": 7,
     "metadata": {},
     "output_type": "execute_result"
    }
   ],
   "source": [
    "# checking that all rows characterized as Global have Country Name that is World\n",
    "set(all_tech[all_tech['Spatial Scale']=='Global']['Country Name'])"
   ]
  },
  {
   "cell_type": "code",
   "execution_count": 8,
   "id": "e7b2cd7c",
   "metadata": {},
   "outputs": [
    {
     "data": {
      "text/plain": [
       "{'World'}"
      ]
     },
     "execution_count": 8,
     "metadata": {},
     "output_type": "execute_result"
    }
   ],
   "source": [
    "set(all_tech[all_tech['Country Name']=='World']['Country Code'])"
   ]
  },
  {
   "cell_type": "code",
   "execution_count": 9,
   "id": "eefcea1e",
   "metadata": {},
   "outputs": [
    {
     "data": {
      "text/plain": [
       "{'Global'}"
      ]
     },
     "execution_count": 9,
     "metadata": {},
     "output_type": "execute_result"
    }
   ],
   "source": [
    "set(all_tech[all_tech['Country Name']=='World']['Spatial Scale'])"
   ]
  },
  {
   "cell_type": "code",
   "execution_count": 10,
   "id": "1df10dfb",
   "metadata": {},
   "outputs": [
    {
     "data": {
      "text/plain": [
       "{'Global'}"
      ]
     },
     "execution_count": 10,
     "metadata": {},
     "output_type": "execute_result"
    }
   ],
   "source": [
    "set(all_tech[all_tech['Country Code']=='World']['Spatial Scale'])"
   ]
  },
  {
   "cell_type": "code",
   "execution_count": 11,
   "id": "580b735f",
   "metadata": {},
   "outputs": [
    {
     "data": {
      "text/plain": [
       "{'World'}"
      ]
     },
     "execution_count": 11,
     "metadata": {},
     "output_type": "execute_result"
    }
   ],
   "source": [
    "set(all_tech[all_tech['Country Name']=='World']['Country Name'])"
   ]
  },
  {
   "cell_type": "code",
   "execution_count": 13,
   "id": "2ae315ac",
   "metadata": {},
   "outputs": [
    {
     "data": {
      "text/plain": [
       "315"
      ]
     },
     "execution_count": 13,
     "metadata": {},
     "output_type": "execute_result"
    }
   ],
   "source": [
    "country_names = list(set(all_tech['Country Name']))"
   ]
  },
  {
   "cell_type": "code",
   "execution_count": 14,
   "id": "90dc124b",
   "metadata": {},
   "outputs": [
    {
     "name": "stdout",
     "output_type": "stream",
     "text": [
      "PS ['State of Palestine', 'West Bank and Gaza']\n",
      "EG ['Egypt, Arab Rep.', 'Egypt']\n",
      "KP ['North Korea', \"Korea, Dem. People's Rep.\", 'Korea, North', \"Democratic People's Republic of Korea\"]\n",
      "VNM ['South Vietnam', 'Southern Vietnam']\n",
      "BN ['Brunei', 'Brunei Darussalam']\n",
      "BO ['Bolivia', 'Bolivia (Plurinational State of)']\n",
      "BS ['Bahamas, The', 'Bahamas']\n",
      "RU ['Russian Federation', 'Russia']\n",
      "TW ['China, Taiwan Province of', 'Chinese Taipei', 'Taiwan']\n",
      "CD ['Zaire', 'Democratic Republic of the Congo', 'Congo (Kinshasa)', 'Congo, Dem. Rep.', 'Democratic Republic of Congo']\n",
      "NL ['Netherlands (Kingdom of the)', 'Netherlands']\n",
      "VI ['United States Virgin Islands', 'Virgin Islands (U.S.)']\n",
      "YU ['Yugoslavia', 'Yugoslav SFR']\n",
      "VE ['Venezuela (Bolivarian Republic of)', 'Venezuela, RB', 'Venezuela']\n",
      "MM ['Myanmar', 'Burma']\n",
      "CW ['Curacao', 'Curaçao']\n",
      "SU ['USSR', 'U.S.S.R.']\n",
      "YE ['Yemen, Rep.', 'Yemen']\n",
      "CG ['Republic of Congo ', 'Republic of the Congo', 'Congo, Rep.', 'Congo']\n",
      "BF ['Burkina Faso', 'Burkina-Faso']\n",
      "TR ['Turkiye', 'Turkey', 'Türkiye']\n",
      "LA [\"Lao People's Democratic Republic\", 'Lao PDR', 'Laos']\n",
      "SZ ['Eswatini', 'Swaziland']\n",
      "MD ['Moldova', 'Republic of Moldova']\n",
      "TZ ['United Republic of Tanzania', 'Tanzania']\n",
      "LC ['St. Lucia', 'Saint Lucia']\n",
      "SY ['Syrian Arab Republic', 'Syria']\n",
      "VC ['Saint Vincent and the Grenadines', 'St. Vincent and the Grenadines']\n",
      "SK ['Slovak Republic', 'Slovakia']\n",
      "MK ['Republic of North Macedonia', 'Macedonia', 'North Macedonia']\n",
      "KG ['Kyrgyz Republic', 'Kyrgyzstan', 'Kyrgistan']\n",
      "KN ['St. Kitts and Nevis', 'Saint Kitts and Nevis']\n",
      "VN ['Vietnam', 'Viet Nam']\n",
      "US ['US', 'United States of America', 'Boeing', 'United States', 'USA']\n",
      "CV ['Cape Verde', 'Cabo Verde']\n",
      "PH ['Philippines', 'Phillipine', 'Phillipines']\n",
      "GB ['United Kingdom', 'UK', 'United Kingdom of Great Britain and Northern Ireland']\n",
      "IR ['Iran', 'Iran (Islamic Republic of)', 'Iran, Islamic Rep.']\n",
      "CZ ['Czech Republic', 'Czechia']\n",
      "CI [\"Cote d'Ivoire\", \"Côte d'Ivoire\", 'Ivory Coast']\n",
      "AE ['UAE', 'United Arab Emirates']\n",
      "FM ['Micronesia (Federated States of)', 'Micronesia, Fed. Sts.']\n",
      "HK ['Hong Kong SAR, China', 'Hong Kong', 'China Hong Kong SAR', 'China, Hong Kong Special Administrative Region']\n",
      "TT ['Trinidad & Tobago', 'Trinidad and Tobago']\n",
      "MF ['St. Martin (French part)', 'Saint Martin (French Part)']\n",
      "GM ['Gambia', 'Gambia, The']\n",
      "BA ['Bosnia and Herzegovina', 'Bosnia-Herzegovina']\n",
      "KR ['Korea, Republic of', 'Korea, Rep.', 'Republic of Korea', 'South Korea']\n"
     ]
    }
   ],
   "source": [
    "# check that country codes that map onto multiple country names are all referring to the same entity\n",
    "# e.g., make sure North Korea and South Korea aren't mapped onto the same code\n",
    "country_code_dict = {}\n",
    "for code in country_codes:\n",
    "    country_code_dict[code] = None\n",
    "    \n",
    "for code in country_code_dict:\n",
    "    name_list = list(set(all_tech[all_tech['Country Code']==code]['Country Name']))\n",
    "    country_code_dict[code] = name_list\n",
    "\n",
    "for code in country_code_dict:\n",
    "    if len(country_code_dict[code]) > 1:\n",
    "        print(code, country_code_dict[code])"
   ]
  },
  {
   "cell_type": "code",
   "execution_count": 15,
   "id": "2a608395",
   "metadata": {},
   "outputs": [],
   "source": [
    "# check that all countries map onto one code (i.e. 'Czechoslovakia' should not map onto both 'CZ' and 'CSK')\n",
    "country_name_dict = {}\n",
    "for country in country_names:\n",
    "    country_name_dict[country] = None\n",
    "\n",
    "for code in country_name_dict:\n",
    "    code_list = list(set(all_tech[all_tech['Country Name']==code]['Country Code']))\n",
    "    country_name_dict[code] = code_list\n",
    "\n",
    "for country in country_name_dict:\n",
    "    if len(country_name_dict[country]) > 1:\n",
    "        print(country)"
   ]
  },
  {
   "cell_type": "code",
   "execution_count": null,
   "id": "27d90bdb",
   "metadata": {},
   "outputs": [],
   "source": []
  },
  {
   "cell_type": "code",
   "execution_count": 16,
   "id": "6544b57c",
   "metadata": {},
   "outputs": [],
   "source": [
    "# check for monotonic increasing for cum vals\n",
    "\n",
    "# check for weird numbers/trends\n",
    "\n",
    "# rows with less than 10 data points?\n",
    "\n",
    "# fix var types (all data points should be float, years should be int, everything else is str)\n",
    "\n",
    "# add field for flags"
   ]
  }
 ],
 "metadata": {
  "kernelspec": {
   "display_name": "Python 3 (ipykernel)",
   "language": "python",
   "name": "python3"
  },
  "language_info": {
   "codemirror_mode": {
    "name": "ipython",
    "version": 3
   },
   "file_extension": ".py",
   "mimetype": "text/x-python",
   "name": "python",
   "nbconvert_exporter": "python",
   "pygments_lexer": "ipython3",
   "version": "3.9.13"
  }
 },
 "nbformat": 4,
 "nbformat_minor": 5
}
