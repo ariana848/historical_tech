{
 "cells": [
  {
   "cell_type": "code",
   "execution_count": 1,
   "id": "bdde3d5c",
   "metadata": {},
   "outputs": [],
   "source": [
    "import pandas as pd\n",
    "from pandas import Series, DataFrame"
   ]
  },
  {
   "cell_type": "code",
   "execution_count": 2,
   "id": "93552a88",
   "metadata": {},
   "outputs": [
    {
     "name": "stderr",
     "output_type": "stream",
     "text": [
      "/var/folders/4_/pdkx43_96v7dxssy4jtd5vyc0000gn/T/ipykernel_23082/1386745581.py:4: DtypeWarning: Columns (157,216,217,219,226,227,231,249,250,253,254,262,263,264,265,266,267,268,269,270,271,272,273,274,275,276,277,278,279,280,281,282,283,284,285,286,287,288,289,290,291,292,293,294,295,296,297,298,299,300,301,302,303,304,305,306,307,308,309,310,311,312,313,314,315,316,317,318,319,321,322,323,324,325,326,327,328,329,330,331) have mixed types. Specify dtype option on import or set low_memory=False.\n",
      "  all_tech = pd.read_csv('all_tech_version 2.0.csv', keep_default_na=False,\n"
     ]
    }
   ],
   "source": [
    "# don't use default na, this erroneously converts 'NA' (iso code for Namibia) to a missing value\n",
    "# I manually input all the default na vals except for 'NA' to prevent this\n",
    "# https://pandas.pydata.org/docs/reference/api/pandas.read_csv.html\n",
    "all_tech = pd.read_csv('all_tech_version 2.0.csv', keep_default_na=False, \n",
    "                       na_values=['-1.#IND', '1.#QNAN', '1.#IND', '-1.#QNAN', '#N/A N/A', '#N/A', 'N/A', 'n/a', \n",
    "                                  '<NA>', '#NA', 'NULL', 'null', 'NaN', '-NaN', 'nan', '-nan', 'None', ''])"
   ]
  },
  {
   "cell_type": "code",
   "execution_count": 3,
   "id": "74febb34",
   "metadata": {},
   "outputs": [],
   "source": [
    "# checking for all unique IDs (technology/metric/country)\n",
    "dup = []\n",
    "for x in all_tech['ID']:\n",
    "    if x not in dup:\n",
    "        dup.append(x)\n",
    "    else:\n",
    "        print(x)"
   ]
  },
  {
   "cell_type": "code",
   "execution_count": 6,
   "id": "209446f5",
   "metadata": {},
   "outputs": [
    {
     "name": "stdout",
     "output_type": "stream",
     "text": [
      "VNM\n",
      "Southern Vietnam\n",
      "World\n",
      "KOR\n",
      "CSK\n",
      "BE-WLX\n",
      "West Germany\n",
      "East Germany\n"
     ]
    }
   ],
   "source": [
    "country_codes = list(set(all_tech['Country Code']))\n",
    "for code in country_codes:\n",
    "    if len(code) != 2:\n",
    "        print(code)"
   ]
  },
  {
   "cell_type": "code",
   "execution_count": 5,
   "id": "6544b57c",
   "metadata": {},
   "outputs": [],
   "source": [
    "# check for monotonic increasing for cum vals\n",
    "\n",
    "# check that country names are many:1 for country codes \n",
    "# (ex. Czechoslovakia is assigned to CZ, the code for modern-day Czech Republic,\n",
    "# and CSK (old iso3 code for Czechoslovakia)\n",
    "\n",
    "# check on ID where country code isn't iso2 (iso3, full name for World, things like South Vietnam, etc.)\n",
    "\n",
    "# check for weird numbers/trends\n",
    "\n",
    "# rows with less than 10 data points?\n",
    "\n",
    "# fix var types (all data points should be float, years should be int, everything else is str)\n",
    "\n",
    "# add field for flags"
   ]
  }
 ],
 "metadata": {
  "kernelspec": {
   "display_name": "Python 3 (ipykernel)",
   "language": "python",
   "name": "python3"
  },
  "language_info": {
   "codemirror_mode": {
    "name": "ipython",
    "version": 3
   },
   "file_extension": ".py",
   "mimetype": "text/x-python",
   "name": "python",
   "nbconvert_exporter": "python",
   "pygments_lexer": "ipython3",
   "version": "3.9.13"
  }
 },
 "nbformat": 4,
 "nbformat_minor": 5
}
