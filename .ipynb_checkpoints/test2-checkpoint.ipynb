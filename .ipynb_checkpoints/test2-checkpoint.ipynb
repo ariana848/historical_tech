{
 "cells": [
  {
   "cell_type": "code",
   "execution_count": 1,
   "id": "84345e0a",
   "metadata": {},
   "outputs": [],
   "source": [
    "import pandas as pd\n",
    "from pandas import Series, DataFrame\n",
    "import json\n",
    "import os"
   ]
  },
  {
   "cell_type": "code",
   "execution_count": 2,
   "id": "a5e47ce9",
   "metadata": {},
   "outputs": [],
   "source": [
    "path = './cleaned data/'\n",
    "clean_files = os.listdir(path)"
   ]
  },
  {
   "cell_type": "code",
   "execution_count": 3,
   "id": "0e1e8831",
   "metadata": {},
   "outputs": [],
   "source": [
    "db = {}\n",
    "for file in clean_files:\n",
    "    if '.csv' in file:\n",
    "        db[file.replace(\".csv\", \"\")] = {}"
   ]
  },
  {
   "cell_type": "code",
   "execution_count": 4,
   "id": "e16abd3c",
   "metadata": {},
   "outputs": [
    {
     "data": {
      "text/plain": [
       "{'bp': {}, 'fao': {}}"
      ]
     },
     "execution_count": 4,
     "metadata": {},
     "output_type": "execute_result"
    }
   ],
   "source": [
    "db"
   ]
  },
  {
   "cell_type": "code",
   "execution_count": 5,
   "id": "9507a042",
   "metadata": {},
   "outputs": [
    {
     "data": {
      "text/plain": [
       "93"
      ]
     },
     "execution_count": 5,
     "metadata": {},
     "output_type": "execute_result"
    }
   ],
   "source": [
    "source_data = []\n",
    "source = os.listdir('./Source_Data/')\n",
    "for file in source:\n",
    "    source_data.append(file)\n",
    "len(source_data)"
   ]
  },
  {
   "cell_type": "code",
   "execution_count": null,
   "id": "1922415b",
   "metadata": {},
   "outputs": [],
   "source": []
  }
 ],
 "metadata": {
  "kernelspec": {
   "display_name": "Python 3 (ipykernel)",
   "language": "python",
   "name": "python3"
  },
  "language_info": {
   "codemirror_mode": {
    "name": "ipython",
    "version": 3
   },
   "file_extension": ".py",
   "mimetype": "text/x-python",
   "name": "python",
   "nbconvert_exporter": "python",
   "pygments_lexer": "ipython3",
   "version": "3.9.13"
  }
 },
 "nbformat": 4,
 "nbformat_minor": 5
}
