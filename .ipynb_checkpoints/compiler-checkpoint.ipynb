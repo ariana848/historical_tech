{
 "cells": [
  {
   "cell_type": "code",
   "execution_count": 1,
   "id": "84345e0a",
   "metadata": {},
   "outputs": [],
   "source": [
    "import pandas as pd\n",
    "from pandas import Series, DataFrame\n",
    "import os"
   ]
  },
  {
   "cell_type": "code",
   "execution_count": 2,
   "id": "a5e47ce9",
   "metadata": {},
   "outputs": [],
   "source": [
    "path = 'cleaned data/'\n",
    "clean_files = os.listdir(path)"
   ]
  },
  {
   "cell_type": "code",
   "execution_count": 3,
   "id": "91691cb6",
   "metadata": {},
   "outputs": [],
   "source": [
    "csv = []\n",
    "for file in clean_files:\n",
    "    if '.csv' in file:\n",
    "        name = path + file\n",
    "        csv.append(name)"
   ]
  },
  {
   "cell_type": "code",
   "execution_count": 4,
   "id": "e16abd3c",
   "metadata": {},
   "outputs": [
    {
     "data": {
      "text/html": [
       "<div>\n",
       "<style scoped>\n",
       "    .dataframe tbody tr th:only-of-type {\n",
       "        vertical-align: middle;\n",
       "    }\n",
       "\n",
       "    .dataframe tbody tr th {\n",
       "        vertical-align: top;\n",
       "    }\n",
       "\n",
       "    .dataframe thead th {\n",
       "        text-align: right;\n",
       "    }\n",
       "</style>\n",
       "<table border=\"1\" class=\"dataframe\">\n",
       "  <thead>\n",
       "    <tr style=\"text-align: right;\">\n",
       "      <th></th>\n",
       "      <th>ID</th>\n",
       "      <th>Spatial Scale</th>\n",
       "      <th>Country Code</th>\n",
       "      <th>Country Name</th>\n",
       "      <th>Technology Name</th>\n",
       "      <th>Metric</th>\n",
       "      <th>Unit</th>\n",
       "      <th>Data Source</th>\n",
       "      <th>1700</th>\n",
       "      <th>1701</th>\n",
       "      <th>...</th>\n",
       "      <th>2016</th>\n",
       "      <th>2017</th>\n",
       "      <th>2018</th>\n",
       "      <th>2019</th>\n",
       "      <th>2020</th>\n",
       "      <th>2021</th>\n",
       "      <th>2022</th>\n",
       "      <th>2023</th>\n",
       "      <th>2024</th>\n",
       "      <th>2025</th>\n",
       "    </tr>\n",
       "  </thead>\n",
       "  <tbody>\n",
       "  </tbody>\n",
       "</table>\n",
       "<p>0 rows × 334 columns</p>\n",
       "</div>"
      ],
      "text/plain": [
       "Empty DataFrame\n",
       "Columns: [ID, Spatial Scale, Country Code, Country Name, Technology Name, Metric, Unit, Data Source, 1700, 1701, 1702, 1703, 1704, 1705, 1706, 1707, 1708, 1709, 1710, 1711, 1712, 1713, 1714, 1715, 1716, 1717, 1718, 1719, 1720, 1721, 1722, 1723, 1724, 1725, 1726, 1727, 1728, 1729, 1730, 1731, 1732, 1733, 1734, 1735, 1736, 1737, 1738, 1739, 1740, 1741, 1742, 1743, 1744, 1745, 1746, 1747, 1748, 1749, 1750, 1751, 1752, 1753, 1754, 1755, 1756, 1757, 1758, 1759, 1760, 1761, 1762, 1763, 1764, 1765, 1766, 1767, 1768, 1769, 1770, 1771, 1772, 1773, 1774, 1775, 1776, 1777, 1778, 1779, 1780, 1781, 1782, 1783, 1784, 1785, 1786, 1787, 1788, 1789, 1790, 1791, ...]\n",
       "Index: []\n",
       "\n",
       "[0 rows x 334 columns]"
      ]
     },
     "execution_count": 4,
     "metadata": {},
     "output_type": "execute_result"
    }
   ],
   "source": [
    "frame = pd.read_csv('cleaned data/frame.csv')\n",
    "frame"
   ]
  },
  {
   "cell_type": "code",
   "execution_count": 5,
   "id": "1cdc008d",
   "metadata": {},
   "outputs": [],
   "source": [
    "# don't use default na, this erroneously converts 'NA' (iso code for Namibia) to a missing value\n",
    "# I manually input all the default na vals except for 'NA' to prevent this\n",
    "# https://pandas.pydata.org/docs/reference/api/pandas.read_csv.html\n",
    "df_list = [frame]\n",
    "for file in csv:\n",
    "    file = pd.read_csv(file, keep_default_na=False, na_values=['-1.#IND', '1.#QNAN', '1.#IND', '-1.#QNAN', \n",
    "                                                               '#N/A N/A', '#N/A', 'N/A', 'n/a', '<NA>', '#NA', \n",
    "                                                               'NULL', 'null', 'NaN', '-NaN', 'nan', '-nan', \n",
    "                                                               'None', ''])\n",
    "    df_list.append(file)"
   ]
  },
  {
   "cell_type": "code",
   "execution_count": null,
   "id": "85acbb44",
   "metadata": {},
   "outputs": [],
   "source": [
    "all_tech_df = pd.concat(df_list)\n",
    "all_tech_df"
   ]
  },
  {
   "cell_type": "code",
   "execution_count": null,
   "id": "5382866c",
   "metadata": {},
   "outputs": [],
   "source": [
    "len(set(all_tech_df['Technology Name']))"
   ]
  },
  {
   "cell_type": "code",
   "execution_count": null,
   "id": "b2731aac",
   "metadata": {},
   "outputs": [],
   "source": [
    "for x in set(all_tech_df['Technology Name']):\n",
    "    print(x)"
   ]
  },
  {
   "cell_type": "code",
   "execution_count": null,
   "id": "6879a60c",
   "metadata": {
    "scrolled": true
   },
   "outputs": [],
   "source": [
    "all_tech_df[all_tech_df['Technology Name']=='Cellphones']"
   ]
  },
  {
   "cell_type": "code",
   "execution_count": null,
   "id": "0d558a79",
   "metadata": {},
   "outputs": [],
   "source": [
    "all_tech_df.insert(8, 'Long Technology Name', all_tech_df['Metric'] + '|' + all_tech_df['Technology Name'])\n",
    "all_tech_df"
   ]
  },
  {
   "cell_type": "code",
   "execution_count": null,
   "id": "d7c37d75",
   "metadata": {},
   "outputs": [],
   "source": [
    "all_tech_df.reset_index(drop=True,inplace=True)\n",
    "all_tech_df"
   ]
  },
  {
   "cell_type": "code",
   "execution_count": null,
   "id": "5cd3e610",
   "metadata": {},
   "outputs": [],
   "source": [
    "omit = []\n",
    "for col in all_tech_df.columns:\n",
    "    if len(col) != 4 or col == 'Unit':\n",
    "         omit.append(col)\n",
    "empty_rows = all_tech_df.drop(columns=omit)\n",
    "empty_rows.dropna(how='all', inplace=True)\n",
    "na_idx = []\n",
    "for idx in all_tech_df.index:\n",
    "    if idx not in empty_rows.index:\n",
    "        na_idx.append(idx)\n",
    "all_tech_df.drop(na_idx, inplace=True)\n",
    "all_tech_df"
   ]
  },
  {
   "cell_type": "code",
   "execution_count": null,
   "id": "260ff35b",
   "metadata": {},
   "outputs": [],
   "source": [
    "all_tech_df['Metric'] = all_tech_df['Metric'].str.title()"
   ]
  },
  {
   "cell_type": "code",
   "execution_count": null,
   "id": "60acc80f",
   "metadata": {},
   "outputs": [],
   "source": [
    "all_tech_df['Metric'] = all_tech_df['Metric'].str.strip()"
   ]
  },
  {
   "cell_type": "code",
   "execution_count": null,
   "id": "099c1a61",
   "metadata": {},
   "outputs": [],
   "source": [
    "set(all_tech_df['Metric'])"
   ]
  },
  {
   "cell_type": "code",
   "execution_count": null,
   "id": "9980af29",
   "metadata": {},
   "outputs": [],
   "source": [
    "all_tech_df.to_csv('all_tech_version 2.0.csv', index=False)"
   ]
  },
  {
   "cell_type": "code",
   "execution_count": null,
   "id": "155eb23d",
   "metadata": {},
   "outputs": [],
   "source": [
    "all_tech_df = all_tech_df[all_tech_df['Metric']!='Price']\n",
    "all_tech_df"
   ]
  },
  {
   "cell_type": "code",
   "execution_count": null,
   "id": "b6c5441f",
   "metadata": {},
   "outputs": [],
   "source": [
    "all_tech_df.to_csv('all_tech_version 1.5.csv', index=False)"
   ]
  },
  {
   "cell_type": "code",
   "execution_count": null,
   "id": "1da1a962",
   "metadata": {},
   "outputs": [],
   "source": [
    "no_country = []\n",
    "for tech in set(all_tech_df['Technology Name']):\n",
    "    countries = list(set(all_tech_df[all_tech_df['Technology Name'] == tech]['Country Name']))\n",
    "    id_ = list(all_tech_df[all_tech_df['Technology Name'] == tech]['ID'])\n",
    "    if len(countries) <= 2:\n",
    "        no_country.extend(id_)"
   ]
  },
  {
   "cell_type": "code",
   "execution_count": null,
   "id": "c067af6a",
   "metadata": {},
   "outputs": [],
   "source": [
    "all_tech_w_countrylvl = all_tech_df.set_index('ID', drop=True)\n",
    "all_tech_w_countrylvl.drop(index=no_country, inplace=True)\n",
    "all_tech_w_countrylvl"
   ]
  },
  {
   "cell_type": "code",
   "execution_count": null,
   "id": "31f5a362",
   "metadata": {},
   "outputs": [],
   "source": [
    "all_tech_w_countrylvl.to_csv('all_tech_with_country-level.csv', index=False)"
   ]
  },
  {
   "cell_type": "code",
   "execution_count": null,
   "id": "4d318b93",
   "metadata": {},
   "outputs": [],
   "source": []
  },
  {
   "cell_type": "code",
   "execution_count": null,
   "id": "3e86e998",
   "metadata": {},
   "outputs": [],
   "source": []
  }
 ],
 "metadata": {
  "kernelspec": {
   "display_name": "Python 3 (ipykernel)",
   "language": "python",
   "name": "python3"
  },
  "language_info": {
   "codemirror_mode": {
    "name": "ipython",
    "version": 3
   },
   "file_extension": ".py",
   "mimetype": "text/x-python",
   "name": "python",
   "nbconvert_exporter": "python",
   "pygments_lexer": "ipython3",
   "version": "3.9.13"
  }
 },
 "nbformat": 4,
 "nbformat_minor": 5
}
