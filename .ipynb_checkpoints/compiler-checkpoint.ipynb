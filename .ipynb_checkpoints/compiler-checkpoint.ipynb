{
 "cells": [
  {
   "cell_type": "code",
   "execution_count": null,
   "id": "84345e0a",
   "metadata": {},
   "outputs": [],
   "source": [
    "import pandas as pd\n",
    "from pandas import Series, DataFrame\n",
    "import os\n",
    "import locale\n",
    "from locale import atof"
   ]
  },
  {
   "cell_type": "code",
   "execution_count": null,
   "id": "a5e47ce9",
   "metadata": {},
   "outputs": [],
   "source": [
    "path = 'cleaned data/'\n",
    "clean_files = os.listdir(path)"
   ]
  },
  {
   "cell_type": "code",
   "execution_count": null,
   "id": "91691cb6",
   "metadata": {},
   "outputs": [],
   "source": [
    "csv = []\n",
    "for file in clean_files:\n",
    "    if '.csv' in file:\n",
    "        name = path + file\n",
    "        csv.append(name)"
   ]
  },
  {
   "cell_type": "code",
   "execution_count": null,
   "id": "e16abd3c",
   "metadata": {},
   "outputs": [],
   "source": [
    "frame = pd.read_csv('cleaned data/frame.csv')\n",
    "frame"
   ]
  },
  {
   "cell_type": "code",
   "execution_count": null,
   "id": "bd6b8a6d",
   "metadata": {},
   "outputs": [],
   "source": [
    "locale.setlocale(locale.LC_NUMERIC, '')"
   ]
  },
  {
   "cell_type": "code",
   "execution_count": null,
   "id": "1cdc008d",
   "metadata": {},
   "outputs": [],
   "source": [
    "# don't use default na, this erroneously converts 'NA' (iso code for Namibia) to a missing value\n",
    "# I manually input all the default na vals except for 'NA' to prevent this\n",
    "# https://pandas.pydata.org/docs/reference/api/pandas.read_csv.html\n",
    "df_list = [frame]\n",
    "for file in csv:\n",
    "    file = pd.read_csv(file, thousands=',',keep_default_na=False, \n",
    "                       na_values=['-1.#IND', '1.#QNAN', '1.#IND', '-1.#QNAN', '#N/A N/A', '#N/A', 'N/A', 'n/a', \n",
    "                                  '<NA>', '#NA', 'NULL', 'null', 'NaN', '-NaN', 'nan', '-nan', 'None', ''])\n",
    "    df_list.append(file)"
   ]
  },
  {
   "cell_type": "code",
   "execution_count": null,
   "id": "85acbb44",
   "metadata": {},
   "outputs": [],
   "source": [
    "all_tech_df = pd.concat(df_list)\n",
    "all_tech_df"
   ]
  },
  {
   "cell_type": "code",
   "execution_count": null,
   "id": "5382866c",
   "metadata": {},
   "outputs": [],
   "source": [
    "len(set(all_tech_df['Technology Name']))"
   ]
  },
  {
   "cell_type": "code",
   "execution_count": null,
   "id": "b2731aac",
   "metadata": {},
   "outputs": [],
   "source": [
    "for x in set(all_tech_df['Technology Name']):\n",
    "    print(x)"
   ]
  },
  {
   "cell_type": "code",
   "execution_count": null,
   "id": "6879a60c",
   "metadata": {
    "scrolled": true
   },
   "outputs": [],
   "source": [
    "all_tech_df[all_tech_df['Technology Name']=='Sodium']"
   ]
  },
  {
   "cell_type": "code",
   "execution_count": null,
   "id": "24816f86",
   "metadata": {},
   "outputs": [],
   "source": [
    "#all_tech_df['Technology Name'] = all_tech_df['Technology Name'].str.title()"
   ]
  },
  {
   "cell_type": "code",
   "execution_count": null,
   "id": "0d558a79",
   "metadata": {},
   "outputs": [],
   "source": [
    "all_tech_df.insert(8, 'Long Technology Name', all_tech_df['Metric'] + '|' + all_tech_df['Technology Name'])\n",
    "all_tech_df"
   ]
  },
  {
   "cell_type": "code",
   "execution_count": null,
   "id": "d7c37d75",
   "metadata": {},
   "outputs": [],
   "source": [
    "all_tech_df.reset_index(drop=True,inplace=True)\n",
    "all_tech_df"
   ]
  },
  {
   "cell_type": "code",
   "execution_count": null,
   "id": "5cd3e610",
   "metadata": {},
   "outputs": [],
   "source": [
    "omit = []\n",
    "for col in all_tech_df.columns:\n",
    "    if len(col) != 4 or col == 'Unit':\n",
    "         omit.append(col)\n",
    "empty_rows = all_tech_df.drop(columns=omit)\n",
    "empty_rows.dropna(how='all', inplace=True)\n",
    "na_idx = []\n",
    "for idx in all_tech_df.index:\n",
    "    if idx not in empty_rows.index:\n",
    "        na_idx.append(idx)\n",
    "all_tech_df.drop(na_idx, inplace=True)\n",
    "all_tech_df"
   ]
  },
  {
   "cell_type": "code",
   "execution_count": null,
   "id": "627a3fbd",
   "metadata": {},
   "outputs": [],
   "source": [
    "#all_tech_df['Metric'] = all_tech_df['Metric'].str.title()"
   ]
  },
  {
   "cell_type": "code",
   "execution_count": null,
   "id": "682637ec",
   "metadata": {},
   "outputs": [],
   "source": [
    "all_tech_df['Metric'] = all_tech_df['Metric'].str.strip()"
   ]
  },
  {
   "cell_type": "code",
   "execution_count": null,
   "id": "110b3810",
   "metadata": {},
   "outputs": [],
   "source": [
    "set(all_tech_df['Metric'])"
   ]
  },
  {
   "cell_type": "code",
   "execution_count": null,
   "id": "9980af29",
   "metadata": {},
   "outputs": [],
   "source": [
    "all_tech_df.to_csv('all_tech_version 2.0.csv', index=False)"
   ]
  },
  {
   "cell_type": "code",
   "execution_count": null,
   "id": "155eb23d",
   "metadata": {},
   "outputs": [],
   "source": [
    "all_tech_df = all_tech_df[all_tech_df['Metric']!='Price']\n",
    "all_tech_df"
   ]
  },
  {
   "cell_type": "code",
   "execution_count": null,
   "id": "b6c5441f",
   "metadata": {},
   "outputs": [],
   "source": [
    "all_tech_df.to_csv('all_tech_version 1.5.csv', index=False)"
   ]
  },
  {
   "cell_type": "code",
   "execution_count": null,
   "id": "1da1a962",
   "metadata": {},
   "outputs": [],
   "source": [
    "no_country = []\n",
    "for tech in set(all_tech_df['Technology Name']):\n",
    "    countries = list(set(all_tech_df[all_tech_df['Technology Name'] == tech]['Country Name']))\n",
    "    id_ = list(all_tech_df[all_tech_df['Technology Name'] == tech]['ID'])\n",
    "    if len(countries) <= 2:\n",
    "        no_country.extend(id_)"
   ]
  },
  {
   "cell_type": "code",
   "execution_count": null,
   "id": "c067af6a",
   "metadata": {},
   "outputs": [],
   "source": [
    "all_tech_w_countrylvl = all_tech_df.set_index('ID', drop=True)\n",
    "all_tech_w_countrylvl.drop(index=no_country, inplace=True)\n",
    "all_tech_w_countrylvl"
   ]
  },
  {
   "cell_type": "code",
   "execution_count": null,
   "id": "31f5a362",
   "metadata": {},
   "outputs": [],
   "source": [
    "all_tech_w_countrylvl.to_csv('all_tech_with_country-level.csv', index=False)"
   ]
  },
  {
   "cell_type": "code",
   "execution_count": null,
   "id": "3e86e998",
   "metadata": {},
   "outputs": [],
   "source": []
  }
 ],
 "metadata": {
  "kernelspec": {
   "display_name": "Python 3 (ipykernel)",
   "language": "python",
   "name": "python3"
  },
  "language_info": {
   "codemirror_mode": {
    "name": "ipython",
    "version": 3
   },
   "file_extension": ".py",
   "mimetype": "text/x-python",
   "name": "python",
   "nbconvert_exporter": "python",
   "pygments_lexer": "ipython3",
   "version": "3.9.13"
  }
 },
 "nbformat": 4,
 "nbformat_minor": 5
}
