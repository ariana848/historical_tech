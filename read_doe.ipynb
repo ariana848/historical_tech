{
 "cells": [
  {
   "cell_type": "code",
   "execution_count": 1,
   "id": "a346ac98",
   "metadata": {},
   "outputs": [],
   "source": [
    "import os\n",
    "import pandas as pd\n",
    "from pandas import Series, DataFrame\n",
    "import country_converter as coco"
   ]
  },
  {
   "cell_type": "code",
   "execution_count": 2,
   "id": "cddb7ce6",
   "metadata": {},
   "outputs": [],
   "source": [
    "# https://sandia.gov/ess-ssl/gesdb/public/statistics.html"
   ]
  },
  {
   "cell_type": "code",
   "execution_count": 3,
   "id": "2ac863e5",
   "metadata": {},
   "outputs": [],
   "source": [
    "path = '/Users/ariana/desktop/historical_tech/raw data'\n",
    "os.chdir(path)"
   ]
  },
  {
   "cell_type": "code",
   "execution_count": 4,
   "id": "e37767e5",
   "metadata": {},
   "outputs": [
    {
     "data": {
      "text/html": [
       "<div>\n",
       "<style scoped>\n",
       "    .dataframe tbody tr th:only-of-type {\n",
       "        vertical-align: middle;\n",
       "    }\n",
       "\n",
       "    .dataframe tbody tr th {\n",
       "        vertical-align: top;\n",
       "    }\n",
       "\n",
       "    .dataframe thead th {\n",
       "        text-align: right;\n",
       "    }\n",
       "</style>\n",
       "<table border=\"1\" class=\"dataframe\">\n",
       "  <thead>\n",
       "    <tr style=\"text-align: right;\">\n",
       "      <th></th>\n",
       "      <th>Year of Project Year</th>\n",
       "      <th>Technology Mid-Type</th>\n",
       "      <th>Country</th>\n",
       "      <th>Rated Power (kW)</th>\n",
       "    </tr>\n",
       "  </thead>\n",
       "  <tbody>\n",
       "    <tr>\n",
       "      <th>44</th>\n",
       "      <td>2000</td>\n",
       "      <td>Flow battery</td>\n",
       "      <td>Japan</td>\n",
       "      <td>3000</td>\n",
       "    </tr>\n",
       "    <tr>\n",
       "      <th>45</th>\n",
       "      <td>2003</td>\n",
       "      <td>Flow battery</td>\n",
       "      <td>Australia</td>\n",
       "      <td>200</td>\n",
       "    </tr>\n",
       "    <tr>\n",
       "      <th>46</th>\n",
       "      <td>2004</td>\n",
       "      <td>Flow battery</td>\n",
       "      <td>United States</td>\n",
       "      <td>250</td>\n",
       "    </tr>\n",
       "    <tr>\n",
       "      <th>47</th>\n",
       "      <td>2005</td>\n",
       "      <td>Flow battery</td>\n",
       "      <td>Japan</td>\n",
       "      <td>4000</td>\n",
       "    </tr>\n",
       "    <tr>\n",
       "      <th>48</th>\n",
       "      <td>2007</td>\n",
       "      <td>Flow battery</td>\n",
       "      <td>Denmark</td>\n",
       "      <td>15</td>\n",
       "    </tr>\n",
       "    <tr>\n",
       "      <th>...</th>\n",
       "      <td>...</td>\n",
       "      <td>...</td>\n",
       "      <td>...</td>\n",
       "      <td>...</td>\n",
       "    </tr>\n",
       "    <tr>\n",
       "      <th>1620</th>\n",
       "      <td>2018</td>\n",
       "      <td>Pumped hydro storage</td>\n",
       "      <td>Indonesia</td>\n",
       "      <td>1040000</td>\n",
       "    </tr>\n",
       "    <tr>\n",
       "      <th>1621</th>\n",
       "      <td>2019</td>\n",
       "      <td>Pumped hydro storage</td>\n",
       "      <td>Australia</td>\n",
       "      <td>250000</td>\n",
       "    </tr>\n",
       "    <tr>\n",
       "      <th>1622</th>\n",
       "      <td>2020</td>\n",
       "      <td>Pumped hydro storage</td>\n",
       "      <td>Ireland</td>\n",
       "      <td>1500</td>\n",
       "    </tr>\n",
       "    <tr>\n",
       "      <th>1623</th>\n",
       "      <td>2020</td>\n",
       "      <td>Pumped hydro storage</td>\n",
       "      <td>Japan</td>\n",
       "      <td>200000</td>\n",
       "    </tr>\n",
       "    <tr>\n",
       "      <th>1624</th>\n",
       "      <td>2020</td>\n",
       "      <td>Pumped hydro storage</td>\n",
       "      <td>Japan</td>\n",
       "      <td>1880000</td>\n",
       "    </tr>\n",
       "  </tbody>\n",
       "</table>\n",
       "<p>1581 rows × 4 columns</p>\n",
       "</div>"
      ],
      "text/plain": [
       "      Year of Project Year   Technology Mid-Type        Country  \\\n",
       "44                    2000          Flow battery          Japan   \n",
       "45                    2003          Flow battery      Australia   \n",
       "46                    2004          Flow battery  United States   \n",
       "47                    2005          Flow battery          Japan   \n",
       "48                    2007          Flow battery        Denmark   \n",
       "...                    ...                   ...            ...   \n",
       "1620                  2018  Pumped hydro storage      Indonesia   \n",
       "1621                  2019  Pumped hydro storage      Australia   \n",
       "1622                  2020  Pumped hydro storage        Ireland   \n",
       "1623                  2020  Pumped hydro storage          Japan   \n",
       "1624                  2020  Pumped hydro storage          Japan   \n",
       "\n",
       "      Rated Power (kW)  \n",
       "44                3000  \n",
       "45                 200  \n",
       "46                 250  \n",
       "47                4000  \n",
       "48                  15  \n",
       "...                ...  \n",
       "1620           1040000  \n",
       "1621            250000  \n",
       "1622              1500  \n",
       "1623            200000  \n",
       "1624           1880000  \n",
       "\n",
       "[1581 rows x 4 columns]"
      ]
     },
     "execution_count": 4,
     "metadata": {},
     "output_type": "execute_result"
    }
   ],
   "source": [
    "doe = pd.read_csv('Cummulative Sum by Year_Full Data_data.csv', usecols=[0, 1, 2, 10])\n",
    "doe = doe[44:]\n",
    "doe"
   ]
  },
  {
   "cell_type": "code",
   "execution_count": 5,
   "id": "bce2bffd",
   "metadata": {},
   "outputs": [
    {
     "data": {
      "text/plain": [
       "['Compressed air energy storage',\n",
       " 'Electro-chemical capacitor',\n",
       " 'Flow battery',\n",
       " 'Flywheel',\n",
       " 'Heat thermal storage',\n",
       " 'Hydrogen storage',\n",
       " 'Latent heat',\n",
       " 'Lead-acid battery',\n",
       " 'Lithium-ion battery',\n",
       " 'Nickel-based battery',\n",
       " 'Pumped hydro storage',\n",
       " 'Sensible heat',\n",
       " 'Sodium-based battery',\n",
       " 'Zinc-based battery']"
      ]
     },
     "execution_count": 5,
     "metadata": {},
     "output_type": "execute_result"
    }
   ],
   "source": [
    "tech_list = list(set(doe['Technology Mid-Type']))\n",
    "tech_list.sort()\n",
    "tech_list"
   ]
  },
  {
   "cell_type": "code",
   "execution_count": null,
   "id": "d9bf8bae",
   "metadata": {},
   "outputs": [],
   "source": []
  },
  {
   "cell_type": "code",
   "execution_count": null,
   "id": "0c3785b2",
   "metadata": {},
   "outputs": [],
   "source": []
  },
  {
   "cell_type": "code",
   "execution_count": null,
   "id": "e9523dc6",
   "metadata": {},
   "outputs": [],
   "source": []
  }
 ],
 "metadata": {
  "kernelspec": {
   "display_name": "Python 3 (ipykernel)",
   "language": "python",
   "name": "python3"
  },
  "language_info": {
   "codemirror_mode": {
    "name": "ipython",
    "version": 3
   },
   "file_extension": ".py",
   "mimetype": "text/x-python",
   "name": "python",
   "nbconvert_exporter": "python",
   "pygments_lexer": "ipython3",
   "version": "3.9.13"
  }
 },
 "nbformat": 4,
 "nbformat_minor": 5
}
