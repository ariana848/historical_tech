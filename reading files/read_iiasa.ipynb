{
 "cells": [
  {
   "cell_type": "code",
   "execution_count": 1,
   "id": "6efdb8ed",
   "metadata": {},
   "outputs": [],
   "source": [
    "# to drop:\n",
    "# hydro\n",
    "# nuclear\n",
    "# steamships\n",
    "# wind"
   ]
  },
  {
   "cell_type": "code",
   "execution_count": 2,
   "id": "0de8c103",
   "metadata": {},
   "outputs": [],
   "source": [
    "import os\n",
    "import pandas as pd\n",
    "from pandas import Series, DataFrame\n",
    "import country_converter as coco"
   ]
  },
  {
   "cell_type": "code",
   "execution_count": 3,
   "id": "f8ee9cd2",
   "metadata": {},
   "outputs": [],
   "source": [
    "path = '/Users/ariana/desktop/historical_tech'\n",
    "os.chdir(path)"
   ]
  },
  {
   "cell_type": "code",
   "execution_count": 4,
   "id": "5753ab32",
   "metadata": {},
   "outputs": [],
   "source": [
    "def read_iiasa(header, usecols, skipfooter=0):\n",
    "    iiasa = pd.read_excel('raw data/IR_09_029_Online_Material_2.xls', sheet_name=2, header=header, usecols=usecols, skipfooter=skipfooter)\n",
    "    iiasa.dropna(how='all', inplace=True)\n",
    "    cols = list(iiasa.columns[0:4])\n",
    "    iiasa.rename(columns={cols[0]: 'Technology Name', cols[1]: 'Country Name', cols[2]: 'Metric', cols[3]: 'Unit'}, inplace=True) \n",
    "    iiasa = iiasa[(iiasa['Country Name']=='Global (All Manufacturers)') | (iiasa['Country Name']=='Boeing') | (iiasa['Country Name']=='US') | (iiasa['Country Name']=='Global') | (iiasa['Country Name']=='Denmark') | (iiasa['Country Name']=='China')]\n",
    "    iiasa['Data Source'] = 'IIASA'\n",
    "    iiasa['Country Code'] = None\n",
    "    iiasa['Spatial Scale'] = None\n",
    "    for idx in iiasa.index:\n",
    "        if (iiasa['Country Name'].loc[idx] == 'Global') | (iiasa['Country Name'].loc[idx] == 'Global (All Manufacturers)'):\n",
    "            iiasa['Country Code'].loc[idx] = 'World'\n",
    "            iiasa['Spatial Scale'].loc[idx] = 'Global'\n",
    "        if (iiasa['Country Name'].loc[idx] == 'US') | (iiasa['Country Name'].loc[idx] == 'Boeing'):\n",
    "            iiasa['Country Code'].loc[idx] = 'US'\n",
    "            iiasa['Spatial Scale'].loc[idx] = 'National'\n",
    "        if iiasa['Country Name'].loc[idx] == 'Denmark':\n",
    "            iiasa['Country Code'].loc[idx] = 'DK'\n",
    "            iiasa['Spatial Scale'].loc[idx] = 'National'\n",
    "        if iiasa['Country Name'].loc[idx] == 'China':\n",
    "            iiasa['Country Code'].loc[idx] = 'CN'\n",
    "            iiasa['Spatial Scale'].loc[idx] = 'National'\n",
    "    iiasa['ID'] = iiasa['Technology Name'] + '_' + iiasa['Metric'] + '_' + iiasa['Country Code']\n",
    "    return iiasa\n"
   ]
  },
  {
   "cell_type": "code",
   "execution_count": 5,
   "id": "d18af675",
   "metadata": {},
   "outputs": [
    {
     "name": "stderr",
     "output_type": "stream",
     "text": [
      "/var/folders/4_/pdkx43_96v7dxssy4jtd5vyc0000gn/T/ipykernel_5666/1069464669.py:12: SettingWithCopyWarning: \n",
      "A value is trying to be set on a copy of a slice from a DataFrame\n",
      "\n",
      "See the caveats in the documentation: https://pandas.pydata.org/pandas-docs/stable/user_guide/indexing.html#returning-a-view-versus-a-copy\n",
      "  iiasa['Country Code'].loc[idx] = 'World'\n",
      "/var/folders/4_/pdkx43_96v7dxssy4jtd5vyc0000gn/T/ipykernel_5666/1069464669.py:13: SettingWithCopyWarning: \n",
      "A value is trying to be set on a copy of a slice from a DataFrame\n",
      "\n",
      "See the caveats in the documentation: https://pandas.pydata.org/pandas-docs/stable/user_guide/indexing.html#returning-a-view-versus-a-copy\n",
      "  iiasa['Spatial Scale'].loc[idx] = 'Global'\n",
      "/var/folders/4_/pdkx43_96v7dxssy4jtd5vyc0000gn/T/ipykernel_5666/1069464669.py:15: SettingWithCopyWarning: \n",
      "A value is trying to be set on a copy of a slice from a DataFrame\n",
      "\n",
      "See the caveats in the documentation: https://pandas.pydata.org/pandas-docs/stable/user_guide/indexing.html#returning-a-view-versus-a-copy\n",
      "  iiasa['Country Code'].loc[idx] = 'US'\n",
      "/var/folders/4_/pdkx43_96v7dxssy4jtd5vyc0000gn/T/ipykernel_5666/1069464669.py:16: SettingWithCopyWarning: \n",
      "A value is trying to be set on a copy of a slice from a DataFrame\n",
      "\n",
      "See the caveats in the documentation: https://pandas.pydata.org/pandas-docs/stable/user_guide/indexing.html#returning-a-view-versus-a-copy\n",
      "  iiasa['Spatial Scale'].loc[idx] = 'National'\n"
     ]
    }
   ],
   "source": [
    "fcc = read_iiasa(4, 'B, D, F, G, M:CB', 468)\n",
    "fcc.replace({'Global':'World','FCC-Refineries':'Fluid Catalytic Cracking Refineries'},inplace=True)\n",
    "fcc.to_csv('raw data/IIASA/fcc.csv', index=False)"
   ]
  },
  {
   "cell_type": "code",
   "execution_count": 6,
   "id": "bc5ebd63",
   "metadata": {},
   "outputs": [
    {
     "name": "stderr",
     "output_type": "stream",
     "text": [
      "/var/folders/4_/pdkx43_96v7dxssy4jtd5vyc0000gn/T/ipykernel_5666/1069464669.py:12: SettingWithCopyWarning: \n",
      "A value is trying to be set on a copy of a slice from a DataFrame\n",
      "\n",
      "See the caveats in the documentation: https://pandas.pydata.org/pandas-docs/stable/user_guide/indexing.html#returning-a-view-versus-a-copy\n",
      "  iiasa['Country Code'].loc[idx] = 'World'\n",
      "/var/folders/4_/pdkx43_96v7dxssy4jtd5vyc0000gn/T/ipykernel_5666/1069464669.py:13: SettingWithCopyWarning: \n",
      "A value is trying to be set on a copy of a slice from a DataFrame\n",
      "\n",
      "See the caveats in the documentation: https://pandas.pydata.org/pandas-docs/stable/user_guide/indexing.html#returning-a-view-versus-a-copy\n",
      "  iiasa['Spatial Scale'].loc[idx] = 'Global'\n"
     ]
    }
   ],
   "source": [
    "coal = read_iiasa(30, 'B, D, F, G, M:DA', 442)\n",
    "coal.replace('Global', 'World', inplace=True)\n",
    "coal.to_csv('raw data/IIASA/coal.csv', index=False)"
   ]
  },
  {
   "cell_type": "code",
   "execution_count": 7,
   "id": "744c9bb3",
   "metadata": {},
   "outputs": [],
   "source": [
    "# nuclear = read_iiasa(56, 'B, D, F, G, M:BE', 416)\n",
    "# nuclear.replace('Global', 'World', inplace=True)\n",
    "# nuclear.to_csv('raw data/IIASA/nuclear.csv', index=False)"
   ]
  },
  {
   "cell_type": "code",
   "execution_count": 8,
   "id": "458c05d8",
   "metadata": {},
   "outputs": [],
   "source": [
    "# hydro = read_iiasa(82, 'B, D, F, G, M:EF', 390)\n",
    "# hydro.replace('Global', 'World', inplace=True)\n",
    "# hydro.to_csv('raw data/IIASA/hydro.csv', index=False)"
   ]
  },
  {
   "cell_type": "code",
   "execution_count": 9,
   "id": "0e48e9e7",
   "metadata": {},
   "outputs": [
    {
     "name": "stderr",
     "output_type": "stream",
     "text": [
      "/var/folders/4_/pdkx43_96v7dxssy4jtd5vyc0000gn/T/ipykernel_5666/1069464669.py:12: SettingWithCopyWarning: \n",
      "A value is trying to be set on a copy of a slice from a DataFrame\n",
      "\n",
      "See the caveats in the documentation: https://pandas.pydata.org/pandas-docs/stable/user_guide/indexing.html#returning-a-view-versus-a-copy\n",
      "  iiasa['Country Code'].loc[idx] = 'World'\n",
      "/var/folders/4_/pdkx43_96v7dxssy4jtd5vyc0000gn/T/ipykernel_5666/1069464669.py:13: SettingWithCopyWarning: \n",
      "A value is trying to be set on a copy of a slice from a DataFrame\n",
      "\n",
      "See the caveats in the documentation: https://pandas.pydata.org/pandas-docs/stable/user_guide/indexing.html#returning-a-view-versus-a-copy\n",
      "  iiasa['Spatial Scale'].loc[idx] = 'Global'\n"
     ]
    }
   ],
   "source": [
    "gas = read_iiasa(108, 'B, D, F, G, M:DF', 364)\n",
    "gas.replace({'Global':'World','NatGas Power':'Natural Gas Power'},inplace=True)\n",
    "gas.to_csv('raw data/IIASA/gas.csv', index=False)"
   ]
  },
  {
   "cell_type": "code",
   "execution_count": 10,
   "id": "0e8a8603",
   "metadata": {},
   "outputs": [],
   "source": [
    "# wind = read_iiasa(134, 'B, D, F, G, M:AR', 338)\n",
    "# wind.replace('Global', 'World', inplace=True)\n",
    "# wind.to_csv('raw data/IIASA/wind.csv', index=False)"
   ]
  },
  {
   "cell_type": "code",
   "execution_count": 11,
   "id": "7feee25d",
   "metadata": {},
   "outputs": [
    {
     "name": "stderr",
     "output_type": "stream",
     "text": [
      "/var/folders/4_/pdkx43_96v7dxssy4jtd5vyc0000gn/T/ipykernel_5666/1069464669.py:15: SettingWithCopyWarning: \n",
      "A value is trying to be set on a copy of a slice from a DataFrame\n",
      "\n",
      "See the caveats in the documentation: https://pandas.pydata.org/pandas-docs/stable/user_guide/indexing.html#returning-a-view-versus-a-copy\n",
      "  iiasa['Country Code'].loc[idx] = 'US'\n",
      "/var/folders/4_/pdkx43_96v7dxssy4jtd5vyc0000gn/T/ipykernel_5666/1069464669.py:16: SettingWithCopyWarning: \n",
      "A value is trying to be set on a copy of a slice from a DataFrame\n",
      "\n",
      "See the caveats in the documentation: https://pandas.pydata.org/pandas-docs/stable/user_guide/indexing.html#returning-a-view-versus-a-copy\n",
      "  iiasa['Spatial Scale'].loc[idx] = 'National'\n"
     ]
    }
   ],
   "source": [
    "jets = read_iiasa(160, 'B, D, F, G, M:BJ', 312)\n",
    "jets.replace('Global', 'World', inplace=True)\n",
    "jets.to_csv('raw data/IIASA/jets.csv', index=False)"
   ]
  },
  {
   "cell_type": "code",
   "execution_count": 12,
   "id": "79267385",
   "metadata": {},
   "outputs": [
    {
     "name": "stderr",
     "output_type": "stream",
     "text": [
      "/var/folders/4_/pdkx43_96v7dxssy4jtd5vyc0000gn/T/ipykernel_5666/1069464669.py:15: SettingWithCopyWarning: \n",
      "A value is trying to be set on a copy of a slice from a DataFrame\n",
      "\n",
      "See the caveats in the documentation: https://pandas.pydata.org/pandas-docs/stable/user_guide/indexing.html#returning-a-view-versus-a-copy\n",
      "  iiasa['Country Code'].loc[idx] = 'US'\n",
      "/var/folders/4_/pdkx43_96v7dxssy4jtd5vyc0000gn/T/ipykernel_5666/1069464669.py:16: SettingWithCopyWarning: \n",
      "A value is trying to be set on a copy of a slice from a DataFrame\n",
      "\n",
      "See the caveats in the documentation: https://pandas.pydata.org/pandas-docs/stable/user_guide/indexing.html#returning-a-view-versus-a-copy\n",
      "  iiasa['Spatial Scale'].loc[idx] = 'National'\n",
      "/var/folders/4_/pdkx43_96v7dxssy4jtd5vyc0000gn/T/ipykernel_5666/1069464669.py:12: SettingWithCopyWarning: \n",
      "A value is trying to be set on a copy of a slice from a DataFrame\n",
      "\n",
      "See the caveats in the documentation: https://pandas.pydata.org/pandas-docs/stable/user_guide/indexing.html#returning-a-view-versus-a-copy\n",
      "  iiasa['Country Code'].loc[idx] = 'World'\n",
      "/var/folders/4_/pdkx43_96v7dxssy4jtd5vyc0000gn/T/ipykernel_5666/1069464669.py:13: SettingWithCopyWarning: \n",
      "A value is trying to be set on a copy of a slice from a DataFrame\n",
      "\n",
      "See the caveats in the documentation: https://pandas.pydata.org/pandas-docs/stable/user_guide/indexing.html#returning-a-view-versus-a-copy\n",
      "  iiasa['Spatial Scale'].loc[idx] = 'Global'\n"
     ]
    }
   ],
   "source": [
    "cars = read_iiasa(186, 'B, D, F, G, M:DN', 286)\n",
    "cars.replace('Global', 'World', inplace=True)\n",
    "cars = cars[cars['Metric']=='Cumulative Total Capacity']\n",
    "cars.to_csv('raw data/IIASA/cars.csv', index=False)"
   ]
  },
  {
   "cell_type": "code",
   "execution_count": 13,
   "id": "fc214256",
   "metadata": {},
   "outputs": [
    {
     "name": "stderr",
     "output_type": "stream",
     "text": [
      "/var/folders/4_/pdkx43_96v7dxssy4jtd5vyc0000gn/T/ipykernel_5666/1069464669.py:12: SettingWithCopyWarning: \n",
      "A value is trying to be set on a copy of a slice from a DataFrame\n",
      "\n",
      "See the caveats in the documentation: https://pandas.pydata.org/pandas-docs/stable/user_guide/indexing.html#returning-a-view-versus-a-copy\n",
      "  iiasa['Country Code'].loc[idx] = 'World'\n",
      "/var/folders/4_/pdkx43_96v7dxssy4jtd5vyc0000gn/T/ipykernel_5666/1069464669.py:13: SettingWithCopyWarning: \n",
      "A value is trying to be set on a copy of a slice from a DataFrame\n",
      "\n",
      "See the caveats in the documentation: https://pandas.pydata.org/pandas-docs/stable/user_guide/indexing.html#returning-a-view-versus-a-copy\n",
      "  iiasa['Spatial Scale'].loc[idx] = 'Global'\n"
     ]
    }
   ],
   "source": [
    "cfls = read_iiasa(212, 'B, D, F, G, M:Z', 260)\n",
    "cfls.replace({'Global':'World','CFLs':'Compact fluorescent light bulbs'},inplace=True)\n",
    "cfls.to_csv('raw data/IIASA/cfls.csv', index=False)"
   ]
  },
  {
   "cell_type": "code",
   "execution_count": 14,
   "id": "cc0a50d9",
   "metadata": {},
   "outputs": [
    {
     "name": "stderr",
     "output_type": "stream",
     "text": [
      "/var/folders/4_/pdkx43_96v7dxssy4jtd5vyc0000gn/T/ipykernel_5666/1069464669.py:12: SettingWithCopyWarning: \n",
      "A value is trying to be set on a copy of a slice from a DataFrame\n",
      "\n",
      "See the caveats in the documentation: https://pandas.pydata.org/pandas-docs/stable/user_guide/indexing.html#returning-a-view-versus-a-copy\n",
      "  iiasa['Country Code'].loc[idx] = 'World'\n",
      "/var/folders/4_/pdkx43_96v7dxssy4jtd5vyc0000gn/T/ipykernel_5666/1069464669.py:13: SettingWithCopyWarning: \n",
      "A value is trying to be set on a copy of a slice from a DataFrame\n",
      "\n",
      "See the caveats in the documentation: https://pandas.pydata.org/pandas-docs/stable/user_guide/indexing.html#returning-a-view-versus-a-copy\n",
      "  iiasa['Spatial Scale'].loc[idx] = 'Global'\n"
     ]
    }
   ],
   "source": [
    "bikes = read_iiasa(238, 'B, D, F, G, M:FC', 234)\n",
    "bikes.replace('Global', 'World', inplace=True)\n",
    "bikes.to_csv('raw data/IIASA/bikes.csv', index=False)"
   ]
  },
  {
   "cell_type": "code",
   "execution_count": 15,
   "id": "f2f46d32",
   "metadata": {},
   "outputs": [
    {
     "name": "stderr",
     "output_type": "stream",
     "text": [
      "/var/folders/4_/pdkx43_96v7dxssy4jtd5vyc0000gn/T/ipykernel_5666/1069464669.py:21: SettingWithCopyWarning: \n",
      "A value is trying to be set on a copy of a slice from a DataFrame\n",
      "\n",
      "See the caveats in the documentation: https://pandas.pydata.org/pandas-docs/stable/user_guide/indexing.html#returning-a-view-versus-a-copy\n",
      "  iiasa['Country Code'].loc[idx] = 'CN'\n",
      "/var/folders/4_/pdkx43_96v7dxssy4jtd5vyc0000gn/T/ipykernel_5666/1069464669.py:22: SettingWithCopyWarning: \n",
      "A value is trying to be set on a copy of a slice from a DataFrame\n",
      "\n",
      "See the caveats in the documentation: https://pandas.pydata.org/pandas-docs/stable/user_guide/indexing.html#returning-a-view-versus-a-copy\n",
      "  iiasa['Spatial Scale'].loc[idx] = 'National'\n",
      "/var/folders/4_/pdkx43_96v7dxssy4jtd5vyc0000gn/T/ipykernel_5666/1069464669.py:12: SettingWithCopyWarning: \n",
      "A value is trying to be set on a copy of a slice from a DataFrame\n",
      "\n",
      "See the caveats in the documentation: https://pandas.pydata.org/pandas-docs/stable/user_guide/indexing.html#returning-a-view-versus-a-copy\n",
      "  iiasa['Country Code'].loc[idx] = 'World'\n",
      "/var/folders/4_/pdkx43_96v7dxssy4jtd5vyc0000gn/T/ipykernel_5666/1069464669.py:13: SettingWithCopyWarning: \n",
      "A value is trying to be set on a copy of a slice from a DataFrame\n",
      "\n",
      "See the caveats in the documentation: https://pandas.pydata.org/pandas-docs/stable/user_guide/indexing.html#returning-a-view-versus-a-copy\n",
      "  iiasa['Spatial Scale'].loc[idx] = 'Global'\n"
     ]
    }
   ],
   "source": [
    "ebikes = read_iiasa(264, 'B, D, F, G, M:Z', 208)\n",
    "ebikes.replace('Global', 'World', inplace=True)\n",
    "ebikes.to_csv('raw data/IIASA/ebikes.csv', index=False)"
   ]
  },
  {
   "cell_type": "code",
   "execution_count": 16,
   "id": "83726754",
   "metadata": {},
   "outputs": [],
   "source": [
    "# steamships = read_iiasa(290, 'B, D, F, G, M:EM', 182)\n",
    "# steamships.replace('Global', 'World', inplace=True)\n",
    "# steamships.to_csv('raw data/IIASA/steamships.csv', index=False)"
   ]
  },
  {
   "cell_type": "code",
   "execution_count": 17,
   "id": "031233cb",
   "metadata": {},
   "outputs": [
    {
     "name": "stderr",
     "output_type": "stream",
     "text": [
      "/var/folders/4_/pdkx43_96v7dxssy4jtd5vyc0000gn/T/ipykernel_5666/1069464669.py:12: SettingWithCopyWarning: \n",
      "A value is trying to be set on a copy of a slice from a DataFrame\n",
      "\n",
      "See the caveats in the documentation: https://pandas.pydata.org/pandas-docs/stable/user_guide/indexing.html#returning-a-view-versus-a-copy\n",
      "  iiasa['Country Code'].loc[idx] = 'World'\n",
      "/var/folders/4_/pdkx43_96v7dxssy4jtd5vyc0000gn/T/ipykernel_5666/1069464669.py:13: SettingWithCopyWarning: \n",
      "A value is trying to be set on a copy of a slice from a DataFrame\n",
      "\n",
      "See the caveats in the documentation: https://pandas.pydata.org/pandas-docs/stable/user_guide/indexing.html#returning-a-view-versus-a-copy\n",
      "  iiasa['Spatial Scale'].loc[idx] = 'Global'\n"
     ]
    }
   ],
   "source": [
    "locomotives = read_iiasa(316, 'B, D, F, G, M:DS', 156)\n",
    "locomotives.replace('Global', 'World', inplace=True)\n",
    "locomotives.to_csv('raw data/IIASA/locomotives.csv', index=False)"
   ]
  },
  {
   "cell_type": "code",
   "execution_count": 18,
   "id": "e279744d",
   "metadata": {},
   "outputs": [
    {
     "name": "stderr",
     "output_type": "stream",
     "text": [
      "/var/folders/4_/pdkx43_96v7dxssy4jtd5vyc0000gn/T/ipykernel_5666/1069464669.py:12: SettingWithCopyWarning: \n",
      "A value is trying to be set on a copy of a slice from a DataFrame\n",
      "\n",
      "See the caveats in the documentation: https://pandas.pydata.org/pandas-docs/stable/user_guide/indexing.html#returning-a-view-versus-a-copy\n",
      "  iiasa['Country Code'].loc[idx] = 'World'\n",
      "/var/folders/4_/pdkx43_96v7dxssy4jtd5vyc0000gn/T/ipykernel_5666/1069464669.py:13: SettingWithCopyWarning: \n",
      "A value is trying to be set on a copy of a slice from a DataFrame\n",
      "\n",
      "See the caveats in the documentation: https://pandas.pydata.org/pandas-docs/stable/user_guide/indexing.html#returning-a-view-versus-a-copy\n",
      "  iiasa['Spatial Scale'].loc[idx] = 'Global'\n"
     ]
    }
   ],
   "source": [
    "steam_engines = read_iiasa(342, 'B, D, F, G, M:HY', 130)\n",
    "steam_engines.replace('Global', 'World', inplace=True)\n",
    "steam_engines.to_csv('raw data/IIASA/steam_engines.csv', index=False)"
   ]
  },
  {
   "cell_type": "code",
   "execution_count": 19,
   "id": "25c98efe",
   "metadata": {},
   "outputs": [
    {
     "name": "stderr",
     "output_type": "stream",
     "text": [
      "/var/folders/4_/pdkx43_96v7dxssy4jtd5vyc0000gn/T/ipykernel_5666/1069464669.py:12: SettingWithCopyWarning: \n",
      "A value is trying to be set on a copy of a slice from a DataFrame\n",
      "\n",
      "See the caveats in the documentation: https://pandas.pydata.org/pandas-docs/stable/user_guide/indexing.html#returning-a-view-versus-a-copy\n",
      "  iiasa['Country Code'].loc[idx] = 'World'\n",
      "/var/folders/4_/pdkx43_96v7dxssy4jtd5vyc0000gn/T/ipykernel_5666/1069464669.py:13: SettingWithCopyWarning: \n",
      "A value is trying to be set on a copy of a slice from a DataFrame\n",
      "\n",
      "See the caveats in the documentation: https://pandas.pydata.org/pandas-docs/stable/user_guide/indexing.html#returning-a-view-versus-a-copy\n",
      "  iiasa['Spatial Scale'].loc[idx] = 'Global'\n"
     ]
    }
   ],
   "source": [
    "motorcycles = read_iiasa(368, 'B, D, F, G, M:DQ', 104)\n",
    "motorcycles.replace('Global', 'World', inplace=True)\n",
    "motorcycles.to_csv('raw data/IIASA/motorcycles.csv', index=False)"
   ]
  },
  {
   "cell_type": "code",
   "execution_count": 20,
   "id": "91fb9896",
   "metadata": {},
   "outputs": [
    {
     "name": "stderr",
     "output_type": "stream",
     "text": [
      "/var/folders/4_/pdkx43_96v7dxssy4jtd5vyc0000gn/T/ipykernel_5666/1069464669.py:12: SettingWithCopyWarning: \n",
      "A value is trying to be set on a copy of a slice from a DataFrame\n",
      "\n",
      "See the caveats in the documentation: https://pandas.pydata.org/pandas-docs/stable/user_guide/indexing.html#returning-a-view-versus-a-copy\n",
      "  iiasa['Country Code'].loc[idx] = 'World'\n",
      "/var/folders/4_/pdkx43_96v7dxssy4jtd5vyc0000gn/T/ipykernel_5666/1069464669.py:13: SettingWithCopyWarning: \n",
      "A value is trying to be set on a copy of a slice from a DataFrame\n",
      "\n",
      "See the caveats in the documentation: https://pandas.pydata.org/pandas-docs/stable/user_guide/indexing.html#returning-a-view-versus-a-copy\n",
      "  iiasa['Spatial Scale'].loc[idx] = 'Global'\n"
     ]
    }
   ],
   "source": [
    "cellphones = read_iiasa(394, 'B, D, F, G, M:AS', 78)\n",
    "cellphones.replace('Global (All Manufacturers)', 'World', inplace=True)\n",
    "cellphones = cellphones[cellphones['Metric']=='Cumulative Total Capacity']\n",
    "cellphones.to_csv('raw data/IIASA/cellphones.csv', index=False)"
   ]
  },
  {
   "cell_type": "code",
   "execution_count": 21,
   "id": "fe44c162",
   "metadata": {},
   "outputs": [
    {
     "name": "stderr",
     "output_type": "stream",
     "text": [
      "/var/folders/4_/pdkx43_96v7dxssy4jtd5vyc0000gn/T/ipykernel_5666/1069464669.py:15: SettingWithCopyWarning: \n",
      "A value is trying to be set on a copy of a slice from a DataFrame\n",
      "\n",
      "See the caveats in the documentation: https://pandas.pydata.org/pandas-docs/stable/user_guide/indexing.html#returning-a-view-versus-a-copy\n",
      "  iiasa['Country Code'].loc[idx] = 'US'\n",
      "/var/folders/4_/pdkx43_96v7dxssy4jtd5vyc0000gn/T/ipykernel_5666/1069464669.py:16: SettingWithCopyWarning: \n",
      "A value is trying to be set on a copy of a slice from a DataFrame\n",
      "\n",
      "See the caveats in the documentation: https://pandas.pydata.org/pandas-docs/stable/user_guide/indexing.html#returning-a-view-versus-a-copy\n",
      "  iiasa['Spatial Scale'].loc[idx] = 'National'\n",
      "/var/folders/4_/pdkx43_96v7dxssy4jtd5vyc0000gn/T/ipykernel_5666/1069464669.py:12: SettingWithCopyWarning: \n",
      "A value is trying to be set on a copy of a slice from a DataFrame\n",
      "\n",
      "See the caveats in the documentation: https://pandas.pydata.org/pandas-docs/stable/user_guide/indexing.html#returning-a-view-versus-a-copy\n",
      "  iiasa['Country Code'].loc[idx] = 'World'\n",
      "/var/folders/4_/pdkx43_96v7dxssy4jtd5vyc0000gn/T/ipykernel_5666/1069464669.py:13: SettingWithCopyWarning: \n",
      "A value is trying to be set on a copy of a slice from a DataFrame\n",
      "\n",
      "See the caveats in the documentation: https://pandas.pydata.org/pandas-docs/stable/user_guide/indexing.html#returning-a-view-versus-a-copy\n",
      "  iiasa['Spatial Scale'].loc[idx] = 'Global'\n"
     ]
    }
   ],
   "source": [
    "washing_machines = read_iiasa(420, 'B, D, F, G, M:CW', 52)\n",
    "washing_machines.replace('Global', 'World', inplace=True)\n",
    "washing_machines.to_csv('raw data/IIASA/washing_machines.csv', index=False)"
   ]
  },
  {
   "cell_type": "code",
   "execution_count": 22,
   "id": "b3e1040b",
   "metadata": {},
   "outputs": [
    {
     "name": "stderr",
     "output_type": "stream",
     "text": [
      "/var/folders/4_/pdkx43_96v7dxssy4jtd5vyc0000gn/T/ipykernel_5666/1069464669.py:15: SettingWithCopyWarning: \n",
      "A value is trying to be set on a copy of a slice from a DataFrame\n",
      "\n",
      "See the caveats in the documentation: https://pandas.pydata.org/pandas-docs/stable/user_guide/indexing.html#returning-a-view-versus-a-copy\n",
      "  iiasa['Country Code'].loc[idx] = 'US'\n",
      "/var/folders/4_/pdkx43_96v7dxssy4jtd5vyc0000gn/T/ipykernel_5666/1069464669.py:16: SettingWithCopyWarning: \n",
      "A value is trying to be set on a copy of a slice from a DataFrame\n",
      "\n",
      "See the caveats in the documentation: https://pandas.pydata.org/pandas-docs/stable/user_guide/indexing.html#returning-a-view-versus-a-copy\n",
      "  iiasa['Spatial Scale'].loc[idx] = 'National'\n",
      "/var/folders/4_/pdkx43_96v7dxssy4jtd5vyc0000gn/T/ipykernel_5666/1069464669.py:12: SettingWithCopyWarning: \n",
      "A value is trying to be set on a copy of a slice from a DataFrame\n",
      "\n",
      "See the caveats in the documentation: https://pandas.pydata.org/pandas-docs/stable/user_guide/indexing.html#returning-a-view-versus-a-copy\n",
      "  iiasa['Country Code'].loc[idx] = 'World'\n",
      "/var/folders/4_/pdkx43_96v7dxssy4jtd5vyc0000gn/T/ipykernel_5666/1069464669.py:13: SettingWithCopyWarning: \n",
      "A value is trying to be set on a copy of a slice from a DataFrame\n",
      "\n",
      "See the caveats in the documentation: https://pandas.pydata.org/pandas-docs/stable/user_guide/indexing.html#returning-a-view-versus-a-copy\n",
      "  iiasa['Spatial Scale'].loc[idx] = 'Global'\n"
     ]
    }
   ],
   "source": [
    "refrigerators = read_iiasa(446, 'B, D, F, G, M:CZ', 26)\n",
    "refrigerators.replace('Global', 'World', inplace=True)\n",
    "refrigerators.to_csv('raw data/IIASA/refrigerators.csv', index=False)"
   ]
  },
  {
   "cell_type": "code",
   "execution_count": 23,
   "id": "90b74784",
   "metadata": {},
   "outputs": [
    {
     "name": "stderr",
     "output_type": "stream",
     "text": [
      "/var/folders/4_/pdkx43_96v7dxssy4jtd5vyc0000gn/T/ipykernel_5666/1069464669.py:15: SettingWithCopyWarning: \n",
      "A value is trying to be set on a copy of a slice from a DataFrame\n",
      "\n",
      "See the caveats in the documentation: https://pandas.pydata.org/pandas-docs/stable/user_guide/indexing.html#returning-a-view-versus-a-copy\n",
      "  iiasa['Country Code'].loc[idx] = 'US'\n",
      "/var/folders/4_/pdkx43_96v7dxssy4jtd5vyc0000gn/T/ipykernel_5666/1069464669.py:16: SettingWithCopyWarning: \n",
      "A value is trying to be set on a copy of a slice from a DataFrame\n",
      "\n",
      "See the caveats in the documentation: https://pandas.pydata.org/pandas-docs/stable/user_guide/indexing.html#returning-a-view-versus-a-copy\n",
      "  iiasa['Spatial Scale'].loc[idx] = 'National'\n",
      "/var/folders/4_/pdkx43_96v7dxssy4jtd5vyc0000gn/T/ipykernel_5666/1069464669.py:12: SettingWithCopyWarning: \n",
      "A value is trying to be set on a copy of a slice from a DataFrame\n",
      "\n",
      "See the caveats in the documentation: https://pandas.pydata.org/pandas-docs/stable/user_guide/indexing.html#returning-a-view-versus-a-copy\n",
      "  iiasa['Country Code'].loc[idx] = 'World'\n",
      "/var/folders/4_/pdkx43_96v7dxssy4jtd5vyc0000gn/T/ipykernel_5666/1069464669.py:13: SettingWithCopyWarning: \n",
      "A value is trying to be set on a copy of a slice from a DataFrame\n",
      "\n",
      "See the caveats in the documentation: https://pandas.pydata.org/pandas-docs/stable/user_guide/indexing.html#returning-a-view-versus-a-copy\n",
      "  iiasa['Spatial Scale'].loc[idx] = 'Global'\n"
     ]
    }
   ],
   "source": [
    "laundry_dryers = read_iiasa(472, 'B, D, F, G, M:CU')\n",
    "laundry_dryers.replace('Global', 'World', inplace=True)\n",
    "laundry_dryers.to_csv('raw data/IIASA/laundry_dryers.csv', index=False)"
   ]
  },
  {
   "cell_type": "code",
   "execution_count": 24,
   "id": "ca813c7f",
   "metadata": {},
   "outputs": [],
   "source": [
    "frame = pd.read_csv('cleaned data/frame.csv')"
   ]
  },
  {
   "cell_type": "code",
   "execution_count": 25,
   "id": "f35593b2",
   "metadata": {},
   "outputs": [],
   "source": [
    "path = '/Users/ariana/desktop/historical_tech/raw data/IIASA/'\n",
    "os.chdir(path)\n",
    "iiasa_files = os.listdir(path)"
   ]
  },
  {
   "cell_type": "code",
   "execution_count": 26,
   "id": "1ad4cfb3",
   "metadata": {},
   "outputs": [],
   "source": [
    "csv = []\n",
    "for file in iiasa_files:\n",
    "     if '.csv' in file:\n",
    "        name = path + file\n",
    "        csv.append(name)"
   ]
  },
  {
   "cell_type": "code",
   "execution_count": 27,
   "id": "a095a479",
   "metadata": {},
   "outputs": [],
   "source": [
    "df_list = [frame]\n",
    "for file in csv:\n",
    "    file = pd.read_csv(file)\n",
    "    df_list.append(file)"
   ]
  },
  {
   "cell_type": "code",
   "execution_count": 28,
   "id": "57691b83",
   "metadata": {},
   "outputs": [],
   "source": [
    "iiasa = pd.concat(df_list)\n",
    "iiasa.reset_index(drop=True, inplace=True)"
   ]
  },
  {
   "cell_type": "code",
   "execution_count": 29,
   "id": "d70dd5ad",
   "metadata": {},
   "outputs": [],
   "source": [
    "omit = []\n",
    "for col in iiasa.columns:\n",
    "    if len(col) != 4 or col == 'Unit':\n",
    "        omit.append(col)\n",
    "drop_empty_rows = iiasa.drop(columns=omit)\n",
    "drop_empty_rows.dropna(how='all', inplace=True)\n",
    "na_idx = []\n",
    "for row in iiasa.index:\n",
    "    if row not in drop_empty_rows.index:\n",
    "        na_idx.append(row)\n",
    "iiasa.drop(na_idx, inplace=True)"
   ]
  },
  {
   "cell_type": "code",
   "execution_count": 35,
   "id": "ce310b92",
   "metadata": {},
   "outputs": [
    {
     "data": {
      "text/plain": [
       "{'Bicycles',\n",
       " 'Cellphones',\n",
       " 'Coal Power',\n",
       " 'Compact fluorescent light bulbs',\n",
       " 'Electric Bicycles',\n",
       " 'Fluid Catalytic Cracking Refineries',\n",
       " 'Jet Aircraft',\n",
       " 'Laundry Dryers',\n",
       " 'Motorcycles',\n",
       " 'Natural Gas Power',\n",
       " 'Passenger Cars',\n",
       " 'Refrigerators',\n",
       " 'Stationary Steam Engines',\n",
       " 'Steam Locomotives',\n",
       " 'Washing Machines'}"
      ]
     },
     "execution_count": 35,
     "metadata": {},
     "output_type": "execute_result"
    }
   ],
   "source": [
    "tech_list = set(iiasa['Technology Name'])\n",
    "tech_list"
   ]
  },
  {
   "cell_type": "code",
   "execution_count": 52,
   "id": "eb2717f8",
   "metadata": {},
   "outputs": [
    {
     "data": {
      "text/plain": [
       "['NatGas Power_ Average Capacity of Unit Additions_World',\n",
       " 'NatGas Power_Maximum Capacity of Unit Additions_World',\n",
       " 'NatGas Power_Cumulative Total No. of Units_World',\n",
       " 'Jet Aircraft_ Average Capacity of Unit Additions_US',\n",
       " 'Jet Aircraft_Maximum Capacity of Unit Additions_US',\n",
       " 'Jet Aircraft_Cumulative Total No. of Units_US',\n",
       " 'Steam Locomotives_Cumulative Total No. of Units_World',\n",
       " 'Steam Locomotives_ Average Capacity of Unit Additions_World',\n",
       " 'Laundry Dryers_Cumulative Total No. of Units_US',\n",
       " 'Laundry Dryers_Cumulative Total No. of Units_World',\n",
       " 'Bicycles_Cumulative Total No. of Units_World',\n",
       " 'Stationary Steam Engines_ Average Capacity of Unit Additions_World',\n",
       " 'Stationary Steam Engines_Cumulative Total No. of Units_World',\n",
       " 'Coal Power_Cumulative Total No. of Units_World',\n",
       " 'Coal Power_ Average Capacity of Unit Additions_World',\n",
       " 'Coal Power_Maximum Capacity of Unit Additions_World',\n",
       " 'Washing Machines_ Average Capacity of Unit Additions_US',\n",
       " 'Washing Machines_Cumulative Total No. of Units_US',\n",
       " 'Washing Machines_Cumulative Total No. of Units_World',\n",
       " 'Washing Machines_ Average Capacity of Unit Additions_World',\n",
       " 'Motorcycles_Cumulative Total No. of Units_World',\n",
       " 'Motorcycles_ Average Capacity of Unit Additions_World',\n",
       " 'Electric Bicycles_Cumulative Total No. of Units_World',\n",
       " 'Electric Bicycles_Cumulative Total No. of Units_CN',\n",
       " 'CFLs_Cumulative Total No. of Units_World',\n",
       " 'Refrigerators_Cumulative Total No. of Units_US',\n",
       " 'Refrigerators_ Average Capacity of Unit Additions_US',\n",
       " 'Refrigerators_Cumulative Total No. of Units_World',\n",
       " 'Refrigerators_ Average Capacity of Unit Additions_World']"
      ]
     },
     "execution_count": 52,
     "metadata": {},
     "output_type": "execute_result"
    }
   ],
   "source": [
    "drop_id = []\n",
    "for tech in tech_list:\n",
    "    df = iiasa[iiasa['Technology Name']==tech]\n",
    "    country_list = list(set(df['Country Name']))\n",
    "    for country in country_list:\n",
    "        df_country = df[df['Country Name']==country]\n",
    "        metric_list = list(set(df_country['Metric']))\n",
    "        if len(metric_list) > 1:\n",
    "            to_drop_df = df_country[df_country['Metric']!='Cumulative Total Capacity']\n",
    "            id_list = list(set(to_drop_df['ID']))\n",
    "            drop_id.extend(id_list)\n",
    "drop_id"
   ]
  },
  {
   "cell_type": "code",
   "execution_count": 55,
   "id": "c10ed8ff",
   "metadata": {},
   "outputs": [
    {
     "data": {
      "text/plain": [
       "[30,\n",
       " 31,\n",
       " 29,\n",
       " 22,\n",
       " 23,\n",
       " 21,\n",
       " 54,\n",
       " 55,\n",
       " 34,\n",
       " 35,\n",
       " 9,\n",
       " 69,\n",
       " 68,\n",
       " 50,\n",
       " 51,\n",
       " 52,\n",
       " 4,\n",
       " 2,\n",
       " 3,\n",
       " 5,\n",
       " 25,\n",
       " 26,\n",
       " 44,\n",
       " 43,\n",
       " 58,\n",
       " 14,\n",
       " 16,\n",
       " 15,\n",
       " 17]"
      ]
     },
     "execution_count": 55,
     "metadata": {},
     "output_type": "execute_result"
    }
   ],
   "source": [
    "drop_list = []\n",
    "for item in drop_id:\n",
    "    idx = iiasa.index[iiasa['ID'] == item].tolist()\n",
    "    drop_list.extend(idx)\n",
    "drop_list"
   ]
  },
  {
   "cell_type": "code",
   "execution_count": 56,
   "id": "810d9087",
   "metadata": {},
   "outputs": [],
   "source": [
    "iiasa.drop(drop_list, inplace=True)"
   ]
  },
  {
   "cell_type": "code",
   "execution_count": 57,
   "id": "6383b48e",
   "metadata": {},
   "outputs": [
    {
     "data": {
      "text/html": [
       "<div>\n",
       "<style scoped>\n",
       "    .dataframe tbody tr th:only-of-type {\n",
       "        vertical-align: middle;\n",
       "    }\n",
       "\n",
       "    .dataframe tbody tr th {\n",
       "        vertical-align: top;\n",
       "    }\n",
       "\n",
       "    .dataframe thead th {\n",
       "        text-align: right;\n",
       "    }\n",
       "</style>\n",
       "<table border=\"1\" class=\"dataframe\">\n",
       "  <thead>\n",
       "    <tr style=\"text-align: right;\">\n",
       "      <th></th>\n",
       "      <th>ID</th>\n",
       "      <th>Spatial Scale</th>\n",
       "      <th>Country Code</th>\n",
       "      <th>Country Name</th>\n",
       "      <th>Technology Name</th>\n",
       "      <th>Metric</th>\n",
       "      <th>Unit</th>\n",
       "      <th>Data Source</th>\n",
       "      <th>1700</th>\n",
       "      <th>1701</th>\n",
       "      <th>...</th>\n",
       "      <th>2016</th>\n",
       "      <th>2017</th>\n",
       "      <th>2018</th>\n",
       "      <th>2019</th>\n",
       "      <th>2020</th>\n",
       "      <th>2021</th>\n",
       "      <th>2022</th>\n",
       "      <th>2023</th>\n",
       "      <th>2024</th>\n",
       "      <th>2025</th>\n",
       "    </tr>\n",
       "  </thead>\n",
       "  <tbody>\n",
       "    <tr>\n",
       "      <th>28</th>\n",
       "      <td>NatGas Power_Cumulative Total Capacity_World</td>\n",
       "      <td>World</td>\n",
       "      <td>World</td>\n",
       "      <td>World</td>\n",
       "      <td>Natural Gas Power</td>\n",
       "      <td>Cumulative Total Capacity</td>\n",
       "      <td>MW</td>\n",
       "      <td>IIASA</td>\n",
       "      <td>NaN</td>\n",
       "      <td>NaN</td>\n",
       "      <td>...</td>\n",
       "      <td>NaN</td>\n",
       "      <td>NaN</td>\n",
       "      <td>NaN</td>\n",
       "      <td>NaN</td>\n",
       "      <td>NaN</td>\n",
       "      <td>NaN</td>\n",
       "      <td>NaN</td>\n",
       "      <td>NaN</td>\n",
       "      <td>NaN</td>\n",
       "      <td>NaN</td>\n",
       "    </tr>\n",
       "  </tbody>\n",
       "</table>\n",
       "<p>1 rows × 334 columns</p>\n",
       "</div>"
      ],
      "text/plain": [
       "                                              ID Spatial Scale Country Code  \\\n",
       "28  NatGas Power_Cumulative Total Capacity_World         World        World   \n",
       "\n",
       "   Country Name    Technology Name                     Metric Unit  \\\n",
       "28        World  Natural Gas Power  Cumulative Total Capacity   MW   \n",
       "\n",
       "   Data Source 1700 1701  ... 2016 2017 2018 2019 2020 2021 2022 2023  2024  \\\n",
       "28       IIASA  NaN  NaN  ...  NaN  NaN  NaN  NaN  NaN  NaN  NaN  NaN   NaN   \n",
       "\n",
       "    2025  \n",
       "28   NaN  \n",
       "\n",
       "[1 rows x 334 columns]"
      ]
     },
     "execution_count": 57,
     "metadata": {},
     "output_type": "execute_result"
    }
   ],
   "source": [
    "iiasa[iiasa['Technology Name']=='Natural Gas Power']"
   ]
  },
  {
   "cell_type": "code",
   "execution_count": 58,
   "id": "6522b72f",
   "metadata": {},
   "outputs": [],
   "source": [
    "path = '/Users/ariana/desktop/historical_tech/cleaned data/'\n",
    "os.chdir(path)\n",
    "iiasa.to_csv('iiasa.csv', index=False)"
   ]
  },
  {
   "cell_type": "code",
   "execution_count": null,
   "id": "9deeefc4",
   "metadata": {},
   "outputs": [],
   "source": []
  }
 ],
 "metadata": {
  "kernelspec": {
   "display_name": "Python 3 (ipykernel)",
   "language": "python",
   "name": "python3"
  },
  "language_info": {
   "codemirror_mode": {
    "name": "ipython",
    "version": 3
   },
   "file_extension": ".py",
   "mimetype": "text/x-python",
   "name": "python",
   "nbconvert_exporter": "python",
   "pygments_lexer": "ipython3",
   "version": "3.9.13"
  }
 },
 "nbformat": 4,
 "nbformat_minor": 5
}
