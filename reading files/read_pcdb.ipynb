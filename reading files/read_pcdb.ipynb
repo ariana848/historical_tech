{
 "cells": [
  {
   "cell_type": "code",
   "execution_count": 2,
   "id": "cd3df23f",
   "metadata": {},
   "outputs": [],
   "source": [
    "import pandas as pd\n",
    "from pandas import Series, DataFrame\n",
    "import country_converter as coco\n",
    "import os"
   ]
  },
  {
   "cell_type": "code",
   "execution_count": 3,
   "id": "fb4b3ee4",
   "metadata": {},
   "outputs": [],
   "source": [
    "os.chdir('/Users/ariana/desktop/historical_tech')"
   ]
  },
  {
   "cell_type": "code",
   "execution_count": null,
   "id": "77c42391",
   "metadata": {},
   "outputs": [],
   "source": [
    "def read_pcdb(file, tech_name, place='World'):\n",
    "    file_name = 'raw data/pcdb/' + file\n",
    "    df = pd.read_csv(file_name, usecols=[0, 1, 2])\n",
    "    for col in df.columns:\n",
    "        for val in df[col]:\n",
    "            if type(val) != float and type(val) != int:\n",
    "                print(type(val), val)\n",
    "                break\n",
    "    df.set_index(df.columns[1], inplace=True)\n",
    "    df = df.transpose()\n",
    "    df['Data Source'] = 'PCDB'\n",
    "    df['Metric'] = ['Price', 'Annual production']\n",
    "    df['Technology Name'] = tech_name\n",
    "    if place=='World':\n",
    "        df['Spatial Scale'] = 'Global'\n",
    "        df['Country Name'] = 'World'\n",
    "        df['Country Code'] = 'World'\n",
    "    if place=='US':\n",
    "        df['Spatial Scale'] = 'National'\n",
    "        df['Country Name'] = 'United States'\n",
    "        df['Country Code'] = 'US'\n",
    "    if place=='Japan':\n",
    "        df['Spatial Scale'] = 'National'\n",
    "        df['Country Name'] = 'Japan'\n",
    "        df['Country Code'] = 'JP'\n",
    "    df['ID'] = df['Technology Name'] + '_' + df['Metric'] + '_' + df['Country Code']\n",
    "    df['Unit'] = [df.index[0], df.index[1]]\n",
    "    df.set_index('ID', drop=True, inplace=True)\n",
    "    df.columns.name = None\n",
    "    new_file_name = 'cleaned data/pcdb_' + file\n",
    "    df.to_csv(new_file_name)\n",
    "    return df"
   ]
  },
  {
   "cell_type": "code",
   "execution_count": 7,
   "id": "61cbcc71",
   "metadata": {},
   "outputs": [
    {
     "data": {
      "text/html": [
       "<div>\n",
       "<style scoped>\n",
       "    .dataframe tbody tr th:only-of-type {\n",
       "        vertical-align: middle;\n",
       "    }\n",
       "\n",
       "    .dataframe tbody tr th {\n",
       "        vertical-align: top;\n",
       "    }\n",
       "\n",
       "    .dataframe thead th {\n",
       "        text-align: right;\n",
       "    }\n",
       "</style>\n",
       "<table border=\"1\" class=\"dataframe\">\n",
       "  <thead>\n",
       "    <tr style=\"text-align: right;\">\n",
       "      <th>Time (year)</th>\n",
       "      <th>1960</th>\n",
       "      <th>1961</th>\n",
       "      <th>1962</th>\n",
       "      <th>1963</th>\n",
       "      <th>1964</th>\n",
       "      <th>1965</th>\n",
       "      <th>1966</th>\n",
       "      <th>1967</th>\n",
       "      <th>1968</th>\n",
       "      <th>1969</th>\n",
       "      <th>...</th>\n",
       "      <th>1971</th>\n",
       "      <th>1972</th>\n",
       "      <th>Data Source</th>\n",
       "      <th>Metric</th>\n",
       "      <th>Technology Name</th>\n",
       "      <th>Spatial Scale</th>\n",
       "      <th>Country Name</th>\n",
       "      <th>Country Code</th>\n",
       "      <th>ID</th>\n",
       "      <th>Unit</th>\n",
       "    </tr>\n",
       "  </thead>\n",
       "  <tbody>\n",
       "    <tr>\n",
       "      <th>Price (1966 USD/lbs)</th>\n",
       "      <td>132.986708</td>\n",
       "      <td>120.445918</td>\n",
       "      <td>107.475947</td>\n",
       "      <td>107.475947</td>\n",
       "      <td>100.619096</td>\n",
       "      <td>91.295132</td>\n",
       "      <td>79.363095</td>\n",
       "      <td>72.85034</td>\n",
       "      <td>57.672115</td>\n",
       "      <td>51.820924</td>\n",
       "      <td>...</td>\n",
       "      <td>45.558899</td>\n",
       "      <td>40.19263</td>\n",
       "      <td>PCDB</td>\n",
       "      <td>Price</td>\n",
       "      <td>Acrylic Fiber</td>\n",
       "      <td>Global</td>\n",
       "      <td>World</td>\n",
       "      <td>World</td>\n",
       "      <td>Acrylic Fiber_Price_World</td>\n",
       "      <td>Price (1966 USD/lbs)</td>\n",
       "    </tr>\n",
       "    <tr>\n",
       "      <th>Yearly Production (Mil. lbs)</th>\n",
       "      <td>135.700000</td>\n",
       "      <td>140.100000</td>\n",
       "      <td>170.000000</td>\n",
       "      <td>209.700000</td>\n",
       "      <td>287.700000</td>\n",
       "      <td>368.400000</td>\n",
       "      <td>352.900000</td>\n",
       "      <td>397.70000</td>\n",
       "      <td>521.000000</td>\n",
       "      <td>533.000000</td>\n",
       "      <td>...</td>\n",
       "      <td>545.200000</td>\n",
       "      <td>625.90000</td>\n",
       "      <td>PCDB</td>\n",
       "      <td>Annual production</td>\n",
       "      <td>Acrylic Fiber</td>\n",
       "      <td>Global</td>\n",
       "      <td>World</td>\n",
       "      <td>World</td>\n",
       "      <td>Acrylic Fiber_Annual production_World</td>\n",
       "      <td>Yearly Production (Mil. lbs)</td>\n",
       "    </tr>\n",
       "  </tbody>\n",
       "</table>\n",
       "<p>2 rows × 21 columns</p>\n",
       "</div>"
      ],
      "text/plain": [
       "Time (year)                         1960        1961        1962        1963  \\\n",
       "Price (1966 USD/lbs)          132.986708  120.445918  107.475947  107.475947   \n",
       "Yearly Production (Mil. lbs)  135.700000  140.100000  170.000000  209.700000   \n",
       "\n",
       "Time (year)                         1964        1965        1966       1967  \\\n",
       "Price (1966 USD/lbs)          100.619096   91.295132   79.363095   72.85034   \n",
       "Yearly Production (Mil. lbs)  287.700000  368.400000  352.900000  397.70000   \n",
       "\n",
       "Time (year)                         1968        1969  ...        1971  \\\n",
       "Price (1966 USD/lbs)           57.672115   51.820924  ...   45.558899   \n",
       "Yearly Production (Mil. lbs)  521.000000  533.000000  ...  545.200000   \n",
       "\n",
       "Time (year)                        1972  Data Source             Metric  \\\n",
       "Price (1966 USD/lbs)           40.19263         PCDB              Price   \n",
       "Yearly Production (Mil. lbs)  625.90000         PCDB  Annual production   \n",
       "\n",
       "Time (year)                  Technology Name Spatial Scale Country Name  \\\n",
       "Price (1966 USD/lbs)           Acrylic Fiber        Global        World   \n",
       "Yearly Production (Mil. lbs)   Acrylic Fiber        Global        World   \n",
       "\n",
       "Time (year)                  Country Code  \\\n",
       "Price (1966 USD/lbs)                World   \n",
       "Yearly Production (Mil. lbs)        World   \n",
       "\n",
       "Time (year)                                                      ID  \\\n",
       "Price (1966 USD/lbs)                      Acrylic Fiber_Price_World   \n",
       "Yearly Production (Mil. lbs)  Acrylic Fiber_Annual production_World   \n",
       "\n",
       "Time (year)                                           Unit  \n",
       "Price (1966 USD/lbs)                  Price (1966 USD/lbs)  \n",
       "Yearly Production (Mil. lbs)  Yearly Production (Mil. lbs)  \n",
       "\n",
       "[2 rows x 21 columns]"
      ]
     },
     "execution_count": 7,
     "metadata": {},
     "output_type": "execute_result"
    }
   ],
   "source": [
    "file_name = 'raw data/pcdb/' + 'AcrylicFiber.csv'\n",
    "df = pd.read_csv(file_name, usecols=[0, 1, 2])\n",
    "for col in df.columns:\n",
    "    for val in df[col]:\n",
    "        if type(val) != float and type(val) != int:\n",
    "            print(type(val), val)\n",
    "            break\n",
    "df.set_index(df.columns[1], inplace=True)\n",
    "df = df.transpose()\n",
    "df['Data Source'] = 'PCDB'\n",
    "df['Metric'] = ['Price', 'Annual production']\n",
    "df['Technology Name'] = 'Acrylic Fiber'\n",
    "df['Spatial Scale'] = 'Global'\n",
    "df['Country Name'] = 'World'\n",
    "df['Country Code'] = 'World'\n",
    "df['ID'] = df['Technology Name'] + '_' + df['Metric'] + '_' + df['Country Code']\n",
    "df['Unit'] = [df.index[0], df.index[1]]\n",
    "# df.set_index('ID', drop=True, inplace=True)\n",
    "# df.columns.name = None\n",
    "# new_file_name = 'cleaned data/pcdb_' + file\n",
    "# df.to_csv(new_file_name)\n",
    "df"
   ]
  },
  {
   "cell_type": "code",
   "execution_count": null,
   "id": "1a701911",
   "metadata": {},
   "outputs": [],
   "source": [
    "# https://pcdb.santafe.edu/graph.php?curve=119\n",
    "acrylic_fiber = read_pcdb('AcrylicFiber.csv', 'Acrylic Fiber')"
   ]
  },
  {
   "cell_type": "code",
   "execution_count": null,
   "id": "e73115e6",
   "metadata": {},
   "outputs": [],
   "source": [
    "# https://pcdb.santafe.edu/graph.php?curve=113\n",
    "acrylonitrile = read_pcdb('Acrylonitrile.csv', 'Acrylonitrile')"
   ]
  },
  {
   "cell_type": "code",
   "execution_count": null,
   "id": "5dda3794",
   "metadata": {},
   "outputs": [],
   "source": [
    "# https://pcdb.santafe.edu/graph.php?curve=108\n",
    "aniline = read_pcdb('Aniline.csv', 'Aniline')"
   ]
  },
  {
   "cell_type": "code",
   "execution_count": null,
   "id": "05803d56",
   "metadata": {},
   "outputs": [],
   "source": [
    "# https://pcdb.santafe.edu/graph.php?curve=100\n",
    "benzene = read_pcdb('Benzene.csv', 'Benzene')"
   ]
  },
  {
   "cell_type": "code",
   "execution_count": null,
   "id": "0058d888",
   "metadata": {},
   "outputs": [],
   "source": [
    "# https://pcdb.santafe.edu/graph.php?curve=111\n",
    "bisphenol_a = read_pcdb('BisphenolA.csv', 'BisphenolA')"
   ]
  },
  {
   "cell_type": "code",
   "execution_count": null,
   "id": "523bd26d",
   "metadata": {},
   "outputs": [],
   "source": [
    "# https://pcdb.santafe.edu/graph.php?curve=112\n",
    "caprolactam = read_pcdb('Caprolactam.csv', 'Caprolactam')"
   ]
  },
  {
   "cell_type": "code",
   "execution_count": null,
   "id": "6332a3b9",
   "metadata": {},
   "outputs": [],
   "source": [
    "# https://pcdb.santafe.edu/graph.php?curve=97\n",
    "# drop price, BP has longer time series\n",
    "crude_oil = read_pcdb('Crude_Oil.csv', 'Crude Oil')\n",
    "crude_oil.drop(index='Crude Oil_Price_World', inplace=True)\n",
    "crude_oil.to_csv('cleaned data/pcdb_Crude_Oil.csv')"
   ]
  },
  {
   "cell_type": "code",
   "execution_count": null,
   "id": "2bb1760e",
   "metadata": {},
   "outputs": [],
   "source": [
    "# https://pcdb.santafe.edu/graph.php?curve=116\n",
    "cyclohexane = read_pcdb('Cyclohexane.csv', 'Cyclohexane')"
   ]
  },
  {
   "cell_type": "code",
   "execution_count": null,
   "id": "b3bae89f",
   "metadata": {},
   "outputs": [],
   "source": [
    "# https://pcdb.santafe.edu/graph.php?curve=118\n",
    "ethanolamine = read_pcdb('Ethanolamine.csv', 'Ethanolamine')"
   ]
  },
  {
   "cell_type": "code",
   "execution_count": null,
   "id": "bb015e8a",
   "metadata": {},
   "outputs": [],
   "source": [
    "# https://pcdb.santafe.edu/graph.php?curve=120\n",
    "ethyl_alcohol = read_pcdb('EthylAlcohol.csv', 'Ethanol')"
   ]
  },
  {
   "cell_type": "code",
   "execution_count": null,
   "id": "8596f7c5",
   "metadata": {},
   "outputs": [],
   "source": [
    "# https://pcdb.santafe.edu/graph.php?curve=99\n",
    "ethylene = read_pcdb('Ethylene.csv', 'Ethylene')"
   ]
  },
  {
   "cell_type": "code",
   "execution_count": null,
   "id": "0b3b941a",
   "metadata": {},
   "outputs": [],
   "source": [
    "# https://pcdb.santafe.edu/graph.php?curve=122\n",
    "# EthyleneGlycol\n",
    "ethylene_glycol = read_pcdb('EthyleneGlycol.csv', 'Ethylene Glycol')"
   ]
  },
  {
   "cell_type": "code",
   "execution_count": null,
   "id": "3568df6e",
   "metadata": {},
   "outputs": [],
   "source": [
    "# https://pcdb.santafe.edu/graph.php?curve=123\n",
    "formaldehyde = read_pcdb('Formaldehyde.csv', 'Formaldehyde')"
   ]
  },
  {
   "cell_type": "code",
   "execution_count": null,
   "id": "bfbb62cb",
   "metadata": {},
   "outputs": [],
   "source": [
    "# https://pcdb.santafe.edu/graph.php?curve=124\n",
    "hydrofluoric_acid = read_pcdb('HydrofluoricAcid.csv', 'Hydrofluoric Acid')"
   ]
  },
  {
   "cell_type": "code",
   "execution_count": null,
   "id": "1e83cdad",
   "metadata": {},
   "outputs": [],
   "source": [
    "# https://pcdb.santafe.edu/graph.php?curve=126\n",
    "magnesium = read_pcdb('Magnesium.csv', 'Magnesium')"
   ]
  },
  {
   "cell_type": "code",
   "execution_count": null,
   "id": "2be108ce",
   "metadata": {},
   "outputs": [],
   "source": [
    "# https://pcdb.santafe.edu/graph.php?curve=127\n",
    "maleic_anhydride = read_pcdb('MaleicAnhydride.csv', 'Maleic Anhydride')"
   ]
  },
  {
   "cell_type": "code",
   "execution_count": null,
   "id": "f088a0ad",
   "metadata": {},
   "outputs": [],
   "source": [
    "# https://pcdb.santafe.edu/graph.php?curve=128\n",
    "methanol = read_pcdb('Methanol.csv', 'Methanol')"
   ]
  },
  {
   "cell_type": "code",
   "execution_count": null,
   "id": "c789ab8f",
   "metadata": {},
   "outputs": [],
   "source": [
    "# https://pcdb.santafe.edu/graph.php?curve=98\n",
    "motor_gasoline = read_pcdb('Motor_Gasoline.csv', 'Motor Gasoline')"
   ]
  },
  {
   "cell_type": "code",
   "execution_count": null,
   "id": "9d2d2bab",
   "metadata": {},
   "outputs": [],
   "source": [
    "# https://pcdb.santafe.edu/graph.php?curve=129\n",
    "neoprene_rubber = read_pcdb('NeopreneRubber.csv', 'Neoprene Rubber')"
   ]
  },
  {
   "cell_type": "code",
   "execution_count": null,
   "id": "9de85cb1",
   "metadata": {},
   "outputs": [],
   "source": [
    "# https://pcdb.santafe.edu/graph.php?curve=101\n",
    "paraxylene = read_pcdb('Paraxylene.csv', 'Paraxylene')"
   ]
  },
  {
   "cell_type": "code",
   "execution_count": null,
   "id": "00f96116",
   "metadata": {},
   "outputs": [],
   "source": [
    "# https://pcdb.santafe.edu/graph.php?curve=130\n",
    "pentaerythritol = read_pcdb('Pentaerythritol.csv', 'Pentaerythritol')"
   ]
  },
  {
   "cell_type": "code",
   "execution_count": null,
   "id": "144be94b",
   "metadata": {},
   "outputs": [],
   "source": [
    "# https://pcdb.santafe.edu/graph.php?curve=131\n",
    "phenol = read_pcdb('Phenol.csv', 'Phenol')"
   ]
  },
  {
   "cell_type": "code",
   "execution_count": null,
   "id": "d4d2c242",
   "metadata": {},
   "outputs": [],
   "source": [
    "# https://pcdb.santafe.edu/graph.php?curve=132\n",
    "phthalic_anhydride = read_pcdb('PhthalicAnhydride.csv', 'Phthalic Anhydride')"
   ]
  },
  {
   "cell_type": "code",
   "execution_count": null,
   "id": "87a0f2a2",
   "metadata": {},
   "outputs": [],
   "source": [
    "# https://pcdb.santafe.edu/graph.php?curve=133\n",
    "polyester_fiber = read_pcdb('PolyesterFiber.csv', 'Polyester Fiber')"
   ]
  },
  {
   "cell_type": "code",
   "execution_count": null,
   "id": "c3a1ce59",
   "metadata": {},
   "outputs": [],
   "source": [
    "# https://pcdb.santafe.edu/graph.php?curve=134\n",
    "polyethylene_hd = read_pcdb('PolyethyleneHD.csv', 'High-Density Polyethylene')"
   ]
  },
  {
   "cell_type": "code",
   "execution_count": null,
   "id": "1e387761",
   "metadata": {},
   "outputs": [],
   "source": [
    "# https://pcdb.santafe.edu/graph.php?curve=135\n",
    "polyethylene_ld = read_pcdb('PolyethyleneLD.csv', 'Low-Density Polyethylene')"
   ]
  },
  {
   "cell_type": "code",
   "execution_count": null,
   "id": "6ee1a53c",
   "metadata": {},
   "outputs": [],
   "source": [
    "# https://pcdb.santafe.edu/graph.php?curve=147\n",
    "polystyrene = read_pcdb('Polystyrene.csv', 'Polystyrene')"
   ]
  },
  {
   "cell_type": "code",
   "execution_count": null,
   "id": "65b735d1",
   "metadata": {},
   "outputs": [],
   "source": [
    "# https://pcdb.santafe.edu/graph.php?curve=148\n",
    "polyvinylchloride = read_pcdb('Polyvinylchloride.csv', 'Polyvinylchloride')"
   ]
  },
  {
   "cell_type": "code",
   "execution_count": null,
   "id": "4d8591ee",
   "metadata": {},
   "outputs": [],
   "source": [
    "# https://pcdb.santafe.edu/graph.php?curve=150\n",
    "primary_magnesium = read_pcdb('Primary_Magnesium.csv', 'Primary Magnesium')"
   ]
  },
  {
   "cell_type": "code",
   "execution_count": null,
   "id": "4838eac8",
   "metadata": {},
   "outputs": [],
   "source": [
    "# https://pcdb.santafe.edu/graph.php?curve=34\n",
    "# Shotgun_Sanger_DNA_Sequencing\n",
    "\n",
    "# due to the uneven structure of the data,\n",
    "# we are using the average cost of all quarters where data is provided as the yearly average cost\n",
    "# and the yearly production value of the latest quarter in the year\n",
    "\n",
    "dna_sequencing = pd.read_csv('raw data/pcdb/Shotgun_Sanger_DNA_Sequencing.csv', usecols=[0, 1, 2])\n",
    "year_list = []\n",
    "for year in dna_sequencing['Time (Year)']:\n",
    "    year_list.append(str(year)[:4])\n",
    "dna_sequencing['Year'] = year_list\n",
    "\n",
    "year_set = set(year_list)\n",
    "year_dict = {}\n",
    "\n",
    "for year in year_set:\n",
    "    year_dict[year] = []\n",
    "    \n",
    "year_dict = dict(sorted(year_dict.items(), key = lambda item: item[0]))\n",
    "\n",
    "for year in dna_sequencing['Time (Year)']:\n",
    "    year_4_char = str(year)[:4]\n",
    "    year = str(year)\n",
    "    year_dict[year_4_char].append(year)\n",
    "\n",
    "greatest_qtrs = []\n",
    "for year in year_dict:\n",
    "    greatest_qtr = None\n",
    "    for qtr in year_dict[year]:\n",
    "        if greatest_qtr == None:\n",
    "            greatest_qtr = qtr\n",
    "        else:\n",
    "            if qtr > greatest_qtr:\n",
    "                greatest_qtr = qtr\n",
    "    greatest_qtrs.append(qtr)\n",
    "\n",
    "yearly_production = []\n",
    "for idx in dna_sequencing.index:\n",
    "    qtr_year = str(dna_sequencing['Time (Year)'].iloc[idx])\n",
    "    yrly_production = dna_sequencing['Yearly Production (Kilobase)'].iloc[idx]\n",
    "    if qtr_year in greatest_qtrs:\n",
    "        yearly_production.append(yrly_production)\n",
    "        \n",
    "year_list = sorted(list(year_set))\n",
    "\n",
    "cost_dict = {}\n",
    "for year in year_set:\n",
    "    cost_dict[year] = []\n",
    "cost_dict = dict(sorted(cost_dict.items(), key = lambda item: item[0]))\n",
    "\n",
    "for idx in dna_sequencing.index:\n",
    "    cost = dna_sequencing['Cost (USD/Kilobase)'].iloc[idx]\n",
    "    year = str(dna_sequencing['Year'].iloc[idx])\n",
    "    cost_dict[year].append(cost)\n",
    "\n",
    "avg_cost = []\n",
    "for year in cost_dict:\n",
    "    avg_cost.append(sum(cost_dict[year]) / len(cost_dict[year]))\n",
    "    \n",
    "new_df = pd.DataFrame(avg_cost, year_list)\n",
    "new_df['Annual Production'] = yearly_production\n",
    "new_df = new_df.transpose()\n",
    "new_df['Data Source'] = 'Santa Fe Institute'\n",
    "new_df['Spatial Scale'] = 'Global'\n",
    "new_df['Country Name'] = 'World'\n",
    "new_df['Country Code'] = 'World'\n",
    "new_df['Metric'] = ['Price', 'Total Number']\n",
    "new_df['Unit'] = ['USD/Kilobase', 'Kilobase']\n",
    "new_df['Technology Name'] = 'Shotgun Sanger DNA Sequencing'\n",
    "new_df['ID'] = new_df['Technology Name'] + '_' + new_df['Metric'] + '_' + new_df['Country Code']\n",
    "new_df.set_index('ID', drop=True, inplace=True)\n",
    "new_df.to_csv('cleaned data/pcdb_Shotgun_Sanger_DNA_Sequencing.csv')"
   ]
  },
  {
   "cell_type": "code",
   "execution_count": null,
   "id": "d1ce85db",
   "metadata": {},
   "outputs": [],
   "source": [
    "# https://pcdb.santafe.edu/graph.php?curve=136\n",
    "sodium = read_pcdb('Sodium.csv', 'Sodium')"
   ]
  },
  {
   "cell_type": "code",
   "execution_count": null,
   "id": "ce6c46ae",
   "metadata": {},
   "outputs": [],
   "source": [
    "# https://pcdb.santafe.edu/graph.php?curve=137\n",
    "sodium_chlorate = read_pcdb('SodiumChlorate.csv', 'Sodium Chlorate')"
   ]
  },
  {
   "cell_type": "code",
   "execution_count": null,
   "id": "c56f1a1e",
   "metadata": {},
   "outputs": [],
   "source": [
    "# https://pcdb.santafe.edu/graph.php?curve=140\n",
    "styrene = read_pcdb('Styrene.csv', 'Styrene')"
   ]
  },
  {
   "cell_type": "code",
   "execution_count": null,
   "id": "d2c5912c",
   "metadata": {},
   "outputs": [],
   "source": [
    "# https://pcdb.santafe.edu/graph.php?curve=151\n",
    "titanium_sponge = read_pcdb('Titanium_Sponge.csv', 'Titanium Sponge')"
   ]
  },
  {
   "cell_type": "code",
   "execution_count": null,
   "id": "2a4705dd",
   "metadata": {},
   "outputs": [],
   "source": [
    "# https://pcdb.santafe.edu/graph.php?curve=143\n",
    "urea = read_pcdb('Urea.csv', 'Urea')"
   ]
  },
  {
   "cell_type": "code",
   "execution_count": null,
   "id": "526a1039",
   "metadata": {},
   "outputs": [],
   "source": [
    "# https://pcdb.santafe.edu/graph.php?curve=144\n",
    "vinyl_acetate = read_pcdb('VinylAcetate.csv', 'Vinyl Acetate')"
   ]
  },
  {
   "cell_type": "code",
   "execution_count": null,
   "id": "5fb3b949",
   "metadata": {},
   "outputs": [],
   "source": [
    "# https://pcdb.santafe.edu/graph.php?curve=145\n",
    "vinyl_chloride = read_pcdb('VinylChloride.csv', 'Vinyl Chloride')"
   ]
  },
  {
   "cell_type": "code",
   "execution_count": null,
   "id": "86fcbfad",
   "metadata": {},
   "outputs": [],
   "source": []
  }
 ],
 "metadata": {
  "kernelspec": {
   "display_name": "Python 3 (ipykernel)",
   "language": "python",
   "name": "python3"
  },
  "language_info": {
   "codemirror_mode": {
    "name": "ipython",
    "version": 3
   },
   "file_extension": ".py",
   "mimetype": "text/x-python",
   "name": "python",
   "nbconvert_exporter": "python",
   "pygments_lexer": "ipython3",
   "version": "3.9.13"
  }
 },
 "nbformat": 4,
 "nbformat_minor": 5
}
