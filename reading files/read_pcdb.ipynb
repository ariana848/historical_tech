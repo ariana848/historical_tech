{
 "cells": [
  {
   "cell_type": "code",
   "execution_count": 1,
   "id": "cd3df23f",
   "metadata": {},
   "outputs": [],
   "source": [
    "import pandas as pd\n",
    "from pandas import Series, DataFrame\n",
    "import country_converter as coco\n",
    "import os"
   ]
  },
  {
   "cell_type": "code",
   "execution_count": 2,
   "id": "e0f5ff09",
   "metadata": {},
   "outputs": [
    {
     "data": {
      "text/plain": [
       "43"
      ]
     },
     "execution_count": 2,
     "metadata": {},
     "output_type": "execute_result"
    }
   ],
   "source": [
    "pcdb_files = os.listdir('/Users/ariana/desktop/historical_tech/raw data/PCDB')\n",
    "len(pcdb_files)"
   ]
  },
  {
   "cell_type": "code",
   "execution_count": null,
   "id": "fb4b3ee4",
   "metadata": {},
   "outputs": [],
   "source": [
    "os.chdir('/Users/ariana/desktop/historical_tech/raw data/PCDB')"
   ]
  },
  {
   "cell_type": "code",
   "execution_count": null,
   "id": "1a701911",
   "metadata": {},
   "outputs": [],
   "source": [
    "# https://pcdb.santafe.edu/graph.php?curve=119\n",
    "# Acrylic Fiber\n",
    "# unclear if this is world or US\n",
    "\n",
    "# https://www.jstor.org/stable/2555676\n",
    "# https://pure.iiasa.ac.at/id/eprint/6787/1/RR-03-002.pdf"
   ]
  },
  {
   "cell_type": "code",
   "execution_count": null,
   "id": "a2d6a80a",
   "metadata": {},
   "outputs": [],
   "source": [
    "acrylic_fiber = pd.read_csv('AcrylicFiber.csv', usecols=[0, 1, 2])\n",
    "acrylic_fiber.set_index(acrylic_fiber.columns[1], inplace=True)\n",
    "acrylic_fiber = acrylic_fiber.transpose()\n",
    "acrylic_fiber['Technology Name'] = 'Acrylic Fiber'\n",
    "acrylic_fiber['Data Source'] = 'Santa Fe Institute'\n",
    "acrylic_fiber['Spatial Scale'] = 'Global'\n",
    "acrylic_fiber['Metric'] = ['Price', 'Annual Production']\n",
    "acrylic_fiber['Unit'] = ['1966 USD/lb', 'Million Pounds']\n",
    "acrylic_fiber['Country Name'] = 'World'\n",
    "acrylic_fiber['Country Code'] = 'World'\n",
    "acrylic_fiber['ID'] = acrylic_fiber['Technology Name'] + '_' + acrylic_fiber['Metric'] + '_' + acrylic_fiber['Country Code']\n",
    "acrylic_fiber.set_index('ID', drop=True, inplace=True)\n",
    "acrylic_fiber.columns.name = None\n",
    "acrylic_fiber\n"
   ]
  },
  {
   "cell_type": "code",
   "execution_count": null,
   "id": "85b9298d",
   "metadata": {},
   "outputs": [],
   "source": [
    "# acrylic_fiber.to_csv('cleaned data/acrylic_fiber.csv')"
   ]
  },
  {
   "cell_type": "code",
   "execution_count": null,
   "id": "89cb16d5",
   "metadata": {},
   "outputs": [],
   "source": [
    "# https://pcdb.santafe.edu/graph.php?curve=149\n",
    "# Primary Aluminum"
   ]
  },
  {
   "cell_type": "code",
   "execution_count": null,
   "id": "bc02d82c",
   "metadata": {},
   "outputs": [],
   "source": [
    "primary_alum = pd.read_csv('Primary_Aluminum.csv', usecols=[0, 1, 2])\n",
    "primary_alum.set_index(primary_alum.columns[1], inplace=True)\n",
    "primary_alum = primary_alum.transpose()\n",
    "primary_alum['Data Source'] = 'Santa Fe Institute'\n",
    "primary_alum['Spatial Scale'] = 'Global'\n",
    "primary_alum['Country Name'] = 'World'\n",
    "primary_alum['Country Code'] = 'World'\n",
    "primary_alum['Metric'] = ['Price', 'Annual production']\n",
    "primary_alum['Unit'] = ['1958 USD/lb', 'Thousand short tons']\n",
    "primary_alum['Technology Name'] = 'Primary Aluminum'\n",
    "primary_alum['ID'] = primary_alum['Technology Name'] + '_' + primary_alum['Metric'] + '_' + primary_alum['Country Code']\n",
    "primary_alum.set_index('ID', drop=True, inplace=True)\n",
    "primary_alum.columns.name = None\n",
    "primary_alum\n"
   ]
  },
  {
   "cell_type": "code",
   "execution_count": null,
   "id": "55c183a2",
   "metadata": {},
   "outputs": [],
   "source": [
    "# https://pcdb.santafe.edu/graph.php?curve=26\n",
    "# Milk"
   ]
  },
  {
   "cell_type": "code",
   "execution_count": null,
   "id": "df5ed96e",
   "metadata": {},
   "outputs": [],
   "source": [
    "milk = pd.read_csv('Milk_(US).csv', usecols=[0, 1, 2])\n",
    "milk.set_index(milk.columns[1], inplace=True)\n",
    "milk = milk.transpose()\n",
    "milk['Data Source'] = 'Santa Fe Institute'\n",
    "milk['Spatial Scale'] = 'National'\n",
    "milk['Country Name'] = 'United States'\n",
    "milk['Country Code'] = 'US'\n",
    "milk['Technology Name'] = 'Milk'\n",
    "milk['Metric'] = ['Price', 'Annual production']\n",
    "milk['Unit'] = ['Heads/million lbs', 'Million pounds']\n",
    "milk['ID'] = milk['Technology Name'] + '_' + milk['Metric'] + '_' + milk['Country Code']\n",
    "milk.set_index('ID', drop=True, inplace=True)\n",
    "milk.columns.name = None\n",
    "milk\n"
   ]
  },
  {
   "cell_type": "code",
   "execution_count": null,
   "id": "1e387761",
   "metadata": {},
   "outputs": [],
   "source": [
    "# https://pcdb.santafe.edu/graph.php?curve=135\n",
    "# Polyethylene LD"
   ]
  },
  {
   "cell_type": "code",
   "execution_count": null,
   "id": "ec2eac65",
   "metadata": {},
   "outputs": [],
   "source": [
    "polyethylene_ld = pd.read_csv('PolyethyleneLD.csv', usecols=[0, 1, 2])\n",
    "polyethylene_ld.set_index(polyethylene_ld.columns[1], inplace=True)\n",
    "polyethylene_ld = polyethylene_ld.transpose()\n",
    "polyethylene_ld['Data Source'] = 'Santa Fe Institute'\n",
    "polyethylene_ld['Spatial Scale'] = 'Global'\n",
    "polyethylene_ld['Country Name'] = 'World'\n",
    "polyethylene_ld['Country Code'] = 'World'\n",
    "polyethylene_ld['Metric'] = ['Price', 'Annual production']\n",
    "polyethylene_ld['Unit'] = ['1966 USD/lb', 'Million pounds']\n",
    "polyethylene_ld['Technology Name'] = 'Polyethylene LD'\n",
    "polyethylene_ld['ID'] = polyethylene_ld['Technology Name'] + '_' + polyethylene_ld['Metric'] + '_' + polyethylene_ld['Country Code']\n",
    "polyethylene_ld.set_index('ID', drop=True, inplace=True)\n",
    "polyethylene_ld.columns.name = None\n",
    "polyethylene_ld\n"
   ]
  },
  {
   "cell_type": "code",
   "execution_count": null,
   "id": "c56f1a1e",
   "metadata": {},
   "outputs": [],
   "source": [
    "# https://pcdb.santafe.edu/graph.php?curve=140\n",
    "# Styrene"
   ]
  },
  {
   "cell_type": "code",
   "execution_count": null,
   "id": "d4d2c242",
   "metadata": {},
   "outputs": [],
   "source": [
    "# https://pcdb.santafe.edu/graph.php?curve=132\n",
    "# Phthalic Anhydride"
   ]
  },
  {
   "cell_type": "code",
   "execution_count": null,
   "id": "b90ea9b2",
   "metadata": {},
   "outputs": [],
   "source": [
    "# https://pcdb.santafe.edu/graph.php?curve=120\n",
    "# Ethyl Alcohol"
   ]
  },
  {
   "cell_type": "code",
   "execution_count": null,
   "id": "9de85cb1",
   "metadata": {},
   "outputs": [],
   "source": [
    "# https://pcdb.santafe.edu/graph.php?curve=101\n",
    "# Paraxylene"
   ]
  },
  {
   "cell_type": "code",
   "execution_count": null,
   "id": "c3a1ce59",
   "metadata": {},
   "outputs": [],
   "source": [
    "# https://pcdb.santafe.edu/graph.php?curve=134\n",
    "# Polyethylene HD"
   ]
  },
  {
   "cell_type": "code",
   "execution_count": null,
   "id": "f088a0ad",
   "metadata": {},
   "outputs": [],
   "source": [
    "# https://pcdb.santafe.edu/graph.php?curve=128\n",
    "# Methanol"
   ]
  },
  {
   "cell_type": "code",
   "execution_count": null,
   "id": "ce6c46ae",
   "metadata": {},
   "outputs": [],
   "source": [
    "# https://pcdb.santafe.edu/graph.php?curve=137\n",
    "# Sodium Chlorate"
   ]
  },
  {
   "cell_type": "code",
   "execution_count": null,
   "id": "144be94b",
   "metadata": {},
   "outputs": [],
   "source": [
    "# https://pcdb.santafe.edu/graph.php?curve=131\n",
    "# Phenol"
   ]
  },
  {
   "cell_type": "code",
   "execution_count": null,
   "id": "b3bae89f",
   "metadata": {},
   "outputs": [],
   "source": [
    "# https://pcdb.santafe.edu/graph.php?curve=118\n",
    "# Ethanolamine"
   ]
  },
  {
   "cell_type": "code",
   "execution_count": null,
   "id": "0a06b743",
   "metadata": {},
   "outputs": [],
   "source": [
    "# https://pcdb.santafe.edu/graph.php?curve=155\n",
    "# Refined Cane Sugar"
   ]
  },
  {
   "cell_type": "code",
   "execution_count": null,
   "id": "e73115e6",
   "metadata": {},
   "outputs": [],
   "source": [
    "# https://pcdb.santafe.edu/graph.php?curve=113\n",
    "# Acrylonitrile"
   ]
  },
  {
   "cell_type": "code",
   "execution_count": null,
   "id": "1e83cdad",
   "metadata": {},
   "outputs": [],
   "source": [
    "# https://pcdb.santafe.edu/graph.php?curve=126\n",
    "# Magnesium"
   ]
  },
  {
   "cell_type": "code",
   "execution_count": null,
   "id": "0b3b941a",
   "metadata": {},
   "outputs": [],
   "source": [
    "# https://pcdb.santafe.edu/graph.php?curve=122\n",
    "# Ethylene Glycol"
   ]
  },
  {
   "cell_type": "code",
   "execution_count": null,
   "id": "2be108ce",
   "metadata": {},
   "outputs": [],
   "source": [
    "# https://pcdb.santafe.edu/graph.php?curve=127\n",
    "# Maleic Anhydride"
   ]
  },
  {
   "cell_type": "code",
   "execution_count": null,
   "id": "4d8591ee",
   "metadata": {},
   "outputs": [],
   "source": [
    "# https://pcdb.santafe.edu/graph.php?curve=150\n",
    "# Primary Magnesium"
   ]
  },
  {
   "cell_type": "code",
   "execution_count": null,
   "id": "5dda3794",
   "metadata": {},
   "outputs": [],
   "source": [
    "# https://pcdb.santafe.edu/graph.php?curve=108\n",
    "# Aniline"
   ]
  },
  {
   "cell_type": "code",
   "execution_count": null,
   "id": "2301e310",
   "metadata": {},
   "outputs": [],
   "source": [
    "# https://pcdb.santafe.edu/graph.php?curve=153\n",
    "# Beer (Japan)"
   ]
  },
  {
   "cell_type": "code",
   "execution_count": null,
   "id": "05803d56",
   "metadata": {},
   "outputs": [],
   "source": [
    "# https://pcdb.santafe.edu/graph.php?curve=100\n",
    "# Benzene"
   ]
  },
  {
   "cell_type": "code",
   "execution_count": null,
   "id": "0058d888",
   "metadata": {},
   "outputs": [],
   "source": [
    "# https://pcdb.santafe.edu/graph.php?curve=111\n",
    "# Bisphenol A"
   ]
  },
  {
   "cell_type": "code",
   "execution_count": null,
   "id": "523bd26d",
   "metadata": {},
   "outputs": [],
   "source": [
    "# https://pcdb.santafe.edu/graph.php?curve=112\n",
    "# Caprolactam"
   ]
  },
  {
   "cell_type": "code",
   "execution_count": null,
   "id": "6332a3b9",
   "metadata": {},
   "outputs": [],
   "source": [
    "# https://pcdb.santafe.edu/graph.php?curve=97\n",
    "# Crude_Oil"
   ]
  },
  {
   "cell_type": "code",
   "execution_count": null,
   "id": "536931d6",
   "metadata": {},
   "outputs": [],
   "source": [
    "# https://pcdb.santafe.edu/graph.php?curve=121\n",
    "# Ethylene_2"
   ]
  },
  {
   "cell_type": "code",
   "execution_count": null,
   "id": "8596f7c5",
   "metadata": {},
   "outputs": [],
   "source": [
    "# https://pcdb.santafe.edu/graph.php?curve=99\n",
    "# Ethylene"
   ]
  },
  {
   "cell_type": "code",
   "execution_count": null,
   "id": "3568df6e",
   "metadata": {},
   "outputs": [],
   "source": [
    "# https://pcdb.santafe.edu/graph.php?curve=123\n",
    "# Formaldehyde"
   ]
  },
  {
   "cell_type": "code",
   "execution_count": null,
   "id": "bfbb62cb",
   "metadata": {},
   "outputs": [],
   "source": [
    "# https://pcdb.santafe.edu/graph.php?curve=124\n",
    "# Hydrofluoric Acid"
   ]
  },
  {
   "cell_type": "code",
   "execution_count": null,
   "id": "edd1d3ab",
   "metadata": {},
   "outputs": [],
   "source": [
    "# https://pcdb.santafe.edu/graph.php?curve=102\n",
    "# Low Density Polyethylene"
   ]
  },
  {
   "cell_type": "code",
   "execution_count": null,
   "id": "c789ab8f",
   "metadata": {},
   "outputs": [],
   "source": [
    "# https://pcdb.santafe.edu/graph.php?curve=98\n",
    "# Motor_Gasoline"
   ]
  },
  {
   "cell_type": "code",
   "execution_count": null,
   "id": "9d2d2bab",
   "metadata": {},
   "outputs": [],
   "source": [
    "# https://pcdb.santafe.edu/graph.php?curve=129\n",
    "# Neoprene Rubber"
   ]
  },
  {
   "cell_type": "code",
   "execution_count": null,
   "id": "00f96116",
   "metadata": {},
   "outputs": [],
   "source": [
    "# https://pcdb.santafe.edu/graph.php?curve=130\n",
    "# Pentaerythritol"
   ]
  },
  {
   "cell_type": "code",
   "execution_count": null,
   "id": "87a0f2a2",
   "metadata": {},
   "outputs": [],
   "source": [
    "# https://pcdb.santafe.edu/graph.php?curve=133\n",
    "# Polyester Fiber"
   ]
  },
  {
   "cell_type": "code",
   "execution_count": null,
   "id": "6ee1a53c",
   "metadata": {},
   "outputs": [],
   "source": [
    "# https://pcdb.santafe.edu/graph.php?curve=147\n",
    "# Polystyrene"
   ]
  },
  {
   "cell_type": "code",
   "execution_count": null,
   "id": "65b735d1",
   "metadata": {},
   "outputs": [],
   "source": [
    "# https://pcdb.santafe.edu/graph.php?curve=148\n",
    "# Polyvinylchloride"
   ]
  },
  {
   "cell_type": "code",
   "execution_count": null,
   "id": "d2c5912c",
   "metadata": {},
   "outputs": [],
   "source": [
    "# https://pcdb.santafe.edu/graph.php?curve=151\n",
    "# Titanium_Sponge"
   ]
  },
  {
   "cell_type": "code",
   "execution_count": null,
   "id": "2a4705dd",
   "metadata": {},
   "outputs": [],
   "source": [
    "# https://pcdb.santafe.edu/graph.php?curve=143\n",
    "# Urea"
   ]
  },
  {
   "cell_type": "code",
   "execution_count": null,
   "id": "526a1039",
   "metadata": {},
   "outputs": [],
   "source": [
    "# https://pcdb.santafe.edu/graph.php?curve=144\n",
    "# Vinyl Acetate"
   ]
  },
  {
   "cell_type": "code",
   "execution_count": null,
   "id": "5fb3b949",
   "metadata": {},
   "outputs": [],
   "source": [
    "# https://pcdb.santafe.edu/graph.php?curve=145\n",
    "# Vinyl Chloride"
   ]
  },
  {
   "cell_type": "code",
   "execution_count": null,
   "id": "2bb1760e",
   "metadata": {},
   "outputs": [],
   "source": [
    "# https://pcdb.santafe.edu/graph.php?curve=116\n",
    "# Cyclohexane"
   ]
  },
  {
   "cell_type": "code",
   "execution_count": null,
   "id": "d1ce85db",
   "metadata": {},
   "outputs": [],
   "source": [
    "# https://pcdb.santafe.edu/graph.php?curve=136\n",
    "# Sodium"
   ]
  },
  {
   "cell_type": "code",
   "execution_count": null,
   "id": "4838eac8",
   "metadata": {},
   "outputs": [],
   "source": [
    "# https://pcdb.santafe.edu/graph.php?curve=34\n",
    "# Shotgun Sanger DNA sequencing\n",
    "\n",
    "# weird convention for years with decimals \n",
    "# seems like they're trying to indicate months, but that will be tricky in terms of aggregation"
   ]
  }
 ],
 "metadata": {
  "kernelspec": {
   "display_name": "Python 3 (ipykernel)",
   "language": "python",
   "name": "python3"
  },
  "language_info": {
   "codemirror_mode": {
    "name": "ipython",
    "version": 3
   },
   "file_extension": ".py",
   "mimetype": "text/x-python",
   "name": "python",
   "nbconvert_exporter": "python",
   "pygments_lexer": "ipython3",
   "version": "3.9.13"
  }
 },
 "nbformat": 4,
 "nbformat_minor": 5
}
