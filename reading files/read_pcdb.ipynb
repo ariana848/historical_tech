{
 "cells": [
  {
   "cell_type": "code",
   "execution_count": 1,
   "id": "cd3df23f",
   "metadata": {},
   "outputs": [],
   "source": [
    "import pandas as pd\n",
    "from pandas import Series, DataFrame\n",
    "import country_converter as coco\n",
    "import os"
   ]
  },
  {
   "cell_type": "code",
   "execution_count": 2,
   "id": "1a701911",
   "metadata": {},
   "outputs": [],
   "source": [
    "# https://pcdb.santafe.edu/graph.php?curve=119\n",
    "# Acrylic Fiber"
   ]
  },
  {
   "cell_type": "code",
   "execution_count": 3,
   "id": "fb4b3ee4",
   "metadata": {},
   "outputs": [],
   "source": [
    "path = '/Users/ariana/desktop/historical_tech'\n",
    "os.chdir(path)"
   ]
  },
  {
   "cell_type": "code",
   "execution_count": 4,
   "id": "ed503d02",
   "metadata": {},
   "outputs": [
    {
     "data": {
      "text/html": [
       "<div>\n",
       "<style scoped>\n",
       "    .dataframe tbody tr th:only-of-type {\n",
       "        vertical-align: middle;\n",
       "    }\n",
       "\n",
       "    .dataframe tbody tr th {\n",
       "        vertical-align: top;\n",
       "    }\n",
       "\n",
       "    .dataframe thead th {\n",
       "        text-align: right;\n",
       "    }\n",
       "</style>\n",
       "<table border=\"1\" class=\"dataframe\">\n",
       "  <thead>\n",
       "    <tr style=\"text-align: right;\">\n",
       "      <th></th>\n",
       "      <th>1960</th>\n",
       "      <th>1961</th>\n",
       "      <th>1962</th>\n",
       "      <th>1963</th>\n",
       "      <th>1964</th>\n",
       "      <th>1965</th>\n",
       "      <th>1966</th>\n",
       "      <th>1967</th>\n",
       "      <th>1968</th>\n",
       "      <th>1969</th>\n",
       "      <th>1970</th>\n",
       "      <th>1971</th>\n",
       "      <th>1972</th>\n",
       "      <th>Technology Name</th>\n",
       "      <th>Unit</th>\n",
       "      <th>Spatial Scale</th>\n",
       "      <th>Data Source</th>\n",
       "      <th>Metric</th>\n",
       "    </tr>\n",
       "    <tr>\n",
       "      <th>ID</th>\n",
       "      <th></th>\n",
       "      <th></th>\n",
       "      <th></th>\n",
       "      <th></th>\n",
       "      <th></th>\n",
       "      <th></th>\n",
       "      <th></th>\n",
       "      <th></th>\n",
       "      <th></th>\n",
       "      <th></th>\n",
       "      <th></th>\n",
       "      <th></th>\n",
       "      <th></th>\n",
       "      <th></th>\n",
       "      <th></th>\n",
       "      <th></th>\n",
       "      <th></th>\n",
       "      <th></th>\n",
       "    </tr>\n",
       "  </thead>\n",
       "  <tbody>\n",
       "    <tr>\n",
       "      <th>Acrylic Fiber_Annual ProductionWorld</th>\n",
       "      <td>135.7</td>\n",
       "      <td>140.1</td>\n",
       "      <td>170.0</td>\n",
       "      <td>209.7</td>\n",
       "      <td>287.7</td>\n",
       "      <td>368.4</td>\n",
       "      <td>352.9</td>\n",
       "      <td>397.7</td>\n",
       "      <td>521.0</td>\n",
       "      <td>533.0</td>\n",
       "      <td>491.9</td>\n",
       "      <td>545.2</td>\n",
       "      <td>625.9</td>\n",
       "      <td>Acrylic Fiber</td>\n",
       "      <td>Million Pounds</td>\n",
       "      <td>World</td>\n",
       "      <td>Santa Fe Institute</td>\n",
       "      <td>Annual Production</td>\n",
       "    </tr>\n",
       "  </tbody>\n",
       "</table>\n",
       "</div>"
      ],
      "text/plain": [
       "                                       1960   1961   1962   1963   1964  \\\n",
       "ID                                                                        \n",
       "Acrylic Fiber_Annual ProductionWorld  135.7  140.1  170.0  209.7  287.7   \n",
       "\n",
       "                                       1965   1966   1967   1968   1969  \\\n",
       "ID                                                                        \n",
       "Acrylic Fiber_Annual ProductionWorld  368.4  352.9  397.7  521.0  533.0   \n",
       "\n",
       "                                       1970   1971   1972 Technology Name  \\\n",
       "ID                                                                          \n",
       "Acrylic Fiber_Annual ProductionWorld  491.9  545.2  625.9   Acrylic Fiber   \n",
       "\n",
       "                                                Unit Spatial Scale  \\\n",
       "ID                                                                   \n",
       "Acrylic Fiber_Annual ProductionWorld  Million Pounds         World   \n",
       "\n",
       "                                             Data Source             Metric  \n",
       "ID                                                                           \n",
       "Acrylic Fiber_Annual ProductionWorld  Santa Fe Institute  Annual Production  "
      ]
     },
     "execution_count": 4,
     "metadata": {},
     "output_type": "execute_result"
    }
   ],
   "source": [
    "acrylic_fiber = pd.read_csv('raw data/AcrylicFiber.csv')\n",
    "acrylic_fiber.drop(columns=['Previous Production (Mil. lbs)', 'Price (1966 USD/lbs)'], inplace=True)\n",
    "acrylic_fiber.set_index('Time (year)', inplace=True)\n",
    "acrylic_fiber = acrylic_fiber.transpose()\n",
    "acrylic_fiber['Technology Name'] = 'Acrylic Fiber'\n",
    "acrylic_fiber['Unit'] = 'Million Pounds'\n",
    "acrylic_fiber['Spatial Scale'] = 'World'\n",
    "acrylic_fiber['Data Source'] = 'Santa Fe Institute'\n",
    "acrylic_fiber['Metric'] = 'Annual Production'\n",
    "acrylic_fiber['ID'] = acrylic_fiber['Technology Name'] + '_' + acrylic_fiber['Metric'] + 'World'\n",
    "acrylic_fiber.set_index('ID', drop=True, inplace=True)\n",
    "acrylic_fiber.columns.name = None\n",
    "acrylic_fiber\n"
   ]
  },
  {
   "cell_type": "code",
   "execution_count": 5,
   "id": "85b9298d",
   "metadata": {},
   "outputs": [],
   "source": [
    "acrylic_fiber.to_csv('cleaned data/acrylic_fiber.csv')"
   ]
  },
  {
   "cell_type": "code",
   "execution_count": null,
   "id": "89cb16d5",
   "metadata": {},
   "outputs": [],
   "source": []
  }
 ],
 "metadata": {
  "kernelspec": {
   "display_name": "Python 3 (ipykernel)",
   "language": "python",
   "name": "python3"
  },
  "language_info": {
   "codemirror_mode": {
    "name": "ipython",
    "version": 3
   },
   "file_extension": ".py",
   "mimetype": "text/x-python",
   "name": "python",
   "nbconvert_exporter": "python",
   "pygments_lexer": "ipython3",
   "version": "3.9.13"
  }
 },
 "nbformat": 4,
 "nbformat_minor": 5
}
