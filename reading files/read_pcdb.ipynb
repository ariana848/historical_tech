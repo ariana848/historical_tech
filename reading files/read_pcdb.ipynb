{
 "cells": [
  {
   "cell_type": "code",
   "execution_count": 1,
   "id": "cd3df23f",
   "metadata": {},
   "outputs": [],
   "source": [
    "import pandas as pd\n",
    "from pandas import Series, DataFrame\n",
    "import country_converter as coco\n",
    "import os"
   ]
  },
  {
   "cell_type": "code",
   "execution_count": 2,
   "id": "77c42391",
   "metadata": {},
   "outputs": [],
   "source": [
    "def read_pcdb(file_name, tech_name, place='World'):\n",
    "    df = pd.read_csv(file_name, usecols=[0, 1, 2])\n",
    "    df.set_index(df.columns[1], inplace=True)\n",
    "    df = df.transpose()\n",
    "    df['Data Source'] = 'Santa Fe Institute'\n",
    "    df['Metric'] = ['Price', 'Annual production']\n",
    "    df['Technology Name'] = tech_name\n",
    "    if place=='World':\n",
    "        df['Spatial Scale'] = 'Global'\n",
    "        df['Country Name'] = 'World'\n",
    "        df['Country Code'] = 'World'\n",
    "    if place=='US':\n",
    "        df['Spatial Scale'] = 'National'\n",
    "        df['Country Name'] = 'United States'\n",
    "        df['Country Code'] = 'US'\n",
    "    if place=='Japan':\n",
    "        df['Spatial Scale'] = 'National'\n",
    "        df['Country Name'] = 'Japan'\n",
    "        df['Country Code'] = 'JP'\n",
    "    df['ID'] = df['Technology Name'] + '_' + df['Metric'] + '_' + df['Country Code']\n",
    "    df['Unit'] = [df.index[0], df.index[1]]\n",
    "    df.set_index('ID', drop=True, inplace=True)\n",
    "    df.columns.name = None\n",
    "    new_file_name = 'processing/' + file_name\n",
    "    df.to_csv(new_file_name)\n",
    "    return df"
   ]
  },
  {
   "cell_type": "code",
   "execution_count": 3,
   "id": "fb4b3ee4",
   "metadata": {},
   "outputs": [],
   "source": [
    "os.chdir('/Users/ariana/desktop/historical_tech/raw data/PCDB')"
   ]
  },
  {
   "cell_type": "code",
   "execution_count": null,
   "id": "1a701911",
   "metadata": {},
   "outputs": [],
   "source": [
    "# https://pcdb.santafe.edu/graph.php?curve=119\n",
    "acrylic_fiber = read_pcdb('AcrylicFiber.csv', 'Acrylic Fiber')"
   ]
  },
  {
   "cell_type": "code",
   "execution_count": null,
   "id": "e73115e6",
   "metadata": {},
   "outputs": [],
   "source": [
    "# https://pcdb.santafe.edu/graph.php?curve=113\n",
    "acrylonitrile = read_pcdb('Acrylonitrile.csv', 'Acrylonitrile')"
   ]
  },
  {
   "cell_type": "code",
   "execution_count": null,
   "id": "5dda3794",
   "metadata": {},
   "outputs": [],
   "source": [
    "# https://pcdb.santafe.edu/graph.php?curve=108\n",
    "aniline = read_pcdb('Aniline.csv', 'Aniline')"
   ]
  },
  {
   "cell_type": "code",
   "execution_count": null,
   "id": "2301e310",
   "metadata": {},
   "outputs": [],
   "source": [
    "# https://pcdb.santafe.edu/graph.php?curve=153\n",
    "beer_japan = read_pcdb('Beer_(Japan).csv', 'Beer', 'Japan')"
   ]
  },
  {
   "cell_type": "code",
   "execution_count": null,
   "id": "05803d56",
   "metadata": {},
   "outputs": [],
   "source": [
    "# https://pcdb.santafe.edu/graph.php?curve=100\n",
    "benzene = read_pcdb('Benzene.csv', 'Benzene')"
   ]
  },
  {
   "cell_type": "code",
   "execution_count": null,
   "id": "0058d888",
   "metadata": {},
   "outputs": [],
   "source": [
    "# https://pcdb.santafe.edu/graph.php?curve=111\n",
    "bisphenol_a = read_pcdb('BisphenolA.csv', 'Bisphenol A')"
   ]
  },
  {
   "cell_type": "code",
   "execution_count": null,
   "id": "523bd26d",
   "metadata": {},
   "outputs": [],
   "source": [
    "# https://pcdb.santafe.edu/graph.php?curve=112\n",
    "caprolactam = read_pcdb('Caprolactam.csv', 'Caprolactam')"
   ]
  },
  {
   "cell_type": "code",
   "execution_count": null,
   "id": "6332a3b9",
   "metadata": {},
   "outputs": [],
   "source": [
    "# https://pcdb.santafe.edu/graph.php?curve=97\n",
    "crude_oil = read_pcdb('Crude_Oil.csv', 'Crude Oil')"
   ]
  },
  {
   "cell_type": "code",
   "execution_count": null,
   "id": "2bb1760e",
   "metadata": {},
   "outputs": [],
   "source": [
    "# https://pcdb.santafe.edu/graph.php?curve=116\n",
    "cyclohexane = read_pcdb('Cyclohexane.csv', 'Cyclohexane')"
   ]
  },
  {
   "cell_type": "code",
   "execution_count": null,
   "id": "b3bae89f",
   "metadata": {},
   "outputs": [],
   "source": [
    "# https://pcdb.santafe.edu/graph.php?curve=118\n",
    "ethanolamine = read_pcdb('Ethanolamine.csv', 'Ethanolamine')"
   ]
  },
  {
   "cell_type": "code",
   "execution_count": null,
   "id": "bb015e8a",
   "metadata": {},
   "outputs": [],
   "source": [
    "# https://pcdb.santafe.edu/graph.php?curve=120\n",
    "ethyl_alcohol = read_pcdb('EthylAlcohol.csv', 'Ethyl Alcohol')"
   ]
  },
  {
   "cell_type": "code",
   "execution_count": null,
   "id": "8596f7c5",
   "metadata": {},
   "outputs": [],
   "source": [
    "# https://pcdb.santafe.edu/graph.php?curve=99\n",
    "ethylene = read_pcdb('Ethylene.csv', 'Ethylene')"
   ]
  },
  {
   "cell_type": "code",
   "execution_count": null,
   "id": "0b3b941a",
   "metadata": {},
   "outputs": [],
   "source": [
    "# https://pcdb.santafe.edu/graph.php?curve=122\n",
    "# EthyleneGlycol\n",
    "ethylene_glycol = read_pcdb('EthyleneGlycol.csv', 'Ethylene Glycol')"
   ]
  },
  {
   "cell_type": "code",
   "execution_count": null,
   "id": "536931d6",
   "metadata": {},
   "outputs": [],
   "source": [
    "# https://pcdb.santafe.edu/graph.php?curve=121\n",
    "# unclear to me how this is different from Ethylene\n",
    "ethylene_2 = read_pcdb('Ethylene_2.csv', 'Ethylene 2')"
   ]
  },
  {
   "cell_type": "code",
   "execution_count": null,
   "id": "3568df6e",
   "metadata": {},
   "outputs": [],
   "source": [
    "# https://pcdb.santafe.edu/graph.php?curve=123\n",
    "formaldehyde = read_pcdb('Formaldehyde.csv', 'Formaldehyde')"
   ]
  },
  {
   "cell_type": "code",
   "execution_count": null,
   "id": "bfbb62cb",
   "metadata": {},
   "outputs": [],
   "source": [
    "# https://pcdb.santafe.edu/graph.php?curve=124\n",
    "hydrofluoric_acid = read_pcdb('HydrofluoricAcid.csv', 'Hydrofluoric Acid')"
   ]
  },
  {
   "cell_type": "code",
   "execution_count": null,
   "id": "edd1d3ab",
   "metadata": {},
   "outputs": [],
   "source": [
    "# https://pcdb.santafe.edu/graph.php?curve=102\n",
    "# unclear to me how this is different from Polyethylene LD\n",
    "low_density_polyethylene = read_pcdb('Low_Density_Polyethylene.csv', 'Low-Density Polyethylene')"
   ]
  },
  {
   "cell_type": "code",
   "execution_count": null,
   "id": "1e83cdad",
   "metadata": {},
   "outputs": [],
   "source": [
    "# https://pcdb.santafe.edu/graph.php?curve=126\n",
    "magnesium = read_pcdb('Magnesium.csv', 'Magnesium')"
   ]
  },
  {
   "cell_type": "code",
   "execution_count": null,
   "id": "2be108ce",
   "metadata": {},
   "outputs": [],
   "source": [
    "# https://pcdb.santafe.edu/graph.php?curve=127\n",
    "maleic_anhydride = read_pcdb('MaleicAnhydride.csv', 'Maleic Anhydride')"
   ]
  },
  {
   "cell_type": "code",
   "execution_count": null,
   "id": "f088a0ad",
   "metadata": {},
   "outputs": [],
   "source": [
    "# https://pcdb.santafe.edu/graph.php?curve=128\n",
    "methanol = read_pcdb('Methanol.csv', 'Methanol')"
   ]
  },
  {
   "cell_type": "code",
   "execution_count": null,
   "id": "55c183a2",
   "metadata": {},
   "outputs": [],
   "source": [
    "# https://pcdb.santafe.edu/graph.php?curve=26\n",
    "milk_us = read_pcdb('Milk_(US).csv', 'Milk', 'US')"
   ]
  },
  {
   "cell_type": "code",
   "execution_count": null,
   "id": "c789ab8f",
   "metadata": {},
   "outputs": [],
   "source": [
    "# https://pcdb.santafe.edu/graph.php?curve=98\n",
    "motor_gasoline = read_pcdb('Motor_Gasoline.csv', 'Motor Gasoline')"
   ]
  },
  {
   "cell_type": "code",
   "execution_count": null,
   "id": "9d2d2bab",
   "metadata": {},
   "outputs": [],
   "source": [
    "# https://pcdb.santafe.edu/graph.php?curve=129\n",
    "neoprene_rubber = read_pcdb('NeopreneRubber.csv', 'Neoprene Rubber')"
   ]
  },
  {
   "cell_type": "code",
   "execution_count": null,
   "id": "9de85cb1",
   "metadata": {},
   "outputs": [],
   "source": [
    "# https://pcdb.santafe.edu/graph.php?curve=101\n",
    "paraxylene = read_pcdb('Paraxylene.csv', 'Paraxylene')"
   ]
  },
  {
   "cell_type": "code",
   "execution_count": null,
   "id": "00f96116",
   "metadata": {},
   "outputs": [],
   "source": [
    "# https://pcdb.santafe.edu/graph.php?curve=130\n",
    "pentaerythritol = read_pcdb('Pentaerythritol.csv', 'Pentaerythritol')"
   ]
  },
  {
   "cell_type": "code",
   "execution_count": null,
   "id": "144be94b",
   "metadata": {},
   "outputs": [],
   "source": [
    "# https://pcdb.santafe.edu/graph.php?curve=131\n",
    "phenol = read_pcdb('Phenol.csv', 'Phenol')"
   ]
  },
  {
   "cell_type": "code",
   "execution_count": null,
   "id": "d4d2c242",
   "metadata": {},
   "outputs": [],
   "source": [
    "# https://pcdb.santafe.edu/graph.php?curve=132\n",
    "phthalic_anhydride = read_pcdb('PhthalicAnhydride.csv', 'Phthalic Anhydride')"
   ]
  },
  {
   "cell_type": "code",
   "execution_count": null,
   "id": "87a0f2a2",
   "metadata": {},
   "outputs": [],
   "source": [
    "# https://pcdb.santafe.edu/graph.php?curve=133\n",
    "polyester_fiber = read_pcdb('PolyesterFiber.csv', 'PolyesterFiber')"
   ]
  },
  {
   "cell_type": "code",
   "execution_count": null,
   "id": "c3a1ce59",
   "metadata": {},
   "outputs": [],
   "source": [
    "# https://pcdb.santafe.edu/graph.php?curve=134\n",
    "polyethylene_hd = read_pcdb('PolyethyleneHD.csv', 'Polyethylene HD')"
   ]
  },
  {
   "cell_type": "code",
   "execution_count": null,
   "id": "1e387761",
   "metadata": {},
   "outputs": [],
   "source": [
    "# https://pcdb.santafe.edu/graph.php?curve=135\n",
    "polyethylene_ld = read_pcdb('PolyethyleneLD.csv', 'Polyethylene LD')"
   ]
  },
  {
   "cell_type": "code",
   "execution_count": null,
   "id": "6ee1a53c",
   "metadata": {},
   "outputs": [],
   "source": [
    "# https://pcdb.santafe.edu/graph.php?curve=147\n",
    "polystyrene = read_pcdb('Polystyrene.csv', 'Polystyrene')"
   ]
  },
  {
   "cell_type": "code",
   "execution_count": null,
   "id": "65b735d1",
   "metadata": {},
   "outputs": [],
   "source": [
    "# https://pcdb.santafe.edu/graph.php?curve=148\n",
    "polyvinylchloride = read_pcdb('Polyvinylchloride.csv', 'Polyvinylchloride')"
   ]
  },
  {
   "cell_type": "code",
   "execution_count": null,
   "id": "89cb16d5",
   "metadata": {},
   "outputs": [],
   "source": [
    "# https://pcdb.santafe.edu/graph.php?curve=149\n",
    "# Primary_Aluminum\n",
    "primary_aluminum = read_pcdb('Primary_Aluminum.csv', 'Primary Alumninum')"
   ]
  },
  {
   "cell_type": "code",
   "execution_count": null,
   "id": "4d8591ee",
   "metadata": {},
   "outputs": [],
   "source": [
    "# https://pcdb.santafe.edu/graph.php?curve=150\n",
    "primary_magnesium = read_pcdb('Primary_Magnesium.csv', 'Primary Magnesium')"
   ]
  },
  {
   "cell_type": "code",
   "execution_count": null,
   "id": "0a06b743",
   "metadata": {},
   "outputs": [],
   "source": [
    "# https://pcdb.santafe.edu/graph.php?curve=155\n",
    "refined_cane_sugar = read_pcdb('Refined_Cane_Sugar.csv', 'Refined Cane Sugar')"
   ]
  },
  {
   "cell_type": "code",
   "execution_count": 25,
   "id": "4838eac8",
   "metadata": {},
   "outputs": [
    {
     "data": {
      "text/html": [
       "<div>\n",
       "<style scoped>\n",
       "    .dataframe tbody tr th:only-of-type {\n",
       "        vertical-align: middle;\n",
       "    }\n",
       "\n",
       "    .dataframe tbody tr th {\n",
       "        vertical-align: top;\n",
       "    }\n",
       "\n",
       "    .dataframe thead th {\n",
       "        text-align: right;\n",
       "    }\n",
       "</style>\n",
       "<table border=\"1\" class=\"dataframe\">\n",
       "  <thead>\n",
       "    <tr style=\"text-align: right;\">\n",
       "      <th></th>\n",
       "      <th>Cost (USD/Kilobase)</th>\n",
       "      <th>Time (Year)</th>\n",
       "      <th>Yearly Production (Kilobase)</th>\n",
       "    </tr>\n",
       "    <tr>\n",
       "      <th>Year</th>\n",
       "      <th></th>\n",
       "      <th></th>\n",
       "      <th></th>\n",
       "    </tr>\n",
       "  </thead>\n",
       "  <tbody>\n",
       "    <tr>\n",
       "      <th>2001</th>\n",
       "      <td>5.292393</td>\n",
       "      <td>2001.666667</td>\n",
       "      <td>32400720</td>\n",
       "    </tr>\n",
       "    <tr>\n",
       "      <th>2002</th>\n",
       "      <td>3.898635</td>\n",
       "      <td>2002.250000</td>\n",
       "      <td>32222340</td>\n",
       "    </tr>\n",
       "    <tr>\n",
       "      <th>2002</th>\n",
       "      <td>3.413801</td>\n",
       "      <td>2002.666667</td>\n",
       "      <td>37467912</td>\n",
       "    </tr>\n",
       "    <tr>\n",
       "      <th>2003</th>\n",
       "      <td>2.986205</td>\n",
       "      <td>2003.250000</td>\n",
       "      <td>46090308</td>\n",
       "    </tr>\n",
       "    <tr>\n",
       "      <th>2003</th>\n",
       "      <td>2.230975</td>\n",
       "      <td>2003.833333</td>\n",
       "      <td>65732532</td>\n",
       "    </tr>\n",
       "    <tr>\n",
       "      <th>2004</th>\n",
       "      <td>1.598910</td>\n",
       "      <td>2004.083333</td>\n",
       "      <td>71449008</td>\n",
       "    </tr>\n",
       "    <tr>\n",
       "      <th>2004</th>\n",
       "      <td>1.135699</td>\n",
       "      <td>2004.333333</td>\n",
       "      <td>84979188</td>\n",
       "    </tr>\n",
       "    <tr>\n",
       "      <th>2004</th>\n",
       "      <td>1.107464</td>\n",
       "      <td>2004.583333</td>\n",
       "      <td>88930524</td>\n",
       "    </tr>\n",
       "    <tr>\n",
       "      <th>2004</th>\n",
       "      <td>1.028851</td>\n",
       "      <td>2004.833333</td>\n",
       "      <td>101584260</td>\n",
       "    </tr>\n",
       "    <tr>\n",
       "      <th>2005</th>\n",
       "      <td>0.974165</td>\n",
       "      <td>2005.083333</td>\n",
       "      <td>99596388</td>\n",
       "    </tr>\n",
       "    <tr>\n",
       "      <th>2005</th>\n",
       "      <td>0.897761</td>\n",
       "      <td>2005.333333</td>\n",
       "      <td>103290492</td>\n",
       "    </tr>\n",
       "    <tr>\n",
       "      <th>2005</th>\n",
       "      <td>0.898901</td>\n",
       "      <td>2005.583333</td>\n",
       "      <td>119139504</td>\n",
       "    </tr>\n",
       "    <tr>\n",
       "      <th>2005</th>\n",
       "      <td>0.766729</td>\n",
       "      <td>2005.833333</td>\n",
       "      <td>123323652</td>\n",
       "    </tr>\n",
       "    <tr>\n",
       "      <th>2006</th>\n",
       "      <td>0.699203</td>\n",
       "      <td>2006.083333</td>\n",
       "      <td>119857428</td>\n",
       "    </tr>\n",
       "    <tr>\n",
       "      <th>2006</th>\n",
       "      <td>0.651807</td>\n",
       "      <td>2006.333333</td>\n",
       "      <td>132078792</td>\n",
       "    </tr>\n",
       "    <tr>\n",
       "      <th>2006</th>\n",
       "      <td>0.636406</td>\n",
       "      <td>2006.583333</td>\n",
       "      <td>131464896</td>\n",
       "    </tr>\n",
       "    <tr>\n",
       "      <th>2006</th>\n",
       "      <td>0.581920</td>\n",
       "      <td>2006.833333</td>\n",
       "      <td>134985216</td>\n",
       "    </tr>\n",
       "    <tr>\n",
       "      <th>2007</th>\n",
       "      <td>0.522708</td>\n",
       "      <td>2007.083330</td>\n",
       "      <td>130853244</td>\n",
       "    </tr>\n",
       "    <tr>\n",
       "      <th>2007</th>\n",
       "      <td>0.502611</td>\n",
       "      <td>2007.333333</td>\n",
       "      <td>120539256</td>\n",
       "    </tr>\n",
       "    <tr>\n",
       "      <th>2007</th>\n",
       "      <td>0.495963</td>\n",
       "      <td>2007.583333</td>\n",
       "      <td>119707500</td>\n",
       "    </tr>\n",
       "    <tr>\n",
       "      <th>2007</th>\n",
       "      <td>0.397087</td>\n",
       "      <td>2007.833333</td>\n",
       "      <td>121453140</td>\n",
       "    </tr>\n",
       "    <tr>\n",
       "      <th>2008</th>\n",
       "      <td>0.394788</td>\n",
       "      <td>2008.083333</td>\n",
       "      <td>109717128</td>\n",
       "    </tr>\n",
       "    <tr>\n",
       "      <th>2008</th>\n",
       "      <td>0.512484</td>\n",
       "      <td>2008.333333</td>\n",
       "      <td>70207104</td>\n",
       "    </tr>\n",
       "    <tr>\n",
       "      <th>2008</th>\n",
       "      <td>0.626325</td>\n",
       "      <td>2008.583333</td>\n",
       "      <td>35793456</td>\n",
       "    </tr>\n",
       "    <tr>\n",
       "      <th>2008</th>\n",
       "      <td>0.847931</td>\n",
       "      <td>2008.833333</td>\n",
       "      <td>32444760</td>\n",
       "    </tr>\n",
       "    <tr>\n",
       "      <th>2009</th>\n",
       "      <td>1.019260</td>\n",
       "      <td>2009.083333</td>\n",
       "      <td>17432604</td>\n",
       "    </tr>\n",
       "  </tbody>\n",
       "</table>\n",
       "</div>"
      ],
      "text/plain": [
       "      Cost (USD/Kilobase)  Time (Year)  Yearly Production (Kilobase)\n",
       "Year                                                                \n",
       "2001             5.292393  2001.666667                      32400720\n",
       "2002             3.898635  2002.250000                      32222340\n",
       "2002             3.413801  2002.666667                      37467912\n",
       "2003             2.986205  2003.250000                      46090308\n",
       "2003             2.230975  2003.833333                      65732532\n",
       "2004             1.598910  2004.083333                      71449008\n",
       "2004             1.135699  2004.333333                      84979188\n",
       "2004             1.107464  2004.583333                      88930524\n",
       "2004             1.028851  2004.833333                     101584260\n",
       "2005             0.974165  2005.083333                      99596388\n",
       "2005             0.897761  2005.333333                     103290492\n",
       "2005             0.898901  2005.583333                     119139504\n",
       "2005             0.766729  2005.833333                     123323652\n",
       "2006             0.699203  2006.083333                     119857428\n",
       "2006             0.651807  2006.333333                     132078792\n",
       "2006             0.636406  2006.583333                     131464896\n",
       "2006             0.581920  2006.833333                     134985216\n",
       "2007             0.522708  2007.083330                     130853244\n",
       "2007             0.502611  2007.333333                     120539256\n",
       "2007             0.495963  2007.583333                     119707500\n",
       "2007             0.397087  2007.833333                     121453140\n",
       "2008             0.394788  2008.083333                     109717128\n",
       "2008             0.512484  2008.333333                      70207104\n",
       "2008             0.626325  2008.583333                      35793456\n",
       "2008             0.847931  2008.833333                      32444760\n",
       "2009             1.019260  2009.083333                      17432604"
      ]
     },
     "execution_count": 25,
     "metadata": {},
     "output_type": "execute_result"
    }
   ],
   "source": [
    "# https://pcdb.santafe.edu/graph.php?curve=34\n",
    "# Shotgun_Sanger_DNA_Sequencing\n",
    "\n",
    "# weird convention for years with decimals \n",
    "# seems like they're trying to indicate months, but that will be tricky in terms of aggregation\n",
    "\n",
    "dna_sequencing = pd.read_csv('Shotgun_Sanger_DNA_Sequencing.csv', usecols=[0, 1, 2])\n",
    "year_list = []\n",
    "for year in dna_sequencing['Time (Year)']:\n",
    "    year_list.append(str(year)[:4])\n",
    "dna_sequencing['Year'] = year_list\n",
    "dna_sequencing.set_index('Year', drop=True, inplace=True)\n",
    "dna_sequencing"
   ]
  },
  {
   "cell_type": "code",
   "execution_count": 27,
   "id": "598dbb4f",
   "metadata": {},
   "outputs": [
    {
     "data": {
      "text/plain": [
       "{'2001', '2002', '2003', '2004', '2005', '2006', '2007', '2008', '2009'}"
      ]
     },
     "execution_count": 27,
     "metadata": {},
     "output_type": "execute_result"
    }
   ],
   "source": [
    "year_set = set(year_list)\n",
    "year_set"
   ]
  },
  {
   "cell_type": "code",
   "execution_count": 26,
   "id": "328f1118",
   "metadata": {},
   "outputs": [
    {
     "name": "stdout",
     "output_type": "stream",
     "text": [
      "2001\n",
      "2002\n",
      "2002\n",
      "2003\n",
      "2003\n",
      "2004\n",
      "2004\n",
      "2004\n",
      "2004\n",
      "2005\n",
      "2005\n",
      "2005\n",
      "2005\n",
      "2006\n",
      "2006\n",
      "2006\n",
      "2006\n",
      "2007\n",
      "2007\n",
      "2007\n",
      "2007\n",
      "2008\n",
      "2008\n",
      "2008\n",
      "2008\n",
      "2009\n"
     ]
    }
   ],
   "source": [
    "cost_list = []\n",
    "for year in dna_sequencing.index:\n",
    "    print(year)"
   ]
  },
  {
   "cell_type": "code",
   "execution_count": null,
   "id": "d1ce85db",
   "metadata": {},
   "outputs": [],
   "source": [
    "# https://pcdb.santafe.edu/graph.php?curve=136\n",
    "sodium = read_pcdb('Sodium.csv', 'Sodium')"
   ]
  },
  {
   "cell_type": "code",
   "execution_count": null,
   "id": "ce6c46ae",
   "metadata": {},
   "outputs": [],
   "source": [
    "# https://pcdb.santafe.edu/graph.php?curve=137\n",
    "sodium_chlorate = read_pcdb('SodiumChlorate.csv', 'Sodium Chlorate')"
   ]
  },
  {
   "cell_type": "code",
   "execution_count": null,
   "id": "c56f1a1e",
   "metadata": {},
   "outputs": [],
   "source": [
    "# https://pcdb.santafe.edu/graph.php?curve=140\n",
    "styrene = read_pcdb('Styrene.csv', 'Styrene')"
   ]
  },
  {
   "cell_type": "code",
   "execution_count": null,
   "id": "d2c5912c",
   "metadata": {},
   "outputs": [],
   "source": [
    "# https://pcdb.santafe.edu/graph.php?curve=151\n",
    "titanium_sponge = read_pcdb('Titanium_Sponge.csv', 'Titanium Sponge')"
   ]
  },
  {
   "cell_type": "code",
   "execution_count": null,
   "id": "2a4705dd",
   "metadata": {},
   "outputs": [],
   "source": [
    "# https://pcdb.santafe.edu/graph.php?curve=143\n",
    "urea = read_pcdb('Urea.csv', 'Urea')"
   ]
  },
  {
   "cell_type": "code",
   "execution_count": null,
   "id": "526a1039",
   "metadata": {},
   "outputs": [],
   "source": [
    "# https://pcdb.santafe.edu/graph.php?curve=144\n",
    "vinyl_acetate = read_pcdb('VinylAcetate.csv', 'Vinyl Acetate')"
   ]
  },
  {
   "cell_type": "code",
   "execution_count": null,
   "id": "5fb3b949",
   "metadata": {},
   "outputs": [],
   "source": [
    "# https://pcdb.santafe.edu/graph.php?curve=145\n",
    "vinyl_chloride = read_pcdb('VinylChloride.csv', 'Vinyl Chloride')"
   ]
  },
  {
   "cell_type": "code",
   "execution_count": null,
   "id": "46e5cbb4",
   "metadata": {},
   "outputs": [],
   "source": [
    "os.chdir('/Users/ariana/desktop/historical_tech/cleaned data')\n",
    "frame = pd.read_csv('frame.csv')\n",
    "df_list = [frame]"
   ]
  },
  {
   "cell_type": "code",
   "execution_count": null,
   "id": "d3f56d63",
   "metadata": {},
   "outputs": [],
   "source": [
    "path = '/Users/ariana/desktop/historical_tech/raw data/PCDB/processing'\n",
    "os.chdir(path)\n",
    "for file in os.listdir(path):\n",
    "    file = pd.read_csv(file)\n",
    "    df_list.append(file)"
   ]
  },
  {
   "cell_type": "code",
   "execution_count": null,
   "id": "79507f75",
   "metadata": {},
   "outputs": [],
   "source": [
    "pcdb_all = pd.concat(df_list)\n",
    "pcdb_all"
   ]
  },
  {
   "cell_type": "code",
   "execution_count": null,
   "id": "93476ff1",
   "metadata": {},
   "outputs": [],
   "source": [
    "os.chdir('/Users/ariana/desktop/historical_tech/cleaned data')"
   ]
  },
  {
   "cell_type": "code",
   "execution_count": null,
   "id": "1dbf491a",
   "metadata": {},
   "outputs": [],
   "source": [
    "pcdb_all.to_csv('pcdb.csv', index=False)"
   ]
  },
  {
   "cell_type": "code",
   "execution_count": null,
   "id": "86fcbfad",
   "metadata": {},
   "outputs": [],
   "source": []
  }
 ],
 "metadata": {
  "kernelspec": {
   "display_name": "Python 3 (ipykernel)",
   "language": "python",
   "name": "python3"
  },
  "language_info": {
   "codemirror_mode": {
    "name": "ipython",
    "version": 3
   },
   "file_extension": ".py",
   "mimetype": "text/x-python",
   "name": "python",
   "nbconvert_exporter": "python",
   "pygments_lexer": "ipython3",
   "version": "3.9.13"
  }
 },
 "nbformat": 4,
 "nbformat_minor": 5
}
