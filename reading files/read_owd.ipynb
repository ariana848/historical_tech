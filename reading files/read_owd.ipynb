{
 "cells": [
  {
   "cell_type": "code",
   "execution_count": 1,
   "id": "b7da783d",
   "metadata": {},
   "outputs": [],
   "source": [
    "import os\n",
    "import pandas as pd\n",
    "from pandas import Series, DataFrame\n",
    "import country_converter as coco"
   ]
  },
  {
   "cell_type": "code",
   "execution_count": 2,
   "id": "c67cca77",
   "metadata": {},
   "outputs": [],
   "source": [
    "# https://ourworldindata.org/grapher/technology-adoption-by-households-in-the-united-states"
   ]
  },
  {
   "cell_type": "code",
   "execution_count": 3,
   "id": "787ea904",
   "metadata": {},
   "outputs": [],
   "source": [
    "path = '/Users/ariana/desktop/historical_tech'\n",
    "os.chdir(path)"
   ]
  },
  {
   "cell_type": "code",
   "execution_count": 4,
   "id": "4974df91",
   "metadata": {},
   "outputs": [],
   "source": [
    "owd = pd.read_csv('raw data/technology-adoption-by-households-in-the-united-states.csv')"
   ]
  },
  {
   "cell_type": "code",
   "execution_count": 5,
   "id": "6756cbfe",
   "metadata": {},
   "outputs": [],
   "source": [
    "tech_list = list(set(owd['Entity']))"
   ]
  },
  {
   "cell_type": "code",
   "execution_count": 6,
   "id": "2d3e2036",
   "metadata": {},
   "outputs": [],
   "source": [
    "def read_owd(technology):\n",
    "    owd = pd.read_csv('raw data/technology-adoption-by-households-in-the-united-states.csv')\n",
    "    owd.drop(columns='Code', inplace=True)\n",
    "    owd = owd[owd['Entity']==technology]\n",
    "    owd = owd.transpose()\n",
    "    tech_name = owd.loc['Entity'].values[0]\n",
    "    years = list(owd.loc['Year'])\n",
    "    i = list(owd.columns)[0]\n",
    "    for year in years:\n",
    "        owd.rename(columns={i: year}, inplace=True)\n",
    "        i += 1\n",
    "    owd = owd[2:]\n",
    "    owd['Technology Name'] = tech_name\n",
    "    owd.reset_index(drop=True, inplace=True)\n",
    "    owd['Country Name'] = 'United States'\n",
    "    owd['Country Code'] = 'US'\n",
    "    owd['Spatial Scale'] = 'National'\n",
    "    owd['Unit'] = 'Percentage'\n",
    "    owd['Metric'] = 'Share of households'\n",
    "    owd['Data Source'] = 'OWD'\n",
    "    owd['ID'] = owd['Technology Name'] + '_' + owd['Metric'] + '_' + owd['Country Code']\n",
    "    return owd"
   ]
  },
  {
   "cell_type": "code",
   "execution_count": 7,
   "id": "e7e8020e",
   "metadata": {},
   "outputs": [],
   "source": [
    "for tech in tech_list:\n",
    "    df = read_owd(tech)\n",
    "    file_name = 'raw data/OWD/' + tech + '.csv'\n",
    "    df.to_csv(file_name, index=False)"
   ]
  },
  {
   "cell_type": "code",
   "execution_count": 8,
   "id": "2e25be21",
   "metadata": {},
   "outputs": [],
   "source": [
    "path = '/Users/ariana/desktop/historical_tech/raw data/OWD'\n",
    "owd_dir = os.listdir(path)"
   ]
  },
  {
   "cell_type": "code",
   "execution_count": 9,
   "id": "40162d4a",
   "metadata": {},
   "outputs": [],
   "source": [
    "frame = pd.read_csv('cleaned data/frame.csv')"
   ]
  },
  {
   "cell_type": "code",
   "execution_count": 10,
   "id": "8e2203da",
   "metadata": {},
   "outputs": [],
   "source": [
    "os.chdir(path)"
   ]
  },
  {
   "cell_type": "code",
   "execution_count": 11,
   "id": "cc8cb11f",
   "metadata": {},
   "outputs": [],
   "source": [
    "df_list = [frame]\n",
    "for file in owd_dir:\n",
    "    file = pd.read_csv(file)\n",
    "    df_list.append(file)"
   ]
  },
  {
   "cell_type": "code",
   "execution_count": 12,
   "id": "24d4e3c9",
   "metadata": {},
   "outputs": [],
   "source": [
    "owd = pd.concat(df_list)"
   ]
  },
  {
   "cell_type": "code",
   "execution_count": 13,
   "id": "ee22bc3d",
   "metadata": {},
   "outputs": [],
   "source": [
    "os.chdir('/Users/ariana/desktop/historical_tech/cleaned data')"
   ]
  },
  {
   "cell_type": "code",
   "execution_count": 14,
   "id": "b59579e7",
   "metadata": {},
   "outputs": [],
   "source": [
    "owd.to_csv('owd.csv', index=False)"
   ]
  },
  {
   "cell_type": "code",
   "execution_count": null,
   "id": "46c0eada",
   "metadata": {},
   "outputs": [],
   "source": []
  }
 ],
 "metadata": {
  "kernelspec": {
   "display_name": "Python 3 (ipykernel)",
   "language": "python",
   "name": "python3"
  },
  "language_info": {
   "codemirror_mode": {
    "name": "ipython",
    "version": 3
   },
   "file_extension": ".py",
   "mimetype": "text/x-python",
   "name": "python",
   "nbconvert_exporter": "python",
   "pygments_lexer": "ipython3",
   "version": "3.9.13"
  }
 },
 "nbformat": 4,
 "nbformat_minor": 5
}
