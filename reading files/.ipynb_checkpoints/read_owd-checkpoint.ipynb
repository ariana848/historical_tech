{
 "cells": [
  {
   "cell_type": "code",
   "execution_count": 1,
   "id": "b7da783d",
   "metadata": {},
   "outputs": [],
   "source": [
    "import os\n",
    "import pandas as pd\n",
    "from pandas import Series, DataFrame\n",
    "import country_converter as coco"
   ]
  },
  {
   "cell_type": "code",
   "execution_count": 2,
   "id": "c67cca77",
   "metadata": {},
   "outputs": [],
   "source": [
    "# https://ourworldindata.org/grapher/technology-adoption-by-households-in-the-united-states"
   ]
  },
  {
   "cell_type": "code",
   "execution_count": 3,
   "id": "787ea904",
   "metadata": {},
   "outputs": [],
   "source": [
    "path = '/Users/ariana/desktop/historical_tech'\n",
    "os.chdir(path)"
   ]
  },
  {
   "cell_type": "code",
   "execution_count": 4,
   "id": "4974df91",
   "metadata": {},
   "outputs": [],
   "source": [
    "owd = pd.read_csv('raw data/technology-adoption-by-households-in-the-united-states.csv')"
   ]
  },
  {
   "cell_type": "code",
   "execution_count": 5,
   "id": "6756cbfe",
   "metadata": {},
   "outputs": [
    {
     "data": {
      "text/plain": [
       "['Stove',\n",
       " 'Radio',\n",
       " 'Disk brakes',\n",
       " 'Electric Range',\n",
       " 'Iron',\n",
       " 'Amazon Prime users',\n",
       " 'Water Heater',\n",
       " 'Cable TV',\n",
       " 'Power steering',\n",
       " 'Automatic transmission',\n",
       " 'Microwave',\n",
       " 'Nox pollution controls (boilers)',\n",
       " 'Radial tires',\n",
       " 'Computer',\n",
       " 'Smartphone usage',\n",
       " 'Ebook reader',\n",
       " 'Videocassette recorder',\n",
       " 'Central heating',\n",
       " 'Home air conditioning',\n",
       " 'RTGS adoption',\n",
       " 'Running water',\n",
       " 'Internet',\n",
       " 'Social media usage',\n",
       " 'Microcomputer',\n",
       " 'Dishwasher',\n",
       " 'Electronic ignition',\n",
       " 'Households with only mobile phones (no landlines)',\n",
       " 'Tablet',\n",
       " 'Flush toilet',\n",
       " 'Television',\n",
       " 'Podcasting',\n",
       " 'Colour TV',\n",
       " 'Vacuum',\n",
       " 'Freezer']"
      ]
     },
     "execution_count": 5,
     "metadata": {},
     "output_type": "execute_result"
    }
   ],
   "source": [
    "tech_list = list(set(owd['Entity']))\n",
    "drop_list = ['Automobile','Cellular phone','Dryer','Electric power','Electricity access','Household refrigerator',\n",
    "             'Landline','Refrigerator','Washer','Washing machine', 'Shipping container port infrastructure']\n",
    "for item in drop_list:\n",
    "    tech_list.remove(item)\n",
    "tech_list"
   ]
  },
  {
   "cell_type": "code",
   "execution_count": 6,
   "id": "2d3e2036",
   "metadata": {},
   "outputs": [],
   "source": [
    "def read_owd(technology):\n",
    "    owd = pd.read_csv('raw data/technology-adoption-by-households-in-the-united-states.csv')\n",
    "    owd.drop(columns='Code', inplace=True)\n",
    "    owd = owd[owd['Entity']==technology]\n",
    "    owd = owd.transpose()\n",
    "    tech_name = owd.loc['Entity'].values[0]\n",
    "    years = list(owd.loc['Year'])\n",
    "    i = list(owd.columns)[0]\n",
    "    for year in years:\n",
    "        owd.rename(columns={i: year}, inplace=True)\n",
    "        i += 1\n",
    "    owd = owd[2:]\n",
    "    owd['Technology Name'] = tech_name\n",
    "    owd['Country Name'] = 'United States'\n",
    "    owd['Country Code'] = 'US'\n",
    "    owd['Spatial Scale'] = 'National'\n",
    "    owd['Unit'] = 'Percentage'\n",
    "    owd['Metric'] = 'Share of households'\n",
    "    owd['Data Source'] = 'OWD'\n",
    "    owd['ID'] = owd['Technology Name'] + '_' + owd['Metric'] + '_' + owd['Country Code']\n",
    "    owd.replace({'Dishwasher':'Dishwashers','Microwave':'Microwaves','Vacuum':'Vacuums',\n",
    "             'Computer':'Home computers', 'Internet':'Household Internet access',\n",
    "             'Microcomputer':'Microcomputers'},inplace=True)\n",
    "    owd.set_index('ID', drop=True, inplace=True)\n",
    "    file_name = 'cleaned data/owd_' + technology + '.csv'\n",
    "    owd.to_csv(file_name)\n",
    "    return owd"
   ]
  },
  {
   "cell_type": "code",
   "execution_count": 7,
   "id": "e7e8020e",
   "metadata": {},
   "outputs": [],
   "source": [
    "for tech in tech_list:\n",
    "    read_owd(tech)"
   ]
  },
  {
   "cell_type": "code",
   "execution_count": null,
   "id": "16146995",
   "metadata": {},
   "outputs": [],
   "source": []
  }
 ],
 "metadata": {
  "kernelspec": {
   "display_name": "Python 3 (ipykernel)",
   "language": "python",
   "name": "python3"
  },
  "language_info": {
   "codemirror_mode": {
    "name": "ipython",
    "version": 3
   },
   "file_extension": ".py",
   "mimetype": "text/x-python",
   "name": "python",
   "nbconvert_exporter": "python",
   "pygments_lexer": "ipython3",
   "version": "3.9.13"
  }
 },
 "nbformat": 4,
 "nbformat_minor": 5
}
