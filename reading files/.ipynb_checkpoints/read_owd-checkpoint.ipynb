{
 "cells": [
  {
   "cell_type": "code",
   "execution_count": 1,
   "id": "b7da783d",
   "metadata": {},
   "outputs": [],
   "source": [
    "import os\n",
    "import pandas as pd\n",
    "from pandas import Series, DataFrame\n",
    "import country_converter as coco"
   ]
  },
  {
   "cell_type": "code",
   "execution_count": 2,
   "id": "c67cca77",
   "metadata": {},
   "outputs": [],
   "source": [
    "# https://ourworldindata.org/grapher/technology-adoption-by-households-in-the-united-states"
   ]
  },
  {
   "cell_type": "code",
   "execution_count": 3,
   "id": "787ea904",
   "metadata": {},
   "outputs": [],
   "source": [
    "path = '/Users/ariana/desktop/historical_tech'\n",
    "os.chdir(path)"
   ]
  },
  {
   "cell_type": "code",
   "execution_count": 4,
   "id": "4974df91",
   "metadata": {},
   "outputs": [],
   "source": [
    "owd = pd.read_csv('raw data/technology-adoption-by-households-in-the-united-states.csv')"
   ]
  },
  {
   "cell_type": "code",
   "execution_count": 5,
   "id": "6756cbfe",
   "metadata": {},
   "outputs": [
    {
     "data": {
      "text/plain": [
       "['Home air conditioning',\n",
       " 'Households with only mobile phones (no landlines)',\n",
       " 'Nox pollution controls (boilers)',\n",
       " 'Colour TV',\n",
       " 'Internet',\n",
       " 'Automatic transmission',\n",
       " 'Stove',\n",
       " 'Water Heater',\n",
       " 'Smartphone usage',\n",
       " 'Tablet',\n",
       " 'Electronic ignition',\n",
       " 'Computer',\n",
       " 'Vacuum',\n",
       " 'Iron',\n",
       " 'Running water',\n",
       " 'Dishwasher',\n",
       " 'Cable TV',\n",
       " 'Radial tires',\n",
       " 'Amazon Prime users',\n",
       " 'Social media usage',\n",
       " 'Power steering',\n",
       " 'Flush toilet',\n",
       " 'Microwave',\n",
       " 'RTGS adoption',\n",
       " 'Freezer',\n",
       " 'Central heating',\n",
       " 'Disk brakes',\n",
       " 'Microcomputer',\n",
       " 'Videocassette recorder',\n",
       " 'Electric Range',\n",
       " 'Ebook reader',\n",
       " 'Podcasting']"
      ]
     },
     "execution_count": 5,
     "metadata": {},
     "output_type": "execute_result"
    }
   ],
   "source": [
    "tech_list = list(set(owd['Entity']))\n",
    "drop_list = ['Automobile','Cellular phone','Dryer','Electric power','Electricity access','Household refrigerator',\n",
    "             'Landline','Refrigerator','Washer','Washing machine', 'Shipping container port infrastructure',\n",
    "            'Radio','Television']\n",
    "for item in drop_list:\n",
    "    tech_list.remove(item)\n",
    "tech_list"
   ]
  },
  {
   "cell_type": "code",
   "execution_count": 6,
   "id": "2d3e2036",
   "metadata": {},
   "outputs": [],
   "source": [
    "def read_owd(technology):\n",
    "    owd = pd.read_csv('raw data/technology-adoption-by-households-in-the-united-states.csv')\n",
    "    owd.drop(columns='Code', inplace=True)\n",
    "    owd = owd[owd['Entity']==technology]\n",
    "    owd = owd.transpose()\n",
    "    tech_name = owd.loc['Entity'].values[0]\n",
    "    years = list(owd.loc['Year'])\n",
    "    i = list(owd.columns)[0]\n",
    "    for year in years:\n",
    "        owd.rename(columns={i: year}, inplace=True)\n",
    "        i += 1\n",
    "    owd = owd[2:]\n",
    "    owd['Technology Name'] = tech_name\n",
    "    owd['Country Name'] = 'United States'\n",
    "    owd['Country Code'] = 'US'\n",
    "    owd['Spatial Scale'] = 'National'\n",
    "    owd['Unit'] = 'Percentage'\n",
    "    if tech_name in ['Automatic transmission','Disk brakes','Electronic ignition', 'Power steering','Radial tires']:\n",
    "        metric = 'Share of Market'\n",
    "    elif tech_name in ['Ebook reader','Podcasting','Smartphone usage','Social media usage','Tablet']:\n",
    "        metric = 'Share of Population'\n",
    "    elif tech_name == 'Nox pollution controls (boilers)':\n",
    "        metric = 'Share of Boilers'\n",
    "    else:\n",
    "        metric = 'Share of Households'\n",
    "    owd['Metric'] = metric\n",
    "    owd['Data Source'] = 'OWD'\n",
    "    owd['ID'] = owd['Technology Name'] + '_' + owd['Metric'] + '_' + owd['Country Code']\n",
    "    owd.replace({'Dishwasher':'Dishwashers','Microwave':'Microwaves','Vacuum':'Vacuums',\n",
    "             'Computer':'Home computers', 'Internet':'Household Internet access',\n",
    "             'Microcomputer':'Microcomputers'},inplace=True)\n",
    "    owd.set_index('ID', drop=True, inplace=True)\n",
    "    file_name = 'cleaned data/owd_' + technology + '.csv'\n",
    "    owd.to_csv(file_name)\n",
    "    return owd"
   ]
  },
  {
   "cell_type": "code",
   "execution_count": 7,
   "id": "e7e8020e",
   "metadata": {},
   "outputs": [],
   "source": [
    "for tech in tech_list:\n",
    "    read_owd(tech)"
   ]
  },
  {
   "cell_type": "code",
   "execution_count": null,
   "id": "16146995",
   "metadata": {},
   "outputs": [],
   "source": []
  }
 ],
 "metadata": {
  "kernelspec": {
   "display_name": "Python 3 (ipykernel)",
   "language": "python",
   "name": "python3"
  },
  "language_info": {
   "codemirror_mode": {
    "name": "ipython",
    "version": 3
   },
   "file_extension": ".py",
   "mimetype": "text/x-python",
   "name": "python",
   "nbconvert_exporter": "python",
   "pygments_lexer": "ipython3",
   "version": "3.9.13"
  }
 },
 "nbformat": 4,
 "nbformat_minor": 5
}
