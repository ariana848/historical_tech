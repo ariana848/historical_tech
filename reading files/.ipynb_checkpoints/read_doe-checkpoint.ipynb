{
 "cells": [
  {
   "cell_type": "code",
   "execution_count": null,
   "id": "a346ac98",
   "metadata": {},
   "outputs": [],
   "source": [
    "import os\n",
    "import pandas as pd\n",
    "from pandas import Series, DataFrame\n",
    "import country_converter as coco\n",
    "import numpy as np\n",
    "import copy"
   ]
  },
  {
   "cell_type": "code",
   "execution_count": null,
   "id": "cddb7ce6",
   "metadata": {},
   "outputs": [],
   "source": [
    "# https://sandia.gov/ess-ssl/gesdb/public/statistics.html"
   ]
  },
  {
   "cell_type": "code",
   "execution_count": null,
   "id": "2ac863e5",
   "metadata": {},
   "outputs": [],
   "source": [
    "path = '/Users/ariana/desktop/historical_tech'\n",
    "os.chdir(path)"
   ]
  },
  {
   "cell_type": "code",
   "execution_count": null,
   "id": "223ed218",
   "metadata": {},
   "outputs": [],
   "source": [
    "doe = pd.read_csv('raw data/Cummulative Sum by Year_Full Data_data.csv', usecols=[0,1,2,9,10])\n",
    "doe = doe.drop_duplicates()\n",
    "doe"
   ]
  },
  {
   "cell_type": "code",
   "execution_count": null,
   "id": "88e4bfef",
   "metadata": {},
   "outputs": [],
   "source": [
    "doe.replace({'Lithium-ion battery':'Lithium-ion battery storage', 'Latent heat':'Latent heat storage', \n",
    "             'Sensible heat':'Sensible heat storage','Flow battery':'Flow battery storage',\n",
    "             'Sodium-based battery':'Sodium-based battery storage',\n",
    "             'Heat thermal storage':'Heat thermal battery storage',\n",
    "             'Lead-acid battery':'Lead-acid battery storage','Flywheel':'Flywheel battery storage'}, inplace=True)\n"
   ]
  },
  {
   "cell_type": "code",
   "execution_count": null,
   "id": "bce2bffd",
   "metadata": {},
   "outputs": [],
   "source": [
    "tech_list = sorted(list(set(doe['Technology Mid-Type'])))\n",
    "tech_list.remove('Technology Mid-Type Unknown')\n",
    "tech_list"
   ]
  },
  {
   "cell_type": "code",
   "execution_count": null,
   "id": "ea0def8c",
   "metadata": {},
   "outputs": [],
   "source": [
    "df = doe[(doe['Technology Mid-Type'] == 'Compressed air energy storage') & (doe['Country'] == 'United States')]\n",
    "df"
   ]
  },
  {
   "cell_type": "code",
   "execution_count": null,
   "id": "0747ce53",
   "metadata": {},
   "outputs": [],
   "source": [
    "def read_doe(tech_name):\n",
    "    df = doe[doe['Technology Mid-Type'] == tech_name]\n",
    "    country_list = list(set(df['Country']))\n",
    "    for country in country_list:\n",
    "        df_country = df[df['Country']== country]\n",
    "        df_country.reset_index(drop=True, inplace=True)\n",
    "        years = sorted(list(set(df_country['Year of Project Year'])))\n",
    "        year_dict = {}\n",
    "        for year in years:\n",
    "            year_dict[year] = []\n",
    "        power_dict = copy.deepcopy(year_dict)\n",
    "        capacity_dict = copy.deepcopy(year_dict)\n",
    "        for idx in df_country.index:\n",
    "            power = df_country['Rated Power (kW)'].iloc[idx]\n",
    "            capacity = df_country['Rated Capacity (kWh)'].iloc[idx]\n",
    "            year = df_country['Year of Project Year'].iloc[idx]\n",
    "            power_dict[year].append(power)\n",
    "            capacity_dict[year].append(power)\n",
    "        power_by_year = []\n",
    "        for year in power_dict:\n",
    "            power_by_year.append(np.nansum(power_dict[year]))\n",
    "        capacity_by_year = []\n",
    "        for year in capacity_dict:\n",
    "            capacity_by_year.append(np.nansum(capacity_dict[year]))\n",
    "        new_df = pd.DataFrame(power_by_year, years)\n",
    "        new_df[0] = new_df[0].cumsum()\n",
    "        new_df['Cumulative Rated Capacity'] = capacity_by_year\n",
    "        new_df['Cumulative Rated Capacity'] = new_df['Cumulative Rated Capacity'].cumsum()\n",
    "        new_df = new_df.transpose()\n",
    "        new_df['Technology Name'] = tech_name.title()\n",
    "        new_df['Country Name'] = country\n",
    "        new_df['Unit'] = ['kW', 'kWh']\n",
    "        new_df['Data Source'] = 'DOE Global Energy Storage Database'\n",
    "        new_df['Metric'] = ['Cumulative Rated Power', 'Cumulative Rated Capacity']\n",
    "        new_df['Spatial Scale'] = 'National'\n",
    "        new_df['Country Code'] = coco.convert(names=country, to='iso2')\n",
    "        new_df['ID'] = new_df['Technology Name'] + '_' + new_df['Metric'] + '_' + new_df['Country Code']\n",
    "        new_df.set_index('ID', drop=True, inplace=True)\n",
    "        file_name = 'cleaned data/doe_' + tech_name + country + '.csv'\n",
    "        new_df.to_csv(file_name)\n"
   ]
  },
  {
   "cell_type": "code",
   "execution_count": null,
   "id": "e8a6c6b1",
   "metadata": {},
   "outputs": [],
   "source": [
    "for tech in tech_list:\n",
    "    read_doe(tech)"
   ]
  },
  {
   "cell_type": "code",
   "execution_count": null,
   "id": "0f432ce8",
   "metadata": {},
   "outputs": [],
   "source": []
  }
 ],
 "metadata": {
  "kernelspec": {
   "display_name": "Python 3 (ipykernel)",
   "language": "python",
   "name": "python3"
  },
  "language_info": {
   "codemirror_mode": {
    "name": "ipython",
    "version": 3
   },
   "file_extension": ".py",
   "mimetype": "text/x-python",
   "name": "python",
   "nbconvert_exporter": "python",
   "pygments_lexer": "ipython3",
   "version": "3.9.13"
  }
 },
 "nbformat": 4,
 "nbformat_minor": 5
}
