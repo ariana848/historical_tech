{
 "cells": [
  {
   "cell_type": "code",
   "execution_count": null,
   "id": "36ffb394",
   "metadata": {},
   "outputs": [],
   "source": [
    "import os\n",
    "import pandas as pd\n",
    "from pandas import Series, DataFrame\n",
    "from openpyxl import load_workbook\n",
    "import country_converter as coco"
   ]
  },
  {
   "cell_type": "code",
   "execution_count": null,
   "id": "e1bb9d15",
   "metadata": {},
   "outputs": [],
   "source": [
    "os.chdir('/Users/ariana/desktop/historical_tech')\n",
    "mitchell = os.listdir('/Users/ariana/desktop/historical_tech/raw data/Mitchell_InternationalHistoricalStatistics')\n",
    "\n",
    "reading_files = []\n",
    "for file in mitchell:\n",
    "     if '.xlsx' in file or '.xls' in file:\n",
    "        reading_files.append(file)\n",
    "reading_files.sort()\n",
    "reading_files"
   ]
  },
  {
   "cell_type": "code",
   "execution_count": null,
   "id": "fb87b985",
   "metadata": {},
   "outputs": [],
   "source": [
    "def read_mitchell(file_relpath):\n",
    "    file_name = 'raw data/Mitchell_InternationalHistoricalStatistics/' + file_relpath\n",
    "    df = pd.ExcelFile(file_name)\n",
    "    df_sheets = df.sheet_names\n",
    "    drop_sheets = ['Sheet1', 'Sheet2', 'Sheet3', 'Sheet7', 'All', 'Copy All', 'All Copy']\n",
    "    for item in drop_sheets:\n",
    "        if item in df_sheets:\n",
    "            df_sheets.remove(item)\n",
    "    df_list = [] \n",
    "    for sheet in df_sheets:\n",
    "        df = pd.read_excel(file_name, sheet_name=sheet, usecols=[0,2,3], na_values = ['—', '...', '- -','…'])\n",
    "        df.dropna(subset=df.columns[1], inplace=True)\n",
    "        df[df.columns[1]] = df[df.columns[1]].astype(int)\n",
    "        df.set_index(df.columns[1], inplace=True)\n",
    "        country_name = df[df.columns[0]].iloc[0]\n",
    "        technology_unit = df.columns[-1]\n",
    "        cutoff = technology_unit.index('(')\n",
    "        technology_name = technology_unit[:cutoff]\n",
    "        technology_name = technology_name.strip()\n",
    "        if technology_name == 'Copper' or technology_name == 'Lead':\n",
    "            continue\n",
    "        unit = technology_unit[cutoff:]\n",
    "        unit = unit.strip('()')\n",
    "        unit = unit.title()\n",
    "        df.drop(columns=df.columns[0], inplace=True)\n",
    "        df = df.transpose()\n",
    "        df.columns.name = None\n",
    "        df['Unit'] = unit\n",
    "        df['Technology Name'] = technology_name\n",
    "        df['Country Name'] = country_name\n",
    "        if country_name == 'Phillipines' or country_name=='Phillipine':\n",
    "            country_code = 'PH'\n",
    "        elif country_name == 'Yugoslavia':\n",
    "            country_code = 'YU'\n",
    "        elif country_name == 'East Germany':\n",
    "            country_code = 'DEU'\n",
    "        elif country_name == 'West Germany':\n",
    "            country_code = 'DD'\n",
    "        elif country_name == 'UAE':\n",
    "            country_code = 'AE'\n",
    "        elif country_name == 'Southern Vietnam':\n",
    "            country_code = 'VNM'\n",
    "        elif country_name == 'Kyrgistan':\n",
    "            country_code = 'KG'\n",
    "        elif country_name == 'USSR':\n",
    "            country_code = 'SU'\n",
    "        elif country_name == 'Czechoslovakia':\n",
    "            country_code = 'CSK'\n",
    "        elif country_name == 'Korea':\n",
    "            country_code = 'KOR'\n",
    "        else:\n",
    "            country_code = coco.convert(names=country_name, to='iso2')\n",
    "        df['Country Code'] = country_code\n",
    "        df['Spatial Scale'] = 'National'\n",
    "        df['Data Source'] = 'Mitchell'\n",
    "        df['Metric'] = 'Annual Production'\n",
    "        df['ID'] = df['Technology Name'] + '_' + df['Metric'] + '_' + df['Country Code']\n",
    "        df.set_index('ID', drop=True, inplace=True)\n",
    "        df.to_csv('raw data/mitchell_processing/' + sheet + '.csv')\n"
   ]
  },
  {
   "cell_type": "code",
   "execution_count": null,
   "id": "4cfdb5c5",
   "metadata": {},
   "outputs": [],
   "source": [
    "for file in reading_files:\n",
    "    read_mitchell(file)"
   ]
  },
  {
   "cell_type": "code",
   "execution_count": null,
   "id": "bfaa07aa",
   "metadata": {},
   "outputs": [],
   "source": [
    "mitchell_processing = os.listdir('/Users/ariana/desktop/historical_tech/raw data/mitchell_processing')\n",
    "len(mitchell_processing)"
   ]
  },
  {
   "cell_type": "code",
   "execution_count": null,
   "id": "81ae5e15",
   "metadata": {},
   "outputs": [],
   "source": [
    "for file in mitchell_processing:\n",
    "    if '.csv' not in file:\n",
    "        mitchell_processing.remove(file)"
   ]
  },
  {
   "cell_type": "code",
   "execution_count": null,
   "id": "8c2cfb2a",
   "metadata": {},
   "outputs": [],
   "source": [
    "len(mitchell_processing)"
   ]
  },
  {
   "cell_type": "code",
   "execution_count": null,
   "id": "40b4a86d",
   "metadata": {},
   "outputs": [],
   "source": [
    "frame = pd.read_csv('cleaned data/frame.csv')"
   ]
  },
  {
   "cell_type": "code",
   "execution_count": null,
   "id": "e80758e3",
   "metadata": {},
   "outputs": [],
   "source": [
    "# don't use default na, this erroneously converts 'NA' (iso code for Namibia) to a missing value\n",
    "# I manually input all the default na vals except for 'NA' to prevent this\n",
    "# https://pandas.pydata.org/docs/reference/api/pandas.read_csv.html\n",
    "df_list = [frame]\n",
    "for file in mitchell_processing:\n",
    "    file = 'raw data/mitchell_processing/' + file\n",
    "    file = pd.read_csv(file, keep_default_na=False, na_values=['-1.#IND', '1.#QNAN', '1.#IND', '-1.#QNAN', \n",
    "                                                               '#N/A N/A', '#N/A', 'N/A', 'n/a', '<NA>', '#NA', \n",
    "                                                               'NULL', 'null', 'NaN', '-NaN', 'nan', '-nan', \n",
    "                                                               'None', '','—', '...', '- -','…','···','··· ',\n",
    "                                                              '--', '... ', '… '])\n",
    "    df_list.append(file)"
   ]
  },
  {
   "cell_type": "code",
   "execution_count": null,
   "id": "f314f094",
   "metadata": {},
   "outputs": [],
   "source": [
    "all_mitchell = pd.concat(df_list)\n",
    "all_mitchell.replace({'Crude Petroleum': 'Crude Oil','Milk':'Milk production','Nickel':'Nickel production','Gold':'Gold production','Caustic Soda Acid':'Caustic Soda', 'Artificial and Synthetic Fibers':'Synthetic Filaments', 'Beer': 'Beer Production', 'Sugar Output': 'Cane Sugar Production'}, inplace=True)\n",
    "all_mitchell\n"
   ]
  },
  {
   "cell_type": "code",
   "execution_count": null,
   "id": "916d9c42",
   "metadata": {},
   "outputs": [],
   "source": [
    "all_mitchell[all_mitchell['Technology Name']=='Milk production']"
   ]
  },
  {
   "cell_type": "code",
   "execution_count": null,
   "id": "89154c85",
   "metadata": {},
   "outputs": [],
   "source": [
    "set(all_mitchell['Technology Name'])"
   ]
  },
  {
   "cell_type": "code",
   "execution_count": null,
   "id": "bf36a7cb",
   "metadata": {},
   "outputs": [],
   "source": [
    "all_mitchell.to_csv('cleaned data/mitchell.csv', index=False)"
   ]
  },
  {
   "cell_type": "code",
   "execution_count": null,
   "id": "411817e5",
   "metadata": {},
   "outputs": [],
   "source": []
  }
 ],
 "metadata": {
  "kernelspec": {
   "display_name": "Python 3 (ipykernel)",
   "language": "python",
   "name": "python3"
  },
  "language_info": {
   "codemirror_mode": {
    "name": "ipython",
    "version": 3
   },
   "file_extension": ".py",
   "mimetype": "text/x-python",
   "name": "python",
   "nbconvert_exporter": "python",
   "pygments_lexer": "ipython3",
   "version": "3.9.13"
  }
 },
 "nbformat": 4,
 "nbformat_minor": 5
}
