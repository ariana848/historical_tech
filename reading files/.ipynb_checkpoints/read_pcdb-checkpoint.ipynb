{
 "cells": [
  {
   "cell_type": "code",
   "execution_count": 1,
   "id": "cd3df23f",
   "metadata": {},
   "outputs": [],
   "source": [
    "import pandas as pd\n",
    "from pandas import Series, DataFrame\n",
    "import country_converter as coco\n",
    "import os"
   ]
  },
  {
   "cell_type": "code",
   "execution_count": 2,
   "id": "77c42391",
   "metadata": {},
   "outputs": [],
   "source": [
    "def read_pcdb(file_name, tech_name, place='World'):\n",
    "    df = pd.read_csv(file_name, usecols=[0, 1, 2])\n",
    "    df.set_index(df.columns[1], inplace=True)\n",
    "    df = df.transpose()\n",
    "    df['Data Source'] = 'Santa Fe Institute'\n",
    "    df['Metric'] = ['Price', 'Annual production']\n",
    "    df['Technology Name'] = tech_name\n",
    "    if place=='World':\n",
    "        df['Spatial Scale'] = 'Global'\n",
    "        df['Country Name'] = 'World'\n",
    "        df['Country Code'] = 'World'\n",
    "    if place=='US':\n",
    "        df['Spatial Scale'] = 'National'\n",
    "        df['Country Name'] = 'United States'\n",
    "        df['Country Code'] = 'US'\n",
    "    if place=='Japan':\n",
    "        df['Spatial Scale'] = 'National'\n",
    "        df['Country Name'] = 'Japan'\n",
    "        df['Country Code'] = 'JP'\n",
    "    df['ID'] = df['Technology Name'] + '_' + df['Metric'] + '_' + df['Country Code']\n",
    "    df['Unit'] = [df.index[0], df.index[1]]\n",
    "    df.set_index('ID', drop=True, inplace=True)\n",
    "    df.columns.name = None\n",
    "    new_file_name = 'processing/' + file_name\n",
    "    df.to_csv(new_file_name)\n",
    "    return df"
   ]
  },
  {
   "cell_type": "code",
   "execution_count": 3,
   "id": "fb4b3ee4",
   "metadata": {},
   "outputs": [],
   "source": [
    "os.chdir('/Users/ariana/desktop/historical_tech/raw data/PCDB')"
   ]
  },
  {
   "cell_type": "code",
   "execution_count": 4,
   "id": "1a701911",
   "metadata": {},
   "outputs": [],
   "source": [
    "# https://pcdb.santafe.edu/graph.php?curve=119\n",
    "acrylic_fiber = read_pcdb('AcrylicFiber.csv', 'Acrylic Fiber')"
   ]
  },
  {
   "cell_type": "code",
   "execution_count": 5,
   "id": "e73115e6",
   "metadata": {},
   "outputs": [],
   "source": [
    "# https://pcdb.santafe.edu/graph.php?curve=113\n",
    "acrylonitrile = read_pcdb('Acrylonitrile.csv', 'Acrylonitrile')"
   ]
  },
  {
   "cell_type": "code",
   "execution_count": 6,
   "id": "5dda3794",
   "metadata": {},
   "outputs": [],
   "source": [
    "# https://pcdb.santafe.edu/graph.php?curve=108\n",
    "aniline = read_pcdb('Aniline.csv', 'Aniline')"
   ]
  },
  {
   "cell_type": "code",
   "execution_count": 7,
   "id": "2301e310",
   "metadata": {},
   "outputs": [],
   "source": [
    "# https://pcdb.santafe.edu/graph.php?curve=153\n",
    "beer_japan = read_pcdb('Beer_(Japan).csv', 'Beer production', 'Japan')"
   ]
  },
  {
   "cell_type": "code",
   "execution_count": 8,
   "id": "05803d56",
   "metadata": {},
   "outputs": [],
   "source": [
    "# https://pcdb.santafe.edu/graph.php?curve=100\n",
    "benzene = read_pcdb('Benzene.csv', 'Benzene')"
   ]
  },
  {
   "cell_type": "code",
   "execution_count": 9,
   "id": "0058d888",
   "metadata": {},
   "outputs": [],
   "source": [
    "# https://pcdb.santafe.edu/graph.php?curve=111\n",
    "bisphenol_a = read_pcdb('BisphenolA.csv', 'Bisphenol A')"
   ]
  },
  {
   "cell_type": "code",
   "execution_count": 10,
   "id": "523bd26d",
   "metadata": {},
   "outputs": [],
   "source": [
    "# https://pcdb.santafe.edu/graph.php?curve=112\n",
    "caprolactam = read_pcdb('Caprolactam.csv', 'Caprolactam')"
   ]
  },
  {
   "cell_type": "code",
   "execution_count": 11,
   "id": "6332a3b9",
   "metadata": {},
   "outputs": [],
   "source": [
    "# https://pcdb.santafe.edu/graph.php?curve=97\n",
    "crude_oil = read_pcdb('Crude_Oil.csv', 'Crude Oil')"
   ]
  },
  {
   "cell_type": "code",
   "execution_count": 12,
   "id": "2bb1760e",
   "metadata": {},
   "outputs": [],
   "source": [
    "# https://pcdb.santafe.edu/graph.php?curve=116\n",
    "cyclohexane = read_pcdb('Cyclohexane.csv', 'Cyclohexane')"
   ]
  },
  {
   "cell_type": "code",
   "execution_count": 13,
   "id": "b3bae89f",
   "metadata": {},
   "outputs": [],
   "source": [
    "# https://pcdb.santafe.edu/graph.php?curve=118\n",
    "ethanolamine = read_pcdb('Ethanolamine.csv', 'Ethanolamine')"
   ]
  },
  {
   "cell_type": "code",
   "execution_count": 14,
   "id": "bb015e8a",
   "metadata": {},
   "outputs": [],
   "source": [
    "# https://pcdb.santafe.edu/graph.php?curve=120\n",
    "ethyl_alcohol = read_pcdb('EthylAlcohol.csv', 'Ethyl Alcohol')"
   ]
  },
  {
   "cell_type": "code",
   "execution_count": 15,
   "id": "8596f7c5",
   "metadata": {},
   "outputs": [],
   "source": [
    "# https://pcdb.santafe.edu/graph.php?curve=99\n",
    "ethylene = read_pcdb('Ethylene.csv', 'Ethylene')"
   ]
  },
  {
   "cell_type": "code",
   "execution_count": 16,
   "id": "0b3b941a",
   "metadata": {},
   "outputs": [],
   "source": [
    "# https://pcdb.santafe.edu/graph.php?curve=122\n",
    "# EthyleneGlycol\n",
    "ethylene_glycol = read_pcdb('EthyleneGlycol.csv', 'Ethylene Glycol')"
   ]
  },
  {
   "cell_type": "code",
   "execution_count": 17,
   "id": "536931d6",
   "metadata": {},
   "outputs": [],
   "source": [
    "# https://pcdb.santafe.edu/graph.php?curve=121\n",
    "# unclear to me how this is different from Ethylene\n",
    "ethylene_2 = read_pcdb('Ethylene_2.csv', 'Ethylene 2')"
   ]
  },
  {
   "cell_type": "code",
   "execution_count": 18,
   "id": "3568df6e",
   "metadata": {},
   "outputs": [],
   "source": [
    "# https://pcdb.santafe.edu/graph.php?curve=123\n",
    "formaldehyde = read_pcdb('Formaldehyde.csv', 'Formaldehyde')"
   ]
  },
  {
   "cell_type": "code",
   "execution_count": 19,
   "id": "bfbb62cb",
   "metadata": {},
   "outputs": [],
   "source": [
    "# https://pcdb.santafe.edu/graph.php?curve=124\n",
    "hydrofluoric_acid = read_pcdb('HydrofluoricAcid.csv', 'Hydrofluoric Acid')"
   ]
  },
  {
   "cell_type": "code",
   "execution_count": 20,
   "id": "edd1d3ab",
   "metadata": {},
   "outputs": [],
   "source": [
    "# https://pcdb.santafe.edu/graph.php?curve=102\n",
    "# unclear to me how this is different from Polyethylene LD\n",
    "low_density_polyethylene = read_pcdb('Low_Density_Polyethylene.csv', 'Low-Density Polyethylene')"
   ]
  },
  {
   "cell_type": "code",
   "execution_count": 21,
   "id": "1e83cdad",
   "metadata": {},
   "outputs": [],
   "source": [
    "# https://pcdb.santafe.edu/graph.php?curve=126\n",
    "magnesium = read_pcdb('Magnesium.csv', 'Magnesium')"
   ]
  },
  {
   "cell_type": "code",
   "execution_count": 22,
   "id": "2be108ce",
   "metadata": {},
   "outputs": [],
   "source": [
    "# https://pcdb.santafe.edu/graph.php?curve=127\n",
    "maleic_anhydride = read_pcdb('MaleicAnhydride.csv', 'Maleic Anhydride')"
   ]
  },
  {
   "cell_type": "code",
   "execution_count": 23,
   "id": "f088a0ad",
   "metadata": {},
   "outputs": [],
   "source": [
    "# https://pcdb.santafe.edu/graph.php?curve=128\n",
    "methanol = read_pcdb('Methanol.csv', 'Methanol')"
   ]
  },
  {
   "cell_type": "code",
   "execution_count": 24,
   "id": "55c183a2",
   "metadata": {},
   "outputs": [],
   "source": [
    "# https://pcdb.santafe.edu/graph.php?curve=26\n",
    "milk_us = read_pcdb('Milk_(US).csv', 'Milk production', 'US')"
   ]
  },
  {
   "cell_type": "code",
   "execution_count": 25,
   "id": "c789ab8f",
   "metadata": {},
   "outputs": [],
   "source": [
    "# https://pcdb.santafe.edu/graph.php?curve=98\n",
    "motor_gasoline = read_pcdb('Motor_Gasoline.csv', 'Motor Gasoline')"
   ]
  },
  {
   "cell_type": "code",
   "execution_count": 26,
   "id": "9d2d2bab",
   "metadata": {},
   "outputs": [],
   "source": [
    "# https://pcdb.santafe.edu/graph.php?curve=129\n",
    "neoprene_rubber = read_pcdb('NeopreneRubber.csv', 'Neoprene Rubber')"
   ]
  },
  {
   "cell_type": "code",
   "execution_count": 27,
   "id": "9de85cb1",
   "metadata": {},
   "outputs": [],
   "source": [
    "# https://pcdb.santafe.edu/graph.php?curve=101\n",
    "paraxylene = read_pcdb('Paraxylene.csv', 'Paraxylene')"
   ]
  },
  {
   "cell_type": "code",
   "execution_count": 28,
   "id": "00f96116",
   "metadata": {},
   "outputs": [],
   "source": [
    "# https://pcdb.santafe.edu/graph.php?curve=130\n",
    "pentaerythritol = read_pcdb('Pentaerythritol.csv', 'Pentaerythritol')"
   ]
  },
  {
   "cell_type": "code",
   "execution_count": 29,
   "id": "144be94b",
   "metadata": {},
   "outputs": [],
   "source": [
    "# https://pcdb.santafe.edu/graph.php?curve=131\n",
    "phenol = read_pcdb('Phenol.csv', 'Phenol')"
   ]
  },
  {
   "cell_type": "code",
   "execution_count": 30,
   "id": "d4d2c242",
   "metadata": {},
   "outputs": [],
   "source": [
    "# https://pcdb.santafe.edu/graph.php?curve=132\n",
    "phthalic_anhydride = read_pcdb('PhthalicAnhydride.csv', 'Phthalic Anhydride')"
   ]
  },
  {
   "cell_type": "code",
   "execution_count": 31,
   "id": "87a0f2a2",
   "metadata": {},
   "outputs": [],
   "source": [
    "# https://pcdb.santafe.edu/graph.php?curve=133\n",
    "polyester_fiber = read_pcdb('PolyesterFiber.csv', 'Polyester Fiber')"
   ]
  },
  {
   "cell_type": "code",
   "execution_count": 32,
   "id": "c3a1ce59",
   "metadata": {},
   "outputs": [],
   "source": [
    "# https://pcdb.santafe.edu/graph.php?curve=134\n",
    "polyethylene_hd = read_pcdb('PolyethyleneHD.csv', 'Polyethylene HD')"
   ]
  },
  {
   "cell_type": "code",
   "execution_count": 33,
   "id": "1e387761",
   "metadata": {},
   "outputs": [],
   "source": [
    "# https://pcdb.santafe.edu/graph.php?curve=135\n",
    "polyethylene_ld = read_pcdb('PolyethyleneLD.csv', 'Polyethylene LD')"
   ]
  },
  {
   "cell_type": "code",
   "execution_count": 34,
   "id": "6ee1a53c",
   "metadata": {},
   "outputs": [],
   "source": [
    "# https://pcdb.santafe.edu/graph.php?curve=147\n",
    "polystyrene = read_pcdb('Polystyrene.csv', 'Polystyrene')"
   ]
  },
  {
   "cell_type": "code",
   "execution_count": 35,
   "id": "65b735d1",
   "metadata": {},
   "outputs": [],
   "source": [
    "# https://pcdb.santafe.edu/graph.php?curve=148\n",
    "polyvinylchloride = read_pcdb('Polyvinylchloride.csv', 'Polyvinylchloride')"
   ]
  },
  {
   "cell_type": "code",
   "execution_count": 36,
   "id": "89cb16d5",
   "metadata": {},
   "outputs": [],
   "source": [
    "# https://pcdb.santafe.edu/graph.php?curve=149\n",
    "# Primary_Aluminum\n",
    "primary_aluminum = read_pcdb('Primary_Aluminum.csv', 'Primary Alumninum')"
   ]
  },
  {
   "cell_type": "code",
   "execution_count": 37,
   "id": "4d8591ee",
   "metadata": {},
   "outputs": [],
   "source": [
    "# https://pcdb.santafe.edu/graph.php?curve=150\n",
    "primary_magnesium = read_pcdb('Primary_Magnesium.csv', 'Primary Magnesium')"
   ]
  },
  {
   "cell_type": "code",
   "execution_count": 38,
   "id": "0a06b743",
   "metadata": {},
   "outputs": [],
   "source": [
    "# https://pcdb.santafe.edu/graph.php?curve=155\n",
    "refined_cane_sugar = read_pcdb('Refined_Cane_Sugar.csv', 'Refined Cane Sugar Production')"
   ]
  },
  {
   "cell_type": "code",
   "execution_count": 39,
   "id": "4838eac8",
   "metadata": {},
   "outputs": [],
   "source": [
    "# https://pcdb.santafe.edu/graph.php?curve=34\n",
    "# Shotgun_Sanger_DNA_Sequencing\n",
    "\n",
    "# due to the uneven structure of the data,\n",
    "# we are using the average cost of all quarters where data is provided as the yearly average cost\n",
    "# and the yearly production value of the latest quarter in the year\n",
    "\n",
    "dna_sequencing = pd.read_csv('Shotgun_Sanger_DNA_Sequencing.csv', usecols=[0, 1, 2])\n",
    "year_list = []\n",
    "for year in dna_sequencing['Time (Year)']:\n",
    "    year_list.append(str(year)[:4])\n",
    "dna_sequencing['Year'] = year_list\n",
    "\n",
    "year_set = set(year_list)\n",
    "year_dict = {}\n",
    "\n",
    "for year in year_set:\n",
    "    year_dict[year] = []\n",
    "    \n",
    "year_dict = dict(sorted(year_dict.items(), key = lambda item: item[0]))\n",
    "\n",
    "for year in dna_sequencing['Time (Year)']:\n",
    "    year_4_char = str(year)[:4]\n",
    "    year = str(year)\n",
    "    year_dict[year_4_char].append(year)\n",
    "\n",
    "greatest_qtrs = []\n",
    "for year in year_dict:\n",
    "    greatest_qtr = None\n",
    "    for qtr in year_dict[year]:\n",
    "        if greatest_qtr == None:\n",
    "            greatest_qtr = qtr\n",
    "        else:\n",
    "            if qtr > greatest_qtr:\n",
    "                greatest_qtr = qtr\n",
    "    greatest_qtrs.append(qtr)\n",
    "\n",
    "yearly_production = []\n",
    "for idx in dna_sequencing.index:\n",
    "    qtr_year = str(dna_sequencing['Time (Year)'].iloc[idx])\n",
    "    yrly_production = dna_sequencing['Yearly Production (Kilobase)'].iloc[idx]\n",
    "    if qtr_year in greatest_qtrs:\n",
    "        yearly_production.append(yrly_production)\n",
    "        \n",
    "year_list = sorted(list(year_set))\n",
    "\n",
    "cost_dict = {}\n",
    "for year in year_set:\n",
    "    cost_dict[year] = []\n",
    "cost_dict = dict(sorted(cost_dict.items(), key = lambda item: item[0]))\n",
    "\n",
    "for idx in dna_sequencing.index:\n",
    "    cost = dna_sequencing['Cost (USD/Kilobase)'].iloc[idx]\n",
    "    year = str(dna_sequencing['Year'].iloc[idx])\n",
    "    cost_dict[year].append(cost)\n",
    "\n",
    "avg_cost = []\n",
    "for year in cost_dict:\n",
    "    avg_cost.append(sum(cost_dict[year]) / len(cost_dict[year]))\n",
    "    \n",
    "new_df = pd.DataFrame(avg_cost, year_list)\n",
    "new_df['Annual Production'] = yearly_production\n",
    "new_df = new_df.transpose()\n",
    "new_df['Data Source'] = 'Santa Fe Institute'\n",
    "new_df['Spatial Scale'] = 'Global'\n",
    "new_df['Country Name'] = 'World'\n",
    "new_df['Country Code'] = 'World'\n",
    "new_df['Metric'] = ['Price', 'Annual production']\n",
    "new_df['Unit'] = ['USD/Kilobase', 'Kilobase']\n",
    "new_df['Technology Name'] = 'Shotgun Sanger DNA Sequencing'\n",
    "new_df['ID'] = new_df['Technology Name'] + '_' + new_df['Metric'] + '_' + new_df['Country Code']\n",
    "new_df.set_index('ID', drop=True, inplace=True)\n",
    "new_df.to_csv('processing/Shotgun_Sanger_DNA_Sequencing.csv')"
   ]
  },
  {
   "cell_type": "code",
   "execution_count": 40,
   "id": "d1ce85db",
   "metadata": {},
   "outputs": [],
   "source": [
    "# https://pcdb.santafe.edu/graph.php?curve=136\n",
    "sodium = read_pcdb('Sodium.csv', 'Sodium')"
   ]
  },
  {
   "cell_type": "code",
   "execution_count": 41,
   "id": "ce6c46ae",
   "metadata": {},
   "outputs": [],
   "source": [
    "# https://pcdb.santafe.edu/graph.php?curve=137\n",
    "sodium_chlorate = read_pcdb('SodiumChlorate.csv', 'Sodium Chlorate')"
   ]
  },
  {
   "cell_type": "code",
   "execution_count": 42,
   "id": "c56f1a1e",
   "metadata": {},
   "outputs": [],
   "source": [
    "# https://pcdb.santafe.edu/graph.php?curve=140\n",
    "styrene = read_pcdb('Styrene.csv', 'Styrene')"
   ]
  },
  {
   "cell_type": "code",
   "execution_count": 43,
   "id": "d2c5912c",
   "metadata": {},
   "outputs": [],
   "source": [
    "# https://pcdb.santafe.edu/graph.php?curve=151\n",
    "titanium_sponge = read_pcdb('Titanium_Sponge.csv', 'Titanium Sponge')"
   ]
  },
  {
   "cell_type": "code",
   "execution_count": 44,
   "id": "2a4705dd",
   "metadata": {},
   "outputs": [],
   "source": [
    "# https://pcdb.santafe.edu/graph.php?curve=143\n",
    "urea = read_pcdb('Urea.csv', 'Urea')"
   ]
  },
  {
   "cell_type": "code",
   "execution_count": 45,
   "id": "526a1039",
   "metadata": {},
   "outputs": [],
   "source": [
    "# https://pcdb.santafe.edu/graph.php?curve=144\n",
    "vinyl_acetate = read_pcdb('VinylAcetate.csv', 'Vinyl Acetate')"
   ]
  },
  {
   "cell_type": "code",
   "execution_count": 46,
   "id": "5fb3b949",
   "metadata": {},
   "outputs": [],
   "source": [
    "# https://pcdb.santafe.edu/graph.php?curve=145\n",
    "vinyl_chloride = read_pcdb('VinylChloride.csv', 'Vinyl Chloride')"
   ]
  },
  {
   "cell_type": "code",
   "execution_count": 47,
   "id": "46e5cbb4",
   "metadata": {},
   "outputs": [],
   "source": [
    "os.chdir('/Users/ariana/desktop/historical_tech/cleaned data')\n",
    "frame = pd.read_csv('frame.csv')\n",
    "df_list = [frame]"
   ]
  },
  {
   "cell_type": "code",
   "execution_count": 48,
   "id": "d3f56d63",
   "metadata": {},
   "outputs": [],
   "source": [
    "path = '/Users/ariana/desktop/historical_tech/raw data/PCDB/processing'\n",
    "os.chdir(path)\n",
    "for file in os.listdir(path):\n",
    "    file = pd.read_csv(file)\n",
    "    df_list.append(file)"
   ]
  },
  {
   "cell_type": "code",
   "execution_count": 49,
   "id": "79507f75",
   "metadata": {},
   "outputs": [
    {
     "data": {
      "text/html": [
       "<div>\n",
       "<style scoped>\n",
       "    .dataframe tbody tr th:only-of-type {\n",
       "        vertical-align: middle;\n",
       "    }\n",
       "\n",
       "    .dataframe tbody tr th {\n",
       "        vertical-align: top;\n",
       "    }\n",
       "\n",
       "    .dataframe thead th {\n",
       "        text-align: right;\n",
       "    }\n",
       "</style>\n",
       "<table border=\"1\" class=\"dataframe\">\n",
       "  <thead>\n",
       "    <tr style=\"text-align: right;\">\n",
       "      <th></th>\n",
       "      <th>ID</th>\n",
       "      <th>Spatial Scale</th>\n",
       "      <th>Country Code</th>\n",
       "      <th>Country Name</th>\n",
       "      <th>Technology Name</th>\n",
       "      <th>Metric</th>\n",
       "      <th>Unit</th>\n",
       "      <th>Data Source</th>\n",
       "      <th>1700</th>\n",
       "      <th>1701</th>\n",
       "      <th>...</th>\n",
       "      <th>2016</th>\n",
       "      <th>2017</th>\n",
       "      <th>2018</th>\n",
       "      <th>2019</th>\n",
       "      <th>2020</th>\n",
       "      <th>2021</th>\n",
       "      <th>2022</th>\n",
       "      <th>2023</th>\n",
       "      <th>2024</th>\n",
       "      <th>2025</th>\n",
       "    </tr>\n",
       "  </thead>\n",
       "  <tbody>\n",
       "    <tr>\n",
       "      <th>0</th>\n",
       "      <td>Caprolactam_Price_World</td>\n",
       "      <td>Global</td>\n",
       "      <td>World</td>\n",
       "      <td>World</td>\n",
       "      <td>Caprolactam</td>\n",
       "      <td>Price</td>\n",
       "      <td>Price (1966 USD/lbs)</td>\n",
       "      <td>Santa Fe Institute</td>\n",
       "      <td>NaN</td>\n",
       "      <td>NaN</td>\n",
       "      <td>...</td>\n",
       "      <td>NaN</td>\n",
       "      <td>NaN</td>\n",
       "      <td>NaN</td>\n",
       "      <td>NaN</td>\n",
       "      <td>NaN</td>\n",
       "      <td>NaN</td>\n",
       "      <td>NaN</td>\n",
       "      <td>NaN</td>\n",
       "      <td>NaN</td>\n",
       "      <td>NaN</td>\n",
       "    </tr>\n",
       "    <tr>\n",
       "      <th>1</th>\n",
       "      <td>Caprolactam_Annual production_World</td>\n",
       "      <td>Global</td>\n",
       "      <td>World</td>\n",
       "      <td>World</td>\n",
       "      <td>Caprolactam</td>\n",
       "      <td>Annual production</td>\n",
       "      <td>Yearly Production (Mil. lbs)</td>\n",
       "      <td>Santa Fe Institute</td>\n",
       "      <td>NaN</td>\n",
       "      <td>NaN</td>\n",
       "      <td>...</td>\n",
       "      <td>NaN</td>\n",
       "      <td>NaN</td>\n",
       "      <td>NaN</td>\n",
       "      <td>NaN</td>\n",
       "      <td>NaN</td>\n",
       "      <td>NaN</td>\n",
       "      <td>NaN</td>\n",
       "      <td>NaN</td>\n",
       "      <td>NaN</td>\n",
       "      <td>NaN</td>\n",
       "    </tr>\n",
       "    <tr>\n",
       "      <th>0</th>\n",
       "      <td>Crude Oil_Price_World</td>\n",
       "      <td>Global</td>\n",
       "      <td>World</td>\n",
       "      <td>World</td>\n",
       "      <td>Crude Oil</td>\n",
       "      <td>Price</td>\n",
       "      <td>Price (1958 USD)</td>\n",
       "      <td>Santa Fe Institute</td>\n",
       "      <td>NaN</td>\n",
       "      <td>NaN</td>\n",
       "      <td>...</td>\n",
       "      <td>NaN</td>\n",
       "      <td>NaN</td>\n",
       "      <td>NaN</td>\n",
       "      <td>NaN</td>\n",
       "      <td>NaN</td>\n",
       "      <td>NaN</td>\n",
       "      <td>NaN</td>\n",
       "      <td>NaN</td>\n",
       "      <td>NaN</td>\n",
       "      <td>NaN</td>\n",
       "    </tr>\n",
       "    <tr>\n",
       "      <th>1</th>\n",
       "      <td>Crude Oil_Annual production_World</td>\n",
       "      <td>Global</td>\n",
       "      <td>World</td>\n",
       "      <td>World</td>\n",
       "      <td>Crude Oil</td>\n",
       "      <td>Annual production</td>\n",
       "      <td>Yearly Production (Billion Barrels)</td>\n",
       "      <td>Santa Fe Institute</td>\n",
       "      <td>NaN</td>\n",
       "      <td>NaN</td>\n",
       "      <td>...</td>\n",
       "      <td>NaN</td>\n",
       "      <td>NaN</td>\n",
       "      <td>NaN</td>\n",
       "      <td>NaN</td>\n",
       "      <td>NaN</td>\n",
       "      <td>NaN</td>\n",
       "      <td>NaN</td>\n",
       "      <td>NaN</td>\n",
       "      <td>NaN</td>\n",
       "      <td>NaN</td>\n",
       "    </tr>\n",
       "    <tr>\n",
       "      <th>0</th>\n",
       "      <td>Titanium Sponge_Price_World</td>\n",
       "      <td>Global</td>\n",
       "      <td>World</td>\n",
       "      <td>World</td>\n",
       "      <td>Titanium Sponge</td>\n",
       "      <td>Price</td>\n",
       "      <td>Price (1958 USD/lbs)</td>\n",
       "      <td>Santa Fe Institute</td>\n",
       "      <td>NaN</td>\n",
       "      <td>NaN</td>\n",
       "      <td>...</td>\n",
       "      <td>NaN</td>\n",
       "      <td>NaN</td>\n",
       "      <td>NaN</td>\n",
       "      <td>NaN</td>\n",
       "      <td>NaN</td>\n",
       "      <td>NaN</td>\n",
       "      <td>NaN</td>\n",
       "      <td>NaN</td>\n",
       "      <td>NaN</td>\n",
       "      <td>NaN</td>\n",
       "    </tr>\n",
       "    <tr>\n",
       "      <th>...</th>\n",
       "      <td>...</td>\n",
       "      <td>...</td>\n",
       "      <td>...</td>\n",
       "      <td>...</td>\n",
       "      <td>...</td>\n",
       "      <td>...</td>\n",
       "      <td>...</td>\n",
       "      <td>...</td>\n",
       "      <td>...</td>\n",
       "      <td>...</td>\n",
       "      <td>...</td>\n",
       "      <td>...</td>\n",
       "      <td>...</td>\n",
       "      <td>...</td>\n",
       "      <td>...</td>\n",
       "      <td>...</td>\n",
       "      <td>...</td>\n",
       "      <td>...</td>\n",
       "      <td>...</td>\n",
       "      <td>...</td>\n",
       "      <td>...</td>\n",
       "    </tr>\n",
       "    <tr>\n",
       "      <th>1</th>\n",
       "      <td>Polystyrene_Annual production_World</td>\n",
       "      <td>Global</td>\n",
       "      <td>World</td>\n",
       "      <td>World</td>\n",
       "      <td>Polystyrene</td>\n",
       "      <td>Annual production</td>\n",
       "      <td>Yearly Production (Million Pounds)</td>\n",
       "      <td>Santa Fe Institute</td>\n",
       "      <td>NaN</td>\n",
       "      <td>NaN</td>\n",
       "      <td>...</td>\n",
       "      <td>NaN</td>\n",
       "      <td>NaN</td>\n",
       "      <td>NaN</td>\n",
       "      <td>NaN</td>\n",
       "      <td>NaN</td>\n",
       "      <td>NaN</td>\n",
       "      <td>NaN</td>\n",
       "      <td>NaN</td>\n",
       "      <td>NaN</td>\n",
       "      <td>NaN</td>\n",
       "    </tr>\n",
       "    <tr>\n",
       "      <th>0</th>\n",
       "      <td>Phenol_Price_World</td>\n",
       "      <td>Global</td>\n",
       "      <td>World</td>\n",
       "      <td>World</td>\n",
       "      <td>Phenol</td>\n",
       "      <td>Price</td>\n",
       "      <td>Price (1966 USD/lbs)</td>\n",
       "      <td>Santa Fe Institute</td>\n",
       "      <td>NaN</td>\n",
       "      <td>NaN</td>\n",
       "      <td>...</td>\n",
       "      <td>NaN</td>\n",
       "      <td>NaN</td>\n",
       "      <td>NaN</td>\n",
       "      <td>NaN</td>\n",
       "      <td>NaN</td>\n",
       "      <td>NaN</td>\n",
       "      <td>NaN</td>\n",
       "      <td>NaN</td>\n",
       "      <td>NaN</td>\n",
       "      <td>NaN</td>\n",
       "    </tr>\n",
       "    <tr>\n",
       "      <th>1</th>\n",
       "      <td>Phenol_Annual production_World</td>\n",
       "      <td>Global</td>\n",
       "      <td>World</td>\n",
       "      <td>World</td>\n",
       "      <td>Phenol</td>\n",
       "      <td>Annual production</td>\n",
       "      <td>Yearly Production (Mil. lbs)</td>\n",
       "      <td>Santa Fe Institute</td>\n",
       "      <td>NaN</td>\n",
       "      <td>NaN</td>\n",
       "      <td>...</td>\n",
       "      <td>NaN</td>\n",
       "      <td>NaN</td>\n",
       "      <td>NaN</td>\n",
       "      <td>NaN</td>\n",
       "      <td>NaN</td>\n",
       "      <td>NaN</td>\n",
       "      <td>NaN</td>\n",
       "      <td>NaN</td>\n",
       "      <td>NaN</td>\n",
       "      <td>NaN</td>\n",
       "    </tr>\n",
       "    <tr>\n",
       "      <th>0</th>\n",
       "      <td>Beer production_Price_JP</td>\n",
       "      <td>National</td>\n",
       "      <td>JP</td>\n",
       "      <td>Japan</td>\n",
       "      <td>Beer production</td>\n",
       "      <td>Price</td>\n",
       "      <td>Retail Price Minus Indirect Tax (USD 1955)</td>\n",
       "      <td>Santa Fe Institute</td>\n",
       "      <td>NaN</td>\n",
       "      <td>NaN</td>\n",
       "      <td>...</td>\n",
       "      <td>NaN</td>\n",
       "      <td>NaN</td>\n",
       "      <td>NaN</td>\n",
       "      <td>NaN</td>\n",
       "      <td>NaN</td>\n",
       "      <td>NaN</td>\n",
       "      <td>NaN</td>\n",
       "      <td>NaN</td>\n",
       "      <td>NaN</td>\n",
       "      <td>NaN</td>\n",
       "    </tr>\n",
       "    <tr>\n",
       "      <th>1</th>\n",
       "      <td>Beer production_Annual production_JP</td>\n",
       "      <td>National</td>\n",
       "      <td>JP</td>\n",
       "      <td>Japan</td>\n",
       "      <td>Beer production</td>\n",
       "      <td>Annual production</td>\n",
       "      <td>Yearly Production (Million Tons)</td>\n",
       "      <td>Santa Fe Institute</td>\n",
       "      <td>NaN</td>\n",
       "      <td>NaN</td>\n",
       "      <td>...</td>\n",
       "      <td>NaN</td>\n",
       "      <td>NaN</td>\n",
       "      <td>NaN</td>\n",
       "      <td>NaN</td>\n",
       "      <td>NaN</td>\n",
       "      <td>NaN</td>\n",
       "      <td>NaN</td>\n",
       "      <td>NaN</td>\n",
       "      <td>NaN</td>\n",
       "      <td>NaN</td>\n",
       "    </tr>\n",
       "  </tbody>\n",
       "</table>\n",
       "<p>86 rows × 334 columns</p>\n",
       "</div>"
      ],
      "text/plain": [
       "                                      ID Spatial Scale Country Code  \\\n",
       "0                Caprolactam_Price_World        Global        World   \n",
       "1    Caprolactam_Annual production_World        Global        World   \n",
       "0                  Crude Oil_Price_World        Global        World   \n",
       "1      Crude Oil_Annual production_World        Global        World   \n",
       "0            Titanium Sponge_Price_World        Global        World   \n",
       "..                                   ...           ...          ...   \n",
       "1    Polystyrene_Annual production_World        Global        World   \n",
       "0                     Phenol_Price_World        Global        World   \n",
       "1         Phenol_Annual production_World        Global        World   \n",
       "0               Beer production_Price_JP      National           JP   \n",
       "1   Beer production_Annual production_JP      National           JP   \n",
       "\n",
       "   Country Name  Technology Name             Metric  \\\n",
       "0         World      Caprolactam              Price   \n",
       "1         World      Caprolactam  Annual production   \n",
       "0         World        Crude Oil              Price   \n",
       "1         World        Crude Oil  Annual production   \n",
       "0         World  Titanium Sponge              Price   \n",
       "..          ...              ...                ...   \n",
       "1         World      Polystyrene  Annual production   \n",
       "0         World           Phenol              Price   \n",
       "1         World           Phenol  Annual production   \n",
       "0         Japan  Beer production              Price   \n",
       "1         Japan  Beer production  Annual production   \n",
       "\n",
       "                                          Unit         Data Source 1700 1701  \\\n",
       "0                         Price (1966 USD/lbs)  Santa Fe Institute  NaN  NaN   \n",
       "1                 Yearly Production (Mil. lbs)  Santa Fe Institute  NaN  NaN   \n",
       "0                             Price (1958 USD)  Santa Fe Institute  NaN  NaN   \n",
       "1          Yearly Production (Billion Barrels)  Santa Fe Institute  NaN  NaN   \n",
       "0                         Price (1958 USD/lbs)  Santa Fe Institute  NaN  NaN   \n",
       "..                                         ...                 ...  ...  ...   \n",
       "1           Yearly Production (Million Pounds)  Santa Fe Institute  NaN  NaN   \n",
       "0                         Price (1966 USD/lbs)  Santa Fe Institute  NaN  NaN   \n",
       "1                 Yearly Production (Mil. lbs)  Santa Fe Institute  NaN  NaN   \n",
       "0   Retail Price Minus Indirect Tax (USD 1955)  Santa Fe Institute  NaN  NaN   \n",
       "1             Yearly Production (Million Tons)  Santa Fe Institute  NaN  NaN   \n",
       "\n",
       "    ... 2016 2017 2018 2019 2020 2021 2022 2023 2024 2025  \n",
       "0   ...  NaN  NaN  NaN  NaN  NaN  NaN  NaN  NaN  NaN  NaN  \n",
       "1   ...  NaN  NaN  NaN  NaN  NaN  NaN  NaN  NaN  NaN  NaN  \n",
       "0   ...  NaN  NaN  NaN  NaN  NaN  NaN  NaN  NaN  NaN  NaN  \n",
       "1   ...  NaN  NaN  NaN  NaN  NaN  NaN  NaN  NaN  NaN  NaN  \n",
       "0   ...  NaN  NaN  NaN  NaN  NaN  NaN  NaN  NaN  NaN  NaN  \n",
       "..  ...  ...  ...  ...  ...  ...  ...  ...  ...  ...  ...  \n",
       "1   ...  NaN  NaN  NaN  NaN  NaN  NaN  NaN  NaN  NaN  NaN  \n",
       "0   ...  NaN  NaN  NaN  NaN  NaN  NaN  NaN  NaN  NaN  NaN  \n",
       "1   ...  NaN  NaN  NaN  NaN  NaN  NaN  NaN  NaN  NaN  NaN  \n",
       "0   ...  NaN  NaN  NaN  NaN  NaN  NaN  NaN  NaN  NaN  NaN  \n",
       "1   ...  NaN  NaN  NaN  NaN  NaN  NaN  NaN  NaN  NaN  NaN  \n",
       "\n",
       "[86 rows x 334 columns]"
      ]
     },
     "execution_count": 49,
     "metadata": {},
     "output_type": "execute_result"
    }
   ],
   "source": [
    "pcdb_all = pd.concat(df_list)\n",
    "pcdb_all"
   ]
  },
  {
   "cell_type": "code",
   "execution_count": 50,
   "id": "93476ff1",
   "metadata": {},
   "outputs": [],
   "source": [
    "os.chdir('/Users/ariana/desktop/historical_tech/cleaned data')"
   ]
  },
  {
   "cell_type": "code",
   "execution_count": 51,
   "id": "1dbf491a",
   "metadata": {},
   "outputs": [],
   "source": [
    "pcdb_all.to_csv('pcdb.csv', index=False)"
   ]
  },
  {
   "cell_type": "code",
   "execution_count": null,
   "id": "86fcbfad",
   "metadata": {},
   "outputs": [],
   "source": []
  }
 ],
 "metadata": {
  "kernelspec": {
   "display_name": "Python 3 (ipykernel)",
   "language": "python",
   "name": "python3"
  },
  "language_info": {
   "codemirror_mode": {
    "name": "ipython",
    "version": 3
   },
   "file_extension": ".py",
   "mimetype": "text/x-python",
   "name": "python",
   "nbconvert_exporter": "python",
   "pygments_lexer": "ipython3",
   "version": "3.9.13"
  }
 },
 "nbformat": 4,
 "nbformat_minor": 5
}
