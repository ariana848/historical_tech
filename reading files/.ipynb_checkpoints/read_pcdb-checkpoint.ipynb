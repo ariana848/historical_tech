{
 "cells": [
  {
   "cell_type": "code",
   "execution_count": 1,
   "id": "cd3df23f",
   "metadata": {},
   "outputs": [],
   "source": [
    "import pandas as pd\n",
    "from pandas import Series, DataFrame\n",
    "import country_converter as coco\n",
    "import os"
   ]
  },
  {
   "cell_type": "code",
   "execution_count": 4,
   "id": "e0f5ff09",
   "metadata": {},
   "outputs": [
    {
     "data": {
      "text/plain": [
       "['Caprolactam.csv',\n",
       " 'Crude_Oil.csv',\n",
       " 'Titanium_Sponge.csv',\n",
       " 'Milk_(US).csv',\n",
       " 'HydrofluoricAcid.csv',\n",
       " 'Primary_Aluminum.csv',\n",
       " 'Acrylonitrile.csv',\n",
       " 'PolyesterFiber.csv',\n",
       " 'EthylAlcohol.csv',\n",
       " 'Polyvinylchloride.csv',\n",
       " 'PolyethyleneLD.csv',\n",
       " 'Magnesium.csv',\n",
       " 'Shotgun_Sanger_DNA_Sequencing.csv',\n",
       " 'Pentaerythritol.csv',\n",
       " 'Ethylene_2.csv',\n",
       " 'VinylAcetate.csv',\n",
       " 'Aniline.csv',\n",
       " 'PhthalicAnhydride.csv',\n",
       " 'MaleicAnhydride.csv',\n",
       " 'Refined_Cane_Sugar.csv',\n",
       " 'Paraxylene.csv',\n",
       " 'VinylChloride.csv',\n",
       " 'Motor_Gasoline.csv',\n",
       " 'Styrene.csv',\n",
       " 'BisphenolA.csv',\n",
       " 'EthyleneGlycol.csv',\n",
       " 'Methanol.csv',\n",
       " 'PolyethyleneHD.csv',\n",
       " 'Low_Density_Polyethylene.csv',\n",
       " 'Urea.csv',\n",
       " 'Ethanolamine.csv',\n",
       " 'SodiumChlorate.csv',\n",
       " 'Primary_Magnesium.csv',\n",
       " 'NeopreneRubber.csv',\n",
       " 'Ethylene.csv',\n",
       " 'AcrylicFiber.csv',\n",
       " 'Formaldehyde.csv',\n",
       " 'Benzene.csv',\n",
       " 'Polystyrene.csv',\n",
       " 'Phenol.csv',\n",
       " 'Beer_(Japan).csv']"
      ]
     },
     "execution_count": 4,
     "metadata": {},
     "output_type": "execute_result"
    }
   ],
   "source": [
    "pcdb_files = os.listdir('/Users/ariana/desktop/historical_tech/raw data/PCDB')\n",
    "pcdb_files"
   ]
  },
  {
   "cell_type": "code",
   "execution_count": 5,
   "id": "fb4b3ee4",
   "metadata": {},
   "outputs": [],
   "source": [
    "os.chdir('/Users/ariana/desktop/historical_tech/raw data/PCDB')"
   ]
  },
  {
   "cell_type": "code",
   "execution_count": null,
   "id": "1a701911",
   "metadata": {},
   "outputs": [],
   "source": [
    "# https://pcdb.santafe.edu/graph.php?curve=119\n",
    "# Acrylic Fiber"
   ]
  },
  {
   "cell_type": "code",
   "execution_count": 8,
   "id": "a2d6a80a",
   "metadata": {},
   "outputs": [
    {
     "data": {
      "text/html": [
       "<div>\n",
       "<style scoped>\n",
       "    .dataframe tbody tr th:only-of-type {\n",
       "        vertical-align: middle;\n",
       "    }\n",
       "\n",
       "    .dataframe tbody tr th {\n",
       "        vertical-align: top;\n",
       "    }\n",
       "\n",
       "    .dataframe thead th {\n",
       "        text-align: right;\n",
       "    }\n",
       "</style>\n",
       "<table border=\"1\" class=\"dataframe\">\n",
       "  <thead>\n",
       "    <tr style=\"text-align: right;\">\n",
       "      <th></th>\n",
       "      <th>Price (1966 USD/lbs)</th>\n",
       "      <th>Time (year)</th>\n",
       "      <th>Yearly Production (Mil. lbs)</th>\n",
       "    </tr>\n",
       "  </thead>\n",
       "  <tbody>\n",
       "    <tr>\n",
       "      <th>0</th>\n",
       "      <td>132.986708</td>\n",
       "      <td>1960</td>\n",
       "      <td>135.7</td>\n",
       "    </tr>\n",
       "    <tr>\n",
       "      <th>1</th>\n",
       "      <td>120.445918</td>\n",
       "      <td>1961</td>\n",
       "      <td>140.1</td>\n",
       "    </tr>\n",
       "    <tr>\n",
       "      <th>2</th>\n",
       "      <td>107.475947</td>\n",
       "      <td>1962</td>\n",
       "      <td>170.0</td>\n",
       "    </tr>\n",
       "    <tr>\n",
       "      <th>3</th>\n",
       "      <td>107.475947</td>\n",
       "      <td>1963</td>\n",
       "      <td>209.7</td>\n",
       "    </tr>\n",
       "    <tr>\n",
       "      <th>4</th>\n",
       "      <td>100.619096</td>\n",
       "      <td>1964</td>\n",
       "      <td>287.7</td>\n",
       "    </tr>\n",
       "    <tr>\n",
       "      <th>5</th>\n",
       "      <td>91.295132</td>\n",
       "      <td>1965</td>\n",
       "      <td>368.4</td>\n",
       "    </tr>\n",
       "    <tr>\n",
       "      <th>6</th>\n",
       "      <td>79.363095</td>\n",
       "      <td>1966</td>\n",
       "      <td>352.9</td>\n",
       "    </tr>\n",
       "    <tr>\n",
       "      <th>7</th>\n",
       "      <td>72.850340</td>\n",
       "      <td>1967</td>\n",
       "      <td>397.7</td>\n",
       "    </tr>\n",
       "    <tr>\n",
       "      <th>8</th>\n",
       "      <td>57.672115</td>\n",
       "      <td>1968</td>\n",
       "      <td>521.0</td>\n",
       "    </tr>\n",
       "    <tr>\n",
       "      <th>9</th>\n",
       "      <td>51.820924</td>\n",
       "      <td>1969</td>\n",
       "      <td>533.0</td>\n",
       "    </tr>\n",
       "    <tr>\n",
       "      <th>10</th>\n",
       "      <td>49.712477</td>\n",
       "      <td>1970</td>\n",
       "      <td>491.9</td>\n",
       "    </tr>\n",
       "    <tr>\n",
       "      <th>11</th>\n",
       "      <td>45.558899</td>\n",
       "      <td>1971</td>\n",
       "      <td>545.2</td>\n",
       "    </tr>\n",
       "    <tr>\n",
       "      <th>12</th>\n",
       "      <td>40.192630</td>\n",
       "      <td>1972</td>\n",
       "      <td>625.9</td>\n",
       "    </tr>\n",
       "  </tbody>\n",
       "</table>\n",
       "</div>"
      ],
      "text/plain": [
       "    Price (1966 USD/lbs)  Time (year)  Yearly Production (Mil. lbs)\n",
       "0             132.986708         1960                         135.7\n",
       "1             120.445918         1961                         140.1\n",
       "2             107.475947         1962                         170.0\n",
       "3             107.475947         1963                         209.7\n",
       "4             100.619096         1964                         287.7\n",
       "5              91.295132         1965                         368.4\n",
       "6              79.363095         1966                         352.9\n",
       "7              72.850340         1967                         397.7\n",
       "8              57.672115         1968                         521.0\n",
       "9              51.820924         1969                         533.0\n",
       "10             49.712477         1970                         491.9\n",
       "11             45.558899         1971                         545.2\n",
       "12             40.192630         1972                         625.9"
      ]
     },
     "execution_count": 8,
     "metadata": {},
     "output_type": "execute_result"
    }
   ],
   "source": [
    "acrylic_fiber = pd.read_csv('AcrylicFiber.csv')\n",
    "acrylic_fiber.drop(columns=['Previous Production (Mil. lbs)'], inplace=True)\n",
    "acrylic_fiber"
   ]
  },
  {
   "cell_type": "code",
   "execution_count": null,
   "id": "ed503d02",
   "metadata": {},
   "outputs": [],
   "source": [
    "\n",
    "acrylic_fiber.set_index('Time (year)', inplace=True)\n",
    "acrylic_fiber = acrylic_fiber.transpose()\n",
    "acrylic_fiber['Technology Name'] = 'Acrylic Fiber'\n",
    "acrylic_fiber['Unit'] = 'Million Pounds'\n",
    "acrylic_fiber['Spatial Scale'] = 'World'\n",
    "acrylic_fiber['Data Source'] = 'Santa Fe Institute'\n",
    "acrylic_fiber['Metric'] = 'Annual Production'\n",
    "acrylic_fiber['ID'] = acrylic_fiber['Technology Name'] + '_' + acrylic_fiber['Metric'] + 'World'\n",
    "acrylic_fiber.set_index('ID', drop=True, inplace=True)\n",
    "acrylic_fiber.columns.name = None\n",
    "acrylic_fiber\n"
   ]
  },
  {
   "cell_type": "code",
   "execution_count": null,
   "id": "85b9298d",
   "metadata": {},
   "outputs": [],
   "source": [
    "acrylic_fiber.to_csv('cleaned data/acrylic_fiber.csv')"
   ]
  },
  {
   "cell_type": "code",
   "execution_count": null,
   "id": "89cb16d5",
   "metadata": {},
   "outputs": [],
   "source": [
    "# https://pcdb.santafe.edu/graph.php?curve=149\n",
    "# Primary Aluminum"
   ]
  },
  {
   "cell_type": "code",
   "execution_count": null,
   "id": "bc02d82c",
   "metadata": {},
   "outputs": [],
   "source": [
    "primary_alum = pd.read_csv('raw data/Primary_Aluminum.csv')\n",
    "primary_alum"
   ]
  },
  {
   "cell_type": "code",
   "execution_count": null,
   "id": "55c183a2",
   "metadata": {},
   "outputs": [],
   "source": [
    "# https://pcdb.santafe.edu/graph.php?curve=26\n",
    "# Milk"
   ]
  },
  {
   "cell_type": "code",
   "execution_count": null,
   "id": "1e387761",
   "metadata": {},
   "outputs": [],
   "source": [
    "# https://pcdb.santafe.edu/graph.php?curve=135\n",
    "# Polyethylene LD"
   ]
  },
  {
   "cell_type": "code",
   "execution_count": null,
   "id": "c56f1a1e",
   "metadata": {},
   "outputs": [],
   "source": [
    "# https://pcdb.santafe.edu/graph.php?curve=140\n",
    "# Styrene"
   ]
  },
  {
   "cell_type": "code",
   "execution_count": null,
   "id": "d4d2c242",
   "metadata": {},
   "outputs": [],
   "source": [
    "# https://pcdb.santafe.edu/graph.php?curve=132\n",
    "# Phthalic Anhydride"
   ]
  },
  {
   "cell_type": "code",
   "execution_count": null,
   "id": "b90ea9b2",
   "metadata": {},
   "outputs": [],
   "source": [
    "# https://pcdb.santafe.edu/graph.php?curve=120\n",
    "# Ethyl Alcohol"
   ]
  },
  {
   "cell_type": "code",
   "execution_count": null,
   "id": "9de85cb1",
   "metadata": {},
   "outputs": [],
   "source": [
    "# https://pcdb.santafe.edu/graph.php?curve=101\n",
    "# Paraxylene"
   ]
  },
  {
   "cell_type": "code",
   "execution_count": null,
   "id": "c3a1ce59",
   "metadata": {},
   "outputs": [],
   "source": [
    "# https://pcdb.santafe.edu/graph.php?curve=134\n",
    "# Polyethylene HD"
   ]
  },
  {
   "cell_type": "code",
   "execution_count": null,
   "id": "f088a0ad",
   "metadata": {},
   "outputs": [],
   "source": [
    "# https://pcdb.santafe.edu/graph.php?curve=128\n",
    "# Methanol"
   ]
  },
  {
   "cell_type": "code",
   "execution_count": null,
   "id": "ce6c46ae",
   "metadata": {},
   "outputs": [],
   "source": [
    "# https://pcdb.santafe.edu/graph.php?curve=137\n",
    "# Sodium Chlorate"
   ]
  },
  {
   "cell_type": "code",
   "execution_count": null,
   "id": "144be94b",
   "metadata": {},
   "outputs": [],
   "source": [
    "# https://pcdb.santafe.edu/graph.php?curve=131\n",
    "# Phenol"
   ]
  },
  {
   "cell_type": "code",
   "execution_count": null,
   "id": "b3bae89f",
   "metadata": {},
   "outputs": [],
   "source": [
    "# https://pcdb.santafe.edu/graph.php?curve=118\n",
    "# Ethanolamine"
   ]
  },
  {
   "cell_type": "code",
   "execution_count": null,
   "id": "0a06b743",
   "metadata": {},
   "outputs": [],
   "source": [
    "# https://pcdb.santafe.edu/graph.php?curve=155\n",
    "# Refined Cane Sugar"
   ]
  },
  {
   "cell_type": "code",
   "execution_count": null,
   "id": "e73115e6",
   "metadata": {},
   "outputs": [],
   "source": [
    "# https://pcdb.santafe.edu/graph.php?curve=113\n",
    "# Acrylonitrile"
   ]
  },
  {
   "cell_type": "code",
   "execution_count": null,
   "id": "1e83cdad",
   "metadata": {},
   "outputs": [],
   "source": [
    "# https://pcdb.santafe.edu/graph.php?curve=126\n",
    "# Magnesium"
   ]
  },
  {
   "cell_type": "code",
   "execution_count": null,
   "id": "0b3b941a",
   "metadata": {},
   "outputs": [],
   "source": [
    "# https://pcdb.santafe.edu/graph.php?curve=122\n",
    "# Ethylene Glycol"
   ]
  },
  {
   "cell_type": "code",
   "execution_count": null,
   "id": "2be108ce",
   "metadata": {},
   "outputs": [],
   "source": [
    "# https://pcdb.santafe.edu/graph.php?curve=127\n",
    "# Maleic Anhydride"
   ]
  },
  {
   "cell_type": "code",
   "execution_count": null,
   "id": "4d8591ee",
   "metadata": {},
   "outputs": [],
   "source": [
    "# https://pcdb.santafe.edu/graph.php?curve=150\n",
    "# Primary Magnesium"
   ]
  },
  {
   "cell_type": "code",
   "execution_count": null,
   "id": "5dda3794",
   "metadata": {},
   "outputs": [],
   "source": [
    "# https://pcdb.santafe.edu/graph.php?curve=108\n",
    "# Aniline"
   ]
  },
  {
   "cell_type": "code",
   "execution_count": null,
   "id": "2301e310",
   "metadata": {},
   "outputs": [],
   "source": [
    "# https://pcdb.santafe.edu/graph.php?curve=153\n",
    "# Beer (Japan)"
   ]
  },
  {
   "cell_type": "code",
   "execution_count": null,
   "id": "05803d56",
   "metadata": {},
   "outputs": [],
   "source": [
    "# https://pcdb.santafe.edu/graph.php?curve=100\n",
    "# Benzene"
   ]
  },
  {
   "cell_type": "code",
   "execution_count": null,
   "id": "0058d888",
   "metadata": {},
   "outputs": [],
   "source": [
    "# https://pcdb.santafe.edu/graph.php?curve=111\n",
    "# Bisphenol A"
   ]
  },
  {
   "cell_type": "code",
   "execution_count": null,
   "id": "523bd26d",
   "metadata": {},
   "outputs": [],
   "source": [
    "# https://pcdb.santafe.edu/graph.php?curve=112\n",
    "# Caprolactam"
   ]
  },
  {
   "cell_type": "code",
   "execution_count": null,
   "id": "6332a3b9",
   "metadata": {},
   "outputs": [],
   "source": [
    "# https://pcdb.santafe.edu/graph.php?curve=97\n",
    "# Crude_Oil"
   ]
  },
  {
   "cell_type": "code",
   "execution_count": null,
   "id": "536931d6",
   "metadata": {},
   "outputs": [],
   "source": [
    "# https://pcdb.santafe.edu/graph.php?curve=121\n",
    "# Ethylene_2"
   ]
  },
  {
   "cell_type": "code",
   "execution_count": null,
   "id": "8596f7c5",
   "metadata": {},
   "outputs": [],
   "source": [
    "# https://pcdb.santafe.edu/graph.php?curve=99\n",
    "# Ethylene"
   ]
  },
  {
   "cell_type": "code",
   "execution_count": null,
   "id": "3568df6e",
   "metadata": {},
   "outputs": [],
   "source": [
    "# https://pcdb.santafe.edu/graph.php?curve=123\n",
    "# Formaldehyde"
   ]
  },
  {
   "cell_type": "code",
   "execution_count": null,
   "id": "bfbb62cb",
   "metadata": {},
   "outputs": [],
   "source": [
    "# https://pcdb.santafe.edu/graph.php?curve=124\n",
    "# Hydrofluoric Acid"
   ]
  },
  {
   "cell_type": "code",
   "execution_count": null,
   "id": "edd1d3ab",
   "metadata": {},
   "outputs": [],
   "source": [
    "# https://pcdb.santafe.edu/graph.php?curve=102\n",
    "# Low Density Polyethylene"
   ]
  },
  {
   "cell_type": "code",
   "execution_count": null,
   "id": "c789ab8f",
   "metadata": {},
   "outputs": [],
   "source": [
    "# https://pcdb.santafe.edu/graph.php?curve=98\n",
    "# Motor_Gasoline"
   ]
  },
  {
   "cell_type": "code",
   "execution_count": null,
   "id": "9d2d2bab",
   "metadata": {},
   "outputs": [],
   "source": [
    "# https://pcdb.santafe.edu/graph.php?curve=129\n",
    "# Neoprene Rubber"
   ]
  },
  {
   "cell_type": "code",
   "execution_count": null,
   "id": "00f96116",
   "metadata": {},
   "outputs": [],
   "source": [
    "# https://pcdb.santafe.edu/graph.php?curve=130\n",
    "# Pentaerythritol"
   ]
  },
  {
   "cell_type": "code",
   "execution_count": null,
   "id": "87a0f2a2",
   "metadata": {},
   "outputs": [],
   "source": [
    "# https://pcdb.santafe.edu/graph.php?curve=133\n",
    "# Polyester Fiber"
   ]
  },
  {
   "cell_type": "code",
   "execution_count": null,
   "id": "6ee1a53c",
   "metadata": {},
   "outputs": [],
   "source": [
    "# https://pcdb.santafe.edu/graph.php?curve=147\n",
    "# Polystyrene"
   ]
  },
  {
   "cell_type": "code",
   "execution_count": null,
   "id": "65b735d1",
   "metadata": {},
   "outputs": [],
   "source": [
    "# https://pcdb.santafe.edu/graph.php?curve=148\n",
    "# Polyvinylchloride"
   ]
  },
  {
   "cell_type": "code",
   "execution_count": null,
   "id": "d2c5912c",
   "metadata": {},
   "outputs": [],
   "source": [
    "# https://pcdb.santafe.edu/graph.php?curve=151\n",
    "# Titanium_Sponge"
   ]
  },
  {
   "cell_type": "code",
   "execution_count": null,
   "id": "2a4705dd",
   "metadata": {},
   "outputs": [],
   "source": [
    "# https://pcdb.santafe.edu/graph.php?curve=143\n",
    "# Urea"
   ]
  },
  {
   "cell_type": "code",
   "execution_count": null,
   "id": "526a1039",
   "metadata": {},
   "outputs": [],
   "source": [
    "# https://pcdb.santafe.edu/graph.php?curve=144\n",
    "# Vinyl Acetate"
   ]
  },
  {
   "cell_type": "code",
   "execution_count": null,
   "id": "5fb3b949",
   "metadata": {},
   "outputs": [],
   "source": [
    "# https://pcdb.santafe.edu/graph.php?curve=145\n",
    "# Vinyl Chloride"
   ]
  },
  {
   "cell_type": "code",
   "execution_count": null,
   "id": "4838eac8",
   "metadata": {},
   "outputs": [],
   "source": [
    "# https://pcdb.santafe.edu/graph.php?curve=34\n",
    "# Shotgun Sanger DNA sequencing\n",
    "\n",
    "# weird convention for years with decimals \n",
    "# seems like they're trying to indicate months, but that will be tricky in terms of aggregation"
   ]
  }
 ],
 "metadata": {
  "kernelspec": {
   "display_name": "Python 3 (ipykernel)",
   "language": "python",
   "name": "python3"
  },
  "language_info": {
   "codemirror_mode": {
    "name": "ipython",
    "version": 3
   },
   "file_extension": ".py",
   "mimetype": "text/x-python",
   "name": "python",
   "nbconvert_exporter": "python",
   "pygments_lexer": "ipython3",
   "version": "3.9.13"
  }
 },
 "nbformat": 4,
 "nbformat_minor": 5
}
