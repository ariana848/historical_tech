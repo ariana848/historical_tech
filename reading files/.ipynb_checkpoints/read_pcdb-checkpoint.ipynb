{
 "cells": [
  {
   "cell_type": "code",
   "execution_count": 1,
   "id": "cd3df23f",
   "metadata": {},
   "outputs": [],
   "source": [
    "import pandas as pd\n",
    "from pandas import Series, DataFrame\n",
    "import country_converter as coco\n",
    "import os"
   ]
  },
  {
   "cell_type": "code",
   "execution_count": 2,
   "id": "fb4b3ee4",
   "metadata": {},
   "outputs": [],
   "source": [
    "os.chdir('/Users/ariana/desktop/historical_tech')"
   ]
  },
  {
   "cell_type": "code",
   "execution_count": 3,
   "id": "77c42391",
   "metadata": {},
   "outputs": [],
   "source": [
    "def read_pcdb(file, tech_name, place='World'):\n",
    "    file_name = 'raw data/pcdb/' + file\n",
    "    df = pd.read_csv(file_name, usecols=[0, 1, 2])\n",
    "    for col in df.columns:\n",
    "        for val in df[col]:\n",
    "            if type(val) != float and type(val) != int:\n",
    "                print(type(val), val)\n",
    "                break\n",
    "    df.set_index(df.columns[1], inplace=True)\n",
    "    df = df.transpose()\n",
    "    df['Data Source'] = 'Santa Fe Institute'\n",
    "    df['Metric'] = ['Price', 'Annual production']\n",
    "    df['Technology Name'] = tech_name\n",
    "    if place=='World':\n",
    "        df['Spatial Scale'] = 'Global'\n",
    "        df['Country Name'] = 'World'\n",
    "        df['Country Code'] = 'World'\n",
    "    if place=='US':\n",
    "        df['Spatial Scale'] = 'National'\n",
    "        df['Country Name'] = 'United States'\n",
    "        df['Country Code'] = 'US'\n",
    "    if place=='Japan':\n",
    "        df['Spatial Scale'] = 'National'\n",
    "        df['Country Name'] = 'Japan'\n",
    "        df['Country Code'] = 'JP'\n",
    "    df['ID'] = df['Technology Name'] + '_' + df['Metric'] + '_' + df['Country Code']\n",
    "    df['Unit'] = [df.index[0], df.index[1]]\n",
    "    df.set_index('ID', drop=True, inplace=True)\n",
    "    df.columns.name = None\n",
    "    new_file_name = 'cleaned data/pcdb_' + file\n",
    "    df.to_csv(new_file_name)\n",
    "    return df"
   ]
  },
  {
   "cell_type": "code",
   "execution_count": 4,
   "id": "1a701911",
   "metadata": {},
   "outputs": [],
   "source": [
    "# https://pcdb.santafe.edu/graph.php?curve=119\n",
    "acrylic_fiber = read_pcdb('AcrylicFiber.csv', 'Acrylic Fiber')"
   ]
  },
  {
   "cell_type": "code",
   "execution_count": 5,
   "id": "e73115e6",
   "metadata": {},
   "outputs": [],
   "source": [
    "# https://pcdb.santafe.edu/graph.php?curve=113\n",
    "acrylonitrile = read_pcdb('Acrylonitrile.csv', 'Acrylonitrile')"
   ]
  },
  {
   "cell_type": "code",
   "execution_count": 6,
   "id": "5dda3794",
   "metadata": {},
   "outputs": [],
   "source": [
    "# https://pcdb.santafe.edu/graph.php?curve=108\n",
    "aniline = read_pcdb('Aniline.csv', 'Aniline')"
   ]
  },
  {
   "cell_type": "code",
   "execution_count": 7,
   "id": "05803d56",
   "metadata": {},
   "outputs": [],
   "source": [
    "# https://pcdb.santafe.edu/graph.php?curve=100\n",
    "benzene = read_pcdb('Benzene.csv', 'Benzene')"
   ]
  },
  {
   "cell_type": "code",
   "execution_count": 8,
   "id": "0058d888",
   "metadata": {},
   "outputs": [],
   "source": [
    "# https://pcdb.santafe.edu/graph.php?curve=111\n",
    "bisphenol_a = read_pcdb('BisphenolA.csv', 'Bisphenol A')"
   ]
  },
  {
   "cell_type": "code",
   "execution_count": 9,
   "id": "523bd26d",
   "metadata": {},
   "outputs": [],
   "source": [
    "# https://pcdb.santafe.edu/graph.php?curve=112\n",
    "caprolactam = read_pcdb('Caprolactam.csv', 'Caprolactam')"
   ]
  },
  {
   "cell_type": "code",
   "execution_count": 10,
   "id": "6332a3b9",
   "metadata": {},
   "outputs": [],
   "source": [
    "# https://pcdb.santafe.edu/graph.php?curve=97\n",
    "# drop price, BP has longer time series\n",
    "crude_oil = read_pcdb('Crude_Oil.csv', 'Crude Oil')\n",
    "crude_oil.drop(index='Crude Oil_Price_World', inplace=True)\n",
    "crude_oil.to_csv('cleaned data/pcdb_Crude_Oil.csv')"
   ]
  },
  {
   "cell_type": "code",
   "execution_count": 11,
   "id": "2bb1760e",
   "metadata": {},
   "outputs": [],
   "source": [
    "# https://pcdb.santafe.edu/graph.php?curve=116\n",
    "cyclohexane = read_pcdb('Cyclohexane.csv', 'Cyclohexane')"
   ]
  },
  {
   "cell_type": "code",
   "execution_count": 12,
   "id": "b3bae89f",
   "metadata": {},
   "outputs": [],
   "source": [
    "# https://pcdb.santafe.edu/graph.php?curve=118\n",
    "ethanolamine = read_pcdb('Ethanolamine.csv', 'Ethanolamine')"
   ]
  },
  {
   "cell_type": "code",
   "execution_count": 13,
   "id": "bb015e8a",
   "metadata": {},
   "outputs": [],
   "source": [
    "# https://pcdb.santafe.edu/graph.php?curve=120\n",
    "ethyl_alcohol = read_pcdb('EthylAlcohol.csv', 'Ethyl Alcohol')"
   ]
  },
  {
   "cell_type": "code",
   "execution_count": 14,
   "id": "8596f7c5",
   "metadata": {},
   "outputs": [],
   "source": [
    "# https://pcdb.santafe.edu/graph.php?curve=99\n",
    "ethylene = read_pcdb('Ethylene.csv', 'Ethylene')"
   ]
  },
  {
   "cell_type": "code",
   "execution_count": 15,
   "id": "0b3b941a",
   "metadata": {},
   "outputs": [],
   "source": [
    "# https://pcdb.santafe.edu/graph.php?curve=122\n",
    "# EthyleneGlycol\n",
    "ethylene_glycol = read_pcdb('EthyleneGlycol.csv', 'Ethylene Glycol')"
   ]
  },
  {
   "cell_type": "code",
   "execution_count": 16,
   "id": "3568df6e",
   "metadata": {},
   "outputs": [],
   "source": [
    "# https://pcdb.santafe.edu/graph.php?curve=123\n",
    "formaldehyde = read_pcdb('Formaldehyde.csv', 'Formaldehyde')"
   ]
  },
  {
   "cell_type": "code",
   "execution_count": 17,
   "id": "bfbb62cb",
   "metadata": {},
   "outputs": [],
   "source": [
    "# https://pcdb.santafe.edu/graph.php?curve=124\n",
    "hydrofluoric_acid = read_pcdb('HydrofluoricAcid.csv', 'Hydrofluoric Acid')"
   ]
  },
  {
   "cell_type": "code",
   "execution_count": 18,
   "id": "1e83cdad",
   "metadata": {},
   "outputs": [],
   "source": [
    "# https://pcdb.santafe.edu/graph.php?curve=126\n",
    "magnesium = read_pcdb('Magnesium.csv', 'Magnesium')"
   ]
  },
  {
   "cell_type": "code",
   "execution_count": 19,
   "id": "2be108ce",
   "metadata": {},
   "outputs": [],
   "source": [
    "# https://pcdb.santafe.edu/graph.php?curve=127\n",
    "maleic_anhydride = read_pcdb('MaleicAnhydride.csv', 'Maleic Anhydride')"
   ]
  },
  {
   "cell_type": "code",
   "execution_count": 20,
   "id": "f088a0ad",
   "metadata": {},
   "outputs": [],
   "source": [
    "# https://pcdb.santafe.edu/graph.php?curve=128\n",
    "methanol = read_pcdb('Methanol.csv', 'Methanol')"
   ]
  },
  {
   "cell_type": "code",
   "execution_count": 21,
   "id": "c789ab8f",
   "metadata": {},
   "outputs": [],
   "source": [
    "# https://pcdb.santafe.edu/graph.php?curve=98\n",
    "motor_gasoline = read_pcdb('Motor_Gasoline.csv', 'Motor Gasoline')"
   ]
  },
  {
   "cell_type": "code",
   "execution_count": 22,
   "id": "9d2d2bab",
   "metadata": {},
   "outputs": [],
   "source": [
    "# https://pcdb.santafe.edu/graph.php?curve=129\n",
    "neoprene_rubber = read_pcdb('NeopreneRubber.csv', 'Neoprene Rubber')"
   ]
  },
  {
   "cell_type": "code",
   "execution_count": 23,
   "id": "9de85cb1",
   "metadata": {},
   "outputs": [],
   "source": [
    "# https://pcdb.santafe.edu/graph.php?curve=101\n",
    "paraxylene = read_pcdb('Paraxylene.csv', 'Paraxylene')"
   ]
  },
  {
   "cell_type": "code",
   "execution_count": 24,
   "id": "00f96116",
   "metadata": {},
   "outputs": [],
   "source": [
    "# https://pcdb.santafe.edu/graph.php?curve=130\n",
    "pentaerythritol = read_pcdb('Pentaerythritol.csv', 'Pentaerythritol')"
   ]
  },
  {
   "cell_type": "code",
   "execution_count": 25,
   "id": "144be94b",
   "metadata": {},
   "outputs": [],
   "source": [
    "# https://pcdb.santafe.edu/graph.php?curve=131\n",
    "phenol = read_pcdb('Phenol.csv', 'Phenol')"
   ]
  },
  {
   "cell_type": "code",
   "execution_count": 26,
   "id": "d4d2c242",
   "metadata": {},
   "outputs": [],
   "source": [
    "# https://pcdb.santafe.edu/graph.php?curve=132\n",
    "phthalic_anhydride = read_pcdb('PhthalicAnhydride.csv', 'Phthalic Anhydride')"
   ]
  },
  {
   "cell_type": "code",
   "execution_count": 27,
   "id": "87a0f2a2",
   "metadata": {},
   "outputs": [],
   "source": [
    "# https://pcdb.santafe.edu/graph.php?curve=133\n",
    "polyester_fiber = read_pcdb('PolyesterFiber.csv', 'Polyester Fiber')"
   ]
  },
  {
   "cell_type": "code",
   "execution_count": 28,
   "id": "c3a1ce59",
   "metadata": {},
   "outputs": [],
   "source": [
    "# https://pcdb.santafe.edu/graph.php?curve=134\n",
    "polyethylene_hd = read_pcdb('PolyethyleneHD.csv', 'High-Density Polyethylene')"
   ]
  },
  {
   "cell_type": "code",
   "execution_count": 29,
   "id": "1e387761",
   "metadata": {},
   "outputs": [],
   "source": [
    "# https://pcdb.santafe.edu/graph.php?curve=135\n",
    "polyethylene_ld = read_pcdb('PolyethyleneLD.csv', 'Low-Density Polyethylene')"
   ]
  },
  {
   "cell_type": "code",
   "execution_count": 30,
   "id": "6ee1a53c",
   "metadata": {},
   "outputs": [],
   "source": [
    "# https://pcdb.santafe.edu/graph.php?curve=147\n",
    "polystyrene = read_pcdb('Polystyrene.csv', 'Polystyrene')"
   ]
  },
  {
   "cell_type": "code",
   "execution_count": 31,
   "id": "65b735d1",
   "metadata": {},
   "outputs": [],
   "source": [
    "# https://pcdb.santafe.edu/graph.php?curve=148\n",
    "polyvinylchloride = read_pcdb('Polyvinylchloride.csv', 'Polyvinylchloride')"
   ]
  },
  {
   "cell_type": "code",
   "execution_count": 32,
   "id": "4d8591ee",
   "metadata": {},
   "outputs": [],
   "source": [
    "# https://pcdb.santafe.edu/graph.php?curve=150\n",
    "primary_magnesium = read_pcdb('Primary_Magnesium.csv', 'Primary Magnesium')"
   ]
  },
  {
   "cell_type": "code",
   "execution_count": 33,
   "id": "4838eac8",
   "metadata": {},
   "outputs": [],
   "source": [
    "# https://pcdb.santafe.edu/graph.php?curve=34\n",
    "# Shotgun_Sanger_DNA_Sequencing\n",
    "\n",
    "# due to the uneven structure of the data,\n",
    "# we are using the average cost of all quarters where data is provided as the yearly average cost\n",
    "# and the yearly production value of the latest quarter in the year\n",
    "\n",
    "dna_sequencing = pd.read_csv('raw data/pcdb/Shotgun_Sanger_DNA_Sequencing.csv', usecols=[0, 1, 2])\n",
    "year_list = []\n",
    "for year in dna_sequencing['Time (Year)']:\n",
    "    year_list.append(str(year)[:4])\n",
    "dna_sequencing['Year'] = year_list\n",
    "\n",
    "year_set = set(year_list)\n",
    "year_dict = {}\n",
    "\n",
    "for year in year_set:\n",
    "    year_dict[year] = []\n",
    "    \n",
    "year_dict = dict(sorted(year_dict.items(), key = lambda item: item[0]))\n",
    "\n",
    "for year in dna_sequencing['Time (Year)']:\n",
    "    year_4_char = str(year)[:4]\n",
    "    year = str(year)\n",
    "    year_dict[year_4_char].append(year)\n",
    "\n",
    "greatest_qtrs = []\n",
    "for year in year_dict:\n",
    "    greatest_qtr = None\n",
    "    for qtr in year_dict[year]:\n",
    "        if greatest_qtr == None:\n",
    "            greatest_qtr = qtr\n",
    "        else:\n",
    "            if qtr > greatest_qtr:\n",
    "                greatest_qtr = qtr\n",
    "    greatest_qtrs.append(qtr)\n",
    "\n",
    "yearly_production = []\n",
    "for idx in dna_sequencing.index:\n",
    "    qtr_year = str(dna_sequencing['Time (Year)'].iloc[idx])\n",
    "    yrly_production = dna_sequencing['Yearly Production (Kilobase)'].iloc[idx]\n",
    "    if qtr_year in greatest_qtrs:\n",
    "        yearly_production.append(yrly_production)\n",
    "        \n",
    "year_list = sorted(list(year_set))\n",
    "\n",
    "cost_dict = {}\n",
    "for year in year_set:\n",
    "    cost_dict[year] = []\n",
    "cost_dict = dict(sorted(cost_dict.items(), key = lambda item: item[0]))\n",
    "\n",
    "for idx in dna_sequencing.index:\n",
    "    cost = dna_sequencing['Cost (USD/Kilobase)'].iloc[idx]\n",
    "    year = str(dna_sequencing['Year'].iloc[idx])\n",
    "    cost_dict[year].append(cost)\n",
    "\n",
    "avg_cost = []\n",
    "for year in cost_dict:\n",
    "    avg_cost.append(sum(cost_dict[year]) / len(cost_dict[year]))\n",
    "    \n",
    "new_df = pd.DataFrame(avg_cost, year_list)\n",
    "new_df['Annual Production'] = yearly_production\n",
    "new_df = new_df.transpose()\n",
    "new_df['Data Source'] = 'Santa Fe Institute'\n",
    "new_df['Spatial Scale'] = 'Global'\n",
    "new_df['Country Name'] = 'World'\n",
    "new_df['Country Code'] = 'World'\n",
    "new_df['Metric'] = ['Price', 'Total Number']\n",
    "new_df['Unit'] = ['USD/Kilobase', 'Kilobase']\n",
    "new_df['Technology Name'] = 'Shotgun Sanger DNA Sequencing'\n",
    "new_df['ID'] = new_df['Technology Name'] + '_' + new_df['Metric'] + '_' + new_df['Country Code']\n",
    "new_df.set_index('ID', drop=True, inplace=True)\n",
    "new_df.to_csv('cleaned data/pcdb_Shotgun_Sanger_DNA_Sequencing.csv')"
   ]
  },
  {
   "cell_type": "code",
   "execution_count": 34,
   "id": "d1ce85db",
   "metadata": {},
   "outputs": [],
   "source": [
    "# https://pcdb.santafe.edu/graph.php?curve=136\n",
    "sodium = read_pcdb('Sodium.csv', 'Sodium')"
   ]
  },
  {
   "cell_type": "code",
   "execution_count": 35,
   "id": "ce6c46ae",
   "metadata": {},
   "outputs": [],
   "source": [
    "# https://pcdb.santafe.edu/graph.php?curve=137\n",
    "sodium_chlorate = read_pcdb('SodiumChlorate.csv', 'Sodium Chlorate')"
   ]
  },
  {
   "cell_type": "code",
   "execution_count": 36,
   "id": "c56f1a1e",
   "metadata": {},
   "outputs": [],
   "source": [
    "# https://pcdb.santafe.edu/graph.php?curve=140\n",
    "styrene = read_pcdb('Styrene.csv', 'Styrene')"
   ]
  },
  {
   "cell_type": "code",
   "execution_count": 37,
   "id": "d2c5912c",
   "metadata": {},
   "outputs": [],
   "source": [
    "# https://pcdb.santafe.edu/graph.php?curve=151\n",
    "titanium_sponge = read_pcdb('Titanium_Sponge.csv', 'Titanium Sponge')"
   ]
  },
  {
   "cell_type": "code",
   "execution_count": 38,
   "id": "2a4705dd",
   "metadata": {},
   "outputs": [],
   "source": [
    "# https://pcdb.santafe.edu/graph.php?curve=143\n",
    "urea = read_pcdb('Urea.csv', 'Urea')"
   ]
  },
  {
   "cell_type": "code",
   "execution_count": 39,
   "id": "526a1039",
   "metadata": {},
   "outputs": [],
   "source": [
    "# https://pcdb.santafe.edu/graph.php?curve=144\n",
    "vinyl_acetate = read_pcdb('VinylAcetate.csv', 'Vinyl Acetate')"
   ]
  },
  {
   "cell_type": "code",
   "execution_count": 40,
   "id": "5fb3b949",
   "metadata": {},
   "outputs": [],
   "source": [
    "# https://pcdb.santafe.edu/graph.php?curve=145\n",
    "vinyl_chloride = read_pcdb('VinylChloride.csv', 'Vinyl Chloride')"
   ]
  },
  {
   "cell_type": "code",
   "execution_count": null,
   "id": "86fcbfad",
   "metadata": {},
   "outputs": [],
   "source": []
  }
 ],
 "metadata": {
  "kernelspec": {
   "display_name": "Python 3 (ipykernel)",
   "language": "python",
   "name": "python3"
  },
  "language_info": {
   "codemirror_mode": {
    "name": "ipython",
    "version": 3
   },
   "file_extension": ".py",
   "mimetype": "text/x-python",
   "name": "python",
   "nbconvert_exporter": "python",
   "pygments_lexer": "ipython3",
   "version": "3.9.13"
  }
 },
 "nbformat": 4,
 "nbformat_minor": 5
}
