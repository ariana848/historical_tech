{
 "cells": [
  {
   "cell_type": "code",
   "execution_count": 1,
   "id": "f1e31e92",
   "metadata": {},
   "outputs": [],
   "source": [
    "import pandas as pd\n",
    "from pandas import Series, DataFrame\n",
    "import country_converter as coco\n",
    "import os"
   ]
  },
  {
   "cell_type": "code",
   "execution_count": 2,
   "id": "ead01778",
   "metadata": {},
   "outputs": [],
   "source": [
    "# https://pxweb.irena.org/pxweb/en/IRENASTAT"
   ]
  },
  {
   "cell_type": "code",
   "execution_count": 3,
   "id": "bf32a050",
   "metadata": {},
   "outputs": [],
   "source": [
    "def read_irena(file):\n",
    "    path = '/Users/ariana/desktop/historical_tech'\n",
    "    os.chdir(path)\n",
    "    df = pd.read_excel(file, header=2, skipfooter=26)\n",
    "    df.dropna(how='all', inplace=True)\n",
    "    df.rename(columns={'Unnamed: 0': 'Country Name'}, inplace=True)\n",
    "    df.drop(columns=['Unnamed: 1', 'Unnamed: 2'], inplace=True)\n",
    "    df['Data Source'] = 'IRENA'\n",
    "    df['Spatial Scale'] = 'National'\n",
    "    df['Metric'] = 'Installed electricity capacity'\n",
    "    df['Unit'] = 'MW'\n",
    "    iso2 = []\n",
    "    for country in df['Country Name']:\n",
    "        iso2.append(coco.convert(names=country, to='iso2'))\n",
    "    df['Country Code'] = iso2\n",
    "    return df"
   ]
  },
  {
   "cell_type": "code",
   "execution_count": 4,
   "id": "7023901c",
   "metadata": {},
   "outputs": [],
   "source": [
    "def tech_name(df, tech):\n",
    "    df['Technology Name'] = tech\n",
    "    df['ID'] = df['Technology Name'] + '_' + df['Metric'] + '_' + df['Unit'] + '_' + df['Country Code']\n",
    "    df.set_index('ID', inplace=True)\n",
    "    return df"
   ]
  },
  {
   "cell_type": "code",
   "execution_count": 5,
   "id": "8711f79f",
   "metadata": {},
   "outputs": [],
   "source": [
    "biogas = read_irena('raw data/irena_biogas.xlsx')\n",
    "biogas = tech_name(biogas, 'On-grid biogas')\n",
    "biogas.to_csv('cleaned data/irena_biogas.csv')"
   ]
  },
  {
   "cell_type": "code",
   "execution_count": 7,
   "id": "c26ed66f",
   "metadata": {},
   "outputs": [],
   "source": [
    "coal_peat = read_irena('raw data/irena_coal and peat.xlsx')\n",
    "coal_peat = tech_name(coal_peat, 'On-grid coal and peat')\n",
    "coal_peat.to_csv('cleaned data/irena_coal_peat.csv')"
   ]
  },
  {
   "cell_type": "code",
   "execution_count": 10,
   "id": "75d1afc3",
   "metadata": {},
   "outputs": [],
   "source": [
    "geotherm = read_irena('raw data/irena_geothermal.xlsx')\n",
    "geotherm = tech_name(geotherm, 'On-grid geothermal energy')\n",
    "geotherm.to_csv('cleaned data/irena_geothermal.csv')"
   ]
  },
  {
   "cell_type": "code",
   "execution_count": 11,
   "id": "236c1b69",
   "metadata": {},
   "outputs": [],
   "source": [
    "liq_biofuel = read_irena('raw data/irena_liquid biofuel.xlsx')\n",
    "liq_biofuel = tech_name(liq_biofuel, 'On-grid liquid biofuels')\n",
    "liq_biofuel.to_csv('cleaned data/irena_liquid biofuels.xlsx')"
   ]
  },
  {
   "cell_type": "code",
   "execution_count": null,
   "id": "72342f73",
   "metadata": {},
   "outputs": [],
   "source": []
  }
 ],
 "metadata": {
  "kernelspec": {
   "display_name": "Python 3 (ipykernel)",
   "language": "python",
   "name": "python3"
  },
  "language_info": {
   "codemirror_mode": {
    "name": "ipython",
    "version": 3
   },
   "file_extension": ".py",
   "mimetype": "text/x-python",
   "name": "python",
   "nbconvert_exporter": "python",
   "pygments_lexer": "ipython3",
   "version": "3.9.13"
  }
 },
 "nbformat": 4,
 "nbformat_minor": 5
}
