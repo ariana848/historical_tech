{
 "cells": [
  {
   "cell_type": "code",
   "execution_count": 1,
   "id": "f1e31e92",
   "metadata": {},
   "outputs": [],
   "source": [
    "import pandas as pd\n",
    "from pandas import Series, DataFrame\n",
    "import country_converter as coco\n",
    "import os"
   ]
  },
  {
   "cell_type": "code",
   "execution_count": 2,
   "id": "26828718",
   "metadata": {},
   "outputs": [],
   "source": [
    "path = '/Users/ariana/desktop/historical_tech/raw data/irena'\n",
    "os.chdir(path)"
   ]
  },
  {
   "cell_type": "code",
   "execution_count": 3,
   "id": "ead01778",
   "metadata": {},
   "outputs": [],
   "source": [
    "# https://pxweb.irena.org/pxweb/en/IRENASTAT"
   ]
  },
  {
   "cell_type": "code",
   "execution_count": 4,
   "id": "299c6e9f",
   "metadata": {},
   "outputs": [
    {
     "data": {
      "text/plain": [
       "['irena_biogas.xlsx',\n",
       " 'irena_solar thermal.xlsx',\n",
       " 'irena_marine.xlsx',\n",
       " 'irena_offshore on grid.xlsx',\n",
       " 'irena_liquid biofuel.xlsx',\n",
       " 'irena_solar pv.xlsx',\n",
       " 'irena_onshore wind.xlsx',\n",
       " 'irena_solid biofuels.xlsx',\n",
       " 'irena_geothermal.xlsx']"
      ]
     },
     "execution_count": 4,
     "metadata": {},
     "output_type": "execute_result"
    }
   ],
   "source": [
    "irena = os.listdir(path)\n",
    "for file in irena:\n",
    "    if '.xlsx' not in file:\n",
    "        irena.remove(file)\n",
    "irena"
   ]
  },
  {
   "cell_type": "code",
   "execution_count": 5,
   "id": "bf32a050",
   "metadata": {},
   "outputs": [],
   "source": [
    "def read_irena(file_name):\n",
    "    file = os.path.abspath(file_name)\n",
    "    df = pd.read_excel(file, header=2, na_values='..', skipfooter=26)\n",
    "    df.dropna(how='all', inplace=True)\n",
    "    df.rename(columns={'Unnamed: 0': 'Country Name'}, inplace=True)\n",
    "    df['Data Source'] = 'IRENA'\n",
    "    df['Spatial Scale'] = 'National'\n",
    "    df['Metric'] = 'Installed electricity capacity'\n",
    "    df['Unit'] = 'MW'\n",
    "    tech = df['Unnamed: 1'].iloc[0]\n",
    "    df['Technology Name'] = tech.title()\n",
    "    if tech == 'Onshore wind energy':\n",
    "        country_names = []\n",
    "        for country in df[df['Unnamed: 2']=='On-grid']['Country Name']:\n",
    "            country_names.append(country)\n",
    "        df = df[df['Unnamed: 2']=='on- and off-grid total']\n",
    "        df['Country Name'] = country_names\n",
    "    iso2 = []\n",
    "    for country in df['Country Name']:\n",
    "        iso2.append(coco.convert(names=country, to='iso2'))\n",
    "    df['Country Code'] = iso2\n",
    "    df.drop(columns=['Unnamed: 1', 'Unnamed: 2'], inplace=True)\n",
    "    df['ID'] = df['Technology Name'] + '_' + df['Metric'] + '_' + df['Country Code']\n",
    "    df.set_index('ID', inplace=True)\n",
    "    return df"
   ]
  },
  {
   "cell_type": "code",
   "execution_count": null,
   "id": "3adfaf95",
   "metadata": {},
   "outputs": [],
   "source": [
    "irena_df = []\n",
    "for tech in irena:\n",
    "    df = read_irena(tech)\n",
    "    irena_df.append(df)"
   ]
  },
  {
   "cell_type": "code",
   "execution_count": null,
   "id": "d9678570",
   "metadata": {},
   "outputs": [],
   "source": [
    "irena_concat = pd.concat(irena_df)"
   ]
  },
  {
   "cell_type": "code",
   "execution_count": null,
   "id": "b20e9536",
   "metadata": {},
   "outputs": [],
   "source": [
    "omit = []\n",
    "for col in irena_concat.columns:\n",
    "    if len(col) != 4 or col == 'Unit':\n",
    "        omit.append(col)\n",
    "empty_rows = irena_concat.drop(columns=omit)\n",
    "empty_rows.dropna(how='all', inplace=True)\n",
    "na_idx = []\n",
    "for country in irena_concat.index:\n",
    "    if country not in empty_rows.index:\n",
    "        na_idx.append(country)\n",
    "irena_concat.drop(na_idx, inplace=True)\n",
    "irena_concat"
   ]
  },
  {
   "cell_type": "code",
   "execution_count": null,
   "id": "8e347ae0",
   "metadata": {},
   "outputs": [],
   "source": [
    "set(irena_concat['Technology Name'])"
   ]
  },
  {
   "cell_type": "code",
   "execution_count": null,
   "id": "72342f73",
   "metadata": {},
   "outputs": [],
   "source": [
    "irena_concat.to_csv('/Users/ariana/desktop/historical_tech/cleaned data/irena.csv')"
   ]
  },
  {
   "cell_type": "code",
   "execution_count": null,
   "id": "c198ec5f",
   "metadata": {},
   "outputs": [],
   "source": []
  }
 ],
 "metadata": {
  "kernelspec": {
   "display_name": "Python 3 (ipykernel)",
   "language": "python",
   "name": "python3"
  },
  "language_info": {
   "codemirror_mode": {
    "name": "ipython",
    "version": 3
   },
   "file_extension": ".py",
   "mimetype": "text/x-python",
   "name": "python",
   "nbconvert_exporter": "python",
   "pygments_lexer": "ipython3",
   "version": "3.9.13"
  }
 },
 "nbformat": 4,
 "nbformat_minor": 5
}
