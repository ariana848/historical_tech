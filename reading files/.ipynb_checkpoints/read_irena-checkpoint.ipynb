{
 "cells": [
  {
   "cell_type": "code",
   "execution_count": 1,
   "id": "f1e31e92",
   "metadata": {},
   "outputs": [],
   "source": [
    "import pandas as pd\n",
    "from pandas import Series, DataFrame\n",
    "import country_converter as coco\n",
    "import os"
   ]
  },
  {
   "cell_type": "code",
   "execution_count": 2,
   "id": "26828718",
   "metadata": {},
   "outputs": [],
   "source": [
    "path = '/Users/ariana/desktop/historical_tech/raw data/irena'\n",
    "os.chdir(path)"
   ]
  },
  {
   "cell_type": "code",
   "execution_count": 3,
   "id": "ead01778",
   "metadata": {},
   "outputs": [],
   "source": [
    "# https://pxweb.irena.org/pxweb/en/IRENASTAT"
   ]
  },
  {
   "cell_type": "code",
   "execution_count": 4,
   "id": "299c6e9f",
   "metadata": {},
   "outputs": [],
   "source": [
    "irena = os.listdir(path)\n",
    "for file in irena:\n",
    "    if '.xlsx' not in file:\n",
    "        irena.remove(file)"
   ]
  },
  {
   "cell_type": "code",
   "execution_count": 5,
   "id": "bf32a050",
   "metadata": {},
   "outputs": [],
   "source": [
    "def read_irena(file_name):\n",
    "    file = os.path.abspath(file_name)\n",
    "    df = pd.read_excel(file, header=2, na_values='..', skipfooter=26)\n",
    "    df.dropna(how='all', inplace=True)\n",
    "    df.rename(columns={'Unnamed: 0': 'Country Name'}, inplace=True)\n",
    "    df['Data Source'] = 'IRENA'\n",
    "    df['Spatial Scale'] = 'National'\n",
    "    df['Metric'] = 'Installed electricity capacity'\n",
    "    df['Unit'] = 'MW'\n",
    "    iso2 = []\n",
    "    for country in df['Country Name']:\n",
    "        iso2.append(coco.convert(names=country, to='iso2'))\n",
    "    df['Country Code'] = iso2\n",
    "    tech = df['Unnamed: 1'].iloc[0]\n",
    "    grid = df['Unnamed: 2'].iloc[0]\n",
    "    tech_name = grid + ' ' + tech\n",
    "    df['Technology Name'] = tech_name.title()\n",
    "    df.drop(columns=['Unnamed: 1', 'Unnamed: 2'], inplace=True)\n",
    "    df['ID'] = df['Technology Name'] + '_' + df['Metric'] + '_' + df['Country Code']\n",
    "    df.set_index('ID', inplace=True)\n",
    "    return df"
   ]
  },
  {
   "cell_type": "code",
   "execution_count": 6,
   "id": "3adfaf95",
   "metadata": {},
   "outputs": [],
   "source": [
    "irena_df = []\n",
    "for tech in irena:\n",
    "    df = read_irena(tech)\n",
    "    irena_df.append(df)"
   ]
  },
  {
   "cell_type": "code",
   "execution_count": 7,
   "id": "d9678570",
   "metadata": {},
   "outputs": [],
   "source": [
    "irena_concat = pd.concat(irena_df)"
   ]
  },
  {
   "cell_type": "code",
   "execution_count": 8,
   "id": "b20e9536",
   "metadata": {},
   "outputs": [],
   "source": [
    "omit = []\n",
    "for col in irena_concat.columns:\n",
    "    if len(col) != 4 or col == 'Unit':\n",
    "        omit.append(col)\n",
    "empty_rows = irena_concat.drop(columns=omit)\n",
    "empty_rows.dropna(how='all', inplace=True)\n",
    "na_idx = []\n",
    "for country in irena_concat.index:\n",
    "    if country not in empty_rows.index:\n",
    "        na_idx.append(country)\n",
    "irena_concat.drop(na_idx, inplace=True)"
   ]
  },
  {
   "cell_type": "code",
   "execution_count": 9,
   "id": "72342f73",
   "metadata": {},
   "outputs": [],
   "source": [
    "irena_concat.to_csv('/Users/ariana/desktop/historical_tech/cleaned data/irena.csv')"
   ]
  }
 ],
 "metadata": {
  "kernelspec": {
   "display_name": "Python 3 (ipykernel)",
   "language": "python",
   "name": "python3"
  },
  "language_info": {
   "codemirror_mode": {
    "name": "ipython",
    "version": 3
   },
   "file_extension": ".py",
   "mimetype": "text/x-python",
   "name": "python",
   "nbconvert_exporter": "python",
   "pygments_lexer": "ipython3",
   "version": "3.9.13"
  }
 },
 "nbformat": 4,
 "nbformat_minor": 5
}
