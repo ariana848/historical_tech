{
 "cells": [
  {
   "cell_type": "code",
   "execution_count": 1,
   "id": "ab779517",
   "metadata": {},
   "outputs": [],
   "source": [
    "# https://datacatalog.worldbank.org/search/dataset/0037712/World-Development-Indicators"
   ]
  },
  {
   "cell_type": "code",
   "execution_count": 2,
   "id": "6dea7ace",
   "metadata": {},
   "outputs": [],
   "source": [
    "import os\n",
    "import pandas as pd\n",
    "from pandas import Series, DataFrame\n",
    "import country_converter as coco"
   ]
  },
  {
   "cell_type": "code",
   "execution_count": 3,
   "id": "11bf4cd9",
   "metadata": {},
   "outputs": [],
   "source": [
    "path = '/Users/ariana/desktop/historical_tech'\n",
    "os.chdir(path)"
   ]
  },
  {
   "cell_type": "code",
   "execution_count": null,
   "id": "88115687",
   "metadata": {},
   "outputs": [],
   "source": [
    "df = pd.read_excel('raw data/WDIEXCEL.xlsx')"
   ]
  },
  {
   "cell_type": "code",
   "execution_count": null,
   "id": "74779c15",
   "metadata": {},
   "outputs": [],
   "source": [
    "aqua = df[df['Indicator Name']=='Aquaculture production (metric tons)']"
   ]
  },
  {
   "cell_type": "code",
   "execution_count": null,
   "id": "0ff867c9",
   "metadata": {},
   "outputs": [],
   "source": [
    "def read_wb(df):\n",
    "    df.drop(columns='Indicator Code', inplace=True)\n",
    "    df['Data Source'] = 'World Bank'\n",
    "    df['Unit'] = 'Metric tons'\n",
    "    df['Metric'] = 'Annual production'\n",
    "    for x in df['Indicator Name']:\n",
    "        df.replace(x, x[:-25], inplace=True)\n",
    "    df.rename(columns={'Indicator Name': 'Technology Name'}, inplace=True)\n",
    "    df.reset_index(drop=True, inplace=True)\n",
    "    df = df.iloc[48:]\n",
    "    df.reset_index(drop=True, inplace=True)\n",
    "    df.drop(40, inplace=True)\n",
    "    iso = []\n",
    "    for country in df['Country Name']:\n",
    "        if country == 'World':\n",
    "            iso2 = 'World'\n",
    "        else:\n",
    "            iso2 = coco.convert(names=country, to='iso2')\n",
    "        iso.append(iso2)\n",
    "    df.drop(columns='Country Code', inplace=True)\n",
    "    df['Country Code'] = iso\n",
    "    type_list = []\n",
    "    for x in range(217):\n",
    "        name = df['Country Name'].iloc[x]\n",
    "        if name != 'World':\n",
    "            type_list.append('National')\n",
    "        else:\n",
    "            type_list.append('World')\n",
    "    df['Spatial Scale'] = type_list\n",
    "    df['ID'] = df['Technology Name'] + '_' + df['Metric'] + '_' + df['Country Code']\n",
    "    omit = []\n",
    "    for col in df.columns:\n",
    "        if len(col) != 4 or col == 'Unit':\n",
    "            omit.append(col)\n",
    "    empty_rows = df.drop(columns=omit)\n",
    "    empty_rows.dropna(how='all', inplace=True)\n",
    "    na_idx = []\n",
    "    for country in df.index:\n",
    "        if country not in empty_rows.index:\n",
    "            na_idx.append(country)\n",
    "    df.drop(na_idx, inplace=True)\n",
    "    return df"
   ]
  },
  {
   "cell_type": "code",
   "execution_count": null,
   "id": "15dd9660",
   "metadata": {},
   "outputs": [],
   "source": [
    "aqua = read_wb(aqua)"
   ]
  },
  {
   "cell_type": "code",
   "execution_count": null,
   "id": "4e1fb97d",
   "metadata": {},
   "outputs": [],
   "source": [
    "cap_fish = df[df['Indicator Name']=='Capture fisheries production (metric tons)']\n",
    "cap_fish = read_wb(cap_fish)"
   ]
  },
  {
   "cell_type": "code",
   "execution_count": null,
   "id": "d23a45f3",
   "metadata": {},
   "outputs": [],
   "source": [
    "wb = pd.concat([aqua, cap_fish])"
   ]
  },
  {
   "cell_type": "code",
   "execution_count": null,
   "id": "53dc0301",
   "metadata": {},
   "outputs": [],
   "source": [
    "wb.to_csv('cleaned data/wb.csv', index=False)"
   ]
  },
  {
   "cell_type": "code",
   "execution_count": null,
   "id": "6dfef475",
   "metadata": {},
   "outputs": [],
   "source": []
  }
 ],
 "metadata": {
  "kernelspec": {
   "display_name": "Python 3 (ipykernel)",
   "language": "python",
   "name": "python3"
  },
  "language_info": {
   "codemirror_mode": {
    "name": "ipython",
    "version": 3
   },
   "file_extension": ".py",
   "mimetype": "text/x-python",
   "name": "python",
   "nbconvert_exporter": "python",
   "pygments_lexer": "ipython3",
   "version": "3.9.13"
  }
 },
 "nbformat": 4,
 "nbformat_minor": 5
}
