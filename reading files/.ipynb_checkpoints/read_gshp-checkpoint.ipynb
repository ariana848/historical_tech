{
 "cells": [
  {
   "cell_type": "code",
   "execution_count": null,
   "id": "02cb2f9c",
   "metadata": {},
   "outputs": [],
   "source": [
    "import os\n",
    "import pandas as pd\n",
    "from pandas import Series, DataFrame"
   ]
  },
  {
   "cell_type": "code",
   "execution_count": null,
   "id": "c6996be4",
   "metadata": {},
   "outputs": [],
   "source": [
    "# https://doi.org/10.1016/j.geothermics.2020.101915\n",
    "# data from Table 8, geothermal heat pumps, p. 5"
   ]
  },
  {
   "cell_type": "code",
   "execution_count": null,
   "id": "4d22f8a6",
   "metadata": {},
   "outputs": [],
   "source": [
    "path = '/Users/ariana/desktop/historical_tech'\n",
    "os.chdir(path)"
   ]
  },
  {
   "cell_type": "code",
   "execution_count": null,
   "id": "65c46aea",
   "metadata": {},
   "outputs": [],
   "source": [
    "gshp = pd.read_csv('raw data/LundToth_GSHP_TimeSeries.csv', index_col=0)\n",
    "gshp = gshp.transpose()\n",
    "gshp['Data Source'] = 'Lund & Toth'\n",
    "gshp['Country Name'] = 'World'\n",
    "gshp['Country Code'] = 'World'\n",
    "gshp['Spatial Scale'] = 'Global'\n",
    "gshp['Metric'] = 'Cumulative Total Capacity'\n",
    "gshp['Technology Name'] = 'Ground-Source Heat Pumps'\n",
    "gshp['Unit'] = 'MWt'\n",
    "gshp['ID'] = gshp['Technology Name'] + '_' + gshp['Metric'] + '_' + gshp['Country Code']\n",
    "gshp.set_index('ID', drop=True, inplace=True)\n",
    "gshp.columns.name = None\n",
    "gshp\n"
   ]
  },
  {
   "cell_type": "code",
   "execution_count": null,
   "id": "968e5b0d",
   "metadata": {},
   "outputs": [],
   "source": [
    "gshp.to_csv('cleaned data/gshp.csv')"
   ]
  },
  {
   "cell_type": "code",
   "execution_count": null,
   "id": "75d481cd",
   "metadata": {},
   "outputs": [],
   "source": []
  }
 ],
 "metadata": {
  "kernelspec": {
   "display_name": "Python 3 (ipykernel)",
   "language": "python",
   "name": "python3"
  },
  "language_info": {
   "codemirror_mode": {
    "name": "ipython",
    "version": 3
   },
   "file_extension": ".py",
   "mimetype": "text/x-python",
   "name": "python",
   "nbconvert_exporter": "python",
   "pygments_lexer": "ipython3",
   "version": "3.9.13"
  }
 },
 "nbformat": 4,
 "nbformat_minor": 5
}
