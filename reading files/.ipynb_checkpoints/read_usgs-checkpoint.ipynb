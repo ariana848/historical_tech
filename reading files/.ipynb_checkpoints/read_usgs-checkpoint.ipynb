{
 "cells": [
  {
   "cell_type": "code",
   "execution_count": 1,
   "id": "9f95021b",
   "metadata": {},
   "outputs": [],
   "source": [
    "import pandas as pd\n",
    "from pandas import Series, DataFrame\n",
    "import country_converter as coco\n",
    "import string\n",
    "import os\n",
    "import numpy as np"
   ]
  },
  {
   "cell_type": "code",
   "execution_count": 2,
   "id": "a965a148",
   "metadata": {},
   "outputs": [],
   "source": [
    "path = '/Users/ariana/desktop/historical_tech'\n",
    "os.chdir(path)"
   ]
  },
  {
   "cell_type": "code",
   "execution_count": 3,
   "id": "76c1d7b1",
   "metadata": {},
   "outputs": [],
   "source": [
    "# https://www.usgs.gov/centers/national-minerals-information-center/historical-global-statistics-mineral-and-material\n"
   ]
  },
  {
   "cell_type": "code",
   "execution_count": 4,
   "id": "f0908e96",
   "metadata": {},
   "outputs": [],
   "source": [
    "def read_usgs_896(tech_name, file_name, sheet_name=0):\n",
    "    df = pd.read_excel(file_name, sheet_name=sheet_name, header=3, na_values=['XX','--', 'W', '(3/)'])\n",
    "    drop_idx = []\n",
    "    for idx in df.index:\n",
    "        country = df[df.columns[0]].iloc[idx]\n",
    "        drop_list = ['Limonite', 'Other', 'Puerto Rico', 'United States: Puerto Rico', 'Leeward and Windward Islands ']\n",
    "        if country in drop_list:\n",
    "            drop_idx.append(idx)\n",
    "    df.drop(index=drop_idx, inplace=True)\n",
    "    df.reset_index(drop=True, inplace=True)\n",
    "    for idx in df.index:\n",
    "        country = df[df.columns[0]].iloc[idx]\n",
    "        if country == 'World':\n",
    "            world_idx = idx + 1\n",
    "    df = df[:world_idx]\n",
    "    countries = []\n",
    "    for country in df[df.columns[0]]:\n",
    "        country = country.strip(string.digits)\n",
    "        country = country.strip()\n",
    "        countries.append(country)\n",
    "    df['Country Name'] = countries\n",
    "    df.drop(columns=df.columns[0], inplace=True)\n",
    "    iso2 = []\n",
    "    spatial_scale = []\n",
    "    for country in df['Country Name']:\n",
    "        if country == 'Serbia and Montenegro':\n",
    "            iso2.append('CS')\n",
    "            spatial_scale.append('National')\n",
    "        elif country == 'U.S.S.R.':\n",
    "            iso2.append('SU')\n",
    "            spatial_scale.append('National')\n",
    "        elif country == 'Yugoslavia':\n",
    "            iso2.append('YU')\n",
    "            spatial_scale.append('National')\n",
    "        elif country == 'World':\n",
    "            iso2.append('World')\n",
    "            spatial_scale.append('Global')\n",
    "        elif country == 'Netherlands Antilles':\n",
    "            iso2.append('AN')\n",
    "            spatial_scale.append('National')\n",
    "        else:\n",
    "            iso2.append(coco.convert(names=country, to='iso2'))\n",
    "            spatial_scale.append('National')\n",
    "    df['Country Code'] = iso2\n",
    "    df['Spatial Scale'] = spatial_scale\n",
    "    df['Data Source'] = 'U.S. Geological Survey'\n",
    "    df['Unit'] = 'Metric tons'\n",
    "    df['Metric'] = 'Annual production'\n",
    "    df['Technology Name'] = tech_name\n",
    "    df['ID'] = df['Technology Name'] + '_' + df['Metric'] + '_' + df['Country Code']\n",
    "    df.set_index('ID', inplace=True)\n",
    "    file_name = 'cleaned data/ds896_' + tech_name + '.csv'\n",
    "    df.to_csv(file_name)\n",
    "    return df\n"
   ]
  },
  {
   "cell_type": "code",
   "execution_count": 5,
   "id": "099a7172",
   "metadata": {},
   "outputs": [],
   "source": [
    "# https://www.usgs.gov/centers/national-minerals-information-center/historical-global-statistics-mineral-and-material#:~:text=Aluminum-,ds896%2Daluminum.xlsx,-1990%2D2012\n",
    "# Aluminum and Bauxite\n"
   ]
  },
  {
   "cell_type": "code",
   "execution_count": 6,
   "id": "0fa8a8d9",
   "metadata": {},
   "outputs": [
    {
     "name": "stderr",
     "output_type": "stream",
     "text": [
      "/opt/anaconda3/lib/python3.9/site-packages/openpyxl/worksheet/_read_only.py:79: UserWarning: Unknown extension is not supported and will be removed\n",
      "  for idx, row in parser.parse():\n"
     ]
    }
   ],
   "source": [
    "aluminum = read_usgs_896('Primary aluminum production', 'raw data/usgs/ds896-aluminum.xlsx', 'Aluminum, primary production')\n"
   ]
  },
  {
   "cell_type": "code",
   "execution_count": 7,
   "id": "58515c62",
   "metadata": {},
   "outputs": [
    {
     "name": "stderr",
     "output_type": "stream",
     "text": [
      "/opt/anaconda3/lib/python3.9/site-packages/openpyxl/worksheet/_read_only.py:79: UserWarning: Unknown extension is not supported and will be removed\n",
      "  for idx, row in parser.parse():\n"
     ]
    }
   ],
   "source": [
    "bauxite = read_usgs_896('Primary bauxite production', 'raw data/usgs/ds896-aluminum.xlsx', 'Bauxite')\n"
   ]
  },
  {
   "cell_type": "code",
   "execution_count": 8,
   "id": "0e22b752",
   "metadata": {},
   "outputs": [],
   "source": [
    "# https://d9-wret.s3.us-west-2.amazonaws.com/assets/palladium/production/mineral-pubs/historical-statistics/global/ds896-cadmium.xlsx\n",
    "# Cadmium\n"
   ]
  },
  {
   "cell_type": "code",
   "execution_count": 9,
   "id": "08bf96dc",
   "metadata": {},
   "outputs": [
    {
     "name": "stderr",
     "output_type": "stream",
     "text": [
      "/opt/anaconda3/lib/python3.9/site-packages/openpyxl/worksheet/_read_only.py:79: UserWarning: Unknown extension is not supported and will be removed\n",
      "  for idx, row in parser.parse():\n"
     ]
    }
   ],
   "source": [
    "cadmium = read_usgs_896('Cadmium Refining', 'raw data/usgs/ds896-cadmium.xlsx')\n"
   ]
  },
  {
   "cell_type": "code",
   "execution_count": 10,
   "id": "03a87824",
   "metadata": {},
   "outputs": [],
   "source": [
    "# https://d9-wret.s3.us-west-2.amazonaws.com/assets/palladium/production/mineral-pubs/historical-statistics/global/ds896-copper.xlsx\n",
    "# Copper mining and refining\n"
   ]
  },
  {
   "cell_type": "code",
   "execution_count": 11,
   "id": "7f332684",
   "metadata": {},
   "outputs": [],
   "source": [
    "copper_mining = read_usgs_896('Copper Mining', 'raw data/usgs/ds896-copper.xlsx', 'Mine')\n",
    "copper_mining = copper_mining[copper_mining['    Mine production']=='Mine: Total']\n",
    "copper_mining.drop(columns='    Mine production', inplace=True)\n",
    "copper_mining.to_csv('cleaned data/ds896_Copper Mining.csv')\n"
   ]
  },
  {
   "cell_type": "code",
   "execution_count": 12,
   "id": "c60dceb9",
   "metadata": {},
   "outputs": [],
   "source": [
    "copper_refining = read_usgs_896('Copper Refining', 'raw data/usgs/ds896-copper.xlsx', 'Refinery')\n",
    "copper_refining = copper_refining[copper_refining['Refinery production']=='Refinery: Total']\n",
    "copper_refining.drop(columns='Refinery production', inplace=True)\n",
    "copper_refining.to_csv('cleaned data/ds896_Copper Refining.csv')\n"
   ]
  },
  {
   "cell_type": "code",
   "execution_count": 13,
   "id": "c9b4d2c7",
   "metadata": {},
   "outputs": [],
   "source": [
    "# https://d9-wret.s3.us-west-2.amazonaws.com/assets/palladium/production/mineral-pubs/historical-statistics/global/ds896-iron-steel.xlsx\n",
    "# Iron ore and raw steel\n"
   ]
  },
  {
   "cell_type": "code",
   "execution_count": 14,
   "id": "7a225bf8",
   "metadata": {},
   "outputs": [
    {
     "name": "stderr",
     "output_type": "stream",
     "text": [
      "/opt/anaconda3/lib/python3.9/site-packages/openpyxl/worksheet/_read_only.py:79: UserWarning: Unknown extension is not supported and will be removed\n",
      "  for idx, row in parser.parse():\n"
     ]
    }
   ],
   "source": [
    "iron = read_usgs_896('Iron ore', 'raw data/usgs/ds896-iron-steel.xlsx', 'Iron ore, gross weight')\n"
   ]
  },
  {
   "cell_type": "code",
   "execution_count": 15,
   "id": "36360092",
   "metadata": {},
   "outputs": [
    {
     "name": "stderr",
     "output_type": "stream",
     "text": [
      "/opt/anaconda3/lib/python3.9/site-packages/openpyxl/worksheet/_read_only.py:79: UserWarning: Unknown extension is not supported and will be removed\n",
      "  for idx, row in parser.parse():\n"
     ]
    }
   ],
   "source": [
    "steel = read_usgs_896('Raw steel production', 'raw data/usgs/ds896-iron-steel.xlsx', 'Raw steel')\n"
   ]
  },
  {
   "cell_type": "code",
   "execution_count": 16,
   "id": "6c8e0d2c",
   "metadata": {},
   "outputs": [],
   "source": [
    "# https://d9-wret.s3.us-west-2.amazonaws.com/assets/palladium/production/mineral-pubs/historical-statistics/global/ds896-lead.xlsx\n",
    "# Lead\n"
   ]
  },
  {
   "cell_type": "code",
   "execution_count": 17,
   "id": "c8aa6df5",
   "metadata": {},
   "outputs": [
    {
     "name": "stderr",
     "output_type": "stream",
     "text": [
      "/opt/anaconda3/lib/python3.9/site-packages/openpyxl/worksheet/_read_only.py:79: UserWarning: Unknown extension is not supported and will be removed\n",
      "  for idx, row in parser.parse():\n"
     ]
    }
   ],
   "source": [
    "lead = read_usgs_896('Lead mine production', 'raw data/usgs/ds896-lead.xlsx', 'Mine')\n"
   ]
  },
  {
   "cell_type": "code",
   "execution_count": null,
   "id": "f47ced83",
   "metadata": {},
   "outputs": [],
   "source": [
    "# https://d9-wret.s3.us-west-2.amazonaws.com/assets/palladium/production/mineral-pubs/historical-statistics/global/ds896-salt.xlsx\n",
    "# Salt\n"
   ]
  },
  {
   "cell_type": "code",
   "execution_count": 18,
   "id": "6ddc6d59",
   "metadata": {},
   "outputs": [],
   "source": [
    "salt = pd.read_excel('raw data/usgs/ds896-salt.xlsx', sheet_name=0, header=3, na_values=['XX','--', 'W', '(3/)'])\n",
    "drop_idx = []\n",
    "for idx in salt.index:\n",
    "    country = salt[salt.columns[0]].iloc[idx]\n",
    "    drop_list = ['Limonite', 'Other', 'Puerto Rico', 'United States: Puerto Rico', 'Leeward and Windward Islands ']\n",
    "    if country in drop_list:\n",
    "        drop_idx.append(idx)\n",
    "salt.drop(index=drop_idx, inplace=True)\n",
    "salt.reset_index(drop=True, inplace=True)\n",
    "for idx in salt.index:\n",
    "    country = salt[salt.columns[0]].iloc[idx]\n",
    "    if country == 'World':\n",
    "        world_idx = idx + 1\n",
    "salt = salt[:world_idx]\n",
    "countries = []\n",
    "for country in salt[salt.columns[0]]:\n",
    "    country = country.strip(string.digits)\n",
    "    country = country.strip()\n",
    "    countries.append(country)\n",
    "salt['Country Name'] = countries\n",
    "salt.drop(columns=[salt.columns[0], 'Salt type'], inplace=True)\n",
    "unique_countries = sorted(list(set(salt['Country Name'])))\n",
    "salt_type_sum = []\n",
    "for country in unique_countries:\n",
    "    dup_df = salt[salt['Country Name']==country].sum()\n",
    "    dup_df = dup_df[:-1]\n",
    "    val_list = []\n",
    "    for x in dup_df:\n",
    "        val_list.append(x)\n",
    "    val_list.append(country)\n",
    "    salt_type_sum.append(val_list)\n",
    "salt = pd.DataFrame(salt_type_sum, columns=salt.columns)\n",
    "iso2 = []\n",
    "spatial_scale = []\n",
    "for country in salt['Country Name']:\n",
    "    if country == 'Serbia and Montenegro':\n",
    "        iso2.append('CS')\n",
    "        spatial_scale.append('National')\n",
    "    elif country == 'U.S.S.R.':\n",
    "        iso2.append('SU')\n",
    "        spatial_scale.append('National')\n",
    "    elif country == 'Yugoslavia':\n",
    "        iso2.append('YU')\n",
    "        spatial_scale.append('National')\n",
    "    elif country == 'World':\n",
    "        iso2.append('World')\n",
    "        spatial_scale.append('Global')\n",
    "    elif country == 'Netherlands Antilles':\n",
    "        iso2.append('AN')\n",
    "        spatial_scale.append('National')\n",
    "    else:\n",
    "        iso2.append(coco.convert(names=country, to='iso2'))\n",
    "        spatial_scale.append('National')\n",
    "salt['Country Code'] = iso2\n",
    "salt['Spatial Scale'] = spatial_scale\n",
    "salt['Data Source'] = 'U.S. Geological Survey'\n",
    "salt['Unit'] = 'Metric tons'\n",
    "salt['Metric'] = 'Annual production'\n",
    "salt['Technology Name'] = 'Salt production'\n",
    "salt['ID'] = salt['Technology Name'] + '_' + salt['Metric'] + '_' + salt['Country Code']\n",
    "salt.set_index('ID', inplace=True)\n",
    "salt.replace(0, np.nan, inplace=True)\n",
    "salt.to_csv('cleaned data/ds896_Salt production.csv')\n"
   ]
  },
  {
   "cell_type": "code",
   "execution_count": null,
   "id": "d4bfde19",
   "metadata": {},
   "outputs": [],
   "source": []
  },
  {
   "cell_type": "code",
   "execution_count": null,
   "id": "45c31411",
   "metadata": {},
   "outputs": [],
   "source": []
  },
  {
   "cell_type": "code",
   "execution_count": null,
   "id": "3074901e",
   "metadata": {},
   "outputs": [],
   "source": [
    "# https://www.usgs.gov/centers/national-minerals-information-center/historical-statistics-mineral-and-material-commodities\n",
    "# Data Series 140\n"
   ]
  },
  {
   "cell_type": "code",
   "execution_count": null,
   "id": "4684f6bd",
   "metadata": {},
   "outputs": [],
   "source": [
    "# https://www.usgs.gov/media/files/cement-historical-statistics-data-series-140\n",
    "# Cement"
   ]
  },
  {
   "cell_type": "code",
   "execution_count": null,
   "id": "d5a813c5",
   "metadata": {},
   "outputs": [],
   "source": [
    "# cement = pd.read_excel('raw data/usgs/ds140-cement-2019.xlsx', header=4, \n",
    "#                        usecols=[0,1,7,8])\n",
    "# for idx in cement.index:\n",
    "#     year = cement['Year'].iloc[idx]\n",
    "#     if year == 2019:\n",
    "#         last_row = idx + 1\n",
    "# cement = cement[:last_row]\n",
    "# cement.set_index('Year', inplace=True)\n",
    "# cement = cement.transpose()\n",
    "# cement"
   ]
  },
  {
   "cell_type": "code",
   "execution_count": null,
   "id": "c52500cd",
   "metadata": {},
   "outputs": [],
   "source": []
  },
  {
   "cell_type": "code",
   "execution_count": null,
   "id": "88ff1bf7",
   "metadata": {},
   "outputs": [],
   "source": []
  },
  {
   "cell_type": "code",
   "execution_count": null,
   "id": "a4181b31",
   "metadata": {},
   "outputs": [],
   "source": [
    "# https://www.usgs.gov/media/files/copper-historical-statistics-data-series-140\n",
    "# Primary copper"
   ]
  },
  {
   "cell_type": "code",
   "execution_count": null,
   "id": "2fd18c66",
   "metadata": {},
   "outputs": [],
   "source": []
  },
  {
   "cell_type": "code",
   "execution_count": null,
   "id": "cba6104b",
   "metadata": {},
   "outputs": [],
   "source": [
    "# https://www.usgs.gov/media/files/gold-historical-statistics-data-series-140\n",
    "# Gold"
   ]
  },
  {
   "cell_type": "code",
   "execution_count": null,
   "id": "e079006d",
   "metadata": {},
   "outputs": [],
   "source": []
  },
  {
   "cell_type": "code",
   "execution_count": null,
   "id": "a1ade750",
   "metadata": {},
   "outputs": [],
   "source": [
    "# https://www.usgs.gov/media/files/nickel-historical-statistics-data-series-140\n",
    "# Nickel"
   ]
  },
  {
   "cell_type": "code",
   "execution_count": null,
   "id": "64ce49b8",
   "metadata": {},
   "outputs": [],
   "source": []
  },
  {
   "cell_type": "code",
   "execution_count": null,
   "id": "a97d623c",
   "metadata": {},
   "outputs": [],
   "source": [
    "# https://www.usgs.gov/media/files/construction-sand-and-gravel-historical-statistics-data-series-140\n",
    "# Sand and gravel (construction)\n"
   ]
  },
  {
   "cell_type": "code",
   "execution_count": null,
   "id": "f0862788",
   "metadata": {},
   "outputs": [],
   "source": []
  },
  {
   "cell_type": "code",
   "execution_count": null,
   "id": "bd55a71a",
   "metadata": {},
   "outputs": [],
   "source": [
    "# https://www.usgs.gov/media/files/industrial-sand-and-gravel-historical-statistics-data-series-140\n",
    "# Sand and gravel (industrial)\n"
   ]
  },
  {
   "cell_type": "code",
   "execution_count": null,
   "id": "96419898",
   "metadata": {},
   "outputs": [],
   "source": []
  }
 ],
 "metadata": {
  "kernelspec": {
   "display_name": "Python 3 (ipykernel)",
   "language": "python",
   "name": "python3"
  },
  "language_info": {
   "codemirror_mode": {
    "name": "ipython",
    "version": 3
   },
   "file_extension": ".py",
   "mimetype": "text/x-python",
   "name": "python",
   "nbconvert_exporter": "python",
   "pygments_lexer": "ipython3",
   "version": "3.9.13"
  }
 },
 "nbformat": 4,
 "nbformat_minor": 5
}
