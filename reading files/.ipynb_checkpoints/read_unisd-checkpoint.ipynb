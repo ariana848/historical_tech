{
 "cells": [
  {
   "cell_type": "code",
   "execution_count": 1,
   "id": "35cb99db",
   "metadata": {},
   "outputs": [],
   "source": [
    "import os\n",
    "import pandas as pd\n",
    "from pandas import Series, DataFrame\n",
    "#import string\n",
    "import country_converter as coco"
   ]
  },
  {
   "cell_type": "code",
   "execution_count": 2,
   "id": "2bf46414",
   "metadata": {},
   "outputs": [
    {
     "data": {
      "text/plain": [
       "['Television receivers.csv',\n",
       " 'Radio receivers.csv',\n",
       " 'Potassic fertilizers.csv',\n",
       " 'Caustic soda.csv',\n",
       " 'Bicycles and other cycles.csv',\n",
       " 'Electric water heaters and immersion heaters.csv',\n",
       " 'Turbo-jets of a thrust not exceeding 25 kN.csv',\n",
       " 'Household washing and drying machines.csv',\n",
       " 'Telephones and videophones.csv',\n",
       " 'Motorcycles and scooters.csv',\n",
       " 'Synthetic filament tow and staple fibers.csv',\n",
       " 'Household refrigerators and freezers.csv',\n",
       " 'Microwave ovens.csv',\n",
       " 'Turbo-jets of a thrust exceeding 25 kN.csv',\n",
       " 'Beer.csv',\n",
       " 'Combined refrigerators-freezers.csv',\n",
       " 'Refined copper.csv',\n",
       " 'Air conditioning machines.csv',\n",
       " 'Vacuum cleaners.csv',\n",
       " 'Passenger cars.csv',\n",
       " 'Synthetic filament yarn.csv',\n",
       " 'Nitrogenous fertilizers.csv']"
      ]
     },
     "execution_count": 2,
     "metadata": {},
     "output_type": "execute_result"
    }
   ],
   "source": [
    "os.chdir('/Users/ariana/desktop/historical_tech/raw data/cost data/unisd')\n",
    "\n",
    "unisd_files = []\n",
    "for file in os.listdir():\n",
    "    if '.csv' in file:\n",
    "        unisd_files.append(file)\n",
    "unisd_files"
   ]
  },
  {
   "cell_type": "code",
   "execution_count": 3,
   "id": "40a81a09",
   "metadata": {},
   "outputs": [],
   "source": [
    "# http://data.un.org/Default.aspx"
   ]
  },
  {
   "cell_type": "code",
   "execution_count": 4,
   "id": "998d9fde",
   "metadata": {},
   "outputs": [],
   "source": [
    "def read_unisd(file):\n",
    "    # load data and omit footnotes\n",
    "    df = pd.read_csv(file)\n",
    "    end_idx = None\n",
    "    for idx in range(len(df)):\n",
    "        val = df.iloc[idx]['Unit']\n",
    "        if val == 'Footnote':\n",
    "            end_idx = idx\n",
    "            break\n",
    "    df = df[:end_idx]\n",
    "\n",
    "    # drop footnote columns (alternating columns with data in '2000' and notes in '2000 Footnotes')\n",
    "    drop_cols = []\n",
    "    for col in df.columns:\n",
    "        if 'Footnotes' in col:\n",
    "            drop_cols.append(col)\n",
    "    df.drop(columns=drop_cols, inplace=True)\n",
    "\n",
    "    # drop rows where country doesn't have both mil. USD and thousand metric tons data\n",
    "    all_countries = list(set(df['Country or Area']))\n",
    "    countries_lt2_units = []\n",
    "    for country in all_countries:\n",
    "        country_units = list(set(df[df['Country or Area']==country]['Unit']))\n",
    "        if len(country_units) != 2:\n",
    "            countries_lt2_units.append(country)\n",
    "    idx_lt2_units = []\n",
    "    for idx in range(len(df)):\n",
    "        val = df.iloc[idx]['Country or Area']\n",
    "        if val in countries_lt2_units:\n",
    "            idx_lt2_units.append(idx)\n",
    "    df.drop(index=idx_lt2_units, inplace=True)\n",
    "    \n",
    "    # pull units before omitting col (need rows of just float in order to divide entire rows)\n",
    "    df['country x unit'] = df['Country or Area'] + ' | ' + df['Unit']\n",
    "    num = df['Unit'].iloc[0]\n",
    "    denom = df['Unit'].iloc[1]\n",
    "    unit = num + '/' + denom\n",
    "\n",
    "    # calculate USD per metric ton and omit extra rows\n",
    "    df.drop(columns=['Country or Area', 'Unit'], inplace=True)\n",
    "    df.set_index('country x unit', drop=True, inplace=True)\n",
    "    drop_rows = []\n",
    "    i = 0 \n",
    "    while i < len(df):\n",
    "        new_row = df.iloc[i] / df.iloc[i + 1]\n",
    "        df.iloc[i] = new_row\n",
    "        drop_rows.append(df.iloc[i + 1].name)\n",
    "        i += 2\n",
    "    df.drop(index=drop_rows, inplace=True)\n",
    "\n",
    "    # input summary data\n",
    "    df['Unit'] = unit\n",
    "    df['Data Source'] = 'UN Industrial Statistics Database'\n",
    "    df['Metric'] = 'Price'\n",
    "    df['Spatial Scale'] = 'National'\n",
    "    df['Technology Name'] = file[:-4]\n",
    "    country_list = []\n",
    "    iso_list = []\n",
    "    for idx in df.index:\n",
    "        cutoff = idx.index(' |')\n",
    "        name = idx[:cutoff]\n",
    "        code = coco.convert(names=name, to='iso2')\n",
    "        country_list.append(name)\n",
    "        iso_list.append(code)\n",
    "    df['Country Name'] = country_list\n",
    "    df['Country Code'] = iso_list\n",
    "    df['ID'] = df['Technology Name'] + '_' + df['Metric'] + '_' + df['Country Code']\n",
    "    df.set_index('ID', drop=True, inplace=True)\n",
    "    return df\n"
   ]
  },
  {
   "cell_type": "code",
   "execution_count": 5,
   "id": "92196e64",
   "metadata": {},
   "outputs": [],
   "source": [
    "unisd_df = []\n",
    "for file in unisd_files:\n",
    "    df = read_unisd(file)\n",
    "    unisd_df.append(df)\n"
   ]
  },
  {
   "cell_type": "code",
   "execution_count": 16,
   "id": "7f77eaad",
   "metadata": {},
   "outputs": [
    {
     "data": {
      "text/plain": [
       "1995                                             NaN\n",
       "1996                                             NaN\n",
       "1997                                             NaN\n",
       "1998                                             NaN\n",
       "1999                                             NaN\n",
       "2000                                             NaN\n",
       "2001                                             NaN\n",
       "2002                                             NaN\n",
       "2003                                             NaN\n",
       "2004                                             NaN\n",
       "2005                                             NaN\n",
       "2006                                             NaN\n",
       "2007                                             NaN\n",
       "2008                                             NaN\n",
       "2009                                             NaN\n",
       "2010                                             NaN\n",
       "2011                                             NaN\n",
       "2012                                             NaN\n",
       "2013                                             NaN\n",
       "2014                                             NaN\n",
       "2015                                             NaN\n",
       "2016                                             NaN\n",
       "Unit                                  Mil. USD/Units\n",
       "Data Source        UN Industrial Statistics Database\n",
       "Metric                                         Price\n",
       "Spatial Scale                               National\n",
       "Technology Name                 Television receivers\n",
       "Country Name                                 Croatia\n",
       "Country Code                                      HR\n",
       "Name: Television receivers_Price_HR, dtype: object"
      ]
     },
     "execution_count": 16,
     "metadata": {},
     "output_type": "execute_result"
    }
   ],
   "source": [
    "unisd_df[0].iloc[5]"
   ]
  },
  {
   "cell_type": "code",
   "execution_count": null,
   "id": "b266abc5",
   "metadata": {},
   "outputs": [],
   "source": []
  }
 ],
 "metadata": {
  "kernelspec": {
   "display_name": "Python 3 (ipykernel)",
   "language": "python",
   "name": "python3"
  },
  "language_info": {
   "codemirror_mode": {
    "name": "ipython",
    "version": 3
   },
   "file_extension": ".py",
   "mimetype": "text/x-python",
   "name": "python",
   "nbconvert_exporter": "python",
   "pygments_lexer": "ipython3",
   "version": "3.9.13"
  }
 },
 "nbformat": 4,
 "nbformat_minor": 5
}
