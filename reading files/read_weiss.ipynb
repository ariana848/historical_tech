{
 "cells": [
  {
   "cell_type": "code",
   "execution_count": 1,
   "id": "aaf9ad0a",
   "metadata": {},
   "outputs": [],
   "source": [
    "import os\n",
    "import pandas as pd\n",
    "from pandas import Series, DataFrame"
   ]
  },
  {
   "cell_type": "code",
   "execution_count": 2,
   "id": "b6fd62bd",
   "metadata": {},
   "outputs": [],
   "source": [
    "path = '/Users/ariana/desktop/historical_tech'\n",
    "os.chdir(path)"
   ]
  },
  {
   "cell_type": "code",
   "execution_count": 3,
   "id": "b015b73d",
   "metadata": {},
   "outputs": [],
   "source": [
    "# https://dspace.library.uu.nl/bitstream/handle/1874/32937/NWS-E-2008-112.pdf?sequence=1"
   ]
  },
  {
   "cell_type": "code",
   "execution_count": 5,
   "id": "abf816d4",
   "metadata": {},
   "outputs": [
    {
     "data": {
      "text/html": [
       "<div>\n",
       "<style scoped>\n",
       "    .dataframe tbody tr th:only-of-type {\n",
       "        vertical-align: middle;\n",
       "    }\n",
       "\n",
       "    .dataframe tbody tr th {\n",
       "        vertical-align: top;\n",
       "    }\n",
       "\n",
       "    .dataframe thead th {\n",
       "        text-align: right;\n",
       "    }\n",
       "</style>\n",
       "<table border=\"1\" class=\"dataframe\">\n",
       "  <thead>\n",
       "    <tr style=\"text-align: right;\">\n",
       "      <th></th>\n",
       "      <th>1983</th>\n",
       "      <th>1984</th>\n",
       "      <th>1985</th>\n",
       "      <th>1986</th>\n",
       "      <th>1987</th>\n",
       "      <th>1988</th>\n",
       "      <th>1989</th>\n",
       "      <th>1990</th>\n",
       "      <th>1991</th>\n",
       "      <th>1992</th>\n",
       "      <th>...</th>\n",
       "      <th>2004</th>\n",
       "      <th>2005</th>\n",
       "      <th>2006</th>\n",
       "      <th>Unit</th>\n",
       "      <th>Data Source</th>\n",
       "      <th>Spatial Scale</th>\n",
       "      <th>Country Code</th>\n",
       "      <th>Country Name</th>\n",
       "      <th>Metric</th>\n",
       "      <th>Technology Name</th>\n",
       "    </tr>\n",
       "    <tr>\n",
       "      <th>ID</th>\n",
       "      <th></th>\n",
       "      <th></th>\n",
       "      <th></th>\n",
       "      <th></th>\n",
       "      <th></th>\n",
       "      <th></th>\n",
       "      <th></th>\n",
       "      <th></th>\n",
       "      <th></th>\n",
       "      <th></th>\n",
       "      <th></th>\n",
       "      <th></th>\n",
       "      <th></th>\n",
       "      <th></th>\n",
       "      <th></th>\n",
       "      <th></th>\n",
       "      <th></th>\n",
       "      <th></th>\n",
       "      <th></th>\n",
       "      <th></th>\n",
       "      <th></th>\n",
       "    </tr>\n",
       "  </thead>\n",
       "  <tbody>\n",
       "    <tr>\n",
       "      <th>CFLs_Price_World</th>\n",
       "      <td>0.149603</td>\n",
       "      <td>0.135317</td>\n",
       "      <td>0.155676</td>\n",
       "      <td>0.177218</td>\n",
       "      <td>0.199485</td>\n",
       "      <td>0.217516</td>\n",
       "      <td>0.206991</td>\n",
       "      <td>0.187006</td>\n",
       "      <td>0.194302</td>\n",
       "      <td>0.178571</td>\n",
       "      <td>...</td>\n",
       "      <td>0.052012</td>\n",
       "      <td>0.053721</td>\n",
       "      <td>0.055444</td>\n",
       "      <td>2006 EUR/kWh</td>\n",
       "      <td>Weiss et al.</td>\n",
       "      <td>Global</td>\n",
       "      <td>World</td>\n",
       "      <td>World</td>\n",
       "      <td>Price</td>\n",
       "      <td>CFLs</td>\n",
       "    </tr>\n",
       "  </tbody>\n",
       "</table>\n",
       "<p>1 rows × 31 columns</p>\n",
       "</div>"
      ],
      "text/plain": [
       "                      1983      1984      1985      1986      1987      1988  \\\n",
       "ID                                                                             \n",
       "CFLs_Price_World  0.149603  0.135317  0.155676  0.177218  0.199485  0.217516   \n",
       "\n",
       "                      1989      1990      1991      1992  ...      2004  \\\n",
       "ID                                                        ...             \n",
       "CFLs_Price_World  0.206991  0.187006  0.194302  0.178571  ...  0.052012   \n",
       "\n",
       "                      2005      2006          Unit   Data Source  \\\n",
       "ID                                                                 \n",
       "CFLs_Price_World  0.053721  0.055444  2006 EUR/kWh  Weiss et al.   \n",
       "\n",
       "                  Spatial Scale  Country Code  Country Name  Metric  \\\n",
       "ID                                                                    \n",
       "CFLs_Price_World         Global         World         World   Price   \n",
       "\n",
       "                  Technology Name  \n",
       "ID                                 \n",
       "CFLs_Price_World             CFLs  \n",
       "\n",
       "[1 rows x 31 columns]"
      ]
     },
     "execution_count": 5,
     "metadata": {},
     "output_type": "execute_result"
    }
   ],
   "source": [
    "cfl = pd.read_excel('raw data/cost data/weiss et al.xlsx', usecols=[0,1,4,6], index_col=0)\n",
    "cfl['Price in EUR2006/kWh'] = cfl['CFL - Price in EUR2006'] / ((cfl['CFL - Average power in W'] * cfl['CFL - Average life time in h']) / 1000)\n",
    "cfl.drop(columns=['CFL - Price in EUR2006','CFL - Average life time in h','CFL - Average power in W'], inplace=True)\n",
    "cfl = cfl.transpose()\n",
    "cfl['Unit'] = '2006 EUR/kWh'\n",
    "cfl['Data Source'] = 'Weiss et al.'\n",
    "cfl['Spatial Scale'] = 'Global'\n",
    "cfl['Country Code'] = 'World'\n",
    "cfl['Country Name'] = 'World'\n",
    "cfl['Metric'] = 'Price'\n",
    "cfl['Technology Name'] = 'CFLs'\n",
    "cfl['ID'] = cfl['Technology Name'] + '_' + cfl['Metric'] + '_' + cfl['Country Code']\n",
    "cfl.set_index('ID', drop=True, inplace=True)\n",
    "cfl\n"
   ]
  },
  {
   "cell_type": "code",
   "execution_count": null,
   "id": "5295096e",
   "metadata": {},
   "outputs": [],
   "source": [
    "# https://ec.europa.eu/eurostat/web/products-datasets/-/tec00118\n",
    "# convert from 2006 EUR to 2022 USD?"
   ]
  }
 ],
 "metadata": {
  "kernelspec": {
   "display_name": "Python 3 (ipykernel)",
   "language": "python",
   "name": "python3"
  },
  "language_info": {
   "codemirror_mode": {
    "name": "ipython",
    "version": 3
   },
   "file_extension": ".py",
   "mimetype": "text/x-python",
   "name": "python",
   "nbconvert_exporter": "python",
   "pygments_lexer": "ipython3",
   "version": "3.9.13"
  }
 },
 "nbformat": 4,
 "nbformat_minor": 5
}
