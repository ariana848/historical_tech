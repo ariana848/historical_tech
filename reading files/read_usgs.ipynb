{
 "cells": [
  {
   "cell_type": "code",
   "execution_count": 1,
   "id": "9f95021b",
   "metadata": {},
   "outputs": [],
   "source": [
    "import pandas as pd\n",
    "from pandas import Series, DataFrame\n",
    "import country_converter as coco\n",
    "import string\n",
    "import os\n",
    "import numpy as np"
   ]
  },
  {
   "cell_type": "code",
   "execution_count": 2,
   "id": "a965a148",
   "metadata": {},
   "outputs": [],
   "source": [
    "path = '/Users/ariana/desktop/historical_tech'\n",
    "os.chdir(path)"
   ]
  },
  {
   "cell_type": "code",
   "execution_count": 3,
   "id": "76c1d7b1",
   "metadata": {},
   "outputs": [],
   "source": [
    "# https://www.usgs.gov/centers/national-minerals-information-center/historical-global-statistics-mineral-and-material\n"
   ]
  },
  {
   "cell_type": "code",
   "execution_count": 4,
   "id": "f0908e96",
   "metadata": {},
   "outputs": [],
   "source": [
    "def read_usgs_896(tech_name, file_name, sheet_name=0):\n",
    "    df = pd.read_excel(file_name, sheet_name=sheet_name, header=3,\n",
    "                       na_values=['XX','--', 'W', '(3/)', '(4/)','-- '])\n",
    "    drop_idx = []\n",
    "    for idx in df.index:\n",
    "        country = df[df.columns[0]].iloc[idx]\n",
    "        drop_list = ['Limonite', 'Other', 'Puerto Rico', 'United States: Puerto Rico', 'Leeward and Windward Islands ']\n",
    "        if country in drop_list:\n",
    "            drop_idx.append(idx)\n",
    "    df.drop(index=drop_idx, inplace=True)\n",
    "    df.reset_index(drop=True, inplace=True)\n",
    "    for idx in df.index:\n",
    "        country = df[df.columns[0]].iloc[idx]\n",
    "        if country == 'World':\n",
    "            world_idx = idx + 1\n",
    "    df = df[:world_idx]\n",
    "    countries = []\n",
    "    for country in df[df.columns[0]]:\n",
    "        country = country.strip(string.digits)\n",
    "        country = country.strip()\n",
    "        countries.append(country)\n",
    "    df['Country Name'] = countries\n",
    "    df.drop(columns=df.columns[0], inplace=True)\n",
    "    iso2 = []\n",
    "    spatial_scale = []\n",
    "    for country in df['Country Name']:\n",
    "        if country == 'Serbia and Montenegro':\n",
    "            iso2.append('CS')\n",
    "            spatial_scale.append('National')\n",
    "        elif country == 'Czechoslovakia':\n",
    "            iso2.append('CSK')\n",
    "            spatial_scale.append('National')\n",
    "        elif country == 'U.S.S.R.':\n",
    "            iso2.append('SU')\n",
    "            spatial_scale.append('National')\n",
    "        elif country == 'Yugoslavia':\n",
    "            iso2.append('YU')\n",
    "            spatial_scale.append('National')\n",
    "        elif country == 'World':\n",
    "            iso2.append('World')\n",
    "            spatial_scale.append('Global')\n",
    "        elif country == 'Netherlands Antilles':\n",
    "            iso2.append('AN')\n",
    "            spatial_scale.append('National')\n",
    "        else:\n",
    "            iso2.append(coco.convert(names=country, to='iso2'))\n",
    "            spatial_scale.append('National')\n",
    "    df['Country Code'] = iso2\n",
    "    df['Spatial Scale'] = spatial_scale\n",
    "    df['Data Source'] = 'U.S. Geological Survey'\n",
    "    df['Unit'] = 'Metric tons'\n",
    "    df['Metric'] = 'Annual production'\n",
    "    df['Technology Name'] = tech_name\n",
    "    df['ID'] = df['Technology Name'] + '_' + df['Metric'] + '_' + df['Country Code']\n",
    "    df.set_index('ID', inplace=True)\n",
    "    omit = []\n",
    "    for col in df.columns:\n",
    "        if len(str(col)) > 4 or col == 'Unit':\n",
    "            omit.append(col)\n",
    "    empty_rows = df.drop(columns=omit)\n",
    "    empty_rows.dropna(how='all', inplace=True)\n",
    "    na_idx = []\n",
    "    for country in df.index:\n",
    "        if country not in empty_rows.index:\n",
    "            na_idx.append(country)\n",
    "    df.drop(na_idx, inplace=True)\n",
    "    file_name = 'cleaned data/ds896_' + tech_name + '.csv'\n",
    "    df.to_csv(file_name)\n",
    "    return df\n"
   ]
  },
  {
   "cell_type": "code",
   "execution_count": 5,
   "id": "099a7172",
   "metadata": {},
   "outputs": [],
   "source": [
    "# https://www.usgs.gov/centers/national-minerals-information-center/historical-global-statistics-mineral-and-material#:~:text=Aluminum-,ds896%2Daluminum.xlsx,-1990%2D2012\n",
    "# Aluminum and Bauxite\n"
   ]
  },
  {
   "cell_type": "code",
   "execution_count": 6,
   "id": "0fa8a8d9",
   "metadata": {},
   "outputs": [
    {
     "name": "stderr",
     "output_type": "stream",
     "text": [
      "/opt/anaconda3/lib/python3.9/site-packages/openpyxl/worksheet/_read_only.py:79: UserWarning: Unknown extension is not supported and will be removed\n",
      "  for idx, row in parser.parse():\n"
     ]
    }
   ],
   "source": [
    "aluminum = read_usgs_896('Primary aluminum production', 'raw data/usgs/ds896-aluminum.xlsx', 'Aluminum, primary production')"
   ]
  },
  {
   "cell_type": "code",
   "execution_count": 7,
   "id": "58515c62",
   "metadata": {},
   "outputs": [
    {
     "name": "stderr",
     "output_type": "stream",
     "text": [
      "/opt/anaconda3/lib/python3.9/site-packages/openpyxl/worksheet/_read_only.py:79: UserWarning: Unknown extension is not supported and will be removed\n",
      "  for idx, row in parser.parse():\n"
     ]
    }
   ],
   "source": [
    "bauxite = read_usgs_896('Primary bauxite production', 'raw data/usgs/ds896-aluminum.xlsx', 'Bauxite')\n"
   ]
  },
  {
   "cell_type": "code",
   "execution_count": 8,
   "id": "0e22b752",
   "metadata": {},
   "outputs": [],
   "source": [
    "# https://d9-wret.s3.us-west-2.amazonaws.com/assets/palladium/production/mineral-pubs/historical-statistics/global/ds896-cadmium.xlsx\n",
    "# Cadmium\n"
   ]
  },
  {
   "cell_type": "code",
   "execution_count": 9,
   "id": "08bf96dc",
   "metadata": {},
   "outputs": [
    {
     "name": "stderr",
     "output_type": "stream",
     "text": [
      "/opt/anaconda3/lib/python3.9/site-packages/openpyxl/worksheet/_read_only.py:79: UserWarning: Unknown extension is not supported and will be removed\n",
      "  for idx, row in parser.parse():\n"
     ]
    }
   ],
   "source": [
    "# omit East/West Germany since there's only one year\n",
    "cadmium = read_usgs_896('Cadmium Refining', 'raw data/usgs/ds896-cadmium.xlsx')\n",
    "cadmium = cadmium[(cadmium['Country Name']!='Germany: Eastern states') & (cadmium['Country Name']!='Germany: Western states')]\n",
    "cadmium.to_csv('cleaned data/ds896_Cadmium Refining.csv')\n"
   ]
  },
  {
   "cell_type": "code",
   "execution_count": 10,
   "id": "03a87824",
   "metadata": {},
   "outputs": [],
   "source": [
    "# https://d9-wret.s3.us-west-2.amazonaws.com/assets/palladium/production/mineral-pubs/historical-statistics/global/ds896-copper.xlsx\n",
    "# Copper mining and refining\n"
   ]
  },
  {
   "cell_type": "code",
   "execution_count": 11,
   "id": "7f332684",
   "metadata": {},
   "outputs": [],
   "source": [
    "# check for str\n",
    "copper_mining = read_usgs_896('Copper Mining', 'raw data/usgs/ds896-copper.xlsx', 'Mine')\n",
    "copper_mining = copper_mining[copper_mining['    Mine production']=='Mine: Total']\n",
    "copper_mining.drop(columns='    Mine production', inplace=True)\n",
    "copper_mining.to_csv('cleaned data/ds896_Copper Mining.csv')"
   ]
  },
  {
   "cell_type": "code",
   "execution_count": 12,
   "id": "c60dceb9",
   "metadata": {},
   "outputs": [],
   "source": [
    "# check for str\n",
    "copper_refining = read_usgs_896('Copper Refining', 'raw data/usgs/ds896-copper.xlsx', 'Refinery')\n",
    "copper_refining = copper_refining[copper_refining['Refinery production']=='Refinery: Total']\n",
    "copper_refining.drop(columns='Refinery production', inplace=True)\n",
    "copper_refining.to_csv('cleaned data/ds896_Copper Refining.csv')"
   ]
  },
  {
   "cell_type": "code",
   "execution_count": 13,
   "id": "c9b4d2c7",
   "metadata": {},
   "outputs": [],
   "source": [
    "# https://d9-wret.s3.us-west-2.amazonaws.com/assets/palladium/production/mineral-pubs/historical-statistics/global/ds896-iron-steel.xlsx\n",
    "# Iron ore and raw steel\n"
   ]
  },
  {
   "cell_type": "code",
   "execution_count": 14,
   "id": "7a225bf8",
   "metadata": {},
   "outputs": [
    {
     "name": "stderr",
     "output_type": "stream",
     "text": [
      "/opt/anaconda3/lib/python3.9/site-packages/openpyxl/worksheet/_read_only.py:79: UserWarning: Unknown extension is not supported and will be removed\n",
      "  for idx, row in parser.parse():\n"
     ]
    }
   ],
   "source": [
    "# omit West Germany bc only one data point\n",
    "iron = read_usgs_896('Iron ore', 'raw data/usgs/ds896-iron-steel.xlsx', 'Iron ore, gross weight')\n",
    "iron = iron[(iron['Country Name']!='Germany: Western states')]\n",
    "iron.to_csv('cleaned data/ds896_Iron ore.csv')"
   ]
  },
  {
   "cell_type": "code",
   "execution_count": 15,
   "id": "36360092",
   "metadata": {},
   "outputs": [
    {
     "name": "stderr",
     "output_type": "stream",
     "text": [
      "/opt/anaconda3/lib/python3.9/site-packages/openpyxl/worksheet/_read_only.py:79: UserWarning: Unknown extension is not supported and will be removed\n",
      "  for idx, row in parser.parse():\n"
     ]
    }
   ],
   "source": [
    "# check for str\n",
    "steel = read_usgs_896('Raw steel production', 'raw data/usgs/ds896-iron-steel.xlsx', 'Raw steel')\n",
    "steel = steel[(steel['Country Name']!='Germany: Eastern states') & (steel['Country Name']!='Germany: Western states')]\n",
    "steel.to_csv('cleaned data/ds896_Raw steel production.csv')"
   ]
  },
  {
   "cell_type": "code",
   "execution_count": 16,
   "id": "6c8e0d2c",
   "metadata": {},
   "outputs": [],
   "source": [
    "# https://d9-wret.s3.us-west-2.amazonaws.com/assets/palladium/production/mineral-pubs/historical-statistics/global/ds896-lead.xlsx\n",
    "# Lead\n"
   ]
  },
  {
   "cell_type": "code",
   "execution_count": 17,
   "id": "c8aa6df5",
   "metadata": {},
   "outputs": [
    {
     "name": "stderr",
     "output_type": "stream",
     "text": [
      "/opt/anaconda3/lib/python3.9/site-packages/openpyxl/worksheet/_read_only.py:79: UserWarning: Unknown extension is not supported and will be removed\n",
      "  for idx, row in parser.parse():\n"
     ]
    }
   ],
   "source": [
    "lead = read_usgs_896('Lead mine production', 'raw data/usgs/ds896-lead.xlsx', 'Mine')\n",
    "lead = lead[lead['Country Name']!='Germany: Western states']\n",
    "lead.to_csv('cleaned data/ds896_Lead mine production.csv')"
   ]
  },
  {
   "cell_type": "code",
   "execution_count": 18,
   "id": "f47ced83",
   "metadata": {},
   "outputs": [],
   "source": [
    "# https://d9-wret.s3.us-west-2.amazonaws.com/assets/palladium/production/mineral-pubs/historical-statistics/global/ds896-salt.xlsx\n",
    "# Salt\n"
   ]
  },
  {
   "cell_type": "code",
   "execution_count": 19,
   "id": "6ddc6d59",
   "metadata": {},
   "outputs": [],
   "source": [
    "salt = pd.read_excel('raw data/usgs/ds896-salt.xlsx', sheet_name=0, header=3,\n",
    "                     na_values=['XX','--', 'W', '(3/)', '(4/)','-- '])\n",
    "drop_idx = []\n",
    "for idx in salt.index:\n",
    "    country = salt[salt.columns[0]].iloc[idx]\n",
    "    drop_list = ['Limonite', 'Other', 'Puerto Rico', 'United States: Puerto Rico', 'Leeward and Windward Islands ']\n",
    "    if country in drop_list:\n",
    "        drop_idx.append(idx)\n",
    "salt.drop(index=drop_idx, inplace=True)\n",
    "salt.reset_index(drop=True, inplace=True)\n",
    "for idx in salt.index:\n",
    "    country = salt[salt.columns[0]].iloc[idx]\n",
    "    if country == 'World':\n",
    "        world_idx = idx + 1\n",
    "salt = salt[:world_idx]\n",
    "countries = []\n",
    "for country in salt[salt.columns[0]]:\n",
    "    country = country.strip(string.digits)\n",
    "    country = country.strip()\n",
    "    countries.append(country)\n",
    "salt['Country Name'] = countries\n",
    "salt = salt[(salt['Country Name']!='Germany: Eastern states') & (salt['Country Name']!='Germany: Western states')]\n",
    "salt.drop(columns=[salt.columns[0], 'Salt type'], inplace=True)\n",
    "unique_countries = sorted(list(set(salt['Country Name'])))\n",
    "salt_type_sum = []\n",
    "for country in unique_countries:\n",
    "    dup_df = salt[salt['Country Name']==country].sum()\n",
    "    dup_df = dup_df[:-1]\n",
    "    val_list = []\n",
    "    for x in dup_df:\n",
    "        val_list.append(x)\n",
    "    val_list.append(country)\n",
    "    salt_type_sum.append(val_list)\n",
    "salt = pd.DataFrame(salt_type_sum, columns=salt.columns)\n",
    "iso2 = []\n",
    "spatial_scale = []\n",
    "for country in salt['Country Name']:\n",
    "    if country == 'Serbia and Montenegro':\n",
    "        iso2.append('CS')\n",
    "        spatial_scale.append('National')\n",
    "    elif country == 'Czechoslovakia':\n",
    "        iso2.append('CSK')\n",
    "        spatial_scale.append('National')\n",
    "    elif country == 'U.S.S.R.':\n",
    "        iso2.append('SU')\n",
    "        spatial_scale.append('National')\n",
    "    elif country == 'Yugoslavia':\n",
    "        iso2.append('YU')\n",
    "        spatial_scale.append('National')\n",
    "    elif country == 'World':\n",
    "        iso2.append('World')\n",
    "        spatial_scale.append('Global')\n",
    "    elif country == 'Netherlands Antilles':\n",
    "        iso2.append('AN')\n",
    "        spatial_scale.append('National')\n",
    "    else:\n",
    "        iso2.append(coco.convert(names=country, to='iso2'))\n",
    "        spatial_scale.append('National')\n",
    "salt['Country Code'] = iso2\n",
    "salt['Spatial Scale'] = spatial_scale\n",
    "salt['Data Source'] = 'U.S. Geological Survey'\n",
    "salt['Unit'] = 'Metric tons'\n",
    "salt['Metric'] = 'Annual production'\n",
    "salt['Technology Name'] = 'Salt production'\n",
    "salt['ID'] = salt['Technology Name'] + '_' + salt['Metric'] + '_' + salt['Country Code']\n",
    "salt.set_index('ID', inplace=True)\n",
    "salt.replace(0, np.nan, inplace=True)\n",
    "salt.to_csv('cleaned data/ds896_Salt production.csv')\n"
   ]
  },
  {
   "cell_type": "code",
   "execution_count": 20,
   "id": "3074901e",
   "metadata": {},
   "outputs": [],
   "source": [
    "# https://www.usgs.gov/centers/national-minerals-information-center/historical-statistics-mineral-and-material-commodities\n",
    "# Data Series 140\n"
   ]
  },
  {
   "cell_type": "code",
   "execution_count": 21,
   "id": "36c643e0",
   "metadata": {},
   "outputs": [],
   "source": [
    "def read_usgs_140(tech_name, file_name, sheet_name=0, \n",
    "                  col_names=['Year','Production','Unit value (98$/t)','World production']):\n",
    "    df = pd.read_excel(file_name, header=4, usecols=col_names, na_values=['XX','--', 'W', '(3/)', '(4/)','-- '])\n",
    "    end_idx = None\n",
    "    for idx in df.index:\n",
    "        year = df['Year'].iloc[idx]\n",
    "        if type(year) != int:\n",
    "            end_idx = idx\n",
    "            break\n",
    "    df = df[:end_idx]\n",
    "    df.set_index('Year', drop=True, inplace=True)\n",
    "    df = df.transpose()\n",
    "    df['Technology Name'] = tech_name\n",
    "    df['Data Source'] = 'U.S. Geological Survey'\n",
    "    df['Country Name'] = ['United States', 'World', 'World']\n",
    "    df['Country Code'] = ['US', 'World', 'World']\n",
    "    df['Spatial Scale'] = ['National', 'Global', 'Global']\n",
    "    df['Unit'] = ['Metric tons', '1998 USD/metric ton', 'Metric tons']\n",
    "    df['Metric'] = ['Annual production', 'Price', 'Annual production']\n",
    "    df['ID'] = df['Technology Name'] + '_' + df['Metric'] + '_' + df['Country Code']\n",
    "    df.set_index('ID', drop=True, inplace=True)\n",
    "    df.columns.name = None\n",
    "    file_name = 'cleaned data/ds140_' + tech_name + '.csv'\n",
    "    df.to_csv(file_name)\n",
    "    return df\n"
   ]
  },
  {
   "cell_type": "code",
   "execution_count": 22,
   "id": "4684f6bd",
   "metadata": {},
   "outputs": [],
   "source": [
    "# https://www.usgs.gov/media/files/cement-historical-statistics-data-series-140\n",
    "# Cement"
   ]
  },
  {
   "cell_type": "code",
   "execution_count": 23,
   "id": "e2ba4485",
   "metadata": {},
   "outputs": [
    {
     "name": "stderr",
     "output_type": "stream",
     "text": [
      "/opt/anaconda3/lib/python3.9/site-packages/pandas/core/indexes/base.py:6999: FutureWarning: In a future version, the Index constructor will not infer numeric dtypes when passed object-dtype sequences (matching Series behavior)\n",
      "  return Index(sequences[0], name=names)\n"
     ]
    }
   ],
   "source": [
    "cement = read_usgs_140('Cement production', 'raw data/usgs/ds140-cement-2019.xlsx')"
   ]
  },
  {
   "cell_type": "code",
   "execution_count": 24,
   "id": "a4181b31",
   "metadata": {},
   "outputs": [],
   "source": [
    "# https://www.usgs.gov/media/files/copper-historical-statistics-data-series-140\n",
    "# Primary copper"
   ]
  },
  {
   "cell_type": "code",
   "execution_count": 25,
   "id": "dea448bc",
   "metadata": {},
   "outputs": [
    {
     "name": "stderr",
     "output_type": "stream",
     "text": [
      "/opt/anaconda3/lib/python3.9/site-packages/pandas/core/indexes/base.py:6999: FutureWarning: In a future version, the Index constructor will not infer numeric dtypes when passed object-dtype sequences (matching Series behavior)\n",
      "  return Index(sequences[0], name=names)\n"
     ]
    }
   ],
   "source": [
    "copper = read_usgs_140('Primary copper production', 'raw data/usgs/ds140-copper-2018.xlsx', \n",
    "             col_names=['Year','Primary production','Unit value (98$/t)','World production'])"
   ]
  },
  {
   "cell_type": "code",
   "execution_count": 26,
   "id": "cba6104b",
   "metadata": {},
   "outputs": [],
   "source": [
    "# https://www.usgs.gov/media/files/gold-historical-statistics-data-series-140\n",
    "# Gold"
   ]
  },
  {
   "cell_type": "code",
   "execution_count": 27,
   "id": "e079006d",
   "metadata": {},
   "outputs": [
    {
     "name": "stderr",
     "output_type": "stream",
     "text": [
      "/opt/anaconda3/lib/python3.9/site-packages/pandas/core/indexes/base.py:6999: FutureWarning: In a future version, the Index constructor will not infer numeric dtypes when passed object-dtype sequences (matching Series behavior)\n",
      "  return Index(sequences[0], name=names)\n"
     ]
    }
   ],
   "source": [
    "gold = read_usgs_140('Gold production', 'raw data/usgs/ds140-gold-2018.xlsx', \n",
    "             col_names=['Year','Primary production','Unit value (98$/t)','World production'])"
   ]
  },
  {
   "cell_type": "code",
   "execution_count": 28,
   "id": "a1ade750",
   "metadata": {},
   "outputs": [],
   "source": [
    "# https://www.usgs.gov/media/files/nickel-historical-statistics-data-series-140\n",
    "# Nickel"
   ]
  },
  {
   "cell_type": "code",
   "execution_count": 29,
   "id": "64ce49b8",
   "metadata": {},
   "outputs": [
    {
     "name": "stderr",
     "output_type": "stream",
     "text": [
      "/opt/anaconda3/lib/python3.9/site-packages/pandas/core/indexes/base.py:6999: FutureWarning: In a future version, the Index constructor will not infer numeric dtypes when passed object-dtype sequences (matching Series behavior)\n",
      "  return Index(sequences[0], name=names)\n"
     ]
    }
   ],
   "source": [
    "# check for str\n",
    "nickel = read_usgs_140('Nickel production', 'raw data/usgs/ds140-nickel-2018_1.xlsx', \n",
    "             col_names=['Year','Primary production','Unit value (98$/t)','World production'])"
   ]
  },
  {
   "cell_type": "code",
   "execution_count": 30,
   "id": "a97d623c",
   "metadata": {},
   "outputs": [],
   "source": [
    "# https://www.usgs.gov/media/files/construction-sand-and-gravel-historical-statistics-data-series-140\n",
    "# Sand and gravel (construction)\n"
   ]
  },
  {
   "cell_type": "code",
   "execution_count": 31,
   "id": "f0862788",
   "metadata": {},
   "outputs": [
    {
     "name": "stderr",
     "output_type": "stream",
     "text": [
      "/opt/anaconda3/lib/python3.9/site-packages/pandas/core/indexes/base.py:6999: FutureWarning: In a future version, the Index constructor will not infer numeric dtypes when passed object-dtype sequences (matching Series behavior)\n",
      "  return Index(sequences[0], name=names)\n"
     ]
    }
   ],
   "source": [
    "sand_gravel_construction = read_usgs_140('Sand and gravel production (construction)', \n",
    "                                         'raw data/usgs/ds140-sand-gravel-construction-2019.xlsx')"
   ]
  },
  {
   "cell_type": "code",
   "execution_count": 32,
   "id": "bd55a71a",
   "metadata": {},
   "outputs": [],
   "source": [
    "# https://www.usgs.gov/media/files/industrial-sand-and-gravel-historical-statistics-data-series-140\n",
    "# Sand and gravel (industrial)\n"
   ]
  },
  {
   "cell_type": "code",
   "execution_count": 33,
   "id": "96419898",
   "metadata": {},
   "outputs": [
    {
     "name": "stderr",
     "output_type": "stream",
     "text": [
      "/opt/anaconda3/lib/python3.9/site-packages/pandas/core/indexes/base.py:6999: FutureWarning: In a future version, the Index constructor will not infer numeric dtypes when passed object-dtype sequences (matching Series behavior)\n",
      "  return Index(sequences[0], name=names)\n"
     ]
    }
   ],
   "source": [
    "sand_gravel_industrial = read_usgs_140('Sand and gravel production (industrial)', \n",
    "                                         'raw data/usgs/ds140-sand-industrial-2019.xlsx')"
   ]
  },
  {
   "cell_type": "code",
   "execution_count": null,
   "id": "8989d46b",
   "metadata": {},
   "outputs": [],
   "source": []
  }
 ],
 "metadata": {
  "kernelspec": {
   "display_name": "Python 3 (ipykernel)",
   "language": "python",
   "name": "python3"
  },
  "language_info": {
   "codemirror_mode": {
    "name": "ipython",
    "version": 3
   },
   "file_extension": ".py",
   "mimetype": "text/x-python",
   "name": "python",
   "nbconvert_exporter": "python",
   "pygments_lexer": "ipython3",
   "version": "3.9.13"
  }
 },
 "nbformat": 4,
 "nbformat_minor": 5
}
