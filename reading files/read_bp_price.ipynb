{
 "cells": [
  {
   "cell_type": "code",
   "execution_count": 1,
   "id": "9c1a0236",
   "metadata": {},
   "outputs": [],
   "source": [
    "import pandas as pd\n",
    "from pandas import Series, DataFrame\n",
    "import string\n",
    "import country_converter as coco\n",
    "import os"
   ]
  },
  {
   "cell_type": "code",
   "execution_count": 2,
   "id": "0ec185dd",
   "metadata": {},
   "outputs": [],
   "source": [
    "# https://www.bp.com/en/global/corporate/energy-economics/statistical-review-of-world-energy.html\n",
    "# Statistical Review of World Energy - all data, 1965-2021\n",
    "# https://www.bp.com/content/dam/bp/business-sites/en/global/corporate/xlsx/energy-economics/statistical-review/bp-stats-review-2022-all-data.xlsx \n"
   ]
  },
  {
   "cell_type": "code",
   "execution_count": 3,
   "id": "c8e3bc84",
   "metadata": {},
   "outputs": [],
   "source": [
    "path = '/Users/ariana/desktop/historical_tech'\n",
    "os.chdir(path)"
   ]
  },
  {
   "cell_type": "code",
   "execution_count": 27,
   "id": "34aa0fad",
   "metadata": {},
   "outputs": [],
   "source": [
    "# crude oil\n",
    "crude_oil = pd.read_excel('raw data/bp-stats-review-2022-all-data.xlsx', \n",
    "                          sheet_name='Oil crude prices since 1861', header=3, usecols=[0,1], skipfooter=5,\n",
    "                         index_col=0)\n",
    "crude_oil = crude_oil.transpose()\n",
    "crude_oil['Unit'] = '2021 USD per barrel'\n",
    "crude_oil['Metric'] = 'Price'\n",
    "crude_oil['Spatial Scale'] = 'Global'\n",
    "crude_oil['Technology Name'] = 'Crude Oil'\n",
    "crude_oil['Data Source'] = 'BP'\n",
    "crude_oil['Country Name'] = 'World'\n",
    "crude_oil['Country Code'] = 'World'\n",
    "crude_oil['ID'] = crude_oil['Technology Name'] + '_' + crude_oil['Metric'] + '_' + crude_oil['Country Code']\n",
    "crude_oil.set_index('ID', inplace=True)\n",
    "crude_oil.columns.name = None\n",
    "crude_oil.to_csv('cleaned data/crude_oil_price.csv')"
   ]
  },
  {
   "cell_type": "code",
   "execution_count": null,
   "id": "0dd509cc",
   "metadata": {},
   "outputs": [],
   "source": []
  },
  {
   "cell_type": "code",
   "execution_count": null,
   "id": "e3dc51ff",
   "metadata": {},
   "outputs": [],
   "source": []
  }
 ],
 "metadata": {
  "kernelspec": {
   "display_name": "Python 3 (ipykernel)",
   "language": "python",
   "name": "python3"
  },
  "language_info": {
   "codemirror_mode": {
    "name": "ipython",
    "version": 3
   },
   "file_extension": ".py",
   "mimetype": "text/x-python",
   "name": "python",
   "nbconvert_exporter": "python",
   "pygments_lexer": "ipython3",
   "version": "3.9.13"
  }
 },
 "nbformat": 4,
 "nbformat_minor": 5
}
