{
 "cells": [
  {
   "cell_type": "code",
   "execution_count": 1,
   "id": "bdfdf8a7",
   "metadata": {},
   "outputs": [],
   "source": [
    "import pandas as pd\n",
    "from pandas import Series, DataFrame\n",
    "import country_converter as coco"
   ]
  },
  {
   "cell_type": "code",
   "execution_count": 2,
   "id": "9ea4b626",
   "metadata": {},
   "outputs": [],
   "source": [
    "# https://data.unicef.org/topic/child-health/immunization/\n",
    "# Immunization coverage by antigen\n",
    "# https://data.unicef.org/wp-content/uploads/2016/07/wuenic2021rev_web-update.xlsx"
   ]
  },
  {
   "cell_type": "code",
   "execution_count": 3,
   "id": "f42f847e",
   "metadata": {},
   "outputs": [
    {
     "data": {
      "text/plain": [
       "['BCG',\n",
       " 'DTP1',\n",
       " 'DTP3',\n",
       " 'HEPB3',\n",
       " 'HEPBB',\n",
       " 'HIB3',\n",
       " 'IPV1',\n",
       " 'MCV1',\n",
       " 'MCV2',\n",
       " 'PCV3',\n",
       " 'POL3',\n",
       " 'RCV1',\n",
       " 'ROTAC',\n",
       " 'YFV',\n",
       " 'regional_global']"
      ]
     },
     "execution_count": 3,
     "metadata": {},
     "output_type": "execute_result"
    }
   ],
   "source": [
    "file = pd.ExcelFile('raw data/wuenic2021rev_web-update.xlsx')\n",
    "unicef_sheets = file.sheet_names\n",
    "unicef_sheets"
   ]
  },
  {
   "cell_type": "code",
   "execution_count": 4,
   "id": "1f52c341",
   "metadata": {},
   "outputs": [],
   "source": [
    "def read_unicef(sheet):\n",
    "    unicef = pd.read_excel('raw data/wuenic2021rev_web-update.xlsx', sheet_name=sheet)\n",
    "    unicef.rename(columns={'country': 'Country Name', 'vaccine': 'Technology Name'}, inplace=True)\n",
    "    unicef['Technology Name'] = unicef['Technology Name'] + ' Vaccine'\n",
    "    unicef['Unit'] = 'Percentage'\n",
    "    unicef['Metric'] = 'Immunization Coverage'\n",
    "    unicef['Data Source'] = 'UNICEF'\n",
    "    unicef['Spatial Scale'] = 'National'\n",
    "    iso3 = unicef['iso3']\n",
    "    iso2 = []\n",
    "    for iso in iso3:\n",
    "        iso2.append(coco.convert(names=iso, to='iso2'))\n",
    "    unicef['Country Code'] = iso2\n",
    "    unicef.drop(columns={'unicef_region', 'iso3'}, inplace=True)\n",
    "    unicef['ID'] = unicef['Technology Name'] + '_'+ unicef['Metric'] + '_'+ unicef['Unit'] + '_' + unicef['Country Code']\n",
    "    unicef.set_index('ID', inplace=True)\n",
    "    return unicef"
   ]
  },
  {
   "cell_type": "code",
   "execution_count": 5,
   "id": "0c2461ba",
   "metadata": {},
   "outputs": [],
   "source": [
    "unicef_1 = read_unicef(unicef_sheets[0])\n",
    "unicef_list = [unicef_1]"
   ]
  },
  {
   "cell_type": "code",
   "execution_count": 6,
   "id": "561c2918",
   "metadata": {},
   "outputs": [],
   "source": [
    "check_col = []\n",
    "for col in unicef_1.columns:\n",
    "    if len(col) == 4 and col != 'Unit':\n",
    "        check_col.append(col)\n",
    "        \n",
    "for year in check_col:\n",
    "    check = unicef_1[year]\n",
    "    for pct in check:\n",
    "        if pct > 100 or pct < 0:\n",
    "            raise Exception(\"percentages can't be greater than 100 or less than 0\")"
   ]
  },
  {
   "cell_type": "code",
   "execution_count": 7,
   "id": "5c70e56d",
   "metadata": {},
   "outputs": [],
   "source": [
    "for x in unicef_sheets[1:-1]:\n",
    "    df = read_unicef(x)\n",
    "    check_col = []\n",
    "    for col in df.columns:\n",
    "        if len(col) == 4 and col != 'Unit':\n",
    "            check_col.append(col)\n",
    "    for year in check_col:\n",
    "        check = df[year]\n",
    "        for pct in check:\n",
    "            if pct > 100 or pct < 0:\n",
    "                raise Exception(\"percentages can't be greater than 100 or less than 0\")\n",
    "    unicef_list.append(df)"
   ]
  },
  {
   "cell_type": "code",
   "execution_count": 8,
   "id": "feb350b5",
   "metadata": {},
   "outputs": [],
   "source": [
    "un = pd.concat(unicef_list)\n",
    "un.to_csv('cleaned data/unicef.csv')"
   ]
  }
 ],
 "metadata": {
  "kernelspec": {
   "display_name": "Python 3 (ipykernel)",
   "language": "python",
   "name": "python3"
  },
  "language_info": {
   "codemirror_mode": {
    "name": "ipython",
    "version": 3
   },
   "file_extension": ".py",
   "mimetype": "text/x-python",
   "name": "python",
   "nbconvert_exporter": "python",
   "pygments_lexer": "ipython3",
   "version": "3.9.13"
  }
 },
 "nbformat": 4,
 "nbformat_minor": 5
}
