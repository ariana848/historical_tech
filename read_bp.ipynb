{
 "cells": [
  {
   "cell_type": "code",
   "execution_count": 1,
   "id": "60659557",
   "metadata": {},
   "outputs": [],
   "source": [
    "import pandas as pd\n",
    "from pandas import Series, DataFrame\n",
    "import string\n",
    "import sqlite3\n",
    "import country_converter as coco"
   ]
  },
  {
   "cell_type": "code",
   "execution_count": 2,
   "id": "0a010e9c",
   "metadata": {},
   "outputs": [],
   "source": [
    "def map_country_code(df):\n",
    "    iso2 = []\n",
    "    for country in df.index:\n",
    "        if country=='USSR':\n",
    "            iso2.append('SU')\n",
    "        elif country=='Netherlands Antilles':\n",
    "            iso2.append('AN')\n",
    "        else:\n",
    "            iso2.append(coco.convert(names=country, to='iso2'))\n",
    "    df['Country Code'] = iso2\n",
    "    df.insert(0, 'Country Name', df.index)\n",
    "    df = df.set_index('Country Code')\n",
    "    return df"
   ]
  },
  {
   "cell_type": "code",
   "execution_count": 3,
   "id": "47b92c04",
   "metadata": {},
   "outputs": [],
   "source": [
    "def read_bp(sheet):\n",
    "    missing_values = ['-', '^','♦']\n",
    "    df = pd.read_excel('bp-stats-review-2022-all-data.xlsx', sheet_name=sheet, header=2, index_col=0, \n",
    "                       na_values=missing_values)\n",
    "    omit = []\n",
    "    for col in df.columns:\n",
    "        if type(col) != int:\n",
    "            omit.append(col)\n",
    "    df = df.drop(columns=omit)\n",
    "    df = df.dropna(how='all')\n",
    "    idx = []\n",
    "    for country in df.index:\n",
    "        x = country.strip(string.digits)\n",
    "        idx.append(x)\n",
    "    unit = df.index.name.rstrip('*')\n",
    "    unit = unit.strip(string.digits)\n",
    "    df.insert(0, 'Unit', unit)\n",
    "    df['Country Name'] = idx\n",
    "    df = df.set_index('Country Name')\n",
    "    for country in df.index:\n",
    "        strings = ['Total', 'Rest of World', 'Other', 'European Union', 'OECD', 'Central America', \\\n",
    "                   'Eastern Africa', 'Middle Africa', 'Western Africa', 'OPEC']\n",
    "        for s in strings:\n",
    "            if s in country:\n",
    "                df = df.drop(country)\n",
    "    df = map_country_code(df)\n",
    "    return df"
   ]
  },
  {
   "cell_type": "code",
   "execution_count": 6,
   "id": "81d676f7",
   "metadata": {},
   "outputs": [],
   "source": [
    "bp_oil_production = read_bp('Oil Production - Tonnes')\n",
    "bp_oil_production.insert(1, 'Technology Name', 'Oil production')\n",
    "bp_oil_production.to_csv('oil_production.csv')"
   ]
  },
  {
   "cell_type": "code",
   "execution_count": null,
   "id": "ef1d4fee",
   "metadata": {},
   "outputs": [],
   "source": [
    "bp_oil_refining = read_bp('Oil - Refining capacity')\n",
    "bp_oil_refining.insert(1, 'Technology Name', 'Oil refining')\n",
    "bp_oil_refining"
   ]
  },
  {
   "cell_type": "code",
   "execution_count": null,
   "id": "daf4d1e9",
   "metadata": {},
   "outputs": [],
   "source": [
    "bp_gas = read_bp('Gas Production - Bcm')\n",
    "bp_gas.insert(1, 'Technology Name', 'Gas production')\n",
    "bp_gas"
   ]
  },
  {
   "cell_type": "code",
   "execution_count": null,
   "id": "9960fec8",
   "metadata": {},
   "outputs": [],
   "source": [
    "bp_coal = read_bp('Coal Production - Tonnes')\n",
    "bp_coal.insert(1, 'Technology Name', 'Coal production')\n",
    "bp_coal"
   ]
  },
  {
   "cell_type": "code",
   "execution_count": null,
   "id": "6b00aeb2",
   "metadata": {},
   "outputs": [],
   "source": [
    "bp_nuclear = read_bp('Nuclear Generation - TWh')\n",
    "bp_nuclear.insert(1, 'Technology Name', 'Nuclear generation')\n",
    "bp_nuclear"
   ]
  },
  {
   "cell_type": "code",
   "execution_count": null,
   "id": "f30e12ae",
   "metadata": {},
   "outputs": [],
   "source": [
    "bp_hydro = read_bp('Hydro Generation - TWh')\n",
    "bp_hydro.insert(1, 'Technology Name', 'Hydroelectricity generation')\n",
    "bp_hydro"
   ]
  },
  {
   "cell_type": "code",
   "execution_count": null,
   "id": "44dbb558",
   "metadata": {},
   "outputs": [],
   "source": [
    "bp_renewable = read_bp('Renewable power - TWh')\n",
    "bp_renewable.insert(1, 'Technology Name', 'Renewable energy generation')\n",
    "bp_renewable"
   ]
  },
  {
   "cell_type": "code",
   "execution_count": null,
   "id": "cbadfb94",
   "metadata": {},
   "outputs": [],
   "source": [
    "bp_wind_gen = read_bp('Wind Generation - TWh')\n",
    "bp_wind_gen.insert(1, 'Technology Name', 'Wind power generation')\n",
    "bp_wind_gen"
   ]
  },
  {
   "cell_type": "code",
   "execution_count": null,
   "id": "5ab62c3d",
   "metadata": {},
   "outputs": [],
   "source": [
    "bp_solar_gen = read_bp('Solar Generation - TWh')\n",
    "bp_solar_gen.insert(1, 'Technology Name', 'Solar power generation')\n",
    "bp_solar_gen"
   ]
  },
  {
   "cell_type": "code",
   "execution_count": null,
   "id": "32ca4aa1",
   "metadata": {},
   "outputs": [],
   "source": [
    "bp_electricity_gen = read_bp('Electricity Generation')\n",
    "bp_electricity_gen.insert(1, 'Technology Name', 'Electricity generation')\n",
    "bp_electricity_gen"
   ]
  },
  {
   "cell_type": "code",
   "execution_count": null,
   "id": "8e99169d",
   "metadata": {},
   "outputs": [],
   "source": [
    "bp_lithium = read_bp('Lithium Production-Reserves')\n",
    "bp_lithium.insert(1, 'Technology Name', 'Lithium production')\n",
    "bp_lithium"
   ]
  },
  {
   "cell_type": "code",
   "execution_count": null,
   "id": "a8fcb3e6",
   "metadata": {},
   "outputs": [],
   "source": [
    "bp_cobalt = read_bp('Cobalt Production-Reserves')\n",
    "bp_cobalt.insert(1, 'Technology Name', 'Cobalt production')\n",
    "bp_cobalt"
   ]
  },
  {
   "cell_type": "code",
   "execution_count": null,
   "id": "9263ef99",
   "metadata": {},
   "outputs": [],
   "source": [
    "bp_rare_earth = read_bp('Rare Earth Production-Reserves')\n",
    "bp_rare_earth.insert(1, 'Technology Name', 'Rare earth production')\n",
    "bp_rare_earth   "
   ]
  },
  {
   "cell_type": "code",
   "execution_count": null,
   "id": "bc9374fa",
   "metadata": {},
   "outputs": [],
   "source": [
    "bp_graphite = read_bp('Graphite Production-Reserves')\n",
    "bp_graphite.insert(1, 'Technology Name', 'Graphite production')\n",
    "bp_graphite"
   ]
  },
  {
   "cell_type": "code",
   "execution_count": null,
   "id": "4b3130ae",
   "metadata": {},
   "outputs": [],
   "source": [
    "def read_bp2(sheet):\n",
    "    missing_values = ['-', '^','♦']\n",
    "    df = pd.read_excel('bp-stats-review-2022-all-data.xlsx', sheet_name=sheet, header=3, index_col=0, \n",
    "                       na_values=missing_values)\n",
    "    omit = []\n",
    "    for col in df.columns:\n",
    "        if type(col) != int:\n",
    "            omit.append(col)\n",
    "    df = df.drop(columns=omit)\n",
    "    df = df.dropna(how='all')\n",
    "    idx = []\n",
    "    for country in df.index:\n",
    "        x = country.strip(string.digits)\n",
    "        idx.append(x)\n",
    "    df.insert(0, 'Unit', df.index.name.rstrip('*'))\n",
    "    df['Country Name'] = idx\n",
    "    df = df.set_index('Country Name')\n",
    "    for country in df.index:\n",
    "        strings = ['Total', 'Rest of World', 'Other', 'European Union', 'OECD', 'Central America', \\\n",
    "                   'Eastern Africa', 'Middle Africa', 'Western Africa', 'OPEC']\n",
    "        for s in strings:\n",
    "            if s in country:\n",
    "                df = df.drop(country)\n",
    "    df = map_country_code(df)\n",
    "    return df"
   ]
  },
  {
   "cell_type": "code",
   "execution_count": null,
   "id": "e4a95d0a",
   "metadata": {},
   "outputs": [],
   "source": [
    "bp_solar = read_bp2('Solar Capacity')\n",
    "bp_solar.insert(1, 'Technology Name', 'Solar capacity - Installed photovoltaic power')\n",
    "bp_solar"
   ]
  },
  {
   "cell_type": "code",
   "execution_count": null,
   "id": "8c3e3b3d",
   "metadata": {},
   "outputs": [],
   "source": [
    "bp_wind = read_bp2('Wind Capacity')\n",
    "bp_wind.insert(1, 'Technology Name', 'Wind - Installed turbine capacity')\n",
    "bp_wind"
   ]
  },
  {
   "cell_type": "code",
   "execution_count": null,
   "id": "43c08bdf",
   "metadata": {},
   "outputs": [],
   "source": [
    "def read_bp3(sheet):\n",
    "    missing_values = ['-', '^','♦']\n",
    "    df = pd.read_excel('bp-stats-review-2022-all-data.xlsx', sheet_name=sheet, header=2, index_col=0, \n",
    "                       na_values=missing_values, skipfooter=40)\n",
    "    omit = []\n",
    "    for col in df.columns:\n",
    "        if type(col) != int:\n",
    "            omit.append(col)\n",
    "    df = df.drop(columns=omit)\n",
    "    df = df.dropna(how='all')\n",
    "    idx = []\n",
    "    for country in df.index:\n",
    "        x = country.strip(string.digits)\n",
    "        idx.append(x)\n",
    "    df.insert(0, 'Unit', df.index.name.rstrip('*'))\n",
    "    df['Country Name'] = idx\n",
    "    df = df.set_index('Country Name')\n",
    "    for country in df.index:\n",
    "        strings = ['Total', 'Rest of World', 'Other', 'European Union', 'OECD', 'Central America', \\\n",
    "                   'Eastern Africa', 'Middle Africa', 'Western Africa', 'OPEC']\n",
    "        for s in strings:\n",
    "            if s in country:\n",
    "                df = df.drop(country)\n",
    "    df = map_country_code(df)\n",
    "    return df"
   ]
  },
  {
   "cell_type": "code",
   "execution_count": null,
   "id": "b2b0a221",
   "metadata": {},
   "outputs": [],
   "source": [
    "bp_biofuels = read_bp3('Biofuels production - PJ')\n",
    "bp_biofuels.insert(1, 'Technology Name', 'Biofuels production')\n",
    "bp_biofuels"
   ]
  },
  {
   "cell_type": "code",
   "execution_count": null,
   "id": "03b156f4",
   "metadata": {},
   "outputs": [],
   "source": [
    "conn = sqlite3.connect('historical_tech.db')\n",
    "bp_coal.to_sql('coal_production', conn, if_exists='replace')"
   ]
  },
  {
   "cell_type": "code",
   "execution_count": null,
   "id": "24fff090",
   "metadata": {},
   "outputs": [],
   "source": [
    "pd.read_sql('SELECT * FROM coal_production', conn)"
   ]
  },
  {
   "cell_type": "code",
   "execution_count": null,
   "id": "c6553c04",
   "metadata": {
    "scrolled": true
   },
   "outputs": [],
   "source": [
    "bp_oil_refining.to_sql('oil_refining', conn, if_exists='replace')\n",
    "pd.read_sql('SELECT * FROM oil_refining', conn)"
   ]
  },
  {
   "cell_type": "code",
   "execution_count": null,
   "id": "9bdb09ae",
   "metadata": {},
   "outputs": [],
   "source": []
  }
 ],
 "metadata": {
  "kernelspec": {
   "display_name": "Python 3 (ipykernel)",
   "language": "python",
   "name": "python3"
  },
  "language_info": {
   "codemirror_mode": {
    "name": "ipython",
    "version": 3
   },
   "file_extension": ".py",
   "mimetype": "text/x-python",
   "name": "python",
   "nbconvert_exporter": "python",
   "pygments_lexer": "ipython3",
   "version": "3.9.13"
  }
 },
 "nbformat": 4,
 "nbformat_minor": 5
}
