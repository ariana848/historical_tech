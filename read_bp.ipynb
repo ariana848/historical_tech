{
 "cells": [
  {
   "cell_type": "code",
   "execution_count": 1,
   "id": "60659557",
   "metadata": {},
   "outputs": [],
   "source": [
    "import pandas as pd\n",
    "from pandas import Series, DataFrame"
   ]
  },
  {
   "cell_type": "code",
   "execution_count": 2,
   "id": "ac2dd00a",
   "metadata": {},
   "outputs": [],
   "source": [
    "def map_country_code(df):\n",
    "    iso = pd.read_excel('WUP2018-DataSource-UrbanAgglomeration-and-CapitalCities.xls', header=16, usecols=[1, 3, 4])\n",
    "    iso = iso.drop_duplicates()\n",
    "    iso = iso.set_index('Country or area')\n",
    "    iso2 = []\n",
    "    err = []\n",
    "    for country in df.index:\n",
    "        try:\n",
    "            iso2.append(iso.loc[country][1])\n",
    "        except KeyError:\n",
    "            if country=='US':\n",
    "                iso2.append(iso.loc['United States of America'][1])\n",
    "            elif country=='Venezuela':\n",
    "                iso2.append(iso.loc['Venezuela (Bolivarian Republic of)'][1])\n",
    "            elif country=='Czech Republic':\n",
    "                iso2.append(iso.loc['Czechia'][1])\n",
    "            elif country=='South Korea':\n",
    "                iso2.append(iso.loc['Republic of Korea'][1])\n",
    "            elif country=='Vietnam':\n",
    "                iso2.append(iso.loc['Viet Nam'][1])\n",
    "            elif country=='USSR':\n",
    "                iso2.append('SU')\n",
    "            elif country=='Trinidad & Tobago':\n",
    "                iso2.append(iso.loc['Trinidad and Tobago'][1])\n",
    "            elif country=='North Macedonia':\n",
    "                iso2.append(iso.loc['TFYR Macedonia'][1])\n",
    "            elif country=='Iran':\n",
    "                iso2.append(iso.loc['Iran (Islamic Republic of)'][1])\n",
    "            elif country=='Taiwan':\n",
    "                iso2.append(iso.loc['China, Taiwan Province of China'][1])\n",
    "            elif country=='China Hong Kong SAR':\n",
    "                iso2.append(iso.loc['China, Hong Kong SAR'][1])\n",
    "            elif country=='Curacao':\n",
    "                iso2.append(iso.loc['Curaçao'][1])\n",
    "            elif country=='Netherlands Antilles':\n",
    "                iso2.append('AN')\n",
    "            elif country=='Bolivia':\n",
    "                iso2.append(iso.loc['Bolivia (Plurinational State of)'][1])\n",
    "            elif country=='Syria':\n",
    "                iso2.append(iso.loc['Syrian Arab Republic'][1])\n",
    "            elif country=='Brunei':\n",
    "                iso2.append(iso.loc['Brunei Darussalam'][1])\n",
    "            elif country=='Republic of Congo ':\n",
    "                iso2.append(iso.loc['Congo'][1])\n",
    "            elif country=='Democratic Republic of Congo':\n",
    "                iso2.append(iso.loc['Democratic Republic of the Congo'][1])\n",
    "            else:\n",
    "                err.append(country)\n",
    "    if len(err) != 0:\n",
    "        raise Exception(err)\n",
    "    df['Country Code'] = iso2\n",
    "    df.insert(0, 'Country Name', df.index)\n",
    "    df = df.set_index('Country Code')\n",
    "    return df\n"
   ]
  },
  {
   "cell_type": "code",
   "execution_count": 3,
   "id": "47b92c04",
   "metadata": {},
   "outputs": [],
   "source": [
    "def read_bp(sheet):\n",
    "    missing_values = ['-', '^','♦']\n",
    "    df = pd.read_excel('bp-stats-review-2022-all-data.xlsx', sheet_name=sheet, header=2, index_col=0, na_values=missing_values)\n",
    "    df = df.dropna(how='all')\n",
    "    df.index.name = 'Country Name'\n",
    "    for country in df.index:\n",
    "        if type(country) == float:\n",
    "            df = df.drop(country)\n",
    "    for country in df.index:\n",
    "        if 'Total' in country or 'Rest of World' in country or 'Other' in country or 'European Union' in country or 'OECD' in country or 'Central America' in country or 'Eastern Africa' in country or 'Middle Africa' in country or 'Western Africa' in country or 'OPEC' in country:\n",
    "            df = df.drop(country)\n",
    "    df = df.drop(columns=['2021.1', '2011-21', '2021.2'])\n",
    "    df = map_country_code(df)\n",
    "    return df\n"
   ]
  },
  {
   "cell_type": "code",
   "execution_count": 4,
   "id": "81d676f7",
   "metadata": {},
   "outputs": [],
   "source": [
    "bp_oil_production = read_bp('Oil Production - Tonnes')\n",
    "# bp_oil_production"
   ]
  },
  {
   "cell_type": "code",
   "execution_count": 5,
   "id": "ef1d4fee",
   "metadata": {},
   "outputs": [],
   "source": [
    "bp_oil_refining = read_bp('Oil - Refining capacity')\n",
    "# bp_oil_refining"
   ]
  },
  {
   "cell_type": "code",
   "execution_count": 6,
   "id": "daf4d1e9",
   "metadata": {},
   "outputs": [],
   "source": [
    "bp_gas = read_bp('Gas Production - Bcm')\n",
    "# bp_gas"
   ]
  },
  {
   "cell_type": "code",
   "execution_count": 7,
   "id": "9960fec8",
   "metadata": {},
   "outputs": [],
   "source": [
    "bp_coal = read_bp('Coal Production - Tonnes')\n",
    "# bp_coal"
   ]
  },
  {
   "cell_type": "code",
   "execution_count": 8,
   "id": "6b00aeb2",
   "metadata": {},
   "outputs": [],
   "source": [
    "bp_nuclear = read_bp('Nuclear Generation - TWh')\n",
    "# bp_nuclear"
   ]
  },
  {
   "cell_type": "code",
   "execution_count": 9,
   "id": "f30e12ae",
   "metadata": {},
   "outputs": [],
   "source": [
    "bp_hydro = read_bp('Hydro Generation - TWh')\n",
    "# bp_hydro"
   ]
  },
  {
   "cell_type": "code",
   "execution_count": 10,
   "id": "44dbb558",
   "metadata": {},
   "outputs": [],
   "source": [
    "bp_renewable = read_bp('Renewable power - TWh')\n",
    "# bp_renewable"
   ]
  },
  {
   "cell_type": "code",
   "execution_count": 11,
   "id": "cbadfb94",
   "metadata": {},
   "outputs": [],
   "source": [
    "bp_wind_gen = read_bp('Wind Generation - TWh')\n",
    "# bp_wind_gen"
   ]
  },
  {
   "cell_type": "code",
   "execution_count": 12,
   "id": "5ab62c3d",
   "metadata": {},
   "outputs": [],
   "source": [
    "bp_solar_gen = read_bp('Solar Generation - TWh')\n",
    "# bp_solar_gen"
   ]
  },
  {
   "cell_type": "code",
   "execution_count": 13,
   "id": "e798948f",
   "metadata": {},
   "outputs": [],
   "source": [
    "bp_biomass = read_bp('Geo Biomass Other - TWh')\n",
    "# bp_biomass"
   ]
  },
  {
   "cell_type": "code",
   "execution_count": 14,
   "id": "32ca4aa1",
   "metadata": {},
   "outputs": [],
   "source": [
    "bp_electricity_gen = read_bp('Electricity Generation')\n",
    "# bp_electricity_gen"
   ]
  },
  {
   "cell_type": "code",
   "execution_count": 27,
   "id": "a8fcb3e6",
   "metadata": {},
   "outputs": [],
   "source": [
    "# runs but has extra columns at the end\n",
    "\n",
    "bp_rare_earth = read_bp('Rare Earth Production-Reserves')\n",
    "bp_lithium = read_bp('Lithium Production-Reserves')\n",
    "bp_cobalt = read_bp('Cobalt Production-Reserves')"
   ]
  },
  {
   "cell_type": "code",
   "execution_count": 31,
   "id": "bc9374fa",
   "metadata": {},
   "outputs": [],
   "source": [
    "# footnotes from Excel in country names (Brazil1, India2)\n",
    "\n",
    "# bp_graphite = read_bp('Graphite Production-Reserves')"
   ]
  },
  {
   "cell_type": "code",
   "execution_count": 23,
   "id": "b2b0a221",
   "metadata": {},
   "outputs": [],
   "source": [
    "# key errors\n",
    "\n",
    "# bp_solar = read_bp('Solar Capacity')\n",
    "# bp_wind = read_bp('Wind Capacity')\n",
    "# bp_biofuels = read_bp('Biofuels production - PJ')"
   ]
  }
 ],
 "metadata": {
  "kernelspec": {
   "display_name": "Python 3 (ipykernel)",
   "language": "python",
   "name": "python3"
  },
  "language_info": {
   "codemirror_mode": {
    "name": "ipython",
    "version": 3
   },
   "file_extension": ".py",
   "mimetype": "text/x-python",
   "name": "python",
   "nbconvert_exporter": "python",
   "pygments_lexer": "ipython3",
   "version": "3.9.13"
  }
 },
 "nbformat": 4,
 "nbformat_minor": 5
}
